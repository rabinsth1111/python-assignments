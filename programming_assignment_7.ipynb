{
 "cells": [
  {
   "cell_type": "markdown",
   "id": "661fe3f9",
   "metadata": {},
   "source": [
    "<b>1. Write a Python Program to find sum of array?</b>\n",
    "\n",
    "\n",
    "\n"
   ]
  },
  {
   "cell_type": "code",
   "execution_count": 8,
   "id": "ed8f3255",
   "metadata": {},
   "outputs": [
    {
     "name": "stdout",
     "output_type": "stream",
     "text": [
      "The sum of [1, 2, 3] is 6\n",
      "The sum of [5, 6, 7.5] is 18.5\n"
     ]
    }
   ],
   "source": [
    "def sum_of_array(arr):\n",
    "    print(f'The sum of {arr} is {sum(arr)}')\n",
    "\n",
    "sum_of_array([1,2,3])\n",
    "sum_of_array([5,6,7.5])"
   ]
  },
  {
   "cell_type": "markdown",
   "id": "bf7e2257",
   "metadata": {},
   "source": [
    "<br/>"
   ]
  },
  {
   "cell_type": "markdown",
   "id": "a6e0300d",
   "metadata": {},
   "source": [
    "<b>2. Write a Python Program to find largest element in an array?</b>"
   ]
  },
  {
   "cell_type": "code",
   "execution_count": 10,
   "id": "3a609b03",
   "metadata": {},
   "outputs": [
    {
     "name": "stdout",
     "output_type": "stream",
     "text": [
      "The Largest Element in [5, 100, 3] is 100\n",
      "The Largest Element in [1000.15, 100.9, 3.5] is 1000.15\n"
     ]
    }
   ],
   "source": [
    "def largest_element(arr):\n",
    "    print(f\"The Largest Element in {arr} is {sorted(arr, reverse=True)[0]}\")\n",
    "\n",
    "largest_element([5,100,3])\n",
    "largest_element([1000.15,100.9,3.5])"
   ]
  },
  {
   "cell_type": "markdown",
   "id": "d72502f5",
   "metadata": {},
   "source": [
    "<br/>"
   ]
  },
  {
   "cell_type": "markdown",
   "id": "15839e3a",
   "metadata": {},
   "source": [
    "<b>3. Write a Python Program for array rotation?</b>"
   ]
  },
  {
   "cell_type": "code",
   "execution_count": 19,
   "id": "99fddf62",
   "metadata": {},
   "outputs": [
    {
     "name": "stdout",
     "output_type": "stream",
     "text": [
      "[1, 2, 3, 4, 5, 6] rotated by element in position 2 is [3, 4, 5, 6, 1, 2]\n",
      "[1, 2, 3, 4, 51, 6] rotated by element in position 5 is [6, 1, 2, 3, 4, 51]\n"
     ]
    }
   ],
   "source": [
    "def rotate_array(in_arr,d):\n",
    "    n = len(in_arr)\n",
    "    arr[:]=in_arr[d:n]+in_arr[0:d]\n",
    "    print(f'{in_arr} rotated by element in position {d} is',arr)\n",
    "    \n",
    "rotate_array([1, 2, 3, 4, 5, 6],2)\n",
    "rotate_array([1, 2, 3, 4, 51, 6],5)\n"
   ]
  },
  {
   "cell_type": "markdown",
   "id": "b5754665",
   "metadata": {},
   "source": [
    "<br/>"
   ]
  },
  {
   "cell_type": "markdown",
   "id": "6f77baae",
   "metadata": {},
   "source": [
    "<b>4. Write a Python Program to Split the array and add the first part to the end?</b>"
   ]
  },
  {
   "cell_type": "code",
   "execution_count": 18,
   "id": "9287e1ef",
   "metadata": {},
   "outputs": [
    {
     "name": "stdout",
     "output_type": "stream",
     "text": [
      "[12, 10, 5, 6, 52, 36] after splitting in position 2 and adding the first part to the end is [5, 6, 52, 36, 12, 10]\n"
     ]
    }
   ],
   "source": [
    "def split_and_add(arr,position):\n",
    "    n =len(arr)\n",
    "    x = arr[:position]\n",
    "    y = arr[position:]\n",
    "    y.extend(x)\n",
    "    print(f'{arr} after splitting in position {position} and adding the first part to the end is',y)\n",
    "\n",
    "    \n",
    "split_and_add([12, 10, 5, 6, 52, 36],2)\n",
    "    \n",
    "    "
   ]
  },
  {
   "cell_type": "markdown",
   "id": "1e516ff8",
   "metadata": {},
   "source": [
    "<br/>"
   ]
  },
  {
   "cell_type": "markdown",
   "id": "a747bf4a",
   "metadata": {},
   "source": [
    "<b>5. Write a Python Program to check if given array is Monotonic?</b>"
   ]
  },
  {
   "cell_type": "code",
   "execution_count": 4,
   "id": "1542c20e",
   "metadata": {},
   "outputs": [
    {
     "name": "stdout",
     "output_type": "stream",
     "text": [
      "[1, 2, 3, 4, 5] is monotonic\n",
      "[1, 2, 3, 5, 4] is not monotonic\n",
      "[5, 4, 3, 1] is monotonic\n"
     ]
    }
   ],
   "source": [
    "'''An array is monotonic if it is either monotone increasing or monotone decreasing.\n",
    "   An array A is monotone increasing if for all i <= j, A[i] <= A[j].\n",
    "   An array A is monotone decreasing if for all i <= j, A[i] >= A[j].\n",
    "'''\n",
    "def is_monotonic(A):\n",
    "     return (all(A[i] <= A[i + 1] for i in range(len(A) - 1)) or\n",
    "            all(A[i] >= A[i + 1] for i in range(len(A) - 1)))\n",
    "\n",
    "#checking    \n",
    "array1 = [1,2,3,4,5]    \n",
    "print(f'{array1} is monotonic' if is_monotonic(array1) else f'{array1} is not monotonic')\n",
    "\n",
    "array2 = [1,2,3,5,4]    \n",
    "print(f'{array2} is monotonic' if is_monotonic(array2) else f'{array2} is not monotonic')\n",
    "\n",
    "array3 = [5,4,3,1]    \n",
    "print(f'{array3} is monotonic' if is_monotonic(array3) else f'{array3} is not monotonic')\n"
   ]
  },
  {
   "cell_type": "code",
   "execution_count": null,
   "id": "4804bc76",
   "metadata": {},
   "outputs": [],
   "source": []
  }
 ],
 "metadata": {
  "kernelspec": {
   "display_name": "Python 3 (ipykernel)",
   "language": "python",
   "name": "python3"
  },
  "language_info": {
   "codemirror_mode": {
    "name": "ipython",
    "version": 3
   },
   "file_extension": ".py",
   "mimetype": "text/x-python",
   "name": "python",
   "nbconvert_exporter": "python",
   "pygments_lexer": "ipython3",
   "version": "3.11.3"
  }
 },
 "nbformat": 4,
 "nbformat_minor": 5
}
