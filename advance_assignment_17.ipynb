{
 "cells": [
  {
   "cell_type": "markdown",
   "id": "fdba87a8",
   "metadata": {},
   "source": [
    "#### Q1. Explain the difference between greedy and non-greedy syntax with visual terms in as few words as possible. What is the bare minimum effort required to transform a greedy pattern into a non-greedy one? What characters or characters can you introduce or change?\n",
    "**Ans:** Greedy syntax grabs the longest match, while non-greedy syntax grabs the shortest. <br/>To transform greedy to non-greedy in Python, add \"?\" after quantifiers, like changing \"\" to \"?\" or \"+\" to \"+?\"."
   ]
  },
  {
   "cell_type": "code",
   "execution_count": 18,
   "id": "04d4bbc1",
   "metadata": {},
   "outputs": [
    {
     "name": "stdout",
     "output_type": "stream",
     "text": [
      "['aaaa', '']\n",
      "['', 'a', '', 'a', '', 'a', '', 'a', '']\n"
     ]
    }
   ],
   "source": [
    "import re\n",
    "print(re.findall(\"a*\", \"aaaa\")) # Greedy Match Synatx\n",
    "print(re.findall(\"a*?\", \"aaaa\")) # Non Greedy Match Syntax"
   ]
  },
  {
   "cell_type": "markdown",
   "id": "c91d4a1f",
   "metadata": {},
   "source": [
    "#### Q2. When exactly does greedy versus non-greedy make a difference?  What if you're looking for a non-greedy match but the only one available is greedy?\n",
    "**Ans:** Greedy quantifiers match as much as they can while still allowing the overall pattern to match. <br/>\n",
    "In Python's re module, quantifiers like *, +, and ? are greedy by default.\n",
    "\n",
    "Non-greedy quantifiers match as little as possible while still allowing the overall pattern to match. <br/>They stop as soon as the smallest possible match is found.<br/>\n",
    "In Python's re module, we can make a quantifier non-greedy by adding a ? after the quantifier, such as *?, +?, or ??."
   ]
  },
  {
   "cell_type": "code",
   "execution_count": 19,
   "metadata": {},
   "outputs": [
    {
     "name": "stdout",
     "output_type": "stream",
     "text": [
      "Greedy match: ababababab\n",
      "Non-greedy match: ab\n"
     ]
    }
   ],
   "source": [
    "import re\n",
    "\n",
    "text = \"ababababab\"\n",
    "\n",
    "# Greedy matching\n",
    "pattern = r\"a.*b\"\n",
    "match = re.search(pattern, text)\n",
    "print(\"Greedy match:\", match.group())  # Output: \"ababababab\"\n",
    "\n",
    "# Non-greedy (lazy) matching\n",
    "pattern = r\"a.*?b\"\n",
    "match = re.search(pattern, text)\n",
    "print(\"Non-greedy match:\", match.group())  # Output: \"ab\"\n"
   ]
  },
  {
   "cell_type": "markdown",
   "id": "ab858979",
   "metadata": {},
   "source": [
    "#### Q3. In a simple match of a string, which looks only for one match and does not do any replacement, is the use of a nontagged group likely to make any practical difference?\n",
    "**Ans:** In a simple match of a string where we are looking for only one match and do not intend to use the matched groups for any further processing,<br/> using a non-capturing(nontagged) group (a group with (?: ... )) is unlikely to make a practical difference in Python."
   ]
  },
  {
   "cell_type": "code",
   "execution_count": 38,
   "metadata": {},
   "outputs": [
    {
     "name": "stdout",
     "output_type": "stream",
     "text": [
      "World\n"
     ]
    }
   ],
   "source": [
    "#Using a capturing or tagged group\n",
    "import re\n",
    "\n",
    "text = \"Hello World\"\n",
    "pattern = r\"(World)\"\n",
    "match = re.search(pattern, text)\n",
    "if match:\n",
    "    print(match.group(1))  # Prints 'World'\n"
   ]
  },
  {
   "cell_type": "code",
   "execution_count": 49,
   "metadata": {},
   "outputs": [
    {
     "name": "stdout",
     "output_type": "stream",
     "text": [
      "World\n"
     ]
    }
   ],
   "source": [
    "#Using a non-capturing or nontagged group\n",
    "import re\n",
    "\n",
    "text = \"Hello World\"\n",
    "pattern = r\"(?:World)\"\n",
    "match = re.search(pattern, text)\n",
    "if match:\n",
    "    print(match.group())  # Prints 'World'\n"
   ]
  },
  {
   "cell_type": "markdown",
   "metadata": {},
   "source": [
    "In both cases, we will achieve the same result. If we are not interested in capturing and using the matched group later in the code, we can use the non-capturing group for simplicity."
   ]
  },
  {
   "cell_type": "markdown",
   "id": "124d3ed0",
   "metadata": {},
   "source": [
    "#### Q4. Describe a scenario in which using a nontagged category would have a significant impact on the program's outcomes ?\n",
    "**Ans:** Here in the below Code Snippet **`.`** decimal is not tagged or captured. It will useful in scenarios where the separator of value in a string is of no use and we need to capture only the values."
   ]
  },
  {
   "cell_type": "code",
   "execution_count": 57,
   "id": "9f093ed2",
   "metadata": {},
   "outputs": [
    {
     "data": {
      "text/plain": [
       "('135', '456')"
      ]
     },
     "execution_count": 57,
     "metadata": {},
     "output_type": "execute_result"
    }
   ],
   "source": [
    "import re\n",
    "text='135.456'\n",
    "pattern=r'(\\d+)(?:.)(\\d+)'\n",
    "regobj=re.compile(pattern)\n",
    "matobj=regobj.search(text)\n",
    "matobj.groups()"
   ]
  },
  {
   "cell_type": "markdown",
   "id": "5a76e42a",
   "metadata": {},
   "source": [
    "#### Q5. Unlike a normal regex pattern, a look-ahead condition does not consume the characters it examines. Describe a situation in which this could make a difference in the results of your programme ?\n",
    "**Ans:**  \n",
    "Look-ahead assertions in regular expressions are used to specify a condition that must be true for a match to occur, but they do not consume characters in the input string. This non-consumptive behavior can make a significant difference in the results of a program in various situations. Here's an example to illustrate this:\n",
    "\n",
    "Suppose we have a list of email addresses, and you want to extract all the email addresses that are followed by a specific domain (e.g., \"@example.com\"). You want to find these email addresses without consuming the domain part.\n",
    "\n",
    "Let's say you have the following list of email addresses:\n",
    "\n",
    "1. john.doe@example.com<br/>\n",
    "2. jane.smith@example.net<br/>\n",
    "3. alice@example.com<br/>\n",
    "\n",
    "We want to extract only the email addresses ending with \"@example.com.\" we can use a look-ahead assertion to achieve this without consuming the domain part.\n",
    "\n",
    "The required Regular Expression is: .*@example\\.com(?=)\n",
    "\n",
    "In this regex pattern, .* matches any characters before the \"@\" symbol, and @example\\.com matches the desired domain. However, the critical part is (?=), which is a positive look-ahead assertion. It asserts that the text following the \"@\" symbol must be \"@example.com\" but does not consume any characters."
   ]
  },
  {
   "cell_type": "code",
   "execution_count": 62,
   "metadata": {},
   "outputs": [
    {
     "name": "stdout",
     "output_type": "stream",
     "text": [
      "['john.doe@example.com']\n",
      "[]\n",
      "['alice@example.com']\n"
     ]
    }
   ],
   "source": [
    "import re\n",
    "print(re.findall('.*@example\\.com(?=)','john.doe@example.com'))\n",
    "print(re.findall('.*@example\\.com(?=)','jane.smith@example.net'))\n",
    "print(re.findall('.*@example\\.com(?=)','alice@example.com'))"
   ]
  },
  {
   "cell_type": "markdown",
   "metadata": {},
   "source": [
    "Thus, the non-consumptive behavior of look-ahead conditions can be essential in situations where you need to find specific patterns in the input string without including them in the match results."
   ]
  },
  {
   "cell_type": "markdown",
   "id": "5a6e0d8f",
   "metadata": {},
   "source": [
    "#### Q6. In standard expressions, what is the difference between positive look-ahead and negative look-ahead ?\n",
    "**Ans:**\n",
    "\n",
    "1. Positive Look-Ahead (?=...): <br/>\n",
    "It specifies a pattern that must be followed by the main pattern but does not include the lookahead pattern in the match.\n",
    "\n",
    "For example, the regular expression /a(?=b)/ will match the \"a\" only if it is followed by a \"b\", but it will not include the \"b\" in the match.<br/> So, it will match the \"a\" in \"abc\" but not in \"axc\".\n",
    "\n",
    "2. Negative Look-Ahead (?!...):<br/>\n",
    "It specifies a pattern that must not be followed by the main pattern, and if the lookahead pattern is found at the specified position, the match fails.\n",
    "\n",
    "For example, the regular expression /a(?!b)/ will match the \"a\" only if it is not followed by a \"b\". It will match the \"a\" in \"axc\" but not in \"abc\".\n"
   ]
  },
  {
   "cell_type": "markdown",
   "id": "954d327f",
   "metadata": {},
   "source": [
    "#### Q7. What is the benefit of referring to groups by name rather than by number in a standard expression?\n",
    "**Ans:** Referring to groups by name rather than by number in a standard expression helps to keep the code clear and easy to understand."
   ]
  },
  {
   "cell_type": "code",
   "execution_count": 58,
   "metadata": {},
   "outputs": [
    {
     "name": "stdout",
     "output_type": "stream",
     "text": [
      "John: john@example.com,\n",
      "Jane: jane@example.com.\n"
     ]
    }
   ],
   "source": [
    "import re\n",
    "\n",
    "text = \"John's email is john@example.com, and Jane's email is jane@example.com.\"\n",
    "\n",
    "# Using named groups to extract email addresses\n",
    "pattern = r\"(?P<name>\\w+)'s email is (?P<email>\\S+)\"\n",
    "matches = re.finditer(pattern, text)\n",
    "\n",
    "for match in matches:\n",
    "    name = match.group(\"name\")\n",
    "    email = match.group(\"email\")\n",
    "    print(f\"{name}: {email}\")\n"
   ]
  },
  {
   "cell_type": "markdown",
   "metadata": {},
   "source": [
    "In above example, we define two named groups, \"name\" and \"email,\" which makes it clear what each part of the pattern represents. When we retrieve the captured text using match.group(\"name\") and match.group(\"email\"), it enhances the code's readability and maintainability."
   ]
  },
  {
   "cell_type": "markdown",
   "id": "6f73ee77",
   "metadata": {},
   "source": [
    "#### Q8. Can you identify repeated items within a target string using named groups, as in \"The cow jumped over the moon\"?"
   ]
  },
  {
   "cell_type": "code",
   "execution_count": 67,
   "id": "c68dfa21",
   "metadata": {},
   "outputs": [
    {
     "data": {
      "text/plain": [
       "['The', 'the']"
      ]
     },
     "execution_count": 67,
     "metadata": {},
     "output_type": "execute_result"
    }
   ],
   "source": [
    "import re\n",
    "text = \"The cow jumped over the moon\"\n",
    "regobj=re.compile(r'(?P<w1>The)',re.I)\n",
    "regobj.findall(text)"
   ]
  },
  {
   "cell_type": "markdown",
   "id": "a2f7c46f",
   "metadata": {},
   "source": [
    "#### Q9. When parsing a string, what is at least one thing that the Scanner interface does for you that the re.findall feature does not ?\n",
    "**Ans:** The **Scanner** interface is typically used to tokenize a string into smaller, meaningful units called tokens. It allows to define patterns for different types of tokens in input string and then scan the string to extract these tokens. This is especially useful for parsing structured data or programming languages where we need to break down the input into distinct components, like keywords, identifiers, literals, and operators.\n",
    "\n",
    "**re.findall**, on the other hand, is primarily used for regular expression-based string matching and extraction. While it can extract substrings based on patterns, it doesn't provide a straightforward way to break down the input string into structured tokens."
   ]
  },
  {
   "cell_type": "code",
   "execution_count": 15,
   "metadata": {},
   "outputs": [
    {
     "name": "stdout",
     "output_type": "stream",
     "text": [
      "[('INTEGER', '42'), ('NONE', ' '), ('OPERATOR', '+'), ('NONE', '    '), ('IDENTIFIER', 'var_name')]\n"
     ]
    }
   ],
   "source": [
    "#Example\n",
    "import re\n",
    "\n",
    "# Create a Scanner object with a custom name\n",
    "scanner = re.Scanner([\n",
    "    (r'\\d+', lambda scanner, token: ('INTEGER', token)),\n",
    "    (r\"\\d+\\.\\d*\", lambda scanner, token: ('Float', token)),\n",
    "    (r'[a-zA-Z_]\\w*', lambda scanner, token: ('IDENTIFIER', token)),\n",
    "    (r'=|\\+|-|\\*|/', lambda scanner, token: ('OPERATOR', token)),\n",
    "    (r\"\\s+\", lambda scanner, token: ('NONE', token)),\n",
    "])\n",
    "\n",
    "# Use the custom Scanner object\n",
    "text = '42 +    var_name'\n",
    "tokens, remainder = scanner.scan(text)\n",
    "\n",
    "print(tokens)"
   ]
  },
  {
   "cell_type": "markdown",
   "id": "0b65593b",
   "metadata": {},
   "source": [
    "#### Q10. Does a scanner object have to be named scanner?\n",
    "**Ans:** No, a Scanner object in Python does not have to be named \"scanner.\" We can use any valid variable name that adheres to Python's naming rules and conventions. "
   ]
  },
  {
   "cell_type": "code",
   "execution_count": 14,
   "metadata": {},
   "outputs": [
    {
     "name": "stdout",
     "output_type": "stream",
     "text": [
      "[('INTEGER', '42'), ('NONE', ' '), ('OPERATOR', '+'), ('NONE', '    '), ('IDENTIFIER', 'var_name')]\n"
     ]
    }
   ],
   "source": [
    "#Example\n",
    "import re\n",
    "\n",
    "# Create a Scanner object with a custom name\n",
    "my_custom_scanner = re.Scanner([\n",
    "    (r'\\d+', lambda scanner, token: ('INTEGER', token)),\n",
    "    (r\"\\d+\\.\\d*\", lambda scanner, token: ('Float', token)),\n",
    "    (r'[a-zA-Z_]\\w*', lambda scanner, token: ('IDENTIFIER', token)),\n",
    "    (r'=|\\+|-|\\*|/', lambda scanner, token: ('OPERATOR', token)),\n",
    "    (r\"\\s+\", lambda scanner, token: ('NONE', token)),\n",
    "])\n",
    "\n",
    "# Use the custom Scanner object\n",
    "text = '42 +    var_name'\n",
    "tokens, remainder = my_custom_scanner.scan(text)\n",
    "\n",
    "print(tokens)"
   ]
  }
 ],
 "metadata": {
  "kernelspec": {
   "display_name": "Python 3",
   "language": "python",
   "name": "python3"
  },
  "language_info": {
   "codemirror_mode": {
    "name": "ipython",
    "version": 3
   },
   "file_extension": ".py",
   "mimetype": "text/x-python",
   "name": "python",
   "nbconvert_exporter": "python",
   "pygments_lexer": "ipython3",
   "version": "3.11.5"
  }
 },
 "nbformat": 4,
 "nbformat_minor": 5
}
