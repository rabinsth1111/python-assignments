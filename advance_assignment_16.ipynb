{
 "cells": [
  {
   "cell_type": "markdown",
   "metadata": {},
   "source": [
    "#### Q1. What is the benefit of regular expressions?\n",
    "**Ans:** Regular Expressions, also known as **regex** or **regexp**, are used to match strings of text such as particular characters, words, or patterns of characters. <br/>We can match and extract any string pattern from the text with the help of regular expressions. It helps the programmers to write less and cleaner code.\n",
    "\n",
    "Here are some of the benefits of using regular expressions in Python:\n",
    "\n",
    "1.Pattern Matching<br/>\n",
    "2.Text Validation<br/>\n",
    "3.Text Extraction<br/>\n",
    "4.Text Manipulation<br/>\n",
    "5.Data Processing<br/>\n",
    "6.Efficiency<br/>\n",
    "7.Compact and Expressive<br/>\n",
    "8.Versatility and Flexibility<br/>"
   ]
  },
  {
   "cell_type": "markdown",
   "metadata": {},
   "source": [
    "#### Q2. Describe the difference between the effects of \"(ab)c+\" and \"a(bc)+\" Which of these, if any, is the unqualified pattern \"abc+\"?\n",
    "**Ans:** The regular expressions \"(ab)c+\" and \"a(bc)+\" have distinct meanings and will match different patterns in strings.\n",
    "\n",
    "1. (ab)c+ :<br/>\n",
    "\"(ab)\" is a subpattern that matches the exact sequence \"ab\" in the input string.<br/>\n",
    "\"c+\" means one or more occurrences of the character \"c\" immediately following the \"ab\" sequence. It can match patterns like \"abc\", \"abcc\", \"abccc\", and so on.\n",
    "\n",
    "2. a(bc)+ : <br/>\n",
    "\"a\" matches the character \"a\" in the input string.<br/>\n",
    "(bc)+\" is a subpattern that matches one or more occurrences of the sequence \"bc\" immediately following the \"a\". It can match patterns like \"abcbc\", \"abcbcbc\", \"abcbcbcbc\", and so on.\n",
    "\n",
    "The unqualified pattern \"abc+\" is closest in meaning to the first regular expression, \"(ab)c+\", which matches \"ab\" followed by one or more \"c\" characters."
   ]
  },
  {
   "cell_type": "markdown",
   "metadata": {},
   "source": [
    "#### Q3. How much do you need to use the following sentence while using regular expressions?\n",
    "**import re**  \n",
    "\n",
    "**Ans:** The **import re** statement is typically used at the beginning of a Python script or module when we want to work with regular expressions.<br/>\n",
    "We don't need to repeatedly include **import re** in our code if we have already imported it at the beginning of script. Typically, it's a one-time import statement per script or module."
   ]
  },
  {
   "cell_type": "code",
   "execution_count": 1,
   "metadata": {},
   "outputs": [
    {
     "name": "stdout",
     "output_type": "stream",
     "text": [
      "Found: 123\n",
      "Found: 456\n"
     ]
    }
   ],
   "source": [
    "#Example\n",
    "import re\n",
    "\n",
    "pattern = r'\\d+'  # Regular expression pattern to match one or more digits\n",
    "text = \"There are 123 apples and 456 bananas.\"\n",
    "\n",
    "matches = re.findall(pattern, text)  # Find all matches of the pattern in the text\n",
    "\n",
    "for match in matches:\n",
    "    print(f\"Found: {match}\")\n"
   ]
  },
  {
   "cell_type": "markdown",
   "metadata": {},
   "source": [
    "#### Q4. Which characters have special significance in square brackets when expressing a range, and under what circumstances?\n",
    "**Ans:** The characters that have special significance in square brackets when expressing a range are:\n",
    "\n",
    "**1.Hyphen -:** When we place a hyphen between two characters inside square brackets, it creates a character range.<br/>\n",
    "Examples:<br/>\n",
    "[a-z]: Matches any lowercase letter.<br/>\n",
    "[A-Z]: Matches any uppercase letter.<br/>\n",
    "[0-9]: Matches any digit.<br/>\n",
    "\n",
    "**2.Caret ^ :** When the caret ^ appears as the first character inside square brackets, it negates the character class. <br/>\n",
    "Examples:<br/>\n",
    "[^0-9]: Matches any character that is not a digit.<br/>\n",
    "[^a-zA-Z]: Matches any character that is not a letter.\n",
    "\n",
    "Within square brackets, most characters (except the hyphen and caret, which have specific meanings) are treated as literal characters.<br/>\n",
    "For example, if we include a special character like *, +, ?, ., etc., inside square brackets, they are treated as literal characters, not special regex metacharacters."
   ]
  },
  {
   "cell_type": "markdown",
   "metadata": {},
   "source": [
    "#### Q5. How does compiling a regular-expression object benefit you?\n",
    "**Ans:** By compiling the regular expression, we make the code more efficient and easier to maintain, especially when working with complex patterns or when we need to reuse the same pattern multiple times."
   ]
  },
  {
   "cell_type": "code",
   "execution_count": 5,
   "metadata": {},
   "outputs": [
    {
     "name": "stdout",
     "output_type": "stream",
     "text": [
      "Match found\n"
     ]
    }
   ],
   "source": [
    "#Example\n",
    "import re\n",
    "\n",
    "# Define a regular expression pattern\n",
    "pattern = r'\\d{3}-\\d{2}-\\d{4}'\n",
    "\n",
    "# Compile the pattern into a regular expression object\n",
    "regex = re.compile(pattern)\n",
    "\n",
    "# Use the compiled object for matching\n",
    "result = regex.match(\"123-45-6789\")\n",
    "if result:\n",
    "    print(\"Match found\")\n"
   ]
  },
  {
   "cell_type": "markdown",
   "metadata": {},
   "source": [
    "#### Q6. What are some examples of how to use the match object returned by re.match and re.search?\n",
    "**Ans:** In Python, the re.match and re.search functions from the re module are used to search for patterns in strings using regular expressions. These functions return a match object if found, else it returns none.\n",
    "\n",
    "There is a difference between the use of both functions. Both return the first match of a substring found in the string, but **`re.match()`** searches only from the beginning of the string and return match object if found. But if a match of substring is found somewhere in the middle of the string, it returns none. \n",
    "\n",
    "While **`re.search()`** searches for a pattern throughout the entire string."
   ]
  },
  {
   "cell_type": "code",
   "execution_count": 12,
   "metadata": {},
   "outputs": [
    {
     "name": "stdout",
     "output_type": "stream",
     "text": [
      "None\n",
      "<re.Match object; span=(3, 6), match='456'>\n",
      "<re.Match object; span=(0, 3), match='123'>\n"
     ]
    }
   ],
   "source": [
    "# Example\n",
    "import re\n",
    "\n",
    "pattern = r'\\d+'  # Match one or more digits\n",
    "\n",
    "# Try to match the pattern at the beginning of the string\n",
    "print(re.match(pattern, \"abc456\"))\n",
    "\n",
    "# Try to match the pattern at anywhere of the string\n",
    "print(re.search(pattern, \"abc456\"))\n",
    "\n",
    "# Try to match the pattern at the beginning of the string\n",
    "print(re.match(pattern, \"123abc456\"))\n",
    "\n"
   ]
  },
  {
   "cell_type": "markdown",
   "metadata": {},
   "source": [
    "Both re.match and re.search return match objects with various useful methods and attributes:<br/>\n",
    "1. group(): Returns the matched text.<br/>\n",
    "2. start(): Returns the start index of the match.<br/>\n",
    "3. end(): Returns the end index of the match.<br/>\n",
    "4. span(): Returns a tuple with the start and end indices of the match.<br/>\n",
    "5. groups(): Returns a tuple of all the matched groups.<br/>"
   ]
  },
  {
   "cell_type": "code",
   "execution_count": 13,
   "metadata": {},
   "outputs": [
    {
     "name": "stdout",
     "output_type": "stream",
     "text": [
      "Matched text: 123abc\n",
      "Start index: 0\n",
      "End index: 6\n",
      "Start and end indices: (0, 6)\n",
      "Matched groups: ('123', 'abc')\n"
     ]
    }
   ],
   "source": [
    "#Example\n",
    "\n",
    "import re\n",
    "\n",
    "pattern = r'(\\d+)([a-z]+)'\n",
    "text = \"123abc456def\"\n",
    "\n",
    "match_obj = re.search(pattern, text)\n",
    "\n",
    "if match_obj:\n",
    "    print(\"Matched text:\", match_obj.group())  # Output: Matched text: 123abc\n",
    "    print(\"Start index:\", match_obj.start())   # Output: Start index: 0\n",
    "    print(\"End index:\", match_obj.end())       # Output: End index: 6\n",
    "    print(\"Start and end indices:\", match_obj.span())  # Output: Start and end indices: (0, 6)\n",
    "    print(\"Matched groups:\", match_obj.groups())  # Output: Matched groups: ('123', 'abc')\n"
   ]
  },
  {
   "cell_type": "markdown",
   "metadata": {},
   "source": [
    "#### Q7. What is the difference between using a vertical bar (|) as an alteration and using square brackets as a character set?\n",
    "**Ans:** The vertical bar | is used for alternation, which means it allows to specify multiple alternatives in regular expression pattern. It acts as a logical OR operator, allowing the pattern to match any of the alternatives.<br/>\n",
    "For example, the pattern apple|banana will match either \"apple\" or \"banana.\"<br/>\n",
    "\n",
    "Square brackets [] are used to define a character set, which means they specify a set of characters where the regular expression can match any one character from the set. <br/>It's used to match a single character at a specific position in the input string.<br/>\n",
    "For example, the pattern [aeiou] will match any one lowercase vowel character.<br/>\n",
    "We can also use character ranges within square brackets, like [a-z] to match any lowercase letter from 'a' to 'z'."
   ]
  },
  {
   "cell_type": "code",
   "execution_count": 19,
   "metadata": {},
   "outputs": [
    {
     "name": "stdout",
     "output_type": "stream",
     "text": [
      "<re.Match object; span=(0, 5), match='12345'>\n",
      "<re.Match object; span=(0, 3), match='abc'>\n",
      "<re.Match object; span=(0, 3), match='123'>\n",
      "<re.Match object; span=(1, 2), match='a'>\n"
     ]
    }
   ],
   "source": [
    "#Example\n",
    "\n",
    "import re\n",
    "\n",
    "pattern = r'(\\d+)|([a-z]+)'\n",
    "print(re.match(pattern, '12345abc'))\n",
    "print(re.match(pattern, 'abc'))\n",
    "print(re.match(pattern, '123'))\n",
    "\n",
    "print(re.search(r'[aeiou]','ram'))"
   ]
  },
  {
   "cell_type": "markdown",
   "metadata": {},
   "source": [
    "#### Q8. In regular-expression search patterns, why is it necessary to use the raw-string indicator (r)? In   replacement strings?\n",
    "**Ans:** Raw Strings are used in the regular-expression search patterns and replacement strings so that blackslashes do not have to be escaped."
   ]
  }
 ],
 "metadata": {
  "kernelspec": {
   "display_name": "base",
   "language": "python",
   "name": "python3"
  },
  "language_info": {
   "codemirror_mode": {
    "name": "ipython",
    "version": 3
   },
   "file_extension": ".py",
   "mimetype": "text/x-python",
   "name": "python",
   "nbconvert_exporter": "python",
   "pygments_lexer": "ipython3",
   "version": "3.11.5"
  },
  "orig_nbformat": 4
 },
 "nbformat": 4,
 "nbformat_minor": 2
}
