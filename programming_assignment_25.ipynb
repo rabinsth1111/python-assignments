{
 "cells": [
  {
   "cell_type": "markdown",
   "id": "349c94f8",
   "metadata": {},
   "source": [
    "<b>1. Create a function that takes three integer arguments (a, b, c) and returns the amount of integers which are of equal value.\n",
    "<br/>Examples:<br/>\n",
    "equal(3, 4, 3) ➞ 2<br/>\n",
    "equal(1, 1, 1) ➞ 3<br/>\n",
    "equal(3, 4, 1) ➞ 0<br/>\n",
    "\n",
    "Notes:<br/>\n",
    "Your function must return 0, 2 or 3.<br/>\n",
    "</b>\n"
   ]
  },
  {
   "cell_type": "code",
   "execution_count": 2,
   "id": "3a173ec9",
   "metadata": {},
   "outputs": [
    {
     "name": "stdout",
     "output_type": "stream",
     "text": [
      "equal(3, 4, 3) ➞ 2\n",
      "equal(1, 1, 1) ➞ 3\n",
      "equal(3, 4, 1) ➞ 0\n"
     ]
    }
   ],
   "source": [
    "def equal(a,b,c):\n",
    "    if a==b==c:\n",
    "        return 3\n",
    "    elif a==b or b==c or a==c:\n",
    "        return 2\n",
    "    else:\n",
    "        return 0\n",
    "\n",
    "print(f'equal(3, 4, 3) ➞ {equal(3, 4, 3)}')\n",
    "print(f'equal(1, 1, 1) ➞ {equal(1, 1, 1)}')\n",
    "print(f'equal(3, 4, 1) ➞ {equal(3, 4, 1)}')\n"
   ]
  },
  {
   "cell_type": "markdown",
   "id": "2d974111",
   "metadata": {},
   "source": [
    "<br/>"
   ]
  },
  {
   "cell_type": "markdown",
   "id": "e96afa54",
   "metadata": {},
   "source": [
    "<b>2. Write a function that converts a dictionary into a list of keys-values tuples.<br/>\n",
    "Examples:<br/>\n",
    "dict_to_list({ \"D\": 1, \"B\": 2, \"C\": 3 }) ➞ [(\"B\", 2), (\"C\", 3), (\"D\", 1)] <br/>\n",
    "dict_to_list({ \"likes\": 2, \"dislikes\": 3, \"followers\": 10 }) ➞ [(\"dislikes\", 3), (\"followers\", 10), (\"likes\", 2)]<br/>\n",
    "\n",
    "Notes:<br/>\n",
    "Return the elements in the list in alphabetical order.<br/>\n",
    "</b>\n",
    "\n",
    "\n"
   ]
  },
  {
   "cell_type": "code",
   "execution_count": 5,
   "id": "17487dfa",
   "metadata": {},
   "outputs": [
    {
     "name": "stdout",
     "output_type": "stream",
     "text": [
      "dict_to_list({'D': 1, 'B': 2, 'C': 3}) ➞ [('B', 2), ('C', 3), ('D', 1)]\n",
      "dict_to_list({'likes': 2, 'dislikes': 3, 'followers': 10}) ➞ [('dislikes', 3), ('followers', 10), ('likes', 2)]\n"
     ]
    }
   ],
   "source": [
    "def dict_to_list(in_dict):\n",
    "    out_list = []\n",
    "    for key,value in in_dict.items():\n",
    "        out_list.append((key,value))\n",
    "    return sorted(out_list)    \n",
    "\n",
    "in_dict = {\"D\": 1,\"B\": 2,\"C\": 3}\n",
    "print(f'dict_to_list({in_dict}) ➞ {dict_to_list(in_dict)}')\n",
    "\n",
    "in_dict = { \"likes\": 2, \"dislikes\": 3, \"followers\": 10 }\n",
    "print(f'dict_to_list({in_dict}) ➞ {dict_to_list(in_dict)}')\n",
    "          \n"
   ]
  },
  {
   "cell_type": "markdown",
   "id": "7492b50e",
   "metadata": {},
   "source": [
    "<br/>"
   ]
  },
  {
   "cell_type": "markdown",
   "id": "83f77191",
   "metadata": {},
   "source": [
    "<b>3. Write a function that creates a dictionary with each (key, value) pair being the (lower case, upper case) versions of a<br/> letter, respectively. <br/>\n",
    "Examples:<br/>\n",
    "mapping([\"p\", \"s\"]) ➞ { \"p\": \"P\", \"s\": \"S\" } <br/>\n",
    "mapping([\"a\", \"b\", \"c\"]) ➞ { \"a\": \"A\", \"b\": \"B\", \"c\": \"C\" } <br/>\n",
    "mapping([\"a\", \"v\", \"y\", \"z\"]) ➞ { \"a\": \"A\", \"v\": \"V\", \"y\": \"Y\", \"z\": \"Z\" } <br/>\n",
    "\n",
    "Notes: <br/>\n",
    "All of the letters in the input list will always be lowercase.<br/>\n",
    "</b>\n"
   ]
  },
  {
   "cell_type": "code",
   "execution_count": 7,
   "id": "d76bc5da",
   "metadata": {},
   "outputs": [
    {
     "name": "stdout",
     "output_type": "stream",
     "text": [
      "mapping(['p', 's']) ➞ {'p': 'P', 's': 'S'}\n",
      "mapping(['a', 'b', 'c']) ➞ {'a': 'A', 'b': 'B', 'c': 'C'}\n",
      "mapping(['a', 'v', 'y', 'z']) ➞ {'a': 'A', 'v': 'V', 'y': 'Y', 'z': 'Z'}\n"
     ]
    }
   ],
   "source": [
    "def mapping(in_list):\n",
    "    out_dict = {}\n",
    "    for el in in_list:\n",
    "        out_dict[el] = el.upper()\n",
    "    return out_dict    \n",
    "    \n",
    "in_list = [\"p\", \"s\"]    \n",
    "print(f'mapping({in_list}) ➞ {mapping(in_list)}')\n",
    "\n",
    "in_list = [\"a\", \"b\", \"c\"]    \n",
    "print(f'mapping({in_list}) ➞ {mapping(in_list)}')\n",
    "\n",
    "in_list = [\"a\", \"v\", \"y\", \"z\"]    \n",
    "print(f'mapping({in_list}) ➞ {mapping(in_list)}')\n"
   ]
  },
  {
   "cell_type": "markdown",
   "id": "712097a7",
   "metadata": {},
   "source": [
    "<br/>"
   ]
  },
  {
   "cell_type": "markdown",
   "id": "d3189970",
   "metadata": {},
   "source": [
    "<b>4. Write a function, that replaces all vowels in a string with a specified vowel.<br/>\n",
    "Examples:<br/>\n",
    "vow_replace(\"apples and bananas\", \"u\") ➞ \"upplus und bununus\"<br/>\n",
    "vow_replace(\"cheese casserole\", \"o\") ➞ \"chooso cossorolo\"<br/>\n",
    "vow_replace(\"stuffed jalapeno poppers\", \"e\") ➞ \"steffed jelepene peppers\"<br/>\n",
    "\n",
    "Notes:<br/>\n",
    "All words will be lowercase. Y is not considered a vowel.<br/>\n",
    "</b>\n"
   ]
  },
  {
   "cell_type": "code",
   "execution_count": 9,
   "id": "36bce032",
   "metadata": {},
   "outputs": [
    {
     "name": "stdout",
     "output_type": "stream",
     "text": [
      "vow_replace(apples and bananas) ➞ upplus und bununus\n",
      "vow_replace(cheese casserole) ➞ chooso cossorolo\n",
      "vow_replace(stuffed jalapeno poppers) ➞ steffed jelepene peppers\n"
     ]
    }
   ],
   "source": [
    "def vow_replace(in_string,vowel):\n",
    "    vowels = 'aeiou'\n",
    "    out_string = ''\n",
    "    for el in in_string:\n",
    "        if el in vowels:\n",
    "            out_string += vowel\n",
    "        else:\n",
    "            out_string += el\n",
    "    return out_string\n",
    "\n",
    "in_string, vowel = \"apples and bananas\", \"u\"     \n",
    "print(f'vow_replace({in_string}) ➞ {vow_replace(in_string,vowel)}')\n",
    "\n",
    "in_string, vowel = \"cheese casserole\", \"o\"     \n",
    "print(f'vow_replace({in_string}) ➞ {vow_replace(in_string,vowel)}')\n",
    "\n",
    "in_string, vowel = \"stuffed jalapeno poppers\", \"e\"     \n",
    "print(f'vow_replace({in_string}) ➞ {vow_replace(in_string,vowel)}')\n"
   ]
  },
  {
   "cell_type": "markdown",
   "id": "c282e08c",
   "metadata": {},
   "source": [
    "<br/>"
   ]
  },
  {
   "cell_type": "markdown",
   "id": "4d60059b",
   "metadata": {},
   "source": [
    "<b>5. Create a function that takes a string as input and capitalizes a letter if its ASCII code is even and returns its lower<br/> case version if its ASCII code is odd. <br/>\n",
    "Examples:<br/>\n",
    "ascii_capitalize(\"to be or not to be!\") ➞ \"To Be oR NoT To Be!\" <br/>\n",
    "ascii_capitalize(\"THE LITTLE MERMAID\") ➞ \"THe LiTTLe meRmaiD\" <br/>\n",
    "ascii_capitalize(\"Oh what a beautiful morning.\") ➞ \"oH wHaT a BeauTiFuL moRNiNg.\" <br/>\n",
    "</b>\n"
   ]
  },
  {
   "cell_type": "code",
   "execution_count": 14,
   "id": "e96a7304",
   "metadata": {},
   "outputs": [
    {
     "name": "stdout",
     "output_type": "stream",
     "text": [
      "ascii_capitalize(to be or not to be!) ➞ To Be oR NoT To Be!\n",
      "ascii_capitalize(THE LITTLE MERMAID) ➞ THe LiTTLe meRmaiD\n",
      "ascii_capitalize(Oh what a beautiful morning.) ➞ oH wHaT a BeauTiFuL moRNiNg.\n"
     ]
    }
   ],
   "source": [
    "def ascii_capitalize(in_string):\n",
    "    out_string = ''\n",
    "    for el in in_string.lower():\n",
    "        if (ord(el)%2 == 0):\n",
    "            out_string += el.upper()\n",
    "        else:\n",
    "            out_string += el\n",
    "    return out_string        \n",
    "   \n",
    "in_string = \"to be or not to be!\"    \n",
    "print(f'ascii_capitalize({in_string}) ➞ {ascii_capitalize(in_string)}')\n",
    "\n",
    "in_string = \"THE LITTLE MERMAID\"    \n",
    "print(f'ascii_capitalize({in_string}) ➞ {ascii_capitalize(in_string)}')\n",
    "\n",
    "in_string = \"Oh what a beautiful morning.\"    \n",
    "print(f'ascii_capitalize({in_string}) ➞ {ascii_capitalize(in_string)}')\n"
   ]
  },
  {
   "cell_type": "code",
   "execution_count": null,
   "id": "59405d0f",
   "metadata": {},
   "outputs": [],
   "source": []
  }
 ],
 "metadata": {
  "kernelspec": {
   "display_name": "Python 3 (ipykernel)",
   "language": "python",
   "name": "python3"
  },
  "language_info": {
   "codemirror_mode": {
    "name": "ipython",
    "version": 3
   },
   "file_extension": ".py",
   "mimetype": "text/x-python",
   "name": "python",
   "nbconvert_exporter": "python",
   "pygments_lexer": "ipython3",
   "version": "3.11.3"
  }
 },
 "nbformat": 4,
 "nbformat_minor": 5
}
