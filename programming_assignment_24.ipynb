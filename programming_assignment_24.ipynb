{
 "cells": [
  {
   "cell_type": "markdown",
   "id": "e682e1ec",
   "metadata": {},
   "source": [
    "<b>1. Create a function that takes an integer and returns a list from 1 to the given number, where:<br/>\n",
    "1.If the number can be divided evenly by 4, amplify it by 10 (i.e. return 10 times the number).<br/>\n",
    "2.If the number cannot be divided evenly by 4, simply return the number.<br/>\n",
    "\n",
    "Examples:<br/>\n",
    "amplify(4) ➞ [1, 2, 3, 40]<br/>\n",
    "amplify(3) ➞ [1, 2, 3]<br/>\n",
    "amplify(25) ➞ [1, 2, 3, 40, 5, 6, 7, 80, 9, 10, 11, 120, 13, 14, 15, 160, 17, 18, 19, 200, 21, 22, 23, 240, 25]<br/>\n",
    "\n",
    "Notes:<br/>\n",
    "1.The given integer will always be equal to or greater than 1.<br/>\n",
    "2.Include the number (see example above).<br/>\n",
    "3.To perform this problem with its intended purpose, try doing it with list<br/>\n",
    "</b>\n"
   ]
  },
  {
   "cell_type": "code",
   "execution_count": 3,
   "id": "646677bd",
   "metadata": {},
   "outputs": [
    {
     "name": "stdout",
     "output_type": "stream",
     "text": [
      "amplify(4) ➞ [1, 2, 3, 40]\n",
      "amplify(3) ➞ [1, 2, 3]\n",
      "amplify(25) ➞ [1, 2, 3, 40, 5, 6, 7, 80, 9, 10, 11, 120, 13, 14, 15, 160, 17, 18, 19, 200, 21, 22, 23, 240, 25]\n"
     ]
    }
   ],
   "source": [
    "def amplify(in_num):\n",
    "    out_list = []\n",
    "    for el in range(1,in_num+1):\n",
    "        if el%4 == 0:\n",
    "            out_list.append(el*10)\n",
    "        else:\n",
    "            out_list.append(el)\n",
    "    return out_list\n",
    "   \n",
    "            \n",
    "print(f'amplify(4) ➞ {amplify(4)}')\n",
    "print(f'amplify(3) ➞ {amplify(3)}')\n",
    "print(f'amplify(25) ➞ {amplify(25)}')\n",
    "\n"
   ]
  },
  {
   "cell_type": "markdown",
   "id": "89ba6cb4",
   "metadata": {},
   "source": [
    "<br/>"
   ]
  },
  {
   "cell_type": "markdown",
   "id": "22225f9d",
   "metadata": {},
   "source": [
    "<b>2. Create a function that takes a list of numbers and return the number that's unique.<br/>\n",
    "Examples:<br/>\n",
    "unique([3, 3, 3, 7, 3, 3]) ➞ 7<br/>\n",
    "unique([0, 0, 0.77, 0, 0]) ➞ 0.77<br/>\n",
    "unique([0, 1, 1, 1, 1, 1, 1, 1]) ➞ 0<br/>\n",
    "\n",
    "Notes:<br/>\n",
    "Test cases will always have exactly one unique number while all others are the same.<br/>\n",
    "</b>\n"
   ]
  },
  {
   "cell_type": "code",
   "execution_count": 4,
   "id": "8d9697a0",
   "metadata": {},
   "outputs": [
    {
     "name": "stdout",
     "output_type": "stream",
     "text": [
      "unique([3, 3, 3, 7, 3, 3]) ➞ 7\n",
      "unique([0, 0, 0.77, 0, 0]) ➞ 0.77\n",
      "unique([0, 1, 1, 1, 1, 1, 1, 1]) ➞ 0\n"
     ]
    }
   ],
   "source": [
    "def unique(in_list):\n",
    "    out_num = ''\n",
    "    for el in set(in_list):\n",
    "        if in_list.count(el) == 1:\n",
    "            out_num = el\n",
    "    return out_num\n",
    "\n",
    "in_list = [3, 3, 3, 7, 3, 3] \n",
    "print(f'unique({in_list}) ➞ {unique(in_list)}')\n",
    "\n",
    "in_list = [0, 0, 0.77, 0, 0] \n",
    "print(f'unique({in_list}) ➞ {unique(in_list)}')\n",
    "\n",
    "in_list = [0, 1, 1, 1, 1, 1, 1, 1]\n",
    "print(f'unique({in_list}) ➞ {unique(in_list)}')\n",
    "\n",
    "\n"
   ]
  },
  {
   "cell_type": "markdown",
   "id": "abb89184",
   "metadata": {},
   "source": [
    "<br/>"
   ]
  },
  {
   "cell_type": "markdown",
   "id": "2b215bd8",
   "metadata": {},
   "source": [
    "<b>3. Your task is to create a Circle constructor that creates a circle with a radius provided by an argument. The circles<br/> constructed must have two getters getArea() (PIr^2) and getPerimeter() (2PI*r) which give both respective areas and perimeter<br/> (circumference). For help with this class, I have provided you with a Rectangle constructor which you can use as a base example ?<br/>\n",
    "Examples:<br/>\n",
    "circy = Circle(11)<br/>\n",
    "circy.getArea()<br/>\n",
    "#Should return 380.132711084365<br/> circy = Circle(4.44)<br/>\n",
    "circy.getPerimeter()<br/>\n",
    "#Should return 27.897342763877365<br/>\n",
    "\n",
    "Notes:<br/>\n",
    "Round results up to the nearest integer.<br/>\n",
    "</b>\n",
    "\n"
   ]
  },
  {
   "cell_type": "code",
   "execution_count": 6,
   "id": "30b1cb34",
   "metadata": {},
   "outputs": [
    {
     "name": "stdout",
     "output_type": "stream",
     "text": [
      "Area :  380\n",
      "Perimeter :  28\n"
     ]
    }
   ],
   "source": [
    "import math\n",
    "\n",
    "class Circle:\n",
    "    def __init__(self, radius):\n",
    "        self.radius = radius\n",
    "    def getArea(self):\n",
    "        return round(math.pi*self.radius*self.radius)\n",
    "    def getPerimeter(self):\n",
    "        return round(2*math.pi*self.radius)\n",
    "    \n",
    "circy = Circle(11)\n",
    "print('Area : ',circy.getArea())\n",
    "\n",
    "circy = Circle(4.44)\n",
    "print('Perimeter : ',circy.getPerimeter())\n",
    "\n"
   ]
  },
  {
   "cell_type": "markdown",
   "id": "e3c58f24",
   "metadata": {},
   "source": [
    "<br/>"
   ]
  },
  {
   "cell_type": "markdown",
   "id": "a6b68089",
   "metadata": {},
   "source": [
    "<b>4. Create a function that takes a list of strings and return a list, sorted from shortest to longest.<br/>\n",
    "Examples:<br/>\n",
    "sort_by_length([\"Google\", \"Apple\", \"Microsoft\"])\n",
    "➞ [\"Apple\", \"Google\", \"Microsoft\"]<br/>\n",
    "sort_by_length([\"Leonardo\", \"Michelangelo\", \"Raphael\", \"Donatello\"])\n",
    "➞ [\"Raphael\", \"Leonardo\", \"Donatello\", \"Michelangelo\"]<br/>\n",
    "sort_by_length([\"Turing\", \"Einstein\", \"Jung\"])\n",
    "➞ [\"Jung\", \"Turing\", \"Einstein\"]<br/>\n",
    "\n",
    "Notes:<br/>\n",
    "All test cases contain lists with strings of different lengths, so you won't have to deal with multiple strings of the same length.<br/>\n",
    "</b>\n"
   ]
  },
  {
   "cell_type": "code",
   "execution_count": 8,
   "id": "958c8302",
   "metadata": {},
   "outputs": [
    {
     "name": "stdout",
     "output_type": "stream",
     "text": [
      "['Apple', 'Google', 'Microsoft']\n",
      "['Raphael', 'Leonardo', 'Donatello', 'Michelangelo']\n",
      "['Jung', 'Turing', 'Einstein']\n"
     ]
    }
   ],
   "source": [
    "def sort_by_length(in_list):\n",
    "    return (sorted(in_list,key=len))\n",
    "\n",
    "print(sort_by_length([\"Google\", \"Apple\", \"Microsoft\"]))\n",
    "print(sort_by_length([\"Leonardo\", \"Michelangelo\", \"Raphael\", \"Donatello\"]))\n",
    "print(sort_by_length([\"Turing\", \"Einstein\", \"Jung\"]))\n"
   ]
  },
  {
   "cell_type": "markdown",
   "id": "1498dcb4",
   "metadata": {},
   "source": [
    "<br/>"
   ]
  },
  {
   "cell_type": "markdown",
   "id": "7051e332",
   "metadata": {},
   "source": [
    "<b>5. Create a function that validates whether three given integers form a Pythagorean triplet. The sum of the squares of the<br/> two smallest integers must equal the square of the largest number to be validated.<br/>\n",
    "Examples:<br/>\n",
    "is_triplet(3, 4, 5) ➞ True # 3² + 4² = 25 # 5² = 25 <br/> is_triplet(13, 5, 12) ➞ True # 5² + 12² = 169 # 13² = 169 <br/>is_triplet(1, 2, 3) ➞ False # 1² + 2² = 5 # 3² = 9\n",
    "\n",
    "Notes: Numbers may not be given in a sorted order.\n",
    "</b>\n"
   ]
  },
  {
   "cell_type": "code",
   "execution_count": 21,
   "id": "c3907eb3",
   "metadata": {},
   "outputs": [
    {
     "name": "stdout",
     "output_type": "stream",
     "text": [
      "is_triplet(3, 4, 5) ➞ True\n",
      "is_triplet(13, 5, 12) ➞ True\n",
      "is_triplet(1, 2, 3) ➞ False\n"
     ]
    }
   ],
   "source": [
    "def is_triplet(a,b,c):\n",
    "    sorted_list =sorted((a,b,c))\n",
    "    \n",
    "    if ((sorted_list[0]**2+sorted_list[1]**2) == (sorted_list[2]**2)):\n",
    "        return True\n",
    "    else:\n",
    "        return False\n",
    "        \n",
    "\n",
    "print(f'is_triplet(3, 4, 5) ➞',is_triplet(3, 4, 5))\n",
    "print(f'is_triplet(13, 5, 12) ➞',is_triplet(13, 5, 12))\n",
    "print(f'is_triplet(1, 2, 3) ➞',is_triplet(1, 2, 3))\n"
   ]
  },
  {
   "cell_type": "code",
   "execution_count": null,
   "id": "463d9d4c",
   "metadata": {},
   "outputs": [],
   "source": []
  }
 ],
 "metadata": {
  "kernelspec": {
   "display_name": "Python 3 (ipykernel)",
   "language": "python",
   "name": "python3"
  },
  "language_info": {
   "codemirror_mode": {
    "name": "ipython",
    "version": 3
   },
   "file_extension": ".py",
   "mimetype": "text/x-python",
   "name": "python",
   "nbconvert_exporter": "python",
   "pygments_lexer": "ipython3",
   "version": "3.11.3"
  }
 },
 "nbformat": 4,
 "nbformat_minor": 5
}
