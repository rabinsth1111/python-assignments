{
 "cells": [
  {
   "cell_type": "markdown",
   "id": "a1dbd53f",
   "metadata": {},
   "source": [
    "<b>1. Write a Python Program to Display Fibonacci Sequence Using Recursion?</b>\n",
    "\n",
    "\n",
    "\n"
   ]
  },
  {
   "cell_type": "code",
   "execution_count": 1,
   "id": "c3311e50",
   "metadata": {},
   "outputs": [
    {
     "name": "stdout",
     "output_type": "stream",
     "text": [
      "0 1 1 2 3 \n",
      "0 1 1 2 3 5 8 13 21 34 \n"
     ]
    }
   ],
   "source": [
    "def recur_fibo(n):\n",
    "   if n <= 1:\n",
    "       return n\n",
    "   else:\n",
    "       return(recur_fibo(n-1) + recur_fibo(n-2))\n",
    "\n",
    "def fibo(n):\n",
    "    for i in range(n):\n",
    "       print(recur_fibo(i),end=' ')\n",
    "    print()\n",
    "\n",
    "fibo(5) \n",
    "fibo(10)"
   ]
  },
  {
   "cell_type": "markdown",
   "id": "865abd72",
   "metadata": {},
   "source": [
    "<br/>"
   ]
  },
  {
   "cell_type": "markdown",
   "id": "51ecb26e",
   "metadata": {},
   "source": [
    "<b>2. Write a Python Program to Find Factorial of Number Using Recursion?</b>"
   ]
  },
  {
   "cell_type": "code",
   "execution_count": 6,
   "id": "cf2ac883",
   "metadata": {},
   "outputs": [
    {
     "name": "stdout",
     "output_type": "stream",
     "text": [
      "6\n",
      "120\n"
     ]
    }
   ],
   "source": [
    "def fact(n):\n",
    "    if n<1:\n",
    "        return 1\n",
    "    else:\n",
    "        return n*fact(n-1)\n",
    "    \n",
    "print(fact(3))\n",
    "print(fact(5))\n",
    "    "
   ]
  },
  {
   "cell_type": "markdown",
   "id": "f0e30eff",
   "metadata": {},
   "source": [
    "<br/>"
   ]
  },
  {
   "cell_type": "markdown",
   "id": "79a1ad8f",
   "metadata": {},
   "source": [
    "<b>3. Write a Python Program to calculate your Body Mass Index?</b>"
   ]
  },
  {
   "cell_type": "code",
   "execution_count": 11,
   "id": "b4afdb32",
   "metadata": {},
   "outputs": [
    {
     "name": "stdout",
     "output_type": "stream",
     "text": [
      "Enter your Weight in kg: 65\n",
      "Enter your Height in meter: 1.67\n",
      "Your Body Mass Index is 23.3 and you are healthy\n"
     ]
    }
   ],
   "source": [
    "def calculate_BMI():\n",
    "    weight = float(input('Enter your Weight in kg: '))\n",
    "    height = float(input('Enter your Height in meter: '))\n",
    "    bmi = round(weight/pow(height,2),1)\n",
    "    if (bmi < 18.5):\n",
    "        status = 'underweight'\n",
    "    elif (bmi >= 18.5 and bmi <= 24.9):\n",
    "        status = 'healthy'\n",
    "    elif (bmi > 24.9 and bmi < 30):\n",
    "        status = 'overweight'\n",
    "    elif (bmi >=30):\n",
    "        status = 'obese'\n",
    "    print(f'Your Body Mass Index is {bmi} and you are {status}')\n",
    "    \n",
    "calculate_BMI()"
   ]
  },
  {
   "cell_type": "markdown",
   "id": "19702c00",
   "metadata": {},
   "source": [
    "<br/>"
   ]
  },
  {
   "cell_type": "markdown",
   "id": "2f1a6535",
   "metadata": {},
   "source": [
    "<b>4. Write a Python Program to calculate the natural logarithm of any number?</b>"
   ]
  },
  {
   "cell_type": "code",
   "execution_count": 18,
   "id": "0174f8e8",
   "metadata": {},
   "outputs": [
    {
     "name": "stdout",
     "output_type": "stream",
     "text": [
      "Natural logarithm of 2 is 0.6931471805599453\n",
      "Natural logarithm of 1 is 0.0\n",
      "Natural logarithm of 10 is 2.302585092994046\n",
      "Natural logarithm of 2.71828 is 0.999999327347282\n"
     ]
    }
   ],
   "source": [
    "import math\n",
    "def natural_log(n):\n",
    "    print(f'Natural logarithm of {n} is',math.log(n))\n",
    "\n",
    "natural_log(2)\n",
    "natural_log(1)\n",
    "natural_log(10)\n",
    "natural_log(2.71828)"
   ]
  },
  {
   "cell_type": "markdown",
   "id": "09f45bfe",
   "metadata": {},
   "source": [
    "<br/>"
   ]
  },
  {
   "cell_type": "markdown",
   "id": "df49de65",
   "metadata": {},
   "source": [
    "<b>5. Write a Python Program for cube sum of first n natural numbers?</b>"
   ]
  },
  {
   "cell_type": "code",
   "execution_count": 17,
   "id": "1f868dac",
   "metadata": {},
   "outputs": [
    {
     "name": "stdout",
     "output_type": "stream",
     "text": [
      "36\n",
      "100\n"
     ]
    }
   ],
   "source": [
    "def cube(n):\n",
    "    sum = 0\n",
    "    for i in range(1,n+1):\n",
    "        sum += pow(i,3)\n",
    "    return sum\n",
    "\n",
    "print(cube(3))\n",
    "print(cube(4))\n",
    "        "
   ]
  },
  {
   "cell_type": "code",
   "execution_count": null,
   "id": "0e63a5dd",
   "metadata": {},
   "outputs": [],
   "source": []
  }
 ],
 "metadata": {
  "kernelspec": {
   "display_name": "Python 3 (ipykernel)",
   "language": "python",
   "name": "python3"
  },
  "language_info": {
   "codemirror_mode": {
    "name": "ipython",
    "version": 3
   },
   "file_extension": ".py",
   "mimetype": "text/x-python",
   "name": "python",
   "nbconvert_exporter": "python",
   "pygments_lexer": "ipython3",
   "version": "3.11.3"
  }
 },
 "nbformat": 4,
 "nbformat_minor": 5
}
