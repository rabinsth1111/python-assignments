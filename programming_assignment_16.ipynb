{
 "cells": [
  {
   "cell_type": "markdown",
   "id": "4120f3a6",
   "metadata": {},
   "source": [
    "<b>1. Write a function that stutters a word as if someone is struggling to read it. The first two letters are repeated twice with an ellipsis ... and space after each, and then the word is pronounced with a question mark ?<br/>\n",
    "Examples:<br/> stutter(\"incredible\") ➞ \"in... in... incredible?\"<br/>\n",
    "stutter(\"enthusiastic\") ➞ \"en... en... enthusiastic?\"<br/><br/>\n",
    "stutter(\"outstanding\") ➞ \"ou... ou... outstanding?\"<br/>\n",
    "\n",
    "Hint :- Assume all input is in lower case and at least two characters long.\n",
    "</b>\n",
    "\n"
   ]
  },
  {
   "cell_type": "code",
   "execution_count": 20,
   "id": "986ec95f",
   "metadata": {},
   "outputs": [
    {
     "name": "stdout",
     "output_type": "stream",
     "text": [
      "stutter(\"incredible\") ➞ in... in... incredible?\n",
      "stutter(\"enthusiastic\") ➞ en... en... enthusiastic?\n",
      "stutter(\"outstanding\") ➞ ou... ou... outstanding?\n"
     ]
    }
   ],
   "source": [
    "def stutter(word):\n",
    "    result = word.replace(word[0:2],((word[0:2]+'... ')*2)+ word[0:2])  +'?'\n",
    "    return result\n",
    "\n",
    "word = \"incredible\"\n",
    "print(f'stutter(\\\"{word}\\\") ➞ {stutter(word)}')\n",
    "\n",
    "word = \"enthusiastic\"\n",
    "print(f'stutter(\\\"{word}\\\") ➞ {stutter(word)}')\n",
    "\n",
    "word = \"outstanding\"\n",
    "print(f'stutter(\\\"{word}\\\") ➞ {stutter(word)}')"
   ]
  },
  {
   "cell_type": "markdown",
   "id": "f49efef5",
   "metadata": {},
   "source": [
    "<br/>"
   ]
  },
  {
   "cell_type": "markdown",
   "id": "c49eaad2",
   "metadata": {},
   "source": [
    "<b>2. Create a function that takes an angle in radians and returns the corresponding angle in degrees rounded to one decimal place ?<br/>\n",
    "Examples:<br/> radians_to_degrees(1) ➞ 57.3<br/>\n",
    "radians_to_degrees(20) ➞ 1145.9<br/>\n",
    "radians_to_degrees(50) ➞ 2864.8<br/>\n",
    "</b>\n",
    "\n",
    "\n"
   ]
  },
  {
   "cell_type": "code",
   "execution_count": 4,
   "id": "b2281646",
   "metadata": {},
   "outputs": [
    {
     "name": "stdout",
     "output_type": "stream",
     "text": [
      "1 radian(s) ➞ 57.3 degrees\n",
      "20 radian(s) ➞ 1145.9 degrees\n",
      "50 radian(s) ➞ 2864.8 degrees\n"
     ]
    }
   ],
   "source": [
    "import math\n",
    "\n",
    "def radian_to_degrees(radian):\n",
    "    degree = round((180/math.pi)*radian,1)\n",
    "    return degree\n",
    "\n",
    "radian = 1\n",
    "print(f'{radian} radian(s) ➞ {radian_to_degrees(radian)} degrees')\n",
    "\n",
    "radian = 20\n",
    "print(f'{radian} radian(s) ➞ {radian_to_degrees(radian)} degrees')\n",
    "\n",
    "radian = 50\n",
    "print(f'{radian} radian(s) ➞ {radian_to_degrees(radian)} degrees')\n"
   ]
  },
  {
   "cell_type": "markdown",
   "id": "e7eac028",
   "metadata": {},
   "source": [
    "<br/>"
   ]
  },
  {
   "cell_type": "markdown",
   "id": "9c2a4377",
   "metadata": {},
   "source": [
    "<b>3. In this challenge, establish if a given integer num is a Curzon number. If 1 plus 2 elevated to num is exactly divisible by 1 plus 2 multiplied by num, then num is a Curzon number.<br/> Given a non-negative integer num, implement a function that returns True if num is a Curzon number, or False otherwise.<br/>\n",
    "Examples:<br/> is_curzon(5) ➞ True # 2 ** 5 + 1 = 33 # 2 * 5 + 1 = 11 # 33 is a multiple of 11<br/>\n",
    " is_curzon(10) ➞ False # 2 ** 10 + 1 = 1025 # 2 * 10 + 1 = 21 # 1025 is not a multiple of 21 <br/>is_curzon(14) ➞ True # 2 ** 14 + 1 = 16385 # 2 * 14 + 1 = 29 # 16385 is a multiple of 29\n",
    "</b>\n",
    "\n",
    "\n",
    "\n",
    "\n"
   ]
  },
  {
   "cell_type": "code",
   "execution_count": 12,
   "id": "60d73ef4",
   "metadata": {},
   "outputs": [
    {
     "name": "stdout",
     "output_type": "stream",
     "text": [
      "5 is a Curzon number.\n",
      "10 is not a Curzon number.\n",
      "14 is a Curzon number.\n"
     ]
    }
   ],
   "source": [
    "def is_curzon(num):\n",
    "    if (pow(2,num)+1)%((2*num)+1) == 0:\n",
    "        return True\n",
    "    else:\n",
    "        return False\n",
    "\n",
    "num = 5\n",
    "print(f'{num} is a Curzon number.') if is_curzon(num) else print(f'{num} is not a Curzon number.')\n",
    "\n",
    "num = 10\n",
    "print(f'{num} is a Curzon number.') if is_curzon(num) else print(f'{num} is not a Curzon number.')\n",
    "\n",
    "num = 14\n",
    "print(f'{num} is a Curzon number.') if is_curzon(num) else print(f'{num} is not a Curzon number.') "
   ]
  },
  {
   "cell_type": "markdown",
   "id": "2c945623",
   "metadata": {},
   "source": [
    "<br/>"
   ]
  },
  {
   "cell_type": "markdown",
   "id": "43fa2ba6",
   "metadata": {},
   "source": [
    "<b>4. Given the side length x find the area of a hexagon ?<br/>\n",
    "Examples: <br/>area_of_hexagon(1) ➞ 2.6<br/>\n",
    "area_of_hexagon(2) ➞ 10.4<br/>\n",
    "area_of_hexagon(3) ➞ 23.4<br/>\n",
    "</b>\n",
    "\n",
    "\n"
   ]
  },
  {
   "cell_type": "code",
   "execution_count": 6,
   "id": "a540641a",
   "metadata": {},
   "outputs": [
    {
     "name": "stdout",
     "output_type": "stream",
     "text": [
      "Area of hexagon of side length 1 ➞ 2.6\n",
      "Area of hexagon of side length 2 ➞ 10.4\n",
      "Area of hexagon of side length 3 ➞ 23.4\n"
     ]
    }
   ],
   "source": [
    "# area of hexagon = (3√3 s2)/2\n",
    "import math\n",
    "def area_of_hexagon(x):\n",
    "    area = ((3*math.sqrt(3))/2)*(pow(x,2))\n",
    "    area = round(area,1)\n",
    "    return area\n",
    "\n",
    "x = 1\n",
    "print(f'Area of hexagon of side length {x} ➞ {area_of_hexagon(x)}')\n",
    "\n",
    "x = 2\n",
    "print(f'Area of hexagon of side length {x} ➞ {area_of_hexagon(x)}')\n",
    "\n",
    "x = 3\n",
    "print(f'Area of hexagon of side length {x} ➞ {area_of_hexagon(x)}')\n"
   ]
  },
  {
   "cell_type": "markdown",
   "id": "1058bdc8",
   "metadata": {},
   "source": [
    "<br/>"
   ]
  },
  {
   "cell_type": "markdown",
   "id": "f8065b9f",
   "metadata": {},
   "source": [
    "<b>5. Create a function that returns a base-2 (binary) representation of a base-10 (decimal) string number. To convert is simple:<br/>\n",
    "((2) means base-2 and (10) means base-10)<br/><br/>\n",
    "010101001(2) = 1 + 8 + 32 + 128.<br/>\n",
    "Going from right to left, the value of the most right bit is 1, now from that every bit to the left will be x2 the value, value <br/>of an 8 bit binary numbers are (256, 128, 64, 32, 16, 8, 4, 2, 1).<br/>\n",
    "Examples:<br/>\n",
    "binary(1) ➞ \"1\" # 1* 1 = 1 binary(5) ➞ \"101\" # 1 1 + 1 4 = 5 binary(10) ➞ \"1010\" # 1 2 + 1 8 = 10<br/>\n",
    "</b>\n",
    "\n"
   ]
  },
  {
   "cell_type": "code",
   "execution_count": 21,
   "id": "44225229",
   "metadata": {},
   "outputs": [
    {
     "name": "stdout",
     "output_type": "stream",
     "text": [
      "Binary of 1 ➞ 1\n",
      "Binary of 5 ➞ 101\n",
      "Binary of 10 ➞ 1010\n"
     ]
    }
   ],
   "source": [
    "def binary(d):\n",
    "    binary_number = 0\n",
    "    cnt = 0\n",
    "    while (d != 0):\n",
    "        rem = d % 2\n",
    "        c = pow(10, cnt)\n",
    "        binary_number += rem * c\n",
    "        d //= 2\n",
    "                \n",
    "        cnt += 1\n",
    "     \n",
    "    return binary_number\n",
    "\n",
    "d = 1\n",
    "print(f'binary({d}) ➞ {binary(d)}')\n",
    "\n",
    "d = 5\n",
    "print(f'Binary of {d} ➞ {binary(d)}')\n",
    "\n",
    "d = 10\n",
    "print(f'Binary of {d} ➞ {binary(d)}')"
   ]
  },
  {
   "cell_type": "code",
   "execution_count": null,
   "id": "0dd6037e",
   "metadata": {},
   "outputs": [],
   "source": []
  }
 ],
 "metadata": {
  "kernelspec": {
   "display_name": "Python 3 (ipykernel)",
   "language": "python",
   "name": "python3"
  },
  "language_info": {
   "codemirror_mode": {
    "name": "ipython",
    "version": 3
   },
   "file_extension": ".py",
   "mimetype": "text/x-python",
   "name": "python",
   "nbconvert_exporter": "python",
   "pygments_lexer": "ipython3",
   "version": "3.11.3"
  }
 },
 "nbformat": 4,
 "nbformat_minor": 5
}
