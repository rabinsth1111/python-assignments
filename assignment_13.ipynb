{
 "cells": [
  {
   "cell_type": "markdown",
   "id": "94443883",
   "metadata": {},
   "source": [
    "<b>1. What advantages do Excel spreadsheets have over CSV spreadsheets?</b>"
   ]
  },
  {
   "cell_type": "markdown",
   "id": "b72cee63",
   "metadata": {},
   "source": [
    "Excel spreadsheets can have values of data types other than strings. They have cells which can have different fonts, sizes, or color settings. Complex operations such as defining formulaes, sorting, searching, merging cells, embedding images and charts, etc can be done in Excel spreadsheets."
   ]
  },
  {
   "cell_type": "markdown",
   "id": "5d9189f5",
   "metadata": {},
   "source": [
    "<br>"
   ]
  },
  {
   "cell_type": "markdown",
   "id": "9223356f",
   "metadata": {},
   "source": [
    "<b>2. What do you pass to csv.reader() and csv.writer() to create reader and writer objects?</b>"
   ]
  },
  {
   "cell_type": "code",
   "execution_count": null,
   "id": "2ff0765f",
   "metadata": {},
   "outputs": [],
   "source": [
    "We pass a File object, obtained from a call to open()."
   ]
  },
  {
   "cell_type": "code",
   "execution_count": 48,
   "id": "8ca83d95",
   "metadata": {},
   "outputs": [
    {
     "name": "stdout",
     "output_type": "stream",
     "text": [
      "Row #1 ['Name', 'Age', 'Country']\n",
      "Row #2 ['Kevin Musk', '30', 'USA']\n",
      "Row #3 ['Hari Yadav', '35', 'India']\n",
      "Row #4 ['Imran Khan', '50', 'Pakistan']\n"
     ]
    }
   ],
   "source": [
    "# Example\n",
    "file = open('person.csv', newline='\\n')\n",
    "reader = csv.reader(file)\n",
    "for row in reader:\n",
    "        print('Row #' + str(reader.line_num) + ' ' + str(row))\n",
    "file.close()   "
   ]
  },
  {
   "cell_type": "markdown",
   "id": "7eb6cb9c",
   "metadata": {},
   "source": [
    "<br/>"
   ]
  },
  {
   "cell_type": "markdown",
   "id": "4d42f891",
   "metadata": {},
   "source": [
    "<b>3. What modes do File objects for reader and writer objects need to be opened in?</b>"
   ]
  },
  {
   "cell_type": "markdown",
   "id": "29699916",
   "metadata": {},
   "source": [
    "For csv.reader(iterable_file_object), the file objects needed to be opened in read mode mode='r'.\n",
    "For csv.writer(iterable_file_object), the file objects needed to be opened in write mode mode='w'."
   ]
  },
  {
   "cell_type": "markdown",
   "id": "97fef82d",
   "metadata": {},
   "source": [
    "<br/>"
   ]
  },
  {
   "cell_type": "markdown",
   "id": "83ad528c",
   "metadata": {},
   "source": [
    "<b>4. What method takes a list argument and writes it to a CSV file?</b>"
   ]
  },
  {
   "cell_type": "markdown",
   "id": "57771a31",
   "metadata": {},
   "source": [
    "csv.writer class provides writerow() and writerows() methods to write in a CSV file."
   ]
  },
  {
   "cell_type": "code",
   "execution_count": 44,
   "id": "66d84832",
   "metadata": {},
   "outputs": [],
   "source": [
    "# Example\n",
    "import csv      \n",
    "fields = ['Name', 'Age', 'Country']  \n",
    "rows = [ \n",
    "            ['Harry Clinton', 30, 'USA'],  \n",
    "            ['Beena Yadav', 35, 'India'], \n",
    "            ['Myra Khan', 50, 'Pakistan']\n",
    "       ] \n",
    "with open(\"persons.csv\", 'w') as csvfile: \n",
    "    csvwriter = csv.writer(csvfile) # creating a csv writer object \n",
    "    csvwriter.writerow(fields) # writing the fields \n",
    "    csvwriter.writerows(rows) # writing the data rows "
   ]
  },
  {
   "cell_type": "markdown",
   "id": "fb7c27f0",
   "metadata": {},
   "source": [
    "<br/>"
   ]
  },
  {
   "cell_type": "markdown",
   "id": "7284772d",
   "metadata": {},
   "source": [
    "<b>5. What do the keyword arguments delimiter and line terminator do?</b>"
   ]
  },
  {
   "cell_type": "markdown",
   "id": "8511485a",
   "metadata": {},
   "source": [
    "The delimiter argument changes the string used to separate cells in a row. The lineterminator argument changes the string used to separate rows."
   ]
  },
  {
   "cell_type": "code",
   "execution_count": 28,
   "id": "73f763aa",
   "metadata": {},
   "outputs": [],
   "source": [
    "# Example\n",
    "import csv\n",
    "csvFile = open('test_tab_delimeter.csv', 'w')\n",
    "csvWriter = csv.writer(csvFile, delimiter='\\t', lineterminator='\\n\\n')\n",
    "csvWriter.writerow(['apple', 'ball', 'cat'])\n",
    "csvWriter.writerow(['dog', 'eye', 'fan'])\n",
    "csvWriter.writerow(['hat', 'gun', 'ink', 'jam', 'kite', 'lion','monkey'])\n",
    "csvFile.close()"
   ]
  },
  {
   "cell_type": "markdown",
   "id": "c0e5e068",
   "metadata": {},
   "source": [
    "<br/>"
   ]
  },
  {
   "cell_type": "markdown",
   "id": "3214911f",
   "metadata": {},
   "source": [
    "<b>6. What function takes a string of JSON data and returns a Python data structure?</b>"
   ]
  },
  {
   "cell_type": "markdown",
   "id": "1e4b4e33",
   "metadata": {},
   "source": [
    "json.loads() method (which means “load string”) takes a string of JSON data and returns a Python data structure."
   ]
  },
  {
   "cell_type": "code",
   "execution_count": 24,
   "id": "d19af8a8",
   "metadata": {},
   "outputs": [
    {
     "name": "stdout",
     "output_type": "stream",
     "text": [
      "{\n",
      "    \"Name\":\"John Smith\",\n",
      "    \"Age\":30,\n",
      "    \"Hobby\":\"Dancing\",\n",
      "    \"Qualification\":\"Bachelor in Arts\"\n",
      "   \n",
      "}\n",
      "Type of detail is <class 'str'> \n",
      "\n",
      "{'Name': 'John Smith', 'Age': 30, 'Hobby': 'Dancing', 'Qualification': 'Bachelor in Arts'}\n",
      "Type of detail_python is <class 'dict'>\n"
     ]
    }
   ],
   "source": [
    "# Example\n",
    "import json\n",
    "detail = '''{\n",
    "    \"Name\":\"John Smith\",\n",
    "    \"Age\":30,\n",
    "    \"Hobby\":\"Dancing\",\n",
    "    \"Qualification\":\"Bachelor in Arts\"\n",
    "   \n",
    "}'''\n",
    "print(detail)\n",
    "print(f'Type of detail is {type(detail)}','\\n')\n",
    "detail_python = json.loads(detail)\n",
    "print(detail_python)\n",
    "print(f'Type of detail_python is {type(detail_python)}')"
   ]
  },
  {
   "cell_type": "markdown",
   "id": "19c46767",
   "metadata": {},
   "source": [
    "<br/>"
   ]
  },
  {
   "cell_type": "markdown",
   "id": "3cb70633",
   "metadata": {},
   "source": [
    "<b>7. What function takes a Python data structure and returns a string of JSON data?</b>"
   ]
  },
  {
   "cell_type": "markdown",
   "id": "76a0419c",
   "metadata": {},
   "source": [
    "json.dumps() method (which means “dump string”) takes a python data structure and returns a string of JSON data."
   ]
  },
  {
   "cell_type": "code",
   "execution_count": 49,
   "id": "70c85a95",
   "metadata": {},
   "outputs": [
    {
     "name": "stdout",
     "output_type": "stream",
     "text": [
      "{'Name': 'John Smith', 'Age': 30, 'Hobby': 'Dancing', 'Qualification': 'Bachelor in Arts', 'Current Health Issues': None, 'Married': False}\n",
      "Type of detail is <class 'dict'> \n",
      "\n",
      "{\n",
      "  \"Name\": \"John Smith\",\n",
      "  \"Age\": 30,\n",
      "  \"Hobby\": \"Dancing\",\n",
      "  \"Qualification\": \"Bachelor in Arts\",\n",
      "  \"Current Health Issues\": null,\n",
      "  \"Married\": false\n",
      "}\n",
      "Type of detail_json is <class 'str'>\n"
     ]
    }
   ],
   "source": [
    "# Example\n",
    "import json\n",
    "detail = {\n",
    "    \"Name\":\"John Smith\",\n",
    "    \"Age\":30,\n",
    "    \"Hobby\":\"Dancing\",\n",
    "    \"Qualification\":\"Bachelor in Arts\",\n",
    "    \"Current Health Issues\": None,\n",
    "    \"Married\": False\n",
    "}\n",
    "print(detail)\n",
    "print(f'Type of detail is {type(detail)}','\\n')\n",
    "detail_json = json.dumps(detail, indent=2)\n",
    "print(detail_json)\n",
    "print(f'Type of detail_json is {type(detail_json)}')"
   ]
  }
 ],
 "metadata": {
  "kernelspec": {
   "display_name": "Python 3 (ipykernel)",
   "language": "python",
   "name": "python3"
  },
  "language_info": {
   "codemirror_mode": {
    "name": "ipython",
    "version": 3
   },
   "file_extension": ".py",
   "mimetype": "text/x-python",
   "name": "python",
   "nbconvert_exporter": "python",
   "pygments_lexer": "ipython3",
   "version": "3.11.3"
  }
 },
 "nbformat": 4,
 "nbformat_minor": 5
}
