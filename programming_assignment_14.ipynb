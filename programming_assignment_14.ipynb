{
 "cells": [
  {
   "cell_type": "markdown",
   "id": "e0bb66b8",
   "metadata": {},
   "source": [
    "<b>1. Define a class with a generator which can iterate the numbers, which are divisible by 7, between a given range 0 and n. ?</b>"
   ]
  },
  {
   "cell_type": "code",
   "execution_count": 6,
   "id": "d09903e8",
   "metadata": {},
   "outputs": [
    {
     "name": "stdout",
     "output_type": "stream",
     "text": [
      "0 7 14 21 28 35 42 49 56 63 70 77 84 91 98 105 112 119 126 133 140 147 154 161 168 175 182 189 196 203 210 217 224 231 238 245 252 259 266 273 280 287 294 301 308 315 322 329 336 343 350 357 364 371 378 385 392 399 406 413 420 427 434 441 448 455 462 469 476 483 490 497 "
     ]
    }
   ],
   "source": [
    "class div_generator:\n",
    "    def __init__(self, in_num):\n",
    "        self.in_num = in_num\n",
    "    def get_numbers(self):\n",
    "        for el in range(0, self.in_num+1):\n",
    "            if el%7 == 0:\n",
    "                yield el\n",
    "                \n",
    "output = div_generator(500)\n",
    "for el in output.get_numbers():\n",
    "    print(el, end=' ')"
   ]
  },
  {
   "cell_type": "markdown",
   "id": "c4c63cf6",
   "metadata": {},
   "source": [
    "<br/>"
   ]
  },
  {
   "cell_type": "markdown",
   "id": "c941061b",
   "metadata": {},
   "source": [
    "<b>2. Write a program to compute the frequency of the words from the input. The output should output after sorting the key alphanumerically.<br/>\n",
    "Suppose the following input is supplied to the program:<br/>\n",
    "New to Python or choosing between Python 2 and Python 3? Read Python 2 or Python 3.<br/>\n",
    "Then, the output should be:<br/>\n",
    "2:2 3.:1 3?:1 New:1 Python:5 Read:1 and:1 between:1 choosing:1 or:2 to:1 </b>"
   ]
  },
  {
   "cell_type": "code",
   "execution_count": 8,
   "id": "e598f9bf",
   "metadata": {},
   "outputs": [
    {
     "name": "stdout",
     "output_type": "stream",
     "text": [
      "Enter the string with words: New to Python or choosing between Python 2 and Python 3? Read Python 2 or Python 3\n",
      "2:2 3:1 3?:1 New:1 Python:5 Read:1 and:1 between:1 choosing:1 or:2 to:1 "
     ]
    }
   ],
   "source": [
    "def check_frequency():\n",
    "    in_string = input(\"Enter the string with words: \")\n",
    "    frequency = {}\n",
    "    for el in in_string.split():\n",
    "        if frequency.get(el) == None:\n",
    "            frequency[el] = 1\n",
    "        else:\n",
    "            frequency[el] += 1 \n",
    "    for el in sorted(frequency):\n",
    "        print(f'{el}:{frequency[el]}',end=\" \")\n",
    "        \n",
    "check_frequency()"
   ]
  },
  {
   "cell_type": "markdown",
   "id": "c707808e",
   "metadata": {},
   "source": [
    "<br/>"
   ]
  },
  {
   "cell_type": "markdown",
   "id": "dbcc2b2d",
   "metadata": {},
   "source": [
    "<b>3. Define a class Person and its two child classes: Male and Female. All classes have a method \"getGender\" which can print \"Male\" for Male class and \"Female\" for Female class. ?</b>"
   ]
  },
  {
   "cell_type": "code",
   "execution_count": 16,
   "id": "9c57e814",
   "metadata": {},
   "outputs": [
    {
     "name": "stdout",
     "output_type": "stream",
     "text": [
      "Male\n",
      "Female\n"
     ]
    }
   ],
   "source": [
    "class Person:\n",
    "    def getGender():\n",
    "        pass\n",
    "    \n",
    "class Male(Person):\n",
    "    def getGender():\n",
    "        print(\"Male\")\n",
    "        \n",
    "class Female(Person):\n",
    "    def getGender():\n",
    "        print(\"Female\")\n",
    "\n",
    "Male.getGender()\n",
    "Female.getGender()"
   ]
  },
  {
   "cell_type": "markdown",
   "id": "ae844837",
   "metadata": {},
   "source": [
    "<br/>"
   ]
  },
  {
   "cell_type": "markdown",
   "id": "53aa6628",
   "metadata": {},
   "source": [
    "<b>4. Please write a program to generate all sentences where subject is in [\"I\", \"You\"] and verb is in [\"Play\", \"Love\"] and the object is in [\"Hockey\",\"Football\"] ?</b>"
   ]
  },
  {
   "cell_type": "code",
   "execution_count": 18,
   "id": "eee2c512",
   "metadata": {},
   "outputs": [
    {
     "name": "stdout",
     "output_type": "stream",
     "text": [
      "I Play Hockey\n",
      "I Play Football\n",
      "I Love Hockey\n",
      "I Love Football\n",
      "You Play Hockey\n",
      "You Play Football\n",
      "You Love Hockey\n",
      "You Love Football\n"
     ]
    }
   ],
   "source": [
    "def generate_sentences():\n",
    "    subjects = ['I','You']\n",
    "    verbs = ['Play','Love']\n",
    "    objects = ['Hockey','Football']\n",
    "    for s in subjects:\n",
    "        for v in verbs:\n",
    "            for o in objects:\n",
    "                print(f'{s} {v} {o}')\n",
    "                \n",
    "generate_sentences()"
   ]
  },
  {
   "cell_type": "markdown",
   "id": "a4c13fdc",
   "metadata": {},
   "source": [
    "<br/>"
   ]
  },
  {
   "cell_type": "markdown",
   "id": "d46b5bb5",
   "metadata": {},
   "source": [
    "<b>5. Please write a program to compress and decompress the string \"hello world!hello world!hello world!hello world!\" ?</b>"
   ]
  },
  {
   "cell_type": "code",
   "execution_count": 26,
   "id": "332ce07e",
   "metadata": {},
   "outputs": [
    {
     "name": "stdout",
     "output_type": "stream",
     "text": [
      "Original string: hello world!hello world!hello world!hello world!\n",
      "Compressed string: b'x\\x9c\\xcbH\\xcd\\xc9\\xc9W(\\xcf/\\xcaIQ\\xcc \\x82\\r\\x00\\xbd[\\x11\\xf5'\n",
      "Decompressed string: hello world!hello world!hello world!hello world!\n"
     ]
    }
   ],
   "source": [
    "import zlib\n",
    "s = \"hello world!hello world!hello world!hello world!\"\n",
    "c = zlib.compress(s.encode())\n",
    "d = zlib.decompress(c).decode()\n",
    "print (\"Original string:\",s)\n",
    "print (\"Compressed string:\",c)\n",
    "print (\"Decompressed string:\",d)"
   ]
  },
  {
   "cell_type": "markdown",
   "id": "714f7fd3",
   "metadata": {},
   "source": [
    "<br/>"
   ]
  },
  {
   "cell_type": "markdown",
   "id": "ff7c7a32",
   "metadata": {},
   "source": [
    "<b>6. Please write a binary search function which searches an item in a sorted list. The function should return the index of element to be searched in the list ?</b>"
   ]
  },
  {
   "cell_type": "code",
   "execution_count": 28,
   "id": "83670586",
   "metadata": {},
   "outputs": [
    {
     "name": "stdout",
     "output_type": "stream",
     "text": [
      "9\n",
      "-1\n"
     ]
    }
   ],
   "source": [
    "def binary_search(in_list,in_num):\n",
    "    low = 0\n",
    "    high = len(in_list)-1\n",
    "    while low <= high:\n",
    "        mid = (high+low)//2\n",
    "        if in_list[mid] < in_num:\n",
    "            low = mid+1\n",
    "        elif in_list[mid] > in_num:\n",
    "            high = mid-1\n",
    "        else:\n",
    "            return mid\n",
    "        \n",
    "    return -1 #if element is not in the list\n",
    "\n",
    "sorted_list = [1,2,3,4,5,6,7,8,9,10]    \n",
    "print(binary_search(sorted_list,10))\n",
    "print(binary_search(sorted_list,15))"
   ]
  },
  {
   "cell_type": "code",
   "execution_count": null,
   "id": "ab76642b",
   "metadata": {},
   "outputs": [],
   "source": []
  }
 ],
 "metadata": {
  "kernelspec": {
   "display_name": "Python 3 (ipykernel)",
   "language": "python",
   "name": "python3"
  },
  "language_info": {
   "codemirror_mode": {
    "name": "ipython",
    "version": 3
   },
   "file_extension": ".py",
   "mimetype": "text/x-python",
   "name": "python",
   "nbconvert_exporter": "python",
   "pygments_lexer": "ipython3",
   "version": "3.11.3"
  }
 },
 "nbformat": 4,
 "nbformat_minor": 5
}
