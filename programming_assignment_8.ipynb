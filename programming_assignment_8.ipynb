{
 "cells": [
  {
   "cell_type": "markdown",
   "id": "abe4d081",
   "metadata": {},
   "source": [
    "<b>1. Write a Python Program to Add Two Matrices?</b>\n",
    "\n",
    "\n",
    "\n"
   ]
  },
  {
   "cell_type": "code",
   "execution_count": 55,
   "id": "1dfab9c4",
   "metadata": {},
   "outputs": [
    {
     "name": "stdout",
     "output_type": "stream",
     "text": [
      "[[1, 2, 3]] + [[4, 5, 6]] is [[5, 7, 9]] \n",
      "\n",
      "[[1, 1, 2], [2, 1, 2]] + [[5, 1, 2], [7, 1, 2]] is [[6, 2, 4], [9, 2, 4]] \n",
      "\n",
      "[[1, 1, 2], [2, 1, 2], [1, 2, 3]] + [[5, 1, 2], [7, 1, 2], [4, 5, 6]] is [[6, 2, 4], [9, 2, 4], [5, 7, 9]] \n",
      "\n"
     ]
    },
    {
     "ename": "Exception",
     "evalue": "Matrix addition is not possible for [[1, 2]] and [[4, 5, 6]].",
     "output_type": "error",
     "traceback": [
      "\u001b[1;31m---------------------------------------------------------------------------\u001b[0m",
      "\u001b[1;31mException\u001b[0m                                 Traceback (most recent call last)",
      "Cell \u001b[1;32mIn[55], line 25\u001b[0m\n\u001b[0;32m     22\u001b[0m \u001b[38;5;28mprint\u001b[39m(\u001b[38;5;124mf\u001b[39m\u001b[38;5;124m'\u001b[39m\u001b[38;5;132;01m{\u001b[39;00mD\u001b[38;5;132;01m}\u001b[39;00m\u001b[38;5;124m + \u001b[39m\u001b[38;5;132;01m{\u001b[39;00mE\u001b[38;5;132;01m}\u001b[39;00m\u001b[38;5;124m is\u001b[39m\u001b[38;5;124m'\u001b[39m,add_matrix(D,E),\u001b[38;5;124m'\u001b[39m\u001b[38;5;130;01m\\n\u001b[39;00m\u001b[38;5;124m'\u001b[39m)\n\u001b[0;32m     24\u001b[0m A,B \u001b[38;5;241m=\u001b[39m [[\u001b[38;5;241m1\u001b[39m,\u001b[38;5;241m2\u001b[39m]], [[\u001b[38;5;241m4\u001b[39m,\u001b[38;5;241m5\u001b[39m,\u001b[38;5;241m6\u001b[39m]] \n\u001b[1;32m---> 25\u001b[0m \u001b[38;5;28mprint\u001b[39m(\u001b[38;5;124mf\u001b[39m\u001b[38;5;124m'\u001b[39m\u001b[38;5;132;01m{\u001b[39;00mA\u001b[38;5;132;01m}\u001b[39;00m\u001b[38;5;124m + \u001b[39m\u001b[38;5;132;01m{\u001b[39;00mB\u001b[38;5;132;01m}\u001b[39;00m\u001b[38;5;124m is\u001b[39m\u001b[38;5;124m'\u001b[39m,add_matrix(A,B))\n",
      "Cell \u001b[1;32mIn[55], line 3\u001b[0m, in \u001b[0;36madd_matrix\u001b[1;34m(X, Y)\u001b[0m\n\u001b[0;32m      1\u001b[0m \u001b[38;5;28;01mdef\u001b[39;00m \u001b[38;5;21madd_matrix\u001b[39m(X,Y):\n\u001b[0;32m      2\u001b[0m     \u001b[38;5;28;01mif\u001b[39;00m \u001b[38;5;28mlen\u001b[39m(X) \u001b[38;5;241m!=\u001b[39m \u001b[38;5;28mlen\u001b[39m(Y) \u001b[38;5;129;01mor\u001b[39;00m \u001b[38;5;28mlen\u001b[39m(X[\u001b[38;5;241m0\u001b[39m]) \u001b[38;5;241m!=\u001b[39m \u001b[38;5;28mlen\u001b[39m(Y[\u001b[38;5;241m0\u001b[39m]):\n\u001b[1;32m----> 3\u001b[0m         \u001b[38;5;28;01mraise\u001b[39;00m \u001b[38;5;167;01mException\u001b[39;00m (\u001b[38;5;124mf\u001b[39m\u001b[38;5;124m'\u001b[39m\u001b[38;5;124mMatrix addition is not possible for \u001b[39m\u001b[38;5;132;01m{\u001b[39;00mX\u001b[38;5;132;01m}\u001b[39;00m\u001b[38;5;124m and \u001b[39m\u001b[38;5;132;01m{\u001b[39;00mY\u001b[38;5;132;01m}\u001b[39;00m\u001b[38;5;124m.\u001b[39m\u001b[38;5;124m'\u001b[39m)\n\u001b[0;32m      4\u001b[0m     result \u001b[38;5;241m=\u001b[39m []\n\u001b[0;32m      5\u001b[0m     \u001b[38;5;28;01mfor\u001b[39;00m i \u001b[38;5;129;01min\u001b[39;00m \u001b[38;5;28mrange\u001b[39m(\u001b[38;5;28mlen\u001b[39m(X)):\n",
      "\u001b[1;31mException\u001b[0m: Matrix addition is not possible for [[1, 2]] and [[4, 5, 6]]."
     ]
    }
   ],
   "source": [
    "def add_matrix(X,Y):\n",
    "    if len(X) != len(Y) or len(X[0]) != len(Y[0]):\n",
    "        raise Exception (f'Matrix addition is not possible for {X} and {Y}.')\n",
    "    result = []\n",
    "    for i in range(len(X)):\n",
    "        result.append([])\n",
    "        # iterate through columns\n",
    "        for j in range(len(X[0])):\n",
    "            result[i].append(0)\n",
    "            result[i][j] = X[i][j] + Y[i][j]\n",
    "            \n",
    "            \n",
    "    return result\n",
    "\n",
    "A,B = [[1,2,3]], [[4,5,6]] \n",
    "print(f'{A} + {B} is',add_matrix(A,B),'\\n')\n",
    "\n",
    "X,Y = [[1,1,2],[2,1,2]], [[5,1,2],[7,1,2]] \n",
    "print(f'{X} + {Y} is',add_matrix(X,Y),'\\n')\n",
    "\n",
    "D,E = [[1,1,2],[2,1,2],[1,2,3]], [[5,1,2],[7,1,2],[4,5,6]] \n",
    "print(f'{D} + {E} is',add_matrix(D,E),'\\n')\n",
    "\n",
    "A,B = [[1,2]], [[4,5,6]] \n",
    "print(f'{A} + {B} is',add_matrix(A,B))\n",
    "    "
   ]
  },
  {
   "cell_type": "markdown",
   "id": "1435c14e",
   "metadata": {},
   "source": [
    "<br/>"
   ]
  },
  {
   "cell_type": "markdown",
   "id": "bfb12d82",
   "metadata": {},
   "source": [
    "<b>2. Write a Python Program to Multiply Two Matrices?</b>"
   ]
  },
  {
   "cell_type": "code",
   "execution_count": 54,
   "id": "5fd2b827",
   "metadata": {},
   "outputs": [
    {
     "name": "stdout",
     "output_type": "stream",
     "text": [
      "Matrix multipication of [[12, 7, 3], [4, 5, 6], [7, 8, 9]] and [[5, 8, 1, 2], [6, 7, 3, 0], [4, 5, 9, 1]] is\n",
      " [[114, 160, 60, 27], [74, 97, 73, 14], [119, 157, 112, 23]] \n",
      "\n",
      "Matrix multipication of [[1, 2, 3]] and [[5, 8, 1, 2], [6, 7, 3, 0], [7, 7, 3, 0]] is\n",
      " [[38, 43, 16, 2]] \n",
      "\n"
     ]
    },
    {
     "ename": "Exception",
     "evalue": "Matrix multiplication is not possible for [[1, 2, 3]] and [[5, 8, 1, 2], [6, 7, 3, 0]].",
     "output_type": "error",
     "traceback": [
      "\u001b[1;31m---------------------------------------------------------------------------\u001b[0m",
      "\u001b[1;31mException\u001b[0m                                 Traceback (most recent call last)",
      "Cell \u001b[1;32mIn[54], line 44\u001b[0m\n\u001b[0;32m     38\u001b[0m X \u001b[38;5;241m=\u001b[39m [[\u001b[38;5;241m1\u001b[39m,\u001b[38;5;241m2\u001b[39m,\u001b[38;5;241m3\u001b[39m]\n\u001b[0;32m     39\u001b[0m      ]\n\u001b[0;32m     41\u001b[0m Y \u001b[38;5;241m=\u001b[39m [[\u001b[38;5;241m5\u001b[39m,\u001b[38;5;241m8\u001b[39m,\u001b[38;5;241m1\u001b[39m,\u001b[38;5;241m2\u001b[39m],\n\u001b[0;32m     42\u001b[0m     [\u001b[38;5;241m6\u001b[39m,\u001b[38;5;241m7\u001b[39m,\u001b[38;5;241m3\u001b[39m,\u001b[38;5;241m0\u001b[39m]]\n\u001b[1;32m---> 44\u001b[0m \u001b[38;5;28mprint\u001b[39m(\u001b[38;5;124mf\u001b[39m\u001b[38;5;124m'\u001b[39m\u001b[38;5;124mMatrix multipication of \u001b[39m\u001b[38;5;132;01m{\u001b[39;00mX\u001b[38;5;132;01m}\u001b[39;00m\u001b[38;5;124m and \u001b[39m\u001b[38;5;132;01m{\u001b[39;00mY\u001b[38;5;132;01m}\u001b[39;00m\u001b[38;5;124m is\u001b[39m\u001b[38;5;130;01m\\n\u001b[39;00m\u001b[38;5;124m'\u001b[39m, multiply_matrix(X,Y))\n",
      "Cell \u001b[1;32mIn[54], line 3\u001b[0m, in \u001b[0;36mmultiply_matrix\u001b[1;34m(X, Y)\u001b[0m\n\u001b[0;32m      1\u001b[0m \u001b[38;5;28;01mdef\u001b[39;00m \u001b[38;5;21mmultiply_matrix\u001b[39m(X,Y):\n\u001b[0;32m      2\u001b[0m     \u001b[38;5;28;01mif\u001b[39;00m \u001b[38;5;28mlen\u001b[39m(X[\u001b[38;5;241m0\u001b[39m]) \u001b[38;5;241m!=\u001b[39m \u001b[38;5;28mlen\u001b[39m(Y):\n\u001b[1;32m----> 3\u001b[0m         \u001b[38;5;28;01mraise\u001b[39;00m \u001b[38;5;167;01mException\u001b[39;00m (\u001b[38;5;124mf\u001b[39m\u001b[38;5;124m'\u001b[39m\u001b[38;5;124mMatrix multiplication is not possible for \u001b[39m\u001b[38;5;132;01m{\u001b[39;00mX\u001b[38;5;132;01m}\u001b[39;00m\u001b[38;5;124m and \u001b[39m\u001b[38;5;132;01m{\u001b[39;00mY\u001b[38;5;132;01m}\u001b[39;00m\u001b[38;5;124m.\u001b[39m\u001b[38;5;124m'\u001b[39m)\n\u001b[0;32m      4\u001b[0m     result \u001b[38;5;241m=\u001b[39m []\n\u001b[0;32m      5\u001b[0m     \u001b[38;5;66;03m# iterate through rows of X\u001b[39;00m\n",
      "\u001b[1;31mException\u001b[0m: Matrix multiplication is not possible for [[1, 2, 3]] and [[5, 8, 1, 2], [6, 7, 3, 0]]."
     ]
    }
   ],
   "source": [
    "def multiply_matrix(X,Y):\n",
    "    if len(X[0]) != len(Y):\n",
    "        raise Exception (f'Matrix multiplication is not possible for {X} and {Y}.')\n",
    "    result = []\n",
    "    # iterate through rows of X\n",
    "    for i in range(len(X)):\n",
    "        result.append([])\n",
    "        # iterate through columns of Y\n",
    "        for j in range(len(Y[0])):\n",
    "            result[i].append(0)\n",
    "            # iterate through rows of Y\n",
    "            for k in range(len(Y)):\n",
    "                result[i][j] += X[i][k] * Y[k][j]\n",
    "    return result\n",
    "\n",
    "\n",
    "X = [[12,7,3],\n",
    "    [4,5,6],\n",
    "    [7,8,9]]\n",
    "\n",
    "Y = [[5,8,1,2],\n",
    "    [6,7,3,0],\n",
    "    [4,5,9,1]]\n",
    "\n",
    "print(f'Matrix multipication of {X} and {Y} is\\n', multiply_matrix(X,Y),'\\n')\n",
    "\n",
    "A = [[1,2,3]\n",
    "     ]\n",
    "\n",
    "B = [[5,8,1,2],\n",
    "     [6,7,3,0],\n",
    "     [7,7,3,0]\n",
    "     ]\n",
    "\n",
    "print(f'Matrix multipication of {A} and {B} is\\n', multiply_matrix(A,B),'\\n')\n",
    "\n",
    "\n",
    "X = [[1,2,3]\n",
    "     ]\n",
    "\n",
    "Y = [[5,8,1,2],\n",
    "    [6,7,3,0]]\n",
    "\n",
    "print(f'Matrix multipication of {X} and {Y} is\\n', multiply_matrix(X,Y))\n",
    "\n",
    "\n"
   ]
  },
  {
   "cell_type": "markdown",
   "id": "ec59ca16",
   "metadata": {},
   "source": [
    "<br/>"
   ]
  },
  {
   "cell_type": "markdown",
   "id": "117576c9",
   "metadata": {},
   "source": [
    "<b>3. Write a Python Program to Transpose a Matrix?</b>"
   ]
  },
  {
   "cell_type": "code",
   "execution_count": 62,
   "id": "827d6fc4",
   "metadata": {},
   "outputs": [
    {
     "name": "stdout",
     "output_type": "stream",
     "text": [
      "Transpose of matrix [[1, 3], [2, 4]] is [[1, 2], [3, 4]] \n",
      "\n",
      "Transpose of matrix [[1, 1, 1, 1], [2, 2, 2, 2], [3, 3, 3, 3], [4, 4, 4, 4]] is [[1, 2, 3, 4], [1, 2, 3, 4], [1, 2, 3, 4], [1, 2, 3, 4]]\n"
     ]
    }
   ],
   "source": [
    "def transpose_matrix(A):\n",
    "    for i in range(len(A)):\n",
    "        for j in range(i+1, len(A)):\n",
    "            A[i][j], A[j][i] = A[j][i], A[i][j]\n",
    "    return A        \n",
    "            \n",
    "B = [[1,3],\n",
    "     [2,4],\n",
    "     ]            \n",
    "print(f'Transpose of matrix {B} is',transpose_matrix(B),'\\n')\n",
    "\n",
    "A = [ [1, 1, 1, 1],\n",
    " [2, 2, 2, 2],\n",
    " [3, 3, 3, 3],\n",
    " [4, 4, 4, 4]]      \n",
    "print(f'Transpose of matrix {A} is',transpose_matrix(A))"
   ]
  },
  {
   "cell_type": "markdown",
   "id": "eaf78e8d",
   "metadata": {},
   "source": [
    "<br/>"
   ]
  },
  {
   "cell_type": "markdown",
   "id": "76384ab4",
   "metadata": {},
   "source": [
    "<b>4. Write a Python Program to Sort Words in Alphabetic Order?</b>"
   ]
  },
  {
   "cell_type": "code",
   "execution_count": 63,
   "id": "c26f3ed3",
   "metadata": {},
   "outputs": [
    {
     "name": "stdout",
     "output_type": "stream",
     "text": [
      "a alphabetic in order program python sort to words write\n"
     ]
    }
   ],
   "source": [
    "def sort_words(s):\n",
    "    # breakdown the string into a list of words\n",
    "    words = [word.lower() for word in s.split()]\n",
    "    # sort the list\n",
    "    words.sort()\n",
    "    # return the sorted words\n",
    "    return ' '.join(words)\n",
    "\n",
    "w = 'Write a Python Program to Sort Words in Alphabetic Order'\n",
    "print(sort_words(w))\n",
    "    "
   ]
  },
  {
   "cell_type": "markdown",
   "id": "5fbe9e80",
   "metadata": {},
   "source": [
    "<br/>"
   ]
  },
  {
   "cell_type": "markdown",
   "id": "38f80d91",
   "metadata": {},
   "source": [
    "<b>5. Write a Python Program to Remove Punctuation From a String?</b>"
   ]
  },
  {
   "cell_type": "code",
   "execution_count": 68,
   "id": "498f5551",
   "metadata": {},
   "outputs": [
    {
     "name": "stdout",
     "output_type": "stream",
     "text": [
      "Hello how do you do\n"
     ]
    }
   ],
   "source": [
    "import re\n",
    "\n",
    "def remove_punct(s):\n",
    "    new_string = re.sub(r'[^\\w\\s]', '', s)\n",
    "    return new_string\n",
    "\n",
    "s = \"Hello, how do you do?\"\n",
    "print(remove_punct(s))"
   ]
  },
  {
   "cell_type": "code",
   "execution_count": null,
   "id": "58e48f0f",
   "metadata": {},
   "outputs": [],
   "source": []
  }
 ],
 "metadata": {
  "kernelspec": {
   "display_name": "Python 3 (ipykernel)",
   "language": "python",
   "name": "python3"
  },
  "language_info": {
   "codemirror_mode": {
    "name": "ipython",
    "version": 3
   },
   "file_extension": ".py",
   "mimetype": "text/x-python",
   "name": "python",
   "nbconvert_exporter": "python",
   "pygments_lexer": "ipython3",
   "version": "3.11.3"
  }
 },
 "nbformat": 4,
 "nbformat_minor": 5
}
