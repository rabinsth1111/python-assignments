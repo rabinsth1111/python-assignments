{
 "cells": [
  {
   "cell_type": "markdown",
   "id": "d413764e",
   "metadata": {},
   "source": [
    "<b>1. Write a Python program to Extract Unique values dictionary values?</b>\n",
    "\n",
    "\n",
    "\n",
    "\n",
    "\n"
   ]
  },
  {
   "cell_type": "code",
   "execution_count": 1,
   "id": "eb8de8f9",
   "metadata": {},
   "outputs": [
    {
     "name": "stdout",
     "output_type": "stream",
     "text": [
      "The original dictionary is :  {'a': [5, 6, 7, 8], 'b': [10, 11, 7, 5], 'c': [6, 12, 10, 8], 'd': [1, 2, 5]}\n",
      "The unique values list is :  [1, 2, 5, 6, 7, 8, 10, 11, 12]\n"
     ]
    }
   ],
   "source": [
    "def uniqueValues(D):\n",
    "    return list(set(sum(D.values(), [])))\n",
    "\n",
    "test_dict = {'a' : [5, 6, 7, 8],\n",
    "'b' : [10, 11, 7, 5],\n",
    "'c' : [6, 12, 10, 8],\n",
    "'d' : [1, 2, 5],\n",
    "           }\n",
    "\n",
    "print(\"The original dictionary is : \", test_dict)\n",
    "\n",
    "print(\"The unique values list is : \" , uniqueValues(test_dict))"
   ]
  },
  {
   "cell_type": "code",
   "execution_count": 2,
   "id": "eeba452d",
   "metadata": {},
   "outputs": [
    {
     "name": "stdout",
     "output_type": "stream",
     "text": [
      "The original dictionary is :  {'a': [5, 6, 7, 8], 'b': [10, 11, 7, 5], 'c': [6, 12, 10, 8], 'd': [1, 2, 5]}\n",
      "The unique values list is :  [1, 2, 5, 6, 7, 8, 10, 11, 12]\n"
     ]
    }
   ],
   "source": [
    "# another method\n",
    "def unique_values(D):\n",
    "    l = []\n",
    "    for el in D.values():\n",
    "        l+= el\n",
    "    l = list(set(l))\n",
    "    return l\n",
    "\n",
    "test_dict = {'a' : [5, 6, 7, 8],\n",
    "'b' : [10, 11, 7, 5],\n",
    "'c' : [6, 12, 10, 8],\n",
    "'d' : [1, 2, 5],\n",
    "           }\n",
    "print(\"The original dictionary is : \", test_dict)\n",
    "\n",
    "print(\"The unique values list is : \" , unique_values(test_dict))"
   ]
  },
  {
   "cell_type": "markdown",
   "id": "64b431ea",
   "metadata": {},
   "source": [
    "<br/>"
   ]
  },
  {
   "cell_type": "markdown",
   "id": "e5f43d68",
   "metadata": {},
   "source": [
    "<b>2. Write a Python program to find the sum of all items in a dictionary?</b>"
   ]
  },
  {
   "cell_type": "code",
   "execution_count": 3,
   "id": "7d268e70",
   "metadata": {},
   "outputs": [
    {
     "name": "stdout",
     "output_type": "stream",
     "text": [
      "Sum of items in {'a': 100, 'b': 200, 'c': 300} is 600\n"
     ]
    }
   ],
   "source": [
    "def return_sum(d):\n",
    "    sum = 0\n",
    "    for i in d.values():\n",
    "        sum = sum + i\n",
    " \n",
    "    return sum\n",
    "\n",
    "d = {'a':100,'b':200,'c':300}\n",
    "print(f\"Sum of items in {d} is\",return_sum(d))"
   ]
  },
  {
   "cell_type": "markdown",
   "id": "8a8a2791",
   "metadata": {},
   "source": [
    "<br/>"
   ]
  },
  {
   "cell_type": "markdown",
   "id": "06bca1a3",
   "metadata": {},
   "source": [
    "<b>3. Write a Python program to Merging two Dictionaries?</b>"
   ]
  },
  {
   "cell_type": "code",
   "execution_count": 4,
   "id": "cfd404ff",
   "metadata": {},
   "outputs": [
    {
     "name": "stdout",
     "output_type": "stream",
     "text": [
      "After merging {'a': 100, 'b': 200} and {'c': 300, 'd': 400}, result is:  {'a': 100, 'b': 200, 'c': 300, 'd': 400}\n"
     ]
    }
   ],
   "source": [
    "# using update() method\n",
    "def Merge(dict1, dict2):\n",
    "    dict1.update(dict2)\n",
    "    return dict1\n",
    " \n",
    "dict1 = {'a': 100, 'b': 200}\n",
    "dict2 = {'c': 300, 'd': 400}\n",
    " \n",
    "print(f\"After merging {dict1} and {dict2}, result is: \",Merge(dict1, dict2))\n",
    "     "
   ]
  },
  {
   "cell_type": "code",
   "execution_count": 5,
   "id": "762cd63d",
   "metadata": {},
   "outputs": [
    {
     "name": "stdout",
     "output_type": "stream",
     "text": [
      "After merging {'a': 100, 'b': 200} and {'c': 300, 'd': 400}, result is:  {'a': 100, 'b': 200, 'c': 300, 'd': 400}\n"
     ]
    }
   ],
   "source": [
    "# another method, using a single expression\n",
    "def merge(dict1, dict2):\n",
    "    res = {**dict1, **dict2}\n",
    "    return res\n",
    "\n",
    "dict1 = {'a': 100, 'b': 200}\n",
    "dict2 = {'c': 300, 'd': 400}\n",
    "\n",
    "print(f\"After merging {dict1} and {dict2}, result is: \",merge(dict1, dict2))\n",
    "     "
   ]
  },
  {
   "cell_type": "markdown",
   "id": "72fb4245",
   "metadata": {},
   "source": [
    "<br/>"
   ]
  },
  {
   "cell_type": "markdown",
   "id": "8c64ac79",
   "metadata": {},
   "source": [
    "<b>4. Write a Python program to convert key-values list to flat dictionary?</b>"
   ]
  },
  {
   "cell_type": "code",
   "execution_count": 6,
   "id": "676f728b",
   "metadata": {},
   "outputs": [
    {
     "name": "stdout",
     "output_type": "stream",
     "text": [
      "The original dictionary is :  {'month': [1, 2, 3], 'name': ['Jan', 'Feb', 'March']}\n",
      "Flattened dictionary :  {1: 'Jan', 2: 'Feb', 3: 'March'}\n"
     ]
    }
   ],
   "source": [
    "# using zip\n",
    "def flatten_dict(d):\n",
    "    values = list(d.values())\n",
    "    res = dict(zip(values[0], values[1]))\n",
    "    return res\n",
    "\n",
    "test_dict = {'month' : [1, 2, 3],\n",
    "             'name' : ['Jan', 'Feb', 'March']}\n",
    "\n",
    "print(\"The original dictionary is : \", test_dict)\n",
    "print(\"Flattened dictionary : \", flatten_dict(test_dict))"
   ]
  },
  {
   "cell_type": "code",
   "execution_count": 7,
   "id": "c90cae96",
   "metadata": {},
   "outputs": [
    {
     "name": "stdout",
     "output_type": "stream",
     "text": [
      "The original dictionary is :  {'month': [4, 5, 6], 'name': ['April', 'May', 'June']}\n",
      "Flattened dictionary :  {4: 'April', 5: 'May', 6: 'June'}\n"
     ]
    }
   ],
   "source": [
    "# another approach\n",
    "def flattenDict(d):\n",
    "    values=list(d.values())\n",
    "    a=values[0]\n",
    "    b=values[1]\n",
    "    d=dict()\n",
    "    for i in range(0,len(a)):\n",
    "        d[a[i]]=b[i]\n",
    "    return d\n",
    "\n",
    "test_dict = {'month' : [4, 5, 6],\n",
    "             'name' : ['April', 'May', 'June']}\n",
    "\n",
    "print(\"The original dictionary is : \", test_dict)\n",
    "print(\"Flattened dictionary : \", flattenDict(test_dict))"
   ]
  },
  {
   "cell_type": "markdown",
   "id": "b265ab65",
   "metadata": {},
   "source": [
    "<br/>"
   ]
  },
  {
   "cell_type": "markdown",
   "id": "375dce09",
   "metadata": {},
   "source": [
    "<b>5. Write a Python program to insertion at the beginning in OrderedDict?</b>"
   ]
  },
  {
   "cell_type": "code",
   "execution_count": 8,
   "id": "403a5b8c",
   "metadata": {},
   "outputs": [
    {
     "name": "stdout",
     "output_type": "stream",
     "text": [
      "The original dictionary is :  OrderedDict([('Oct', 10), ('Nov', 11)])\n",
      "After inserting at beginning, the resultant dictionary is :  OrderedDict([('Sep', 9), ('Oct', 10), ('Nov', 11)])\n"
     ]
    }
   ],
   "source": [
    "from collections import OrderedDict\n",
    " \n",
    "def insert_beginning(OD, item):\n",
    "    OD.update(item)\n",
    "    key = next(iter(item))\n",
    "    OD.move_to_end(key, last=False)\n",
    "    return OD\n",
    "\n",
    "\n",
    "od = OrderedDict([('Oct', 10), ('Nov', 11)])\n",
    "print(\"The original dictionary is : \", od)\n",
    "\n",
    "res = insert_beginning(od,{'Sep':9})\n",
    "print(\"After inserting at beginning, the resultant dictionary is : \", res)"
   ]
  },
  {
   "cell_type": "markdown",
   "id": "724aa363",
   "metadata": {},
   "source": [
    "<br/>"
   ]
  },
  {
   "cell_type": "markdown",
   "id": "8f86508e",
   "metadata": {},
   "source": [
    "<b>6. Write a Python program to check order of character in string using OrderedDict()?</b>"
   ]
  },
  {
   "cell_type": "code",
   "execution_count": 9,
   "id": "3846644e",
   "metadata": {},
   "outputs": [
    {
     "ename": "TypeError",
     "evalue": "'method' object is not iterable",
     "output_type": "error",
     "traceback": [
      "\u001b[1;31m---------------------------------------------------------------------------\u001b[0m",
      "\u001b[1;31mTypeError\u001b[0m                                 Traceback (most recent call last)",
      "Cell \u001b[1;32mIn[9], line 22\u001b[0m\n\u001b[0;32m     20\u001b[0m string \u001b[38;5;241m=\u001b[39m \u001b[38;5;124m'\u001b[39m\u001b[38;5;124mpython program\u001b[39m\u001b[38;5;124m'\u001b[39m\n\u001b[0;32m     21\u001b[0m pattern \u001b[38;5;241m=\u001b[39m \u001b[38;5;124m'\u001b[39m\u001b[38;5;124mpog\u001b[39m\u001b[38;5;124m'\u001b[39m\n\u001b[1;32m---> 22\u001b[0m \u001b[38;5;28mprint\u001b[39m (check_order(\u001b[38;5;28minput\u001b[39m,pattern))\n\u001b[0;32m     24\u001b[0m string \u001b[38;5;241m=\u001b[39m \u001b[38;5;124m'\u001b[39m\u001b[38;5;124mpython program\u001b[39m\u001b[38;5;124m'\u001b[39m\n\u001b[0;32m     25\u001b[0m pattern \u001b[38;5;241m=\u001b[39m \u001b[38;5;124m'\u001b[39m\u001b[38;5;124mma\u001b[39m\u001b[38;5;124m'\u001b[39m\n",
      "Cell \u001b[1;32mIn[9], line 4\u001b[0m, in \u001b[0;36mcheck_order\u001b[1;34m(string, pattern)\u001b[0m\n\u001b[0;32m      1\u001b[0m \u001b[38;5;28;01mdef\u001b[39;00m \u001b[38;5;21mcheck_order\u001b[39m(string, pattern):\n\u001b[0;32m      2\u001b[0m    \n\u001b[0;32m      3\u001b[0m     \u001b[38;5;66;03m# output will be like {'a': None,'b': None, 'c': None}\u001b[39;00m\n\u001b[1;32m----> 4\u001b[0m     odict \u001b[38;5;241m=\u001b[39m OrderedDict\u001b[38;5;241m.\u001b[39mfromkeys(string)\n\u001b[0;32m      6\u001b[0m     \u001b[38;5;66;03m# traverse generated OrderedDict parallel with\u001b[39;00m\n\u001b[0;32m      7\u001b[0m     \u001b[38;5;66;03m# pattern string to check if order of characters are same or not\u001b[39;00m\n\u001b[0;32m      8\u001b[0m     ptrlen \u001b[38;5;241m=\u001b[39m \u001b[38;5;241m0\u001b[39m\n",
      "\u001b[1;31mTypeError\u001b[0m: 'method' object is not iterable"
     ]
    }
   ],
   "source": [
    "def check_order(string, pattern):\n",
    "   \n",
    "    # output will be like {'a': None,'b': None, 'c': None}\n",
    "    odict = OrderedDict.fromkeys(string)\n",
    " \n",
    "    # traverse generated OrderedDict parallel with\n",
    "    # pattern string to check if order of characters are same or not\n",
    "    ptrlen = 0\n",
    "    for key,value in odict.items():\n",
    "        if (key == pattern[ptrlen]):\n",
    "            ptrlen = ptrlen + 1\n",
    "         \n",
    "        # check if we have traverse complete pattern string\n",
    "        if (ptrlen == (len(pattern))):\n",
    "            return 'true'\n",
    " \n",
    "    # if order was mismatched\n",
    "    return 'false'\n",
    "\n",
    "string = 'python program'\n",
    "pattern = 'pog'\n",
    "print (check_order(string,pattern))\n",
    "\n",
    "string = 'python program'\n",
    "pattern = 'ma'\n",
    "print (check_order(string,pattern))\n",
    "\n"
   ]
  },
  {
   "cell_type": "markdown",
   "id": "dfb936a1",
   "metadata": {},
   "source": [
    "<br/>"
   ]
  },
  {
   "cell_type": "markdown",
   "id": "878afc8e",
   "metadata": {},
   "source": [
    "<b>7. Write a Python program to sort Python Dictionaries by Key or Value?</b>"
   ]
  },
  {
   "cell_type": "code",
   "execution_count": null,
   "id": "1f41b435",
   "metadata": {},
   "outputs": [],
   "source": [
    "# sort by key\n",
    "def sort_by_key(D):\n",
    "    sorted_dic= {}\n",
    "    sorted_keys = sorted(D) \n",
    "\n",
    "    for key in sorted_keys:\n",
    "        sorted_dic[key] = D[key]\n",
    "    return sorted_dic\n",
    "\n",
    "d = {'jan':1,'feb':2,'mar':3,'apr':4}\n",
    "print(\"The original dictionary is : \", d)\n",
    "print(\"The sorted dictionary by key is : \",sort_by_key(d))\n"
   ]
  },
  {
   "cell_type": "code",
   "execution_count": null,
   "id": "6d495f6b",
   "metadata": {},
   "outputs": [],
   "source": [
    "# sort by value\n",
    "def sort_by_value(D):\n",
    "    sorted_dic= {}\n",
    "    sorted_keys = sorted(D, key=D.get) \n",
    "\n",
    "    for key in sorted_keys:\n",
    "        sorted_dic[key] = D[key]\n",
    "    return sorted_dic\n",
    "    \n",
    "d = {'apr':4,'mar':3,'jan':1,'feb':2,}\n",
    "print(\"The original dictionary is : \", d)\n",
    "print(\"The sorted dictionary by value is : \",sort_by_value(d))\n"
   ]
  },
  {
   "cell_type": "code",
   "execution_count": null,
   "id": "e7e7abc6",
   "metadata": {},
   "outputs": [],
   "source": []
  }
 ],
 "metadata": {
  "kernelspec": {
   "display_name": "Python 3 (ipykernel)",
   "language": "python",
   "name": "python3"
  },
  "language_info": {
   "codemirror_mode": {
    "name": "ipython",
    "version": 3
   },
   "file_extension": ".py",
   "mimetype": "text/x-python",
   "name": "python",
   "nbconvert_exporter": "python",
   "pygments_lexer": "ipython3",
   "version": "3.11.3"
  }
 },
 "nbformat": 4,
 "nbformat_minor": 5
}
