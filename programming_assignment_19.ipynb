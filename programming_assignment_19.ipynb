{
 "cells": [
  {
   "cell_type": "markdown",
   "id": "71eb521b",
   "metadata": {},
   "source": [
    "<b>1. Create a function that takes a string and returns a string in which each character is repeated once.<br/>\n",
    "Examples:<br/>\n",
    "double_char(\"String\") ➞ \"SSttrriinngg\"<br/>\n",
    "double_char(\"Hello World!\") ➞ \"HHeelllloo WWoorrlldd!!\"<br/>\n",
    "doublechar(\"1234!_\") ➞ \"11223344!!__\"<br/>\n",
    "</b>\n",
    "\n"
   ]
  },
  {
   "cell_type": "code",
   "execution_count": 4,
   "id": "a3ab4c6f",
   "metadata": {},
   "outputs": [
    {
     "name": "stdout",
     "output_type": "stream",
     "text": [
      "\"String\"➞ SSttrriinngg\n",
      "\"Hello World!\"➞ HHeelllloo  WWoorrlldd!!\n",
      "\"1234!_\"➞ 11223344!!__\n"
     ]
    }
   ],
   "source": [
    "def double_char(in_string):\n",
    "    out = ''\n",
    "    for el in in_string:\n",
    "        out += el*2\n",
    "    return out\n",
    "\n",
    "print(f'\"String\"➞ {double_char(\"String\")}')\n",
    "print(f'\"Hello World!\"➞ {double_char(\"Hello World!\")}')\n",
    "print(f'\"1234!_\"➞ {double_char(\"1234!_\")}')\n"
   ]
  },
  {
   "cell_type": "markdown",
   "id": "f99e4647",
   "metadata": {},
   "source": [
    "<br/>"
   ]
  },
  {
   "cell_type": "markdown",
   "id": "1efc24e9",
   "metadata": {},
   "source": [
    "<b>2. Create a function that reverses a boolean value and returns the string \"boolean expected\" if another variable type is given.<br/>\n",
    "Examples:<br/>\n",
    "reverse(True) ➞ False<br/>\n",
    "reverse(False) ➞ True<br/>\n",
    "reverse(0) ➞ \"boolean expected\"<br/>\n",
    "reverse(None) ➞ \"boolean expected\"<br/>\n",
    "</b>\n"
   ]
  },
  {
   "cell_type": "code",
   "execution_count": 5,
   "id": "cc61c9d3",
   "metadata": {},
   "outputs": [
    {
     "name": "stdout",
     "output_type": "stream",
     "text": [
      "reverse(True) ➞ False\n",
      "reverse(False) ➞ True\n",
      "reverse(0) ➞ boolean expected\n",
      "reverse(None) ➞ boolean expected\n"
     ]
    }
   ],
   "source": [
    "def reverse(in_bool):\n",
    "    if type(in_bool) == bool:\n",
    "        return not in_bool\n",
    "    else:\n",
    "        return \"boolean expected\"\n",
    "\n",
    "print(f'reverse(True) ➞ {reverse(True)}')\n",
    "print(f'reverse(False) ➞ {reverse(False)}')\n",
    "print(f'reverse(0) ➞ {reverse(0)}')\n",
    "print(f'reverse(None) ➞ {reverse(None)}')\n"
   ]
  },
  {
   "cell_type": "markdown",
   "id": "5d2474f8",
   "metadata": {},
   "source": [
    "<br/>"
   ]
  },
  {
   "cell_type": "markdown",
   "id": "2a9fe2e5",
   "metadata": {},
   "source": [
    "<b>3. Create a function that returns the thickness (in meters) of a piece of paper after folding it n number of times.<br/> The paper starts off with a thickness of 0.5mm.<br/>\n",
    "Examples:<br/>\n",
    "num_layers(1) ➞ \"0.001m\" # Paper folded once is 1mm (equal to 0.001m) <br/>\n",
    "num_layers(4) ➞ \"0.008m\" # Paper folded 4 times is 8mm (equal to 0.008m) <br/>\n",
    "num_layers(21) ➞ \"1048.576m\" # Paper folded 21 times is 1048576mm (equal to 1048.576m)<br/>\n",
    "</b>\n",
    "\n"
   ]
  },
  {
   "cell_type": "code",
   "execution_count": 7,
   "id": "6083976a",
   "metadata": {},
   "outputs": [
    {
     "name": "stdout",
     "output_type": "stream",
     "text": [
      "num_layers(1) ➞ 0.001m\n",
      "num_layers(4) ➞ 0.008m\n",
      "num_layers(21) ➞ 1048.576m\n"
     ]
    }
   ],
   "source": [
    "def num_layers(in_num):\n",
    "    out_num = 0.5\n",
    "    for ele in range(in_num):\n",
    "        out_num *= 2\n",
    "    return out_num/1000\n",
    "\n",
    "\n",
    "print(f'num_layers(1) ➞ {num_layers(1)}m')\n",
    "print(f'num_layers(4) ➞ {num_layers(4)}m')\n",
    "print(f'num_layers(21) ➞ {num_layers(21)}m')\n",
    "    "
   ]
  },
  {
   "cell_type": "markdown",
   "id": "2b9171d0",
   "metadata": {},
   "source": [
    "<br/>"
   ]
  },
  {
   "cell_type": "markdown",
   "id": "bdac6c60",
   "metadata": {},
   "source": [
    "<b>4. Create a function that takes a single string as argument and returns an ordered list containing the indices of all <br/> capital letters in the string.<br/>\n",
    "Examples:<br/>\n",
    "index_of_caps(\"eDaBiT\") ➞ [1, 3, 5]<br/>\n",
    "index_of_caps(\"eQuINoX\") ➞ [1, 3, 4, 6]<br/>\n",
    "index_of_caps(\"determine\") ➞ []<br/>\n",
    "index_of_caps(\"STRIKE\") ➞ [0, 1, 2, 3, 4, 5]<br/>\n",
    "index_of_caps(\"sUn\") ➞ [1]<br/>\n",
    "</b>\n",
    "\n"
   ]
  },
  {
   "cell_type": "code",
   "execution_count": 10,
   "id": "9cc60206",
   "metadata": {},
   "outputs": [
    {
     "name": "stdout",
     "output_type": "stream",
     "text": [
      "\"eDaBiT\" ➞ [1, 3, 5]\n",
      "\"eQuINoX\" ➞ [1, 3, 4, 6]\n",
      "\"determine\" ➞ []\n",
      "\"STRIKE\" ➞ [0, 1, 2, 3, 4, 5]\n",
      "\"sUn\" ➞ [1]\n"
     ]
    }
   ],
   "source": [
    "def index_of_caps(in_string):\n",
    "    out_string = []\n",
    "    for i in range(len(in_string)):\n",
    "        if in_string[i].isupper():\n",
    "            out_string.append(i)\n",
    "    return out_string\n",
    "   \n",
    "\n",
    "print(f'\"eDaBiT\" ➞ {index_of_caps(\"eDaBiT\")}')\n",
    "print(f'\"eQuINoX\" ➞ {index_of_caps(\"eQuINoX\")}')\n",
    "print(f'\"determine\" ➞ {index_of_caps(\"determine\")}')\n",
    "print(f'\"STRIKE\" ➞ {index_of_caps(\"STRIKE\")}')\n",
    "print(f'\"sUn\" ➞ {index_of_caps(\"sUn\")}')\n"
   ]
  },
  {
   "cell_type": "markdown",
   "id": "8acee2cd",
   "metadata": {},
   "source": [
    "<br/>"
   ]
  },
  {
   "cell_type": "markdown",
   "id": "ff777d13",
   "metadata": {},
   "source": [
    "<b>5. Using list comprehensions, create a function that finds all even numbers from 1 to the given number.<br/>\n",
    "Examples:<br/>\n",
    "find_even_nums(8) ➞ [2, 4, 6, 8]<br/>\n",
    "find_even_nums(4) ➞ [2, 4]<br/>\n",
    "find_even_nums(2) ➞ [2]<br/>\n",
    "</b>\n"
   ]
  },
  {
   "cell_type": "code",
   "execution_count": 11,
   "id": "8442b490",
   "metadata": {},
   "outputs": [
    {
     "name": "stdout",
     "output_type": "stream",
     "text": [
      "find_even_nums(8) ➞ [2, 4, 6, 8]\n",
      "find_even_nums(4) ➞ [2, 4]\n",
      "find_even_nums(2) ➞ [2]\n"
     ]
    }
   ],
   "source": [
    "def find_even_nums(in_num):\n",
    "    out_list = [i for i in range(1,in_num+1) if i%2 == 0]\n",
    "    return out_list\n",
    "    \n",
    "print(f'find_even_nums(8) ➞ {find_even_nums(8)}')\n",
    "print(f'find_even_nums(4) ➞ {find_even_nums(4)}')\n",
    "print(f'find_even_nums(2) ➞ {find_even_nums(2)}')\n"
   ]
  },
  {
   "cell_type": "code",
   "execution_count": null,
   "id": "5c202e50",
   "metadata": {},
   "outputs": [],
   "source": []
  }
 ],
 "metadata": {
  "kernelspec": {
   "display_name": "Python 3 (ipykernel)",
   "language": "python",
   "name": "python3"
  },
  "language_info": {
   "codemirror_mode": {
    "name": "ipython",
    "version": 3
   },
   "file_extension": ".py",
   "mimetype": "text/x-python",
   "name": "python",
   "nbconvert_exporter": "python",
   "pygments_lexer": "ipython3",
   "version": "3.11.3"
  }
 },
 "nbformat": 4,
 "nbformat_minor": 5
}
