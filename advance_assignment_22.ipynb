{
 "cells": [
  {
   "cell_type": "markdown",
   "id": "81a1c047",
   "metadata": {},
   "source": [
    "#### Q1. What are the benefits of the built-in array package, if any?\n",
    "**Ans:** \n",
    "\n",
    "Arrays represent multiple data items of the same type using a single name.\n",
    "\n",
    "In arrays, the elements can be accessed randomly by using the index number. \n",
    "\n",
    "Arrays allocate memory in contiguous memory locations for all its elements. Hence there is no chance of extra memory being allocated in case of arrays. This avoids memory overflow or shortage of memory in arrays."
   ]
  },
  {
   "cell_type": "code",
   "execution_count": 2,
   "metadata": {},
   "outputs": [
    {
     "name": "stdout",
     "output_type": "stream",
     "text": [
      "1\n",
      "array('i', [1, 2, 3, 4, 5, 6])\n"
     ]
    }
   ],
   "source": [
    "#Example\n",
    "from array import array\n",
    "\n",
    "# Create an array of integers\n",
    "int_array = array('i', [1, 2, 3, 4, 5])\n",
    "\n",
    "# Access elements\n",
    "print(int_array[0])  # Output: 1\n",
    "\n",
    "# Append elements\n",
    "int_array.append(6)\n",
    "\n",
    "# Print the entire array\n",
    "print(int_array)  # Output: array('i', [1, 2, 3, 4, 5, 6])\n"
   ]
  },
  {
   "cell_type": "markdown",
   "id": "72b97146",
   "metadata": {},
   "source": [
    "#### Q2. What are some of the array package's limitations ?\n",
    "**Ans:**  The number of elements to be stored in an array should be known in advance. An array is a static structure (which means the array is of fixed size). Once declared the size of the array cannot be modified. The memory which is allocated to it cannot be increased or decreased.\n",
    "\n",
    "Insertion and deletion are quite difficult in an array as the elements are stored in consecutive memory locations and the shifting operation is costly.\n",
    "\n",
    "Arrays store homogeneous data types ie; all items must be of same data type."
   ]
  },
  {
   "cell_type": "markdown",
   "id": "fd6c2a9b",
   "metadata": {},
   "source": [
    "#### Q3. Describe the main differences between the array and numpy packages ?\n",
    "**Ans:**  \n",
    "\n",
    "The key differences are:\n",
    "\n",
    "**1. Functionality and Versatility:**\n",
    "\n",
    "The array module is part of the Python standard library and provides a basic array implementation with limited functionality. It is primarily designed for storing arrays of numeric values.\n",
    "\n",
    "numpy is a powerful third-party library specifically designed for numerical operations. It provides a multidimensional array object (numpy.ndarray) with a vast array of functions and operations for mathematical and logical operations.\n",
    "\n",
    "\n",
    "\n",
    "**2. Data Types:**\n",
    "\n",
    "The array module is limited to one-dimensional arrays and requires all elements to be of the same data type.\n",
    "\n",
    "numpy arrays can be multidimensional and support a wide range of data types. This flexibility is especially useful when dealing with complex numerical data.\n",
    "\n",
    "\n",
    "**3. Memory Efficiency:**\n",
    "\n",
    "numpy arrays are more memory-efficient than array objects, especially for large datasets. numpy arrays are implemented in C and allow for efficient storage and manipulation of large amounts of numerical data.\n",
    "\n",
    "\n",
    "**4. Broadcasting:**\n",
    "\n",
    "One of the powerful features of numpy is broadcasting. It allows operations on arrays of different shapes and sizes, making it easier to perform element-wise operations without the need for explicit looping.\n",
    "\n",
    "**5. Ease of Use:**\n",
    "\n",
    "numpy provides a more user-friendly and convenient interface for working with arrays, offering a wide range of mathematical functions and operations.\n",
    "The array module is more basic and lacks many of the advanced features and functions provided by numpy.\n"
   ]
  },
  {
   "cell_type": "markdown",
   "id": "17049af0",
   "metadata": {},
   "source": [
    "#### Q4. Explain the distinctions between the empty, ones, and zeros functions ?\n",
    "**Ans:** The empty, ones, and zeros functions are related to array creation and manipulation using NumPy. Here are the distinctions between these functions:\n",
    "\n",
    "1. numpy.empty: Creates an array without initializing its elements to any particular values.\n",
    "\n",
    "2. numpy.ones: Creates an array filled with ones.\n",
    "\n",
    "3. numpy.zeros: Creates an array filled with zeros."
   ]
  },
  {
   "cell_type": "code",
   "execution_count": 3,
   "metadata": {},
   "outputs": [
    {
     "name": "stdout",
     "output_type": "stream",
     "text": [
      "[[0. 0. 0.]\n",
      " [0. 0. 0.]\n",
      " [0. 0. 0.]]\n",
      "[[1. 1.]\n",
      " [1. 1.]]\n",
      "[[0. 0.]\n",
      " [0. 0.]]\n"
     ]
    }
   ],
   "source": [
    "#Example\n",
    "import numpy as np\n",
    "\n",
    "empty_array = np.empty((3, 3))\n",
    "print(empty_array)\n",
    "\n",
    "ones_array = np.ones((2, 2))\n",
    "print(ones_array)\n",
    "\n",
    "zeros_array = np.zeros((2, 2))\n",
    "print(zeros_array)"
   ]
  },
  {
   "cell_type": "markdown",
   "id": "59182103",
   "metadata": {},
   "source": [
    "#### Q5. In the fromfunction function, which is used to construct new arrays, what is the role of the callable argument ?\n",
    "**Ans:**  In the numpy.fromfunction function, the callable argument is a function that is called with coordinates as arguments to compute the values of the array. \n",
    "\n",
    "**Syntax:**\n",
    "\n",
    "numpy.fromfunction(function, shape, **kwargs)\n",
    "\n",
    "function: A callable object (usually a function) that is called with N parameters, where N is the rank of the array (the number of dimensions). The function should return the value of the array at a given set of coordinates.\n",
    "\n",
    "shape: The shape of the output array.\n",
    "\n",
    "**kwargs: Additional keyword arguments that are passed to the function."
   ]
  },
  {
   "cell_type": "code",
   "execution_count": 5,
   "metadata": {},
   "outputs": [
    {
     "name": "stdout",
     "output_type": "stream",
     "text": [
      "[[0 1 2]\n",
      " [1 2 3]\n",
      " [2 3 4]]\n"
     ]
    }
   ],
   "source": [
    "#Example\n",
    "import numpy as np\n",
    "\n",
    "# Define a function that computes the value based on coordinates\n",
    "def my_function(x, y):\n",
    "    return x + y\n",
    "\n",
    "# Create a 3x3 array using the function\n",
    "result_array = np.fromfunction(my_function, (3, 3), dtype=int)\n",
    "\n",
    "print(result_array)\n"
   ]
  },
  {
   "cell_type": "markdown",
   "metadata": {},
   "source": [
    "In above example, the my_function function takes two parameters x and y, representing the coordinates of the array elements. The function returns the sum of x and y. The numpy.fromfunction then uses this function to create a 3x3 array by computing the values for each element based on their coordinates."
   ]
  },
  {
   "cell_type": "markdown",
   "id": "82a330ed",
   "metadata": {},
   "source": [
    "#### Q6. What happens when a numpy array is combined with a single-value operand (a scalar, such as an int or a floating-point value) through addition, as in the expression `A + n` ?\n",
    "**Ans:** When a NumPy array is combined with a single-value operand (a scalar) through addition, each element of the array is incremented by the scalar value. This operation is known as scalar addition, and it is applied element-wise."
   ]
  },
  {
   "cell_type": "code",
   "execution_count": 6,
   "metadata": {},
   "outputs": [
    {
     "name": "stdout",
     "output_type": "stream",
     "text": [
      "[[11 12 13]\n",
      " [14 15 16]\n",
      " [17 18 19]]\n"
     ]
    }
   ],
   "source": [
    "import numpy as np\n",
    "\n",
    "# Create a NumPy array\n",
    "A = np.array([[1, 2, 3],\n",
    "              [4, 5, 6],\n",
    "              [7, 8, 9]])\n",
    "\n",
    "# Scalar addition\n",
    "n = 10\n",
    "result_array = A + n\n",
    "\n",
    "print(result_array)\n"
   ]
  },
  {
   "cell_type": "markdown",
   "id": "12e37586",
   "metadata": {},
   "source": [
    "#### Q7. Can array-to-scalar operations use combined operation-assign operators (such as += or *=)? What is the outcome ?\n",
    "**Ans:** Yes, array-to-scalar operations in NumPy can use combined operation-assign operators, such as += or *=. When we use these operators, the operation is performed in-place(to each element), modifying the original array."
   ]
  },
  {
   "cell_type": "code",
   "execution_count": 8,
   "metadata": {},
   "outputs": [
    {
     "name": "stdout",
     "output_type": "stream",
     "text": [
      "[[11 12 13]\n",
      " [14 15 16]\n",
      " [17 18 19]]\n",
      "\n",
      "[[22 24 26]\n",
      " [28 30 32]\n",
      " [34 36 38]]\n"
     ]
    }
   ],
   "source": [
    "#Example\n",
    "import numpy as np\n",
    "\n",
    "# Create a NumPy array\n",
    "A = np.array([[1, 2, 3],\n",
    "              [4, 5, 6],\n",
    "              [7, 8, 9]])\n",
    "\n",
    "# In-place addition with a scalar\n",
    "n = 10\n",
    "A += n\n",
    "\n",
    "print(A)\n",
    "\n",
    "print()\n",
    "\n",
    "# In-place multiplication with a scalar\n",
    "A *= 2\n",
    "\n",
    "print(A)\n",
    "\n"
   ]
  },
  {
   "cell_type": "markdown",
   "id": "f9687fd2",
   "metadata": {},
   "source": [
    "#### Q8. Does a numpy array contain fixed-length strings? What happens if you allocate a longer string to one of these arrays ?\n",
    "**Ans:** : In NumPy, we can create arrays of fixed-length strings using the numpy.string_ or numpy.str_(default) data type. However, it's important to note that these arrays will not dynamically resize to accommodate longer strings. \n",
    "\n",
    "If we allocate a longer string to an element in a fixed-length string array, the extra characters beyond the specified length will be truncated."
   ]
  },
  {
   "cell_type": "code",
   "execution_count": 13,
   "metadata": {},
   "outputs": [
    {
     "name": "stdout",
     "output_type": "stream",
     "text": [
      "Original array:\n",
      "[b'apple' b'banana' b'cherry']\n",
      "\n",
      "Modified array:\n",
      "[b'apple' b'grapef' b'cherry']\n"
     ]
    }
   ],
   "source": [
    "import numpy as np\n",
    "\n",
    "# Create a NumPy array of fixed-length strings\n",
    "string_array = np.array(['apple', 'banana', 'cherry'],dtype=np.string_)\n",
    "#or string_array = np.array(['apple', 'banana', 'cherry'])\n",
    "\n",
    "# Print the original array\n",
    "print(\"Original array:\")\n",
    "print(string_array)\n",
    "\n",
    "# Attempt to allocate a longer string\n",
    "string_array[1] = 'grapefruit'\n",
    "\n",
    "# Print the modified array\n",
    "print(\"\\nModified array:\")\n",
    "print(string_array)\n",
    "\n"
   ]
  },
  {
   "cell_type": "markdown",
   "id": "d5da8bbe",
   "metadata": {},
   "source": [
    "#### Q9. What happens when you combine two numpy arrays using an operation like addition (+) or multiplication (*)? What are the conditions for combining two numpy arrays ?\n",
    "**Ans:** When we combine two NumPy arrays using an operation like addition (+) or multiplication (*), the operation is performed element-wise. \n",
    "\n",
    "Here are the conditions for combining two NumPy arrays:\n",
    "\n",
    "\n",
    "**1. Shape Compatibility:**\n",
    "\n",
    "The arrays must have compatible shapes for the operation to be valid.<br/>\n",
    "For addition, subtraction, and element-wise multiplication or division, the arrays must have the same shape or be broadcastable to the same shape.<br/>\n",
    "Broadcasting allows NumPy to perform operations on arrays of different shapes and sizes by implicitly expanding smaller arrays to match the shape of larger ones.<br/>\n",
    "\n",
    "**2. Compatible Data Types:**\n",
    "\n",
    "The data types of the arrays should be compatible. For example, you can add two arrays with integer elements or two arrays with floating-point elements. NumPy will perform element-wise operations with the common data type."
   ]
  },
  {
   "cell_type": "code",
   "execution_count": 14,
   "metadata": {},
   "outputs": [
    {
     "name": "stdout",
     "output_type": "stream",
     "text": [
      "Array 1:\n",
      "[[1 2 3]\n",
      " [4 5 6]]\n",
      "\n",
      "Array 2:\n",
      "[[10 20 30]\n",
      " [40 50 60]]\n",
      "\n",
      "Result of Addition:\n",
      "[[11 22 33]\n",
      " [44 55 66]]\n",
      "\n",
      "Result of Multiplication:\n",
      "[[ 10  40  90]\n",
      " [160 250 360]]\n"
     ]
    }
   ],
   "source": [
    "#Example\n",
    "import numpy as np\n",
    "\n",
    "# Example arrays\n",
    "arr1 = np.array([[1, 2, 3],\n",
    "                 [4, 5, 6]])\n",
    "\n",
    "arr2 = np.array([[10, 20, 30],\n",
    "                 [40, 50, 60]])\n",
    "\n",
    "# Addition\n",
    "result_addition = arr1 + arr2\n",
    "\n",
    "# Multiplication\n",
    "result_multiplication = arr1 * arr2\n",
    "\n",
    "print(\"Array 1:\")\n",
    "print(arr1)\n",
    "print(\"\\nArray 2:\")\n",
    "print(arr2)\n",
    "\n",
    "print(\"\\nResult of Addition:\")\n",
    "print(result_addition)\n",
    "\n",
    "print(\"\\nResult of Multiplication:\")\n",
    "print(result_multiplication)\n"
   ]
  },
  {
   "cell_type": "markdown",
   "metadata": {},
   "source": [
    "In above example, element-wise addition and multiplication are performed on the two arrays because they have compatible shapes. If the shapes were incompatible and could not be broadcasted, a ValueError would be raised."
   ]
  },
  {
   "cell_type": "markdown",
   "id": "d350b416",
   "metadata": {},
   "source": [
    "#### Q10. What is the best way to use a Boolean array to mask another array ?\n",
    "**Ans:** The best way to use a Boolean array to mask another array is by Using `masked_where` of numpy package."
   ]
  },
  {
   "cell_type": "code",
   "execution_count": 15,
   "metadata": {},
   "outputs": [
    {
     "name": "stdout",
     "output_type": "stream",
     "text": [
      "Original Array: [1 2 3 4 5]\n",
      "Masked Array: [1 2 3 -- --]\n"
     ]
    }
   ],
   "source": [
    "import numpy as np\n",
    "import numpy.ma as ma\n",
    "\n",
    "# Create a NumPy array\n",
    "arr = np.array([1, 2, 3, 4, 5])\n",
    "\n",
    "# Create a mask based on a condition\n",
    "mask_condition = arr > 3\n",
    "\n",
    "# Use masked_where to mask elements based on the condition\n",
    "masked_arr = ma.masked_where(mask_condition, arr)\n",
    "\n",
    "print(\"Original Array:\", arr)\n",
    "print(\"Masked Array:\", masked_arr)\n"
   ]
  },
  {
   "cell_type": "markdown",
   "metadata": {},
   "source": [
    "In above example, the mask_condition is created such that it is True for elements greater than 3. The masked_arr is then created using numpy.ma.masked_where, which masks elements where the condition is True."
   ]
  },
  {
   "cell_type": "markdown",
   "id": "b5401443",
   "metadata": {},
   "source": [
    "#### Q11. What are three different ways to get the standard deviation of a wide collection of data using both standard Python and its packages? Sort the three of them by how quickly they execute ?\n",
    "**Ans:** Here are three different ways to calculate the standard deviation of a wide collection of data using standard Python and its packages, sorted by their likely execution speed:\n",
    "\n",
    "**1. Using NumPy:** NumPy is highly optimized for numerical operations and is likely to be the fastest."
   ]
  },
  {
   "cell_type": "code",
   "execution_count": 25,
   "metadata": {},
   "outputs": [
    {
     "name": "stdout",
     "output_type": "stream",
     "text": [
      "28.86607004772212\n"
     ]
    }
   ],
   "source": [
    "import numpy as np\n",
    "\n",
    "data = [x for x in range(1,101)]  \n",
    "std_dev = np.std(data)\n",
    "print(std_dev)"
   ]
  },
  {
   "cell_type": "markdown",
   "metadata": {},
   "source": [
    "**2. Using the statistics module (Standard Python Library):** Comes with the standard Python library, no need for additional installations."
   ]
  },
  {
   "cell_type": "code",
   "execution_count": 24,
   "metadata": {},
   "outputs": [
    {
     "name": "stdout",
     "output_type": "stream",
     "text": [
      "29.011491975882016\n"
     ]
    }
   ],
   "source": [
    "import statistics\n",
    "\n",
    "data = [x for x in range(1,101)]  \n",
    "std_dev = statistics.stdev(data)\n",
    "print(std_dev)\n"
   ]
  },
  {
   "cell_type": "markdown",
   "metadata": {},
   "source": [
    "**3. Using a Custom Calculation (Standard Python):** No need for external libraries, especially useful for smaller datasets."
   ]
  },
  {
   "cell_type": "code",
   "execution_count": 26,
   "metadata": {},
   "outputs": [
    {
     "name": "stdout",
     "output_type": "stream",
     "text": [
      "28.86607004772212\n"
     ]
    }
   ],
   "source": [
    "data = [x for x in range(1,101)]\n",
    "mean = sum(data) / len(data)\n",
    "variance = sum((x - mean) ** 2 for x in data) / len(data)\n",
    "std_dev = variance ** 0.5\n",
    "print(std_dev)"
   ]
  },
  {
   "cell_type": "markdown",
   "id": "2c49864a",
   "metadata": {},
   "source": [
    "#### 12. What is the dimensionality of a Boolean mask-generated array ?\n",
    "**Ans:**  It will have same dimensionality as input array."
   ]
  },
  {
   "cell_type": "code",
   "execution_count": 16,
   "metadata": {},
   "outputs": [
    {
     "name": "stdout",
     "output_type": "stream",
     "text": [
      "Original 2D Array:\n",
      "[[1 2 3]\n",
      " [4 5 6]\n",
      " [7 8 9]]\n",
      "\n",
      "Masked Array:\n",
      "[[1 2 3]\n",
      " [4 5 --]\n",
      " [-- -- --]]\n"
     ]
    }
   ],
   "source": [
    "import numpy as np\n",
    "import numpy.ma as ma\n",
    "\n",
    "# Create a 2D NumPy array\n",
    "arr_2d = np.array([[1, 2, 3],\n",
    "                   [4, 5, 6],\n",
    "                   [7, 8, 9]])\n",
    "\n",
    "# Create a mask condition for elements greater than 5\n",
    "mask_condition = arr_2d > 5\n",
    "\n",
    "# Create a masked array using masked_where\n",
    "masked_arr_2d = ma.masked_where(mask_condition, arr_2d)\n",
    "\n",
    "print(\"Original 2D Array:\")\n",
    "print(arr_2d)\n",
    "\n",
    "print(\"\\nMasked Array:\")\n",
    "print(masked_arr_2d)\n"
   ]
  },
  {
   "cell_type": "markdown",
   "metadata": {},
   "source": [
    "Here the dimensionality of the both array remains 2D."
   ]
  }
 ],
 "metadata": {
  "kernelspec": {
   "display_name": "Python 3",
   "language": "python",
   "name": "python3"
  },
  "language_info": {
   "codemirror_mode": {
    "name": "ipython",
    "version": 3
   },
   "file_extension": ".py",
   "mimetype": "text/x-python",
   "name": "python",
   "nbconvert_exporter": "python",
   "pygments_lexer": "ipython3",
   "version": "3.11.5"
  }
 },
 "nbformat": 4,
 "nbformat_minor": 5
}
