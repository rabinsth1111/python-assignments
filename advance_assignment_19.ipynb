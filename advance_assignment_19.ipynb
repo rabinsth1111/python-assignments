{
 "cells": [
  {
   "cell_type": "markdown",
   "id": "20fe32ca",
   "metadata": {},
   "source": [
    "#### Q1. Define the relationship between a class and its instances. Is it a one-to-one or a one-to-many partnership, for example?\n",
    "**Ans:** The relationship between a class and its instances is a one-to-many relationship. This means that a single class can have multiple instances or objects created from it.\n",
    "\n",
    "For example, consider a simple Python class Person:"
   ]
  },
  {
   "cell_type": "code",
   "execution_count": 1,
   "metadata": {},
   "outputs": [],
   "source": [
    "class Person:\n",
    "    def __init__(self, name, age):\n",
    "        self.name = name\n",
    "        self.age = age\n",
    "\n",
    "    def say_hello(self):\n",
    "        print(f\"Hello, my name is {self.name} and I am {self.age} years old.\")\n",
    "\n",
    "\n",
    "person1 = Person(\"Alice\", 30)\n",
    "person2 = Person(\"Bob\", 25)\n",
    "person3 = Person(\"Charlie\", 35)\n"
   ]
  },
  {
   "cell_type": "markdown",
   "metadata": {},
   "source": [
    "In above example, there is one class (Person), but we have multiple instances (person1, person2, and person3), representing different individuals. <br/>This demonstrates the one-to-many relationship between a class and its instances."
   ]
  },
  {
   "cell_type": "markdown",
   "id": "a3998f76",
   "metadata": {},
   "source": [
    "#### Q2. What kind of data is held only in an instance?\n",
    "**Ans:** Data that are held only in instance are called instance variables or attributes which are used to store characteristics or properties specific to each instance of the class.\n",
    "\n",
    "Instance variables are defined within the class but are assigned different values for each instance. \n",
    "changes to instance variables in one instance do not affect the values of the same variables in other instances of the same class."
   ]
  },
  {
   "cell_type": "code",
   "execution_count": 2,
   "metadata": {},
   "outputs": [
    {
     "name": "stdout",
     "output_type": "stream",
     "text": [
      "Alice\n",
      "Bob\n"
     ]
    }
   ],
   "source": [
    "# Example\n",
    "class Person:\n",
    "    def __init__(self, name, age):\n",
    "        self.name = name  # Instance variable specific to each person\n",
    "        self.age = age    # Another instance variable specific to each person\n",
    "\n",
    "    def say_hello(self):\n",
    "        print(f\"Hello, my name is {self.name} and I am {self.age} years old.\")\n",
    "\n",
    "\n",
    "person1 = Person(\"Alice\", 30)\n",
    "person2 = Person(\"Bob\", 25)\n",
    "\n",
    "print(person1.name)  # Outputs \"Alice\"\n",
    "print(person2.name)  # Outputs \"Bob\"\n"
   ]
  },
  {
   "cell_type": "markdown",
   "metadata": {},
   "source": [
    "In above example, person1 and person2 have their own name and age values, which are specific to each instance. Any changes to these attributes in one instance do not affect the attributes of the other instance."
   ]
  },
  {
   "cell_type": "markdown",
   "id": "3bc4acfe",
   "metadata": {},
   "source": [
    "#### Q3. What kind of knowledge is stored in a class?\n",
    "**Ans:** Class creates a user-defined data structure, which holds its own data members and member functions, which can be accessed and used by creating an instance of that class. A class is like a blueprint for an object."
   ]
  },
  {
   "cell_type": "markdown",
   "id": "d6c2ef9c",
   "metadata": {},
   "source": [
    "#### Q4. What exactly is a method, and how is it different from a regular function?\n",
    "**Ans:** The methods with a class can be used to access the instance variables of its instance. So, the object's state can be modified by its method. Whereas, regular function can't access the attributes of an instance of a class or can't modify the state of the object.\n",
    "\n",
    "Example:"
   ]
  },
  {
   "cell_type": "code",
   "execution_count": 3,
   "metadata": {},
   "outputs": [
    {
     "name": "stdout",
     "output_type": "stream",
     "text": [
      "7\n",
      "7\n"
     ]
    }
   ],
   "source": [
    "# Regular function\n",
    "def add_numbers(a, b):\n",
    "    return a + b\n",
    "\n",
    "result = add_numbers(3, 4)\n",
    "print(result)  # Outputs 7\n",
    "\n",
    "# Method within a class\n",
    "class Calculator:\n",
    "    def __init__(self):\n",
    "        self.result = 0\n",
    "\n",
    "    def add(self, a, b):\n",
    "        self.result = a + b\n",
    "\n",
    "calculator_instance = Calculator()\n",
    "calculator_instance.add(3, 4)\n",
    "print(calculator_instance.result)  # Outputs 7\n"
   ]
  },
  {
   "cell_type": "markdown",
   "metadata": {},
   "source": [
    "In above example, add_numbers is a regular function, and add is a method within the Calculator class. The method add operates on the instance variable result specific to the calculator_instance."
   ]
  },
  {
   "cell_type": "markdown",
   "id": "471e1689",
   "metadata": {},
   "source": [
    "#### Q5. Is inheritance supported in Python, and if so, what is the syntax?\n",
    "**Ans:** Yes, inheritance is supported in Python. The types of inheritence supported by Python are:\n",
    "\n",
    "1. Single Inheritence : When a class is derived from one base class.\n",
    "\n",
    "2. Multiple Inheritence : When a class is derived from more than one base class.\n",
    "\n",
    "3. Multilevel Inheritence : Base class and the derived class are further inherited into the new derived class.\n",
    "\n",
    "4. Hierarchical Inheritence : When more than one derived class are created from a single base class. \n",
    "\n",
    "5. Hybrid Inheritence : Inheritance consisting of multiple types of inheritance is called hybrid inheritance.\n"
   ]
  },
  {
   "cell_type": "code",
   "execution_count": 14,
   "id": "63b31180",
   "metadata": {},
   "outputs": [
    {
     "name": "stdout",
     "output_type": "stream",
     "text": [
      "In Class2\n"
     ]
    }
   ],
   "source": [
    "# Simple Inheritance\n",
    "class Class1:\n",
    "\tdef m(self):\n",
    "\t\tprint(\"In Class1\") \n",
    "\t\n",
    "class Class2(Class1):\n",
    "\tdef m(self):\n",
    "\t\tprint(\"In Class2\") \n",
    "\t\n",
    "obj = Class2()\n",
    "obj.m()\n"
   ]
  },
  {
   "cell_type": "code",
   "execution_count": 12,
   "metadata": {},
   "outputs": [
    {
     "name": "stdout",
     "output_type": "stream",
     "text": [
      "In Class1\n"
     ]
    }
   ],
   "source": [
    "# Multiple Inheritance\n",
    "class Class1:\n",
    "\tdef m(self):\n",
    "\t\tprint(\"In Class1\") \n",
    "\t\n",
    "class Class2():\n",
    "\tdef m(self):\n",
    "\t\tprint(\"In Class2\")\n",
    "\n",
    "class Class3(Class1, Class2):\n",
    "\tpass\n",
    "\t\n",
    "obj = Class3()\n",
    "obj.m()\n"
   ]
  },
  {
   "cell_type": "code",
   "execution_count": 16,
   "metadata": {},
   "outputs": [
    {
     "name": "stdout",
     "output_type": "stream",
     "text": [
      "In Class1\n",
      "In Class2\n",
      "In Class3\n"
     ]
    }
   ],
   "source": [
    "# Multilevel Inheritance\n",
    "class Class1:\n",
    "\tdef m(self):\n",
    "\t\tprint(\"In Class1\") \n",
    "\t\n",
    "class Class2(Class1):\n",
    "\tdef n(self):\n",
    "\t\tprint(\"In Class2\") \n",
    "\n",
    "class Class3(Class2):\n",
    "\tdef o(self):\n",
    "\t\tprint(\"In Class3\") \n",
    "\t\n",
    "obj = Class3()\n",
    "obj.m()\n",
    "obj.n()\n",
    "obj.o()\n"
   ]
  },
  {
   "cell_type": "code",
   "execution_count": 18,
   "metadata": {},
   "outputs": [
    {
     "name": "stdout",
     "output_type": "stream",
     "text": [
      "In Class1\n",
      "In Class3\n"
     ]
    }
   ],
   "source": [
    "# Hierarchical Inheritance\n",
    "class Class1:\n",
    "\tdef m(self):\n",
    "\t\tprint(\"In Class1\") \n",
    "\t\n",
    "class Class2(Class1):\n",
    "\tdef n(self):\n",
    "\t\tprint(\"In Class2\") \n",
    "\n",
    "class Class3(Class1):\n",
    "\tdef o(self):\n",
    "\t\tprint(\"In Class3\") \n",
    "\t\n",
    "obj = Class3()\n",
    "obj.m()\n",
    "obj.o()"
   ]
  },
  {
   "cell_type": "code",
   "execution_count": 19,
   "metadata": {},
   "outputs": [
    {
     "name": "stdout",
     "output_type": "stream",
     "text": [
      "This function is in school.\n",
      "This function is in student 1. \n"
     ]
    }
   ],
   "source": [
    "# Hybrid inheritance\n",
    "\n",
    "class School:\n",
    "\tdef func1(self):\n",
    "\t\tprint(\"This function is in school.\")\n",
    "\n",
    "\n",
    "class Student1(School):\n",
    "\tdef func2(self):\n",
    "\t\tprint(\"This function is in student 1. \")\n",
    "\n",
    "\n",
    "class Student2(School):\n",
    "\tdef func3(self):\n",
    "\t\tprint(\"This function is in student 2.\")\n",
    "\n",
    "\n",
    "class Student3(Student1, School):\n",
    "\tdef func4(self):\n",
    "\t\tprint(\"This function is in student 3.\")\n",
    "\n",
    "\n",
    "object = Student3()\n",
    "object.func1()\n",
    "object.func2()\n"
   ]
  },
  {
   "cell_type": "markdown",
   "id": "1f2a9517",
   "metadata": {},
   "source": [
    "#### Q6. How much encapsulation (making instance or class variables private) does Python support?\n",
    "**Ans:** In Python, encapsulation is supported to a certain extent through the use of naming conventions and access modifiers, but it doesn't enforce strict access control(for eg; by making class variable private or protected) as some other programming languages might.\n",
    "\n",
    "Here are the main aspects of encapsulation in Python:\n",
    "\n",
    "1. Single Underscore Prefix (Weak \"Internal Use\" Indicator):\n",
    "\n",
    "By convention, a single leading underscore before a variable or method name (e.g., _variable) indicates that it is intended for internal use within the class or module. However, it does not actually prevent external access."
   ]
  },
  {
   "cell_type": "code",
   "execution_count": 1,
   "metadata": {},
   "outputs": [
    {
     "name": "stdout",
     "output_type": "stream",
     "text": [
      "42\n"
     ]
    }
   ],
   "source": [
    "class MyClass:\n",
    "    def __init__(self):\n",
    "        self._internal_variable = 42\n",
    "\n",
    "obj = MyClass()\n",
    "print(obj._internal_variable)  # Accessible, but considered internal\n"
   ]
  },
  {
   "cell_type": "markdown",
   "metadata": {},
   "source": [
    "2. Double Underscore Prefix (Name Mangling):\n",
    "\n",
    "A double leading underscore before a variable or method name (e.g., __variable) invokes name mangling, making the name more difficult to access from outside the class. However, it is not meant to provide strict security.\n"
   ]
  },
  {
   "cell_type": "code",
   "execution_count": 2,
   "metadata": {},
   "outputs": [
    {
     "name": "stdout",
     "output_type": "stream",
     "text": [
      "42\n"
     ]
    }
   ],
   "source": [
    "class MyClass:\n",
    "    def __init__(self):\n",
    "        self.__mangled_variable = 42\n",
    "\n",
    "obj = MyClass()\n",
    "# Accessing through name mangling\n",
    "print(obj._MyClass__mangled_variable)\n"
   ]
  },
  {
   "cell_type": "markdown",
   "metadata": {},
   "source": [
    "3. Properties and Decorators:\n",
    "\n",
    "Python supports the use of properties and decorators to control access to attributes by providing getter and setter methods."
   ]
  },
  {
   "cell_type": "code",
   "execution_count": 3,
   "metadata": {},
   "outputs": [
    {
     "name": "stdout",
     "output_type": "stream",
     "text": [
      "42\n",
      "10\n"
     ]
    }
   ],
   "source": [
    "class MyClass:\n",
    "    def __init__(self):\n",
    "        self._variable = 42\n",
    "\n",
    "    @property\n",
    "    def variable(self):\n",
    "        # Getter method for the property\n",
    "        return self._variable\n",
    "\n",
    "    @variable.setter\n",
    "    def variable(self, value):\n",
    "        # Setter method for the property\n",
    "        if value > 0:\n",
    "            self._variable = value\n",
    "\n",
    "# Creating an instance of the class\n",
    "obj = MyClass()\n",
    "\n",
    "# Accessing the property using the getter method\n",
    "print(obj.variable)  # Outputs 42\n",
    "\n",
    "# Modifying the property using the setter method\n",
    "obj.variable = 10\n",
    "\n",
    "# Accessing the modified property\n",
    "print(obj.variable)  # Outputs 10\n"
   ]
  },
  {
   "cell_type": "markdown",
   "id": "c0de33d4",
   "metadata": {},
   "source": [
    "#### Q7. How do you distinguish between a class variable and an instance variable?\n",
    "**Ans:** \n",
    "\n",
    "Class variables are shared among all instances and are defined outside instance methods.\n",
    "\n",
    "Instance variables are specific to each instance and are defined within the constructor method using self. notation.\n"
   ]
  },
  {
   "cell_type": "code",
   "execution_count": 4,
   "metadata": {},
   "outputs": [
    {
     "name": "stdout",
     "output_type": "stream",
     "text": [
      "I am a class variable\n",
      "I am a class variable\n",
      "Instance 1\n",
      "I am a class variable\n",
      "Instance 2\n"
     ]
    }
   ],
   "source": [
    "class MyClass:\n",
    "    class_variable = \"I am a class variable\"\n",
    "\n",
    "    def __init__(self, instance_variable):\n",
    "        self.instance_variable = instance_variable\n",
    "\n",
    "# Accessing a class variable\n",
    "print(MyClass.class_variable)  # Outputs \"I am a class variable\"\n",
    "\n",
    "# Creating instances and accessing instance variables\n",
    "obj1 = MyClass(\"Instance 1\")\n",
    "obj2 = MyClass(\"Instance 2\")\n",
    "\n",
    "print(obj1.class_variable)       # Outputs \"I am a class variable\"\n",
    "print(obj1.instance_variable)    # Outputs \"Instance 1\"\n",
    "\n",
    "print(obj2.class_variable)       # Outputs \"I am a class variable\"\n",
    "print(obj2.instance_variable)    # Outputs \"Instance 2\"\n"
   ]
  },
  {
   "cell_type": "markdown",
   "id": "65768276",
   "metadata": {},
   "source": [
    "#### Q8. When, if ever, can self be included in a class's method definitions?\n",
    "**Ans:** Self can be included in class method definitions to access the instance variables inside class methods."
   ]
  },
  {
   "cell_type": "code",
   "execution_count": 20,
   "metadata": {},
   "outputs": [
    {
     "name": "stdout",
     "output_type": "stream",
     "text": [
      "314.2857142857143\n"
     ]
    }
   ],
   "source": [
    "#Example\n",
    "class Circle():\n",
    "    def __init__(self, radius):\n",
    "        self.area = (22/7)*radius**2\n",
    "    \n",
    "    def get_area(self):\n",
    "        return self.area\n",
    "\n",
    "C = Circle(10)\n",
    "print(C.get_area())"
   ]
  },
  {
   "cell_type": "markdown",
   "id": "ae7c6bbf",
   "metadata": {},
   "source": [
    "#### Q9. What is the difference between the **`__add__`** and the **`__radd__`** methods ?\n",
    "**Ans:** \n",
    "\n",
    "The **`__add__`** and **`__radd__`** methods are special methods in Python that are used for implementing the addition operation (+) for objects of a class. These methods allow you to define custom behavior when objects are added together.\n",
    "\n",
    "\n",
    "1. **`__add__`** Method:\n",
    "\n",
    "The **`__add__`** method is called when the addition operation is performed with an object on the left side.<br/>\n",
    "It is used to define the behavior when the object is on the left side of the + operator."
   ]
  },
  {
   "cell_type": "code",
   "execution_count": 5,
   "metadata": {},
   "outputs": [
    {
     "name": "stdout",
     "output_type": "stream",
     "text": [
      "30\n"
     ]
    }
   ],
   "source": [
    "#Example\n",
    "class MyClass:\n",
    "    def __init__(self, value):\n",
    "        self.value = value\n",
    "\n",
    "    def __add__(self, other):\n",
    "        # Custom addition behavior when object is on the left side\n",
    "        if isinstance(other, MyClass):\n",
    "            return MyClass(self.value + other.value)\n",
    "        else:\n",
    "            raise ValueError(\"Unsupported operand type\")\n",
    "\n",
    "obj1 = MyClass(10)\n",
    "obj2 = MyClass(20)\n",
    "\n",
    "result = obj1 + obj2  # Calls obj1.__add__(obj2)\n",
    "print(result.value)  # Outputs 30\n"
   ]
  },
  {
   "cell_type": "markdown",
   "metadata": {},
   "source": [
    "2. **`__radd__`** Method:\n",
    "\n",
    "The **`__radd__`** method is called when the addition operation is performed with an object on the right side.<br/>\n",
    "It is used to define the behavior when the object is on the right side of the + operator."
   ]
  },
  {
   "cell_type": "code",
   "execution_count": 6,
   "metadata": {},
   "outputs": [
    {
     "name": "stdout",
     "output_type": "stream",
     "text": [
      "15\n"
     ]
    }
   ],
   "source": [
    "#Example\n",
    "class MyClass:\n",
    "    def __init__(self, value):\n",
    "        self.value = value\n",
    "\n",
    "    def __radd__(self, other):\n",
    "        # Custom addition behavior when object is on the right side\n",
    "        if isinstance(other, int):\n",
    "            return MyClass(self.value + other)\n",
    "        else:\n",
    "            raise ValueError(\"Unsupported operand type\")\n",
    "\n",
    "obj = MyClass(10)\n",
    "\n",
    "result = 5 + obj  # Calls obj.__radd__(5)\n",
    "print(result.value)  # Outputs 15\n"
   ]
  },
  {
   "cell_type": "markdown",
   "metadata": {},
   "source": [
    "If **`__add__`** is not defined in a class, Python will attempt to use the **`__radd__`** method of the other object if it exists. If neither method is defined, the addition operation will raise a TypeError."
   ]
  },
  {
   "cell_type": "markdown",
   "id": "5eae7542",
   "metadata": {},
   "source": [
    "#### Q10. When is it necessary to use a reflection method? When do you not need it, even though you support the operation in question?\n",
    "**Ans:** \n",
    "\n",
    "Reflection methods, such as those starting with double underscores (e.g., **`__add__`**, **`__str__`**, etc), are used in Python for  customizing the behavior of certain operations on objects.\n",
    "\n",
    "For example, if we want instances of the class to support addition (+), we would implement the **`__add__`** method to define how the addition operation should be handled for objects.\n"
   ]
  },
  {
   "cell_type": "code",
   "execution_count": 9,
   "metadata": {},
   "outputs": [
    {
     "name": "stdout",
     "output_type": "stream",
     "text": [
      "30\n"
     ]
    }
   ],
   "source": [
    "class MyClass:\n",
    "    def __init__(self, value):\n",
    "        self.value = value\n",
    "\n",
    "    def __add__(self, other):\n",
    "        # Custom addition behavior\n",
    "        if isinstance(other, MyClass):\n",
    "            return MyClass(self.value + other.value)\n",
    "        else:\n",
    "            raise ValueError(\"Unsupported operand type\")\n",
    "\n",
    "obj1 = MyClass(10)\n",
    "obj2 = MyClass(20)\n",
    "result = obj1 + obj2  # Custom addition behavior\n",
    "\n",
    "print(result.value)\n"
   ]
  },
  {
   "cell_type": "markdown",
   "metadata": {},
   "source": [
    "On the otherhand, if the default behavior of an operation is sufficient for the class, and we don't need to customize it, there's no need to implement the corresponding reflection method.\n",
    "\n",
    "For example, if we don't need any custom behavior for string representation, we can rely on the default **`__str__`** method inherited from the object class."
   ]
  },
  {
   "cell_type": "code",
   "execution_count": 7,
   "metadata": {},
   "outputs": [
    {
     "name": "stdout",
     "output_type": "stream",
     "text": [
      "<__main__.MyClass object at 0x0000024D0FBFE790>\n"
     ]
    }
   ],
   "source": [
    "class MyClass:\n",
    "    def __init__(self, value):\n",
    "        self.value = value\n",
    "\n",
    "obj = MyClass(42)\n",
    "print(obj)  # Outputs the default string representation without __str__\n"
   ]
  },
  {
   "cell_type": "markdown",
   "id": "98aac547",
   "metadata": {},
   "source": [
    "#### Q11. What is the `__iadd__` method called?\n",
    "**Ans:** \n",
    "The `__iadd__` method in Python is a special method used for in-place addition and is called when the += operator is used with an object. <br/>It allows us to define the behavior of the in-place addition operation for instances of the class."
   ]
  },
  {
   "cell_type": "code",
   "execution_count": 10,
   "metadata": {},
   "outputs": [
    {
     "name": "stdout",
     "output_type": "stream",
     "text": [
      "30\n"
     ]
    }
   ],
   "source": [
    "# Example\n",
    "class MyClass:\n",
    "    def __init__(self, value):\n",
    "        self.value = value\n",
    "\n",
    "    def __iadd__(self, other):\n",
    "        # Custom in-place addition behavior\n",
    "        if isinstance(other, MyClass):\n",
    "            self.value += other.value\n",
    "            return self\n",
    "        else:\n",
    "            raise ValueError(\"Unsupported operand type\")\n",
    "\n",
    "# Creating instances of the class\n",
    "obj1 = MyClass(10)\n",
    "obj2 = MyClass(20)\n",
    "\n",
    "# Using the += operator triggers __iadd__\n",
    "obj1 += obj2\n",
    "\n",
    "print(obj1.value)  # Outputs 30\n"
   ]
  },
  {
   "cell_type": "markdown",
   "id": "f6c3908c",
   "metadata": {},
   "source": [
    "#### Q12. Is the `_ _init_ _` method inherited by subclasses? What do you do if you need to customize its behavior within a subclass ?\n",
    "**Ans:** \n",
    "\n",
    "Yes, the `__init__` method is inherited by subclasses in Python. When we create an instance of a subclass, Python will search for the `__init__` method in the subclass. If it doesn't find one, it will continue to search in the parent classes (superclasses) until it finds the method.\n",
    "\n",
    "If we need to customize the behavior of the `__init__` method in a subclass, we can override it by defining a new `__init__` method in the subclass. The overridden method in the subclass will be called instead of the one in the superclass.\n",
    "\n",
    "Here's an example:"
   ]
  },
  {
   "cell_type": "code",
   "execution_count": 11,
   "metadata": {},
   "outputs": [
    {
     "name": "stdout",
     "output_type": "stream",
     "text": [
      "Canine\n",
      "Golden Retriever\n"
     ]
    }
   ],
   "source": [
    "class Animal:\n",
    "    def __init__(self, species):\n",
    "        self.species = species\n",
    "\n",
    "class Dog(Animal):\n",
    "    def __init__(self, species, breed):\n",
    "        # Call the __init__ method of the superclass to initialize the species attribute\n",
    "        super().__init__(species)\n",
    "        self.breed = breed\n",
    "\n",
    "# Creating an instance of the subclass\n",
    "my_dog = Dog(species=\"Canine\", breed=\"Golden Retriever\")\n",
    "\n",
    "# Accessing attributes from both the superclass and the subclass\n",
    "print(my_dog.species)  # Outputs \"Canine\"\n",
    "print(my_dog.breed)    # Outputs \"Golden Retriever\"\n"
   ]
  }
 ],
 "metadata": {
  "kernelspec": {
   "display_name": "Python 3",
   "language": "python",
   "name": "python3"
  },
  "language_info": {
   "codemirror_mode": {
    "name": "ipython",
    "version": 3
   },
   "file_extension": ".py",
   "mimetype": "text/x-python",
   "name": "python",
   "nbconvert_exporter": "python",
   "pygments_lexer": "ipython3",
   "version": "3.11.5"
  }
 },
 "nbformat": 4,
 "nbformat_minor": 5
}
