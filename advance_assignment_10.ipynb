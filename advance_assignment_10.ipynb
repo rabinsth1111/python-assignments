{
 "cells": [
  {
   "cell_type": "markdown",
   "metadata": {},
   "source": [
    "#### Q1. What is the difference between `__getattr__` and `__getattribute__`?\n",
    "**Ans:** `__getattr__` is invoked if the attribute wasn't found the usual ways and is good for implementing a fallback for missing attributes.\n",
    "\n",
    "Whereas the `__getattribute__` is invoked before looking at the actual attributes on the object. Thus, we have to use it more consciously, otherwise very easily we can end up in infinite recursions."
   ]
  },
  {
   "cell_type": "code",
   "execution_count": 6,
   "metadata": {},
   "outputs": [
    {
     "name": "stdout",
     "output_type": "stream",
     "text": [
      "1\n",
      "10\n"
     ]
    },
    {
     "ename": "AttributeError",
     "evalue": "'Count' object has no attribute 'current'",
     "output_type": "error",
     "traceback": [
      "\u001b[1;31m---------------------------------------------------------------------------\u001b[0m",
      "\u001b[1;31mAttributeError\u001b[0m                            Traceback (most recent call last)",
      "\u001b[1;32mc:\\python\\assignments\\advance\\advance_assignment_10.ipynb Cell 3\u001b[0m line \u001b[0;36m1\n\u001b[0;32m      <a href='vscode-notebook-cell:/c%3A/python/assignments/advance/advance_assignment_10.ipynb#X31sZmlsZQ%3D%3D?line=7'>8</a>\u001b[0m \u001b[39mprint\u001b[39m(obj1\u001b[39m.\u001b[39mmin)\n\u001b[0;32m      <a href='vscode-notebook-cell:/c%3A/python/assignments/advance/advance_assignment_10.ipynb#X31sZmlsZQ%3D%3D?line=8'>9</a>\u001b[0m \u001b[39mprint\u001b[39m(obj1\u001b[39m.\u001b[39mmax)\n\u001b[1;32m---> <a href='vscode-notebook-cell:/c%3A/python/assignments/advance/advance_assignment_10.ipynb#X31sZmlsZQ%3D%3D?line=9'>10</a>\u001b[0m \u001b[39mprint\u001b[39m(obj1\u001b[39m.\u001b[39mcurrent)\n",
      "\u001b[1;31mAttributeError\u001b[0m: 'Count' object has no attribute 'current'"
     ]
    }
   ],
   "source": [
    "#Example\n",
    "class Count():\n",
    "    def __init__(self,min,max):\n",
    "        self.min=min\n",
    "        self.max=max\n",
    "\n",
    "obj1 = Count(1,10)\n",
    "print(obj1.min)\n",
    "print(obj1.max)\n",
    "print(obj1.current) #gives AttributeError because object has no attribute 'current'"
   ]
  },
  {
   "cell_type": "code",
   "execution_count": 7,
   "metadata": {},
   "outputs": [
    {
     "name": "stdout",
     "output_type": "stream",
     "text": [
      "1\n",
      "10\n",
      "0\n",
      "0\n"
     ]
    }
   ],
   "source": [
    "#Example with __getattr__\n",
    "class Count:\n",
    "    def __init__(self,min,max):\n",
    "        self.min=min\n",
    "        self.max=max    \n",
    "\n",
    "    def __getattr__(self, item):\n",
    "        self.__dict__[item]=0\n",
    "        return 0\n",
    "\n",
    "obj1 = Count(1,10)\n",
    "print(obj1.min)\n",
    "print(obj1.max)\n",
    "print(obj1.current)\n",
    "print(obj1.new_current)"
   ]
  },
  {
   "cell_type": "markdown",
   "metadata": {},
   "source": [
    "Python will call `__getattr__` method whenever we request an attribute that hasn't already been defined.<br/>\n",
    "In above example whenever we try to call an attribute which doesn't exist, python creates that attribute and sets it to integer value 0."
   ]
  },
  {
   "cell_type": "code",
   "execution_count": 17,
   "metadata": {},
   "outputs": [
    {
     "name": "stdout",
     "output_type": "stream",
     "text": [
      "1\n",
      "10\n"
     ]
    },
    {
     "ename": "AttributeError",
     "evalue": "Count object has no attribute current.",
     "output_type": "error",
     "traceback": [
      "\u001b[1;31m---------------------------------------------------------------------------\u001b[0m",
      "\u001b[1;31mAttributeError\u001b[0m                            Traceback (most recent call last)",
      "\u001b[1;32mc:\\python\\assignments\\advance\\advance_assignment_10.ipynb Cell 6\u001b[0m line \u001b[0;36m1\n\u001b[0;32m     <a href='vscode-notebook-cell:/c%3A/python/assignments/advance/advance_assignment_10.ipynb#X34sZmlsZQ%3D%3D?line=12'>13</a>\u001b[0m \u001b[39mprint\u001b[39m(obj1\u001b[39m.\u001b[39mmin)\n\u001b[0;32m     <a href='vscode-notebook-cell:/c%3A/python/assignments/advance/advance_assignment_10.ipynb#X34sZmlsZQ%3D%3D?line=13'>14</a>\u001b[0m \u001b[39mprint\u001b[39m(obj1\u001b[39m.\u001b[39mmax)\n\u001b[1;32m---> <a href='vscode-notebook-cell:/c%3A/python/assignments/advance/advance_assignment_10.ipynb#X34sZmlsZQ%3D%3D?line=14'>15</a>\u001b[0m \u001b[39mprint\u001b[39m(obj1\u001b[39m.\u001b[39mcurrent)\n",
      "\u001b[1;32mc:\\python\\assignments\\advance\\advance_assignment_10.ipynb Cell 6\u001b[0m line \u001b[0;36m9\n\u001b[0;32m      <a href='vscode-notebook-cell:/c%3A/python/assignments/advance/advance_assignment_10.ipynb#X34sZmlsZQ%3D%3D?line=6'>7</a>\u001b[0m \u001b[39mdef\u001b[39;00m \u001b[39m__getattribute__\u001b[39m(\u001b[39mself\u001b[39m, item):\n\u001b[0;32m      <a href='vscode-notebook-cell:/c%3A/python/assignments/advance/advance_assignment_10.ipynb#X34sZmlsZQ%3D%3D?line=7'>8</a>\u001b[0m     \u001b[39mif\u001b[39;00m item\u001b[39m.\u001b[39mstartswith(\u001b[39m'\u001b[39m\u001b[39mcur\u001b[39m\u001b[39m'\u001b[39m):\n\u001b[1;32m----> <a href='vscode-notebook-cell:/c%3A/python/assignments/advance/advance_assignment_10.ipynb#X34sZmlsZQ%3D%3D?line=8'>9</a>\u001b[0m         \u001b[39mraise\u001b[39;00m \u001b[39mAttributeError\u001b[39;00m(\u001b[39mf\u001b[39m\u001b[39m'\u001b[39m\u001b[39mCount object has no attribute \u001b[39m\u001b[39m{\u001b[39;00mitem\u001b[39m}\u001b[39;00m\u001b[39m.\u001b[39m\u001b[39m'\u001b[39m)\n\u001b[0;32m     <a href='vscode-notebook-cell:/c%3A/python/assignments/advance/advance_assignment_10.ipynb#X34sZmlsZQ%3D%3D?line=9'>10</a>\u001b[0m     \u001b[39mreturn\u001b[39;00m \u001b[39msuper\u001b[39m()\u001b[39m.\u001b[39m\u001b[39m__getattribute__\u001b[39m(item)\n",
      "\u001b[1;31mAttributeError\u001b[0m: Count object has no attribute current."
     ]
    }
   ],
   "source": [
    "#Example with __getattribute__\n",
    "class Count:\n",
    "    def __init__(self,min,max):\n",
    "        self.min=min\n",
    "        self.max=max    \n",
    "\n",
    "    def __getattribute__(self, item):\n",
    "        if item.startswith('cur'):\n",
    "            raise AttributeError(f'Count object has no attribute {item}.')\n",
    "        return super().__getattribute__(item)\n",
    "\n",
    "obj1 = Count(1,10)\n",
    "print(obj1.min)\n",
    "print(obj1.max)\n",
    "print(obj1.current)\n"
   ]
  },
  {
   "cell_type": "markdown",
   "metadata": {},
   "source": [
    "If we have `__getattribute__` method in class, python invokes this method for every attribute regardless whether it exists or not.<br/>\n",
    "In above example, whenever attribute is accessed if attribute starts with substring 'cur' then python raises AttributeError exception.<br/> Otherwise it returns that attribute.<br/>\n",
    "In order to avoid infinite recursion, its implementation should always call the base class method, ie; object.`__getattribute__`(self, name) <br/>\n",
    "or super().`__getattribute__`(item) "
   ]
  },
  {
   "cell_type": "code",
   "execution_count": 18,
   "metadata": {},
   "outputs": [
    {
     "name": "stdout",
     "output_type": "stream",
     "text": [
      "1\n",
      "10\n",
      "0\n"
     ]
    }
   ],
   "source": [
    "#Example with both __getattr__ and __getattribute__\n",
    "class Count:\n",
    "    def __init__(self,min,max):\n",
    "        self.min=min\n",
    "        self.max=max    \n",
    "\n",
    "    def __getattr__(self, item):\n",
    "        self.__dict__[item]=0\n",
    "        return 0\n",
    "    \n",
    "    def __getattribute__(self, item):\n",
    "        if item.startswith('cur'):\n",
    "            raise AttributeError(f'Count object has no attribute {item}.')\n",
    "        return super().__getattribute__(item)\n",
    "    \n",
    "\n",
    "obj1 = Count(1,10)\n",
    "print(obj1.min)\n",
    "print(obj1.max)\n",
    "print(obj1.current)"
   ]
  },
  {
   "cell_type": "markdown",
   "metadata": {},
   "source": [
    "If the class contain both getattr and getattribute , then `__getattribute__` is called first. But if `__getattribute__` raises AttributeError exception then the exception will be ignored and `__getattr__` method will be invoked."
   ]
  },
  {
   "cell_type": "markdown",
   "metadata": {},
   "source": [
    "#### Q2. What is the difference between properties and descriptors?\n",
    "**Ans:** The differences between Properties and Descriptors is:\n",
    "\n",
    "**Properties:** With Properties we can bind getter, setter and delete functions together with an attribute name, using the built-in property function or `@property` decorator. When we do this, each reference to an attribute looks like simple, direct access, but involes the appropriate function of the object. <br/>\n",
    "Syntax: property(fget, fset, fdel, doc)\n",
    "\n",
    "**Descriptor:** With Descriptor we can bind getter, setter and delete functions into a seperate class. we then assign an object of this class to the attribute name in our main class. When we do this, each reference to an attribute looks like simple, direct access but invokes an appropriate function of descriptor object.\n",
    "\n",
    "A Python object that implements any of the following methods is a descriptor.\n",
    "\n",
    "`__get__`(self, obj, type=None)<br>\n",
    "`__set__`(self, obj, value)<br>\n",
    "`__delete__`(self, obj)<br>\n",
    "\n",
    "The above methods are also known as descriptor protocols and the meanings of the parameters in these methods are as follows.\n",
    "\n",
    "self is the currently defined descriptor object instance.<br>\n",
    "obj is the instance of the object that the descriptor will act on.<br>\n",
    "type is the type of the object on which the descriptor acts (i.e., the class it belongs to)."
   ]
  },
  {
   "cell_type": "code",
   "execution_count": 38,
   "metadata": {},
   "outputs": [
    {
     "name": "stdout",
     "output_type": "stream",
     "text": [
      "__get__(): Accessing x from the class <class '__main__.Foo'>\n",
      "<__main__.Descriptor object at 0x0000017492901910>\n"
     ]
    }
   ],
   "source": [
    "#Example of Descriptor\n",
    "class Descriptor:\n",
    "\n",
    "    def __get__(self, instance, owner):\n",
    "        if instance is None:\n",
    "            print('__get__(): Accessing x from the class', owner)\n",
    "            return self\n",
    "        \n",
    "        print('__get__(): Accessing x from the object', instance)\n",
    "        return 'X from descriptor'\n",
    "\n",
    "    def __set__(self, instance, value):\n",
    "        print('__set__(): Setting x on the object', instance)\n",
    "        instance.__dict__['_x'] = value\n",
    "\n",
    "class Foo:\n",
    "    x = Descriptor()\n",
    "\n",
    "print(Foo.x)"
   ]
  },
  {
   "cell_type": "code",
   "execution_count": 39,
   "metadata": {},
   "outputs": [
    {
     "name": "stdout",
     "output_type": "stream",
     "text": [
      "__get__(): Accessing x from the object <__main__.Foo object at 0x0000017492915C10>\n",
      "X from descriptor\n"
     ]
    }
   ],
   "source": [
    "foo = Foo()\n",
    "print(foo.x)"
   ]
  },
  {
   "cell_type": "code",
   "execution_count": 40,
   "metadata": {},
   "outputs": [
    {
     "name": "stdout",
     "output_type": "stream",
     "text": [
      "__set__(): Setting x on the object <__main__.Foo object at 0x0000017492915C10>\n"
     ]
    }
   ],
   "source": [
    "foo.x = 1"
   ]
  },
  {
   "cell_type": "code",
   "execution_count": 41,
   "metadata": {},
   "outputs": [
    {
     "name": "stdout",
     "output_type": "stream",
     "text": [
      "__get__(): Accessing x from the object <__main__.Foo object at 0x0000017492915C10>\n",
      "X from descriptor\n"
     ]
    }
   ],
   "source": [
    "print(foo.x)"
   ]
  },
  {
   "cell_type": "code",
   "execution_count": 31,
   "metadata": {},
   "outputs": [
    {
     "name": "stdout",
     "output_type": "stream",
     "text": [
      "100.0 Farenheit is equivalent to  37.78 Celsius\n",
      "37.78 Celsius is equivalent to  100.0 Farenheit\n"
     ]
    }
   ],
   "source": [
    "#Another Example of Descriptor\n",
    "class Celsius( object ):\n",
    "    def __init__( self, value=0.0 ):\n",
    "        self.value= float(value)\n",
    "    def __get__( self, instance, owner ):\n",
    "        return self.value\n",
    "    def __set__( self, instance, value ):\n",
    "        self.value= float(value)\n",
    "        \n",
    "class Farenheit( object ):\n",
    "    def __get__( self, instance, owner ):\n",
    "        return round(instance.celsius * 9 / 5 + 32,2)\n",
    "    def __set__( self, instance, value ):\n",
    "        instance.celsius= round((float(value)-32) * 5 / 9,2)\n",
    "\n",
    "class Temperature( object ):\n",
    "    celsius= Celsius()\n",
    "    farenheit= Farenheit()\n",
    "\n",
    "oven= Temperature()\n",
    "oven.farenheit= 100\n",
    "print(f'{oven.farenheit} Farenheit is equivalent to  {oven.celsius} Celsius')\n",
    "celsius= oven.celsius\n",
    "oven.celsius = celsius\n",
    "print(f'{oven.celsius} Celsius is equivalent to  {oven.farenheit} Farenheit')\n"
   ]
  },
  {
   "cell_type": "code",
   "execution_count": 37,
   "metadata": {},
   "outputs": [
    {
     "name": "stdout",
     "output_type": "stream",
     "text": [
      "100.0 Farenheit is equivalent to  37.78 Celsius\n",
      "37.78 Celsius is equivalent to  100.0 Farenheit\n"
     ]
    }
   ],
   "source": [
    "#Example of Property\n",
    "class Temperature( object ):\n",
    "    def fget( self ):\n",
    "        return round(self.celsius * 9 / 5 + 32,2)\n",
    "    def fset( self, value ):\n",
    "        self.celsius= round((float(value)-32) * 5 / 9,2)\n",
    "\n",
    "    farenheit= property( fget, fset )\n",
    "    \n",
    "    def cset( self, value ):\n",
    "        self.cTemp= float(value)\n",
    "    def cget( self ):\n",
    "        return self.cTemp\n",
    "    \n",
    "    celsius= property( cget, cset, doc=\"Celsius temperature\")\n",
    "\n",
    "oven= Temperature()\n",
    "oven.farenheit= 100\n",
    "print(f'{oven.farenheit} Farenheit is equivalent to  {oven.celsius} Celsius')\n",
    "celsius= oven.celsius\n",
    "oven.celsius = celsius\n",
    "print(f'{oven.celsius} Celsius is equivalent to  {oven.farenheit} Farenheit')\n"
   ]
  },
  {
   "cell_type": "code",
   "execution_count": 36,
   "metadata": {},
   "outputs": [
    {
     "name": "stdout",
     "output_type": "stream",
     "text": [
      "Getting value\n",
      "Hello\n",
      "\n",
      "Setting value to World\n",
      "Getting value\n",
      "World\n",
      "\n",
      "Deleting value\n",
      "Getting value\n"
     ]
    },
    {
     "ename": "AttributeError",
     "evalue": "'Alphabets' object has no attribute '_value'",
     "output_type": "error",
     "traceback": [
      "\u001b[1;31m---------------------------------------------------------------------------\u001b[0m",
      "\u001b[1;31mAttributeError\u001b[0m                            Traceback (most recent call last)",
      "\u001b[1;32mc:\\python\\assignments\\advance\\advance_assignment_10.ipynb Cell 12\u001b[0m line \u001b[0;36m3\n\u001b[0;32m     <a href='vscode-notebook-cell:/c%3A/python/assignments/advance/advance_assignment_10.ipynb#X45sZmlsZQ%3D%3D?line=30'>31</a>\u001b[0m \u001b[39mprint\u001b[39m()\n\u001b[0;32m     <a href='vscode-notebook-cell:/c%3A/python/assignments/advance/advance_assignment_10.ipynb#X45sZmlsZQ%3D%3D?line=31'>32</a>\u001b[0m \u001b[39mdel\u001b[39;00m x\u001b[39m.\u001b[39mvalue \n\u001b[1;32m---> <a href='vscode-notebook-cell:/c%3A/python/assignments/advance/advance_assignment_10.ipynb#X45sZmlsZQ%3D%3D?line=32'>33</a>\u001b[0m \u001b[39mprint\u001b[39m(x\u001b[39m.\u001b[39mvalue)\n",
      "\u001b[1;32mc:\\python\\assignments\\advance\\advance_assignment_10.ipynb Cell 12\u001b[0m line \u001b[0;36m1\n\u001b[0;32m      <a href='vscode-notebook-cell:/c%3A/python/assignments/advance/advance_assignment_10.ipynb#X45sZmlsZQ%3D%3D?line=6'>7</a>\u001b[0m \u001b[39m@property\u001b[39m\n\u001b[0;32m      <a href='vscode-notebook-cell:/c%3A/python/assignments/advance/advance_assignment_10.ipynb#X45sZmlsZQ%3D%3D?line=7'>8</a>\u001b[0m \u001b[39mdef\u001b[39;00m \u001b[39mvalue\u001b[39m(\u001b[39mself\u001b[39m):  \n\u001b[0;32m      <a href='vscode-notebook-cell:/c%3A/python/assignments/advance/advance_assignment_10.ipynb#X45sZmlsZQ%3D%3D?line=8'>9</a>\u001b[0m     \u001b[39mprint\u001b[39m(\u001b[39m'\u001b[39m\u001b[39mGetting value\u001b[39m\u001b[39m'\u001b[39m)  \n\u001b[1;32m---> <a href='vscode-notebook-cell:/c%3A/python/assignments/advance/advance_assignment_10.ipynb#X45sZmlsZQ%3D%3D?line=9'>10</a>\u001b[0m     \u001b[39mreturn\u001b[39;00m \u001b[39mself\u001b[39m\u001b[39m.\u001b[39m_value\n",
      "\u001b[1;31mAttributeError\u001b[0m: 'Alphabets' object has no attribute '_value'"
     ]
    }
   ],
   "source": [
    "#Example of Property using @property Decorator\n",
    "class Alphabets:  \n",
    "    def __init__(self, value):  \n",
    "        self._value = value  \n",
    "            \n",
    "    # getting the values      \n",
    "    @property\n",
    "    def value(self):  \n",
    "        print('Getting value')  \n",
    "        return self._value  \n",
    "            \n",
    "    # setting the values      \n",
    "    @value.setter  \n",
    "    def value(self, value):  \n",
    "        print('Setting value to ' + value)  \n",
    "        self._value = value  \n",
    "            \n",
    "    # deleting the values  \n",
    "    @value.deleter  \n",
    "    def value(self):  \n",
    "        print('Deleting value')  \n",
    "        del self._value  \n",
    "    \n",
    "    \n",
    "# passing the value  \n",
    "x = Alphabets('Hello')  \n",
    "print(x.value)  \n",
    "print()    \n",
    "x.value = 'World'\n",
    "print(x.value)\n",
    "print()\n",
    "del x.value \n",
    "print(x.value) "
   ]
  },
  {
   "cell_type": "markdown",
   "metadata": {},
   "source": [
    "#### Q3. What are the key differences in functionality between __getattr__ and __getattribute__, as well as properties and descriptors?\n",
    "**Ans:** The Key Differences between `__getattr__`, ` __getattribute__`, Properties and Descriptors are:\n",
    "\n",
    "**`__getattr__`**: Python will call this method whenever we request an attribute that hasn't already been defined.\n",
    "\n",
    "**`__getattribute__`** : This method will invoked before looking at the actual attributes on the object. Means, if we have `__getattribute__` method in our class, python invokes this method for every attribute regardless whether it exists or not. \n",
    "\n",
    "**Properties:** With Properties we can bind getter, setter and delete functions together with an attribute name, using the built-in property function or @property decorator. \n",
    "\n",
    "**Descriptor:** With Descriptor we can bind getter, setter and delete functions into a seperate class. we then assign an object of this class to the attribute name in our main class."
   ]
  }
 ],
 "metadata": {
  "kernelspec": {
   "display_name": "base",
   "language": "python",
   "name": "python3"
  },
  "language_info": {
   "codemirror_mode": {
    "name": "ipython",
    "version": 3
   },
   "file_extension": ".py",
   "mimetype": "text/x-python",
   "name": "python",
   "nbconvert_exporter": "python",
   "pygments_lexer": "ipython3",
   "version": "3.11.5"
  },
  "orig_nbformat": 4
 },
 "nbformat": 4,
 "nbformat_minor": 2
}
