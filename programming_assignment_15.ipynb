{
 "cells": [
  {
   "cell_type": "markdown",
   "id": "e4455c7a",
   "metadata": {},
   "source": [
    "<b>Question 1:<br/>\n",
    "Please write a program using generator to print the numbers which can be divisible by 5 and 7 between 0 and n in comma<br/> separated form while n is input by console.<br/>\n",
    "Example:<br/>\n",
    "If the following n is given as input to the program:<br/>\n",
    "100<br/>\n",
    "Then, the output of the program should be:<br/>\n",
    "0,35,70</b>\n",
    "\n",
    "\n",
    "\n",
    "\n",
    "\n"
   ]
  },
  {
   "cell_type": "code",
   "execution_count": 22,
   "id": "c91ee726",
   "metadata": {},
   "outputs": [
    {
     "name": "stdout",
     "output_type": "stream",
     "text": [
      "Enter the value for n: 100\n",
      "Output: 0,35,70\n"
     ]
    }
   ],
   "source": [
    "n = int(input('Enter the value for n: ')) \n",
    "g = (str(e) for e in range(n+1) if e%5 ==0 and e%7==0)\n",
    "print(\"Output:\",','.join(g))"
   ]
  },
  {
   "cell_type": "markdown",
   "id": "8a8fdeb2",
   "metadata": {},
   "source": [
    "<br/>"
   ]
  },
  {
   "cell_type": "markdown",
   "id": "13a5ef79",
   "metadata": {},
   "source": [
    "<b>Question 2:<br/>\n",
    "Please write a program using generator to print the even numbers between 0 and n in comma<br/>\n",
    "separated form while n is input by console.<br/>\n",
    "Example:<br/>\n",
    "If the following n is given as input to the program:<br/>\n",
    "10<br/>\n",
    "Then, the output of the program should be:<br/>\n",
    "0,2,4,6,8,10</b>\n"
   ]
  },
  {
   "cell_type": "code",
   "execution_count": 23,
   "id": "0819a397",
   "metadata": {},
   "outputs": [
    {
     "name": "stdout",
     "output_type": "stream",
     "text": [
      "Enter the value for n: 10\n",
      "Output: 0,2,4,6,8,10\n"
     ]
    }
   ],
   "source": [
    "n = int(input('Enter the value for n: ')) \n",
    "g = (str(e) for e in range(n+1) if e%2 ==0)\n",
    "print(\"Output:\",','.join(g))"
   ]
  },
  {
   "cell_type": "markdown",
   "id": "8ebc4584",
   "metadata": {},
   "source": [
    "<br/>"
   ]
  },
  {
   "cell_type": "markdown",
   "id": "e3585931",
   "metadata": {},
   "source": [
    "<b>Question 3:<br/>\n",
    "The Fibonacci Sequence is computed based on the following formula:<br/>\n",
    "f(n)=0 if n=0<br/>\n",
    "f(n)=1 if n=1<br/>\n",
    "f(n)=f(n-1)+f(n-2) if n>1<br/>\n",
    "Please write a program using list comprehension to print the Fibonacci Sequence in comma<br/>\n",
    "separated form with a given n input by console.<br/>\n",
    "Example:<br/>\n",
    "If the following n is given as input to the program:<br/>\n",
    "7<br/>\n",
    "\n",
    "Then, the output of the program should be:<br/>\n",
    "0,1,1,2,3,5,8,13</b>"
   ]
  },
  {
   "cell_type": "code",
   "execution_count": 24,
   "id": "bef67922",
   "metadata": {},
   "outputs": [
    {
     "name": "stdout",
     "output_type": "stream",
     "text": [
      "Enter the value for n: 7\n",
      "Output: 0,1,1,2,3,5,8,13\n"
     ]
    }
   ],
   "source": [
    "def genFibonaci(in_num):\n",
    "    if in_num == 0:\n",
    "        return 0\n",
    "    elif in_num == 1:\n",
    "        return 1\n",
    "    else:\n",
    "        return genFibonaci(in_num-1)+genFibonaci(in_num-2)\n",
    "\n",
    "n = int(input('Enter the value for n: '))     \n",
    "l = [str(genFibonaci(x)) for x in range(n+1)]\n",
    "print (\"Output:\",','.join(l))"
   ]
  },
  {
   "cell_type": "markdown",
   "id": "2f56e2b6",
   "metadata": {},
   "source": [
    "<br/>"
   ]
  },
  {
   "cell_type": "markdown",
   "id": "313e8314",
   "metadata": {},
   "source": [
    "<b>Question 4:<br/>\n",
    "Assuming that we have some email addresses in the \"username@companyname.com\" format,<br/>\n",
    "please write program to print the user name of a given email address. Both user names and<br/>\n",
    "company names are composed of letters only.<br/>\n",
    "Example:<br/>\n",
    "If the following email address is given as input to the program:<br/>\n",
    "john@google.com<br/>\n",
    "Then, the output of the program should be:<br/>\n",
    "john</b>\n"
   ]
  },
  {
   "cell_type": "code",
   "execution_count": null,
   "id": "8b645ac5",
   "metadata": {},
   "outputs": [],
   "source": [
    "def getUsernames():\n",
    "    in_string = input('Enter Email Address(es): ')\n",
    "    out_string = in_string.split('@')\n",
    "    print(f'Username of {in_string} is {out_string[0]}')\n",
    "\n",
    "for i in range(3):\n",
    "    getUsernames()"
   ]
  },
  {
   "cell_type": "code",
   "execution_count": 27,
   "id": "f49aab69",
   "metadata": {},
   "outputs": [
    {
     "name": "stdout",
     "output_type": "stream",
     "text": [
      "Username of john@google.com is john\n",
      "Username of ram@google.com is ram\n"
     ]
    }
   ],
   "source": [
    "def get_username(email):\n",
    "    out_string = email.split('@')\n",
    "    return out_string[0]\n",
    "    \n",
    "email = \"john@google.com\"\n",
    "print(f'Username of {email} is {get_username(email)}')\n",
    "\n",
    "email = \"ram@google.com\"\n",
    "print(f'Username of {email} is {get_username(email)}')"
   ]
  },
  {
   "cell_type": "markdown",
   "id": "dda01d49",
   "metadata": {},
   "source": [
    "<br/>"
   ]
  },
  {
   "cell_type": "markdown",
   "id": "13bd9890",
   "metadata": {},
   "source": [
    "<b>Question 5:<br/>\n",
    "Define a class named Shape and its subclass Square. The Square class has an init function<br/>\n",
    "which takes a length as argument. Both classes have a area function which can print the area<br/>\n",
    "of the shape where Shape's area is 0 by default.</b>"
   ]
  },
  {
   "cell_type": "code",
   "execution_count": 25,
   "id": "20fb96a9",
   "metadata": {},
   "outputs": [
    {
     "name": "stdout",
     "output_type": "stream",
     "text": [
      "10000\n"
     ]
    }
   ],
   "source": [
    "class Shape:\n",
    "    def area(self):\n",
    "        return 0\n",
    "\n",
    "class Square(Shape):\n",
    "    def __init__(self, length):\n",
    "        self.length = length\n",
    "    def area(self):\n",
    "        return self.length*self.length\n",
    "\n",
    "square = Square(100)\n",
    "print(square.area())"
   ]
  },
  {
   "cell_type": "code",
   "execution_count": null,
   "id": "cd3ffdcd",
   "metadata": {},
   "outputs": [],
   "source": []
  }
 ],
 "metadata": {
  "kernelspec": {
   "display_name": "Python 3 (ipykernel)",
   "language": "python",
   "name": "python3"
  },
  "language_info": {
   "codemirror_mode": {
    "name": "ipython",
    "version": 3
   },
   "file_extension": ".py",
   "mimetype": "text/x-python",
   "name": "python",
   "nbconvert_exporter": "python",
   "pygments_lexer": "ipython3",
   "version": "3.11.3"
  }
 },
 "nbformat": 4,
 "nbformat_minor": 5
}
