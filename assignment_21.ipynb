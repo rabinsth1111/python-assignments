{
 "cells": [
  {
   "cell_type": "markdown",
   "id": "f034b0b9",
   "metadata": {},
   "source": [
    "<b>1. Add the current date to the text file today.txt as a string.</b>\n"
   ]
  },
  {
   "cell_type": "code",
   "execution_count": 5,
   "id": "76708841",
   "metadata": {},
   "outputs": [],
   "source": [
    "import datetime\n",
    "#by using datetime.datetime\n",
    "file = open('today.txt','w')\n",
    "file.write(datetime.datetime.now().strftime(\"%Y-%m-%d\"))\n",
    "file.close()\n",
    "\n",
    "#by using datetime.date\n",
    "file = open('today_date.txt','w')\n",
    "file.write(datetime.date.today().strftime(\"%Y-%m-%d\"))\n",
    "file.close()\n"
   ]
  },
  {
   "cell_type": "markdown",
   "id": "16dc6995",
   "metadata": {},
   "source": [
    "<br/>"
   ]
  },
  {
   "cell_type": "markdown",
   "id": "3986fd35",
   "metadata": {},
   "source": [
    "<b>2. Read the text file today.txt into the string today_string</b>"
   ]
  },
  {
   "cell_type": "code",
   "execution_count": 2,
   "id": "3feab6b9",
   "metadata": {},
   "outputs": [
    {
     "name": "stdout",
     "output_type": "stream",
     "text": [
      "2023-09-12\n"
     ]
    }
   ],
   "source": [
    "file = open('today.txt','r')\n",
    "today_string = file.read()\n",
    "print(today_string)\n",
    "file.close()"
   ]
  },
  {
   "cell_type": "markdown",
   "id": "038a4cff",
   "metadata": {},
   "source": [
    "<br/>"
   ]
  },
  {
   "cell_type": "markdown",
   "id": "71f57391",
   "metadata": {},
   "source": [
    "<b>3. Parse the date from today_string.</b>"
   ]
  },
  {
   "cell_type": "code",
   "execution_count": 4,
   "id": "1418b3c9",
   "metadata": {},
   "outputs": [
    {
     "name": "stdout",
     "output_type": "stream",
     "text": [
      "2023-09-12\n"
     ]
    }
   ],
   "source": [
    "from datetime import datetime\n",
    "parsed_data = datetime.strptime(today_string, '%Y-%m-%d').date()\n",
    "print(parsed_data)"
   ]
  },
  {
   "cell_type": "markdown",
   "id": "700a5ad7",
   "metadata": {},
   "source": [
    "<br/>"
   ]
  },
  {
   "cell_type": "markdown",
   "id": "2da13190",
   "metadata": {},
   "source": [
    "<b>4. List the files in your current directory</b>"
   ]
  },
  {
   "cell_type": "code",
   "execution_count": 7,
   "id": "6ca62059",
   "metadata": {},
   "outputs": [
    {
     "name": "stdout",
     "output_type": "stream",
     "text": [
      "assignment_10.ipynb\n",
      "assignment_11.ipynb\n",
      "assignment_12.ipynb\n",
      "assignment_13.ipynb\n",
      "assignment_14.ipynb\n",
      "assignment_15.ipynb\n",
      "assignment_16.ipynb\n",
      "assignment_21.ipynb\n",
      "drawing.png\n",
      "ebook.pdf\n",
      "errorInfo.txt\n",
      "file.txt\n",
      "new.zip\n",
      "new_pics.zip\n",
      "person.csv\n",
      "persons.csv\n",
      "pics.zip\n",
      "practice.ipynb\n",
      "programLog.txt\n",
      "test.zip\n",
      "test1.txt\n",
      "test2.txt\n",
      "test_tab_delimeter.csv\n",
      "today.txt\n",
      "today_date.txt\n",
      "Untitled.ipynb\n",
      "url.txt\n",
      "assignment_10-checkpoint.ipynb\n",
      "assignment_11-checkpoint.ipynb\n",
      "assignment_12-checkpoint.ipynb\n",
      "assignment_13-checkpoint.ipynb\n",
      "assignment_14-checkpoint.ipynb\n",
      "assignment_15-checkpoint.ipynb\n",
      "assignment_16-checkpoint.ipynb\n",
      "assignment_21-checkpoint.ipynb\n",
      "practice-checkpoint.ipynb\n",
      "Untitled-checkpoint.ipynb\n",
      "ANALYSIS1.$et\n",
      "ANALYSIS1.ebk\n",
      "ANALYSIS1.EDB\n",
      "ANALYSIS1.msh\n",
      "Book1.xlsx\n",
      "text.txt\n",
      "text1.txt\n",
      "text11.txt\n",
      "text1.txt\n",
      "text11.txt\n",
      "test1.txt\n",
      "test2.txt\n"
     ]
    }
   ],
   "source": [
    "import os\n",
    "for folders, subfolders, files in os.walk(os.getcwd()):\n",
    "    for file in files:\n",
    "        print(file)"
   ]
  },
  {
   "cell_type": "markdown",
   "id": "28cc11c4",
   "metadata": {},
   "source": [
    "<br/>"
   ]
  },
  {
   "cell_type": "markdown",
   "id": "be5a830e",
   "metadata": {},
   "source": [
    "<b>5. Create a list of all of the files in your parent directory (minimum five files should be available).</b>"
   ]
  },
  {
   "cell_type": "code",
   "execution_count": 8,
   "id": "d005b727",
   "metadata": {},
   "outputs": [
    {
     "data": {
      "text/plain": [
       "['.ipynb_checkpoints',\n",
       " 'assignment_10.ipynb',\n",
       " 'assignment_11.ipynb',\n",
       " 'assignment_12.ipynb',\n",
       " 'assignment_13.ipynb',\n",
       " 'assignment_14.ipynb',\n",
       " 'assignment_15.ipynb',\n",
       " 'assignment_16.ipynb',\n",
       " 'assignment_21.ipynb',\n",
       " 'drawing.png',\n",
       " 'ebook.pdf',\n",
       " 'errorInfo.txt',\n",
       " 'file.txt',\n",
       " 'madhutar',\n",
       " 'new.zip',\n",
       " 'new_new',\n",
       " 'new_pics.zip',\n",
       " 'person.csv',\n",
       " 'persons.csv',\n",
       " 'pics',\n",
       " 'pics.zip',\n",
       " 'practice.ipynb',\n",
       " 'programLog.txt',\n",
       " 'test.zip',\n",
       " 'test1.txt',\n",
       " 'test2.txt',\n",
       " 'test_exracted',\n",
       " 'test_tab_delimeter.csv',\n",
       " 'today.txt',\n",
       " 'today_date.txt',\n",
       " 'Untitled.ipynb',\n",
       " 'url.txt']"
      ]
     },
     "execution_count": 8,
     "metadata": {},
     "output_type": "execute_result"
    }
   ],
   "source": [
    "import os \n",
    "os.listdir()"
   ]
  },
  {
   "cell_type": "markdown",
   "id": "5a205a4b",
   "metadata": {},
   "source": [
    "<br/>"
   ]
  },
  {
   "cell_type": "markdown",
   "id": "5d45929e",
   "metadata": {},
   "source": [
    "<b>6. Use multiprocessing to create three separate processes. Make each one wait a random number of\n",
    "seconds between one and five, print the current time, and then exit.</b>"
   ]
  },
  {
   "cell_type": "code",
   "execution_count": null,
   "id": "49e9ef95",
   "metadata": {},
   "outputs": [],
   "source": [
    "import multiprocessing\n",
    "import random\n",
    "import time\n",
    "import datetime\n",
    "\n",
    "def processOne():\n",
    "    print(f'Process_one Start time -> {datetime.datetime.now()}')\n",
    "    time.sleep(random.randint(1,5))\n",
    "    print(f'Process_one End time -> {datetime.datetime.now()}')\n",
    "    \n",
    "def processTwo():\n",
    "    print(f'Process_two Start time -> {datetime.datetime.now()}')\n",
    "    time.sleep(random.randint(1,5))\n",
    "    print(f'Process_two End time -> {datetime.datetime.now()}')\n",
    "\n",
    "def processThree():\n",
    "    print(f'Process_three Start time -> {datetime.datetime.now()}')\n",
    "    time.sleep(random.randint(1,5))\n",
    "    print(f'Process_three End time -> {datetime.datetime.now()}')\n",
    "    \n",
    "if __name__ == \"__main__\":    \n",
    "    p1 = multiprocessing.Process(target=processOne)\n",
    "    p2 = multiprocessing.Process(target=processTwo)\n",
    "    p3 = multiprocessing.Process(target=processThree)\n",
    "\n",
    "    p1.start()\n",
    "    p2.start()\n",
    "    p3.start()\n",
    "\n",
    "    p1.join()\n",
    "    p2.join()\n",
    "    p3.join()"
   ]
  },
  {
   "cell_type": "markdown",
   "id": "f3753cab",
   "metadata": {},
   "source": [
    "Above code does not run in jupyter notebook. So, code is written in separate file 'multiprocess.py' and executed by issuing command: python multiprocess.py  <br/>\n",
    "<b>Output:</b> <br/>\n",
    "Process_one Start time -> 2023-09-12 12:20:53.994009<br/>\n",
    "Process_two Start time -> 2023-09-12 12:20:53.995008<br/>\n",
    "Process_three Start time -> 2023-09-12 12:20:53.998493<br/>\n",
    "Process_two End time -> 2023-09-12 12:20:54.995910<br/>\n",
    "Process_one End time -> 2023-09-12 12:20:57.995396<br/>\n",
    "Process_three End time -> 2023-09-12 12:20:58.999360<br/>\n"
   ]
  },
  {
   "cell_type": "markdown",
   "id": "d3e577be",
   "metadata": {},
   "source": [
    "<br/>"
   ]
  },
  {
   "cell_type": "markdown",
   "id": "b2c5cfe1",
   "metadata": {},
   "source": [
    "<b>7. Create a date object of your day of birth.</b>"
   ]
  },
  {
   "cell_type": "code",
   "execution_count": 16,
   "id": "5e8f664f",
   "metadata": {},
   "outputs": [
    {
     "name": "stdout",
     "output_type": "stream",
     "text": [
      "1990-10-02 <class 'datetime.date'>\n"
     ]
    }
   ],
   "source": [
    "from datetime import datetime\n",
    "my_dob = datetime.strptime('02/10/1990','%d/%m/%Y').date()\n",
    "print(my_dob, type(my_dob))"
   ]
  },
  {
   "cell_type": "markdown",
   "id": "12c4eb99",
   "metadata": {},
   "source": [
    "<br/>"
   ]
  },
  {
   "cell_type": "markdown",
   "id": "51e44f61",
   "metadata": {},
   "source": [
    "<b>8. What day of the week was your day of birth?</b>"
   ]
  },
  {
   "cell_type": "code",
   "execution_count": 19,
   "id": "c738aebd",
   "metadata": {},
   "outputs": [
    {
     "data": {
      "text/plain": [
       "'Tuesday'"
      ]
     },
     "execution_count": 19,
     "metadata": {},
     "output_type": "execute_result"
    }
   ],
   "source": [
    "from datetime import datetime\n",
    "my_dob = datetime(1990,10,2)\n",
    "my_dob.strftime(\"%A\")"
   ]
  },
  {
   "cell_type": "markdown",
   "id": "5b3428c6",
   "metadata": {},
   "source": [
    "<br/>"
   ]
  },
  {
   "cell_type": "markdown",
   "id": "7d2d2d6b",
   "metadata": {},
   "source": [
    "<b>9. When will you be (or when were you) 10,000 days old?</b>"
   ]
  },
  {
   "cell_type": "code",
   "execution_count": 26,
   "id": "b2b0130b",
   "metadata": {},
   "outputs": [
    {
     "name": "stdout",
     "output_type": "stream",
     "text": [
      "2018-02-17\n"
     ]
    }
   ],
   "source": [
    "from datetime import datetime, timedelta\n",
    "my_dob = datetime.strptime(\"02/10/1990\",'%d/%m/%Y').date()\n",
    "future_date = my_dob+timedelta(days =10000)\n",
    "print(future_date)"
   ]
  },
  {
   "cell_type": "code",
   "execution_count": null,
   "id": "ed29440b",
   "metadata": {},
   "outputs": [],
   "source": []
  }
 ],
 "metadata": {
  "kernelspec": {
   "display_name": "Python 3 (ipykernel)",
   "language": "python",
   "name": "python3"
  },
  "language_info": {
   "codemirror_mode": {
    "name": "ipython",
    "version": 3
   },
   "file_extension": ".py",
   "mimetype": "text/x-python",
   "name": "python",
   "nbconvert_exporter": "python",
   "pygments_lexer": "ipython3",
   "version": "3.11.3"
  }
 },
 "nbformat": 4,
 "nbformat_minor": 5
}
