{
 "cells": [
  {
   "cell_type": "markdown",
   "metadata": {},
   "source": [
    "#### Q1. What is the purpose of the try statement? \n",
    "**Ans:** The try block is used to check some code for errors i.e the code inside the try block will execute when there is no error in the program. Whereas the code inside the except block will execute whenever the program encounters some error in the preceding try block."
   ]
  },
  {
   "cell_type": "code",
   "execution_count": 1,
   "metadata": {},
   "outputs": [
    {
     "name": "stdout",
     "output_type": "stream",
     "text": [
      "Division by Zero is Not Possible\n"
     ]
    }
   ],
   "source": [
    "try:\n",
    "    print(10/0)\n",
    "except ZeroDivisionError:\n",
    "    print('Division by Zero is Not Possible')"
   ]
  },
  {
   "cell_type": "markdown",
   "metadata": {},
   "source": [
    "<br/>"
   ]
  },
  {
   "cell_type": "markdown",
   "metadata": {},
   "source": [
    "#### Q2. What are the two most popular try statement variations?\n",
    "**Ans:** The Popular try statement variations are:\n",
    "1. try, except\n",
    "2. try, except, finally\n",
    "3. try, except, finally, else\n",
    "\n",
    "Code inside **try** block will execute completely when there is no error in the program. <br/>The code inside **except** block will execute whenever the program encounters some error in the preceeding **try** block.\n",
    "\n",
    "The code inside the **else** block will execute if try clause does not raise exception, and the code in the **finally** block will always execute."
   ]
  },
  {
   "cell_type": "code",
   "execution_count": 6,
   "metadata": {},
   "outputs": [
    {
     "name": "stdout",
     "output_type": "stream",
     "text": [
      "10/2 is : 5.0\n",
      "This is always executed\n",
      "\n",
      "Sorry ! You are dividing by zero \n",
      "This is always executed\n"
     ]
    }
   ],
   "source": [
    "#Example\n",
    "def divide(x, y):\n",
    "    try:\n",
    "        result = x / y\n",
    "    except ZeroDivisionError:\n",
    "        print(\"Sorry ! You are dividing by zero \")\n",
    "    else:\n",
    "        print(f\"{x}/{y} is :\", result)    \n",
    "    finally: \n",
    "        # this block is always executed  \n",
    "        # regardless of exception generation. \n",
    "        print('This is always executed')     \n",
    "   \n",
    " \n",
    "divide(10, 2)\n",
    "print()\n",
    "divide(5, 0)"
   ]
  },
  {
   "cell_type": "markdown",
   "metadata": {},
   "source": [
    "<br/>"
   ]
  },
  {
   "cell_type": "markdown",
   "metadata": {},
   "source": [
    "#### Q3. What is the purpose of the raise statement?\n",
    "**Ans:** raise statement is used to trigger an exception explicitly, if a certain condition is met. It helps in triggering exception as per programming logic."
   ]
  },
  {
   "cell_type": "code",
   "execution_count": 13,
   "metadata": {},
   "outputs": [
    {
     "ename": "Exception",
     "evalue": "Value of x should be positive. The provided value of x is -10",
     "output_type": "error",
     "traceback": [
      "\u001b[1;31m---------------------------------------------------------------------------\u001b[0m",
      "\u001b[1;31mException\u001b[0m                                 Traceback (most recent call last)",
      "\u001b[1;32mc:\\python\\assignments\\advance\\advance_assignment_7.ipynb Cell 8\u001b[0m line \u001b[0;36m4\n\u001b[0;32m      <a href='vscode-notebook-cell:/c%3A/python/assignments/advance/advance_assignment_7.ipynb#X15sZmlsZQ%3D%3D?line=1'>2</a>\u001b[0m x \u001b[39m=\u001b[39m \u001b[39m-\u001b[39m\u001b[39m10\u001b[39m\n\u001b[0;32m      <a href='vscode-notebook-cell:/c%3A/python/assignments/advance/advance_assignment_7.ipynb#X15sZmlsZQ%3D%3D?line=2'>3</a>\u001b[0m \u001b[39mif\u001b[39;00m x\u001b[39m<\u001b[39m\u001b[39m0\u001b[39m:\n\u001b[1;32m----> <a href='vscode-notebook-cell:/c%3A/python/assignments/advance/advance_assignment_7.ipynb#X15sZmlsZQ%3D%3D?line=3'>4</a>\u001b[0m     \u001b[39mraise\u001b[39;00m \u001b[39mException\u001b[39;00m(\u001b[39mf\u001b[39m\u001b[39m'\u001b[39m\u001b[39mValue of x should be positive. The provided value of x is \u001b[39m\u001b[39m{\u001b[39;00mx\u001b[39m}\u001b[39;00m\u001b[39m'\u001b[39m)\n\u001b[0;32m      <a href='vscode-notebook-cell:/c%3A/python/assignments/advance/advance_assignment_7.ipynb#X15sZmlsZQ%3D%3D?line=4'>5</a>\u001b[0m \u001b[39mprint\u001b[39m(x)\n",
      "\u001b[1;31mException\u001b[0m: Value of x should be positive. The provided value of x is -10"
     ]
    }
   ],
   "source": [
    "# Example\n",
    "x = -10\n",
    "if x<0:\n",
    "    raise Exception(f'Value of x should be positive. The provided value of x is {x}')\n",
    "print(x)"
   ]
  },
  {
   "cell_type": "markdown",
   "metadata": {},
   "source": [
    "<br/>"
   ]
  },
  {
   "cell_type": "markdown",
   "metadata": {},
   "source": [
    "#### Q4. What does the assert statement do, and what other statement is it like?\n",
    "**Ans:** Assertions are mainly assumptions that a programmer knows or always wants to be true and hence puts them in code so that failure of these doesn’t allow the code to execute further. \n",
    "\n",
    "Python assertion is the boolean expression that checks if the statement is True or False. <br/>If the statement is true then it does nothing and continues the execution, but if the statement is False then it stops the execution of the program and throws an error."
   ]
  },
  {
   "cell_type": "code",
   "execution_count": 14,
   "metadata": {},
   "outputs": [
    {
     "ename": "AssertionError",
     "evalue": "Value of x should be greater than zero.",
     "output_type": "error",
     "traceback": [
      "\u001b[1;31m---------------------------------------------------------------------------\u001b[0m",
      "\u001b[1;31mAssertionError\u001b[0m                            Traceback (most recent call last)",
      "\u001b[1;32mc:\\python\\assignments\\advance\\advance_assignment_7.ipynb Cell 11\u001b[0m line \u001b[0;36m3\n\u001b[0;32m      <a href='vscode-notebook-cell:/c%3A/python/assignments/advance/advance_assignment_7.ipynb#X11sZmlsZQ%3D%3D?line=0'>1</a>\u001b[0m \u001b[39m# Example\u001b[39;00m\n\u001b[0;32m      <a href='vscode-notebook-cell:/c%3A/python/assignments/advance/advance_assignment_7.ipynb#X11sZmlsZQ%3D%3D?line=1'>2</a>\u001b[0m x \u001b[39m=\u001b[39m \u001b[39m-\u001b[39m\u001b[39m10\u001b[39m\n\u001b[1;32m----> <a href='vscode-notebook-cell:/c%3A/python/assignments/advance/advance_assignment_7.ipynb#X11sZmlsZQ%3D%3D?line=2'>3</a>\u001b[0m \u001b[39massert\u001b[39;00m(x\u001b[39m>\u001b[39m\u001b[39m0\u001b[39m), \u001b[39m'\u001b[39m\u001b[39mValue of x should be greater than zero.\u001b[39m\u001b[39m'\u001b[39m\n",
      "\u001b[1;31mAssertionError\u001b[0m: Value of x should be greater than zero."
     ]
    }
   ],
   "source": [
    "# Example\n",
    "x = -10\n",
    "assert(x>0), 'Value of x should be greater than zero.' \n"
   ]
  },
  {
   "cell_type": "code",
   "execution_count": 15,
   "metadata": {},
   "outputs": [
    {
     "name": "stdout",
     "output_type": "stream",
     "text": [
      "Area of rectangle with length 10 and 5 is 50\n"
     ]
    },
    {
     "ename": "AssertionError",
     "evalue": "Length and width must be positive",
     "output_type": "error",
     "traceback": [
      "\u001b[1;31m---------------------------------------------------------------------------\u001b[0m",
      "\u001b[1;31mAssertionError\u001b[0m                            Traceback (most recent call last)",
      "\u001b[1;32mc:\\python\\assignments\\advance\\advance_assignment_7.ipynb Cell 12\u001b[0m line \u001b[0;36m1\n\u001b[0;32m      <a href='vscode-notebook-cell:/c%3A/python/assignments/advance/advance_assignment_7.ipynb#X16sZmlsZQ%3D%3D?line=7'>8</a>\u001b[0m area1 \u001b[39m=\u001b[39m calculate_rectangle_area(\u001b[39m10\u001b[39m, \u001b[39m5\u001b[39m)\n\u001b[0;32m      <a href='vscode-notebook-cell:/c%3A/python/assignments/advance/advance_assignment_7.ipynb#X16sZmlsZQ%3D%3D?line=8'>9</a>\u001b[0m \u001b[39mprint\u001b[39m(\u001b[39mf\u001b[39m\u001b[39m\"\u001b[39m\u001b[39mArea of rectangle with length 10 and 5 is\u001b[39m\u001b[39m\"\u001b[39m, area1)\n\u001b[1;32m---> <a href='vscode-notebook-cell:/c%3A/python/assignments/advance/advance_assignment_7.ipynb#X16sZmlsZQ%3D%3D?line=10'>11</a>\u001b[0m area2 \u001b[39m=\u001b[39m calculate_rectangle_area(\u001b[39m-\u001b[39m\u001b[39m10\u001b[39m, \u001b[39m5\u001b[39m)\n\u001b[0;32m     <a href='vscode-notebook-cell:/c%3A/python/assignments/advance/advance_assignment_7.ipynb#X16sZmlsZQ%3D%3D?line=11'>12</a>\u001b[0m \u001b[39mprint\u001b[39m(\u001b[39m\"\u001b[39m\u001b[39mArea of rectangle with length -10 and width 5 is\u001b[39m\u001b[39m\"\u001b[39m, area2)\n",
      "\u001b[1;32mc:\\python\\assignments\\advance\\advance_assignment_7.ipynb Cell 12\u001b[0m line \u001b[0;36m4\n\u001b[0;32m      <a href='vscode-notebook-cell:/c%3A/python/assignments/advance/advance_assignment_7.ipynb#X16sZmlsZQ%3D%3D?line=1'>2</a>\u001b[0m \u001b[39mdef\u001b[39;00m \u001b[39mcalculate_rectangle_area\u001b[39m(length, width):\n\u001b[0;32m      <a href='vscode-notebook-cell:/c%3A/python/assignments/advance/advance_assignment_7.ipynb#X16sZmlsZQ%3D%3D?line=2'>3</a>\u001b[0m     \u001b[39m# Assertion to check that the length and width are positive\u001b[39;00m\n\u001b[1;32m----> <a href='vscode-notebook-cell:/c%3A/python/assignments/advance/advance_assignment_7.ipynb#X16sZmlsZQ%3D%3D?line=3'>4</a>\u001b[0m     \u001b[39massert\u001b[39;00m length \u001b[39m>\u001b[39m \u001b[39m0\u001b[39m \u001b[39mand\u001b[39;00m width \u001b[39m>\u001b[39m \u001b[39m0\u001b[39m, \u001b[39m\"\u001b[39m\u001b[39mLength and width must be positive\u001b[39m\u001b[39m\"\u001b[39m\n\u001b[0;32m      <a href='vscode-notebook-cell:/c%3A/python/assignments/advance/advance_assignment_7.ipynb#X16sZmlsZQ%3D%3D?line=4'>5</a>\u001b[0m     area \u001b[39m=\u001b[39m length \u001b[39m*\u001b[39m width\n\u001b[0;32m      <a href='vscode-notebook-cell:/c%3A/python/assignments/advance/advance_assignment_7.ipynb#X16sZmlsZQ%3D%3D?line=5'>6</a>\u001b[0m     \u001b[39mreturn\u001b[39;00m area\n",
      "\u001b[1;31mAssertionError\u001b[0m: Length and width must be positive"
     ]
    }
   ],
   "source": [
    "#Example\n",
    "def calculate_rectangle_area(length, width):\n",
    "    # Assertion to check that the length and width are positive\n",
    "    assert length > 0 and width > 0, \"Length and width must be positive\"\n",
    "    area = length * width\n",
    "    return area\n",
    "\n",
    "area1 = calculate_rectangle_area(10, 5)\n",
    "print(f\"Area of rectangle with length 10 and 5 is\", area1)\n",
    "\n",
    "area2 = calculate_rectangle_area(-10, 5)\n",
    "print(\"Area of rectangle with length -10 and width 5 is\", area2)"
   ]
  },
  {
   "cell_type": "markdown",
   "metadata": {},
   "source": [
    "<br/>"
   ]
  },
  {
   "cell_type": "markdown",
   "metadata": {},
   "source": [
    "#### Q5. What is the purpose of the with/as argument, and what other statement is it like?\n",
    "**Ans:** The with statement in Python is used for resource management and exception handling.<br/>\n",
    "The with statement is a replacement for commonly used try/finally error-handling statements.\n",
    "\n",
    "The code block below shows the try-finally approach to open and write a file.    "
   ]
  },
  {
   "cell_type": "code",
   "execution_count": 16,
   "metadata": {},
   "outputs": [],
   "source": [
    "file = open(\"example.txt\", \"w\")\n",
    "\n",
    "try:\n",
    "    file.write(\"Hello world\")\n",
    "finally:\n",
    "    file.close()"
   ]
  },
  {
   "cell_type": "markdown",
   "metadata": {},
   "source": [
    "But we can use with statement to open and write a file as:"
   ]
  },
  {
   "cell_type": "code",
   "execution_count": 17,
   "metadata": {},
   "outputs": [],
   "source": [
    "with open(\"example.txt\", \"w\") as file:\n",
    "    file.write(\"Hello World!\")"
   ]
  }
 ],
 "metadata": {
  "kernelspec": {
   "display_name": "base",
   "language": "python",
   "name": "python3"
  },
  "language_info": {
   "codemirror_mode": {
    "name": "ipython",
    "version": 3
   },
   "file_extension": ".py",
   "mimetype": "text/x-python",
   "name": "python",
   "nbconvert_exporter": "python",
   "pygments_lexer": "ipython3",
   "version": "3.11.5"
  },
  "orig_nbformat": 4
 },
 "nbformat": 4,
 "nbformat_minor": 2
}
