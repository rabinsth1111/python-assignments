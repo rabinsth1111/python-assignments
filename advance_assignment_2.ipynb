{
 "cells": [
  {
   "cell_type": "markdown",
   "metadata": {},
   "source": [
    "#### Q1. What is the relationship between classes and modules?\n",
    "**Ans:** A Python class is like an outline or a blueprint for creating a new object.\n",
    "\n",
    "Whereas, module is simply a python file that contains a set of functions and classes that can be imported inside another python program."
   ]
  },
  {
   "cell_type": "code",
   "execution_count": 2,
   "metadata": {},
   "outputs": [
    {
     "name": "stdout",
     "output_type": "stream",
     "text": [
      "Square root of 2: 1.4142135623730951\n"
     ]
    }
   ],
   "source": [
    "#Example, load math module\n",
    "import math\n",
    "print('Square root of 2:',math.sqrt(2))"
   ]
  },
  {
   "cell_type": "code",
   "execution_count": 3,
   "metadata": {},
   "outputs": [
    {
     "name": "stdout",
     "output_type": "stream",
     "text": [
      "sin(0): 0.0\n",
      "cos(0): 1.0\n"
     ]
    }
   ],
   "source": [
    "#load specific function from module\n",
    "from math import sin, cos as cosine\n",
    "print('sin(0):',sin(0))\n",
    "print('cos(0):',cosine(0))"
   ]
  },
  {
   "cell_type": "markdown",
   "metadata": {},
   "source": [
    "<br/>"
   ]
  },
  {
   "cell_type": "markdown",
   "metadata": {},
   "source": [
    "#### Q2. How do you make instances and classes?\n",
    "**Ans:** For creating a class instance, we call a class by its name and pass the arguments which its __ init__ method accepts.\n",
    "\n",
    "Example:<br/> S1 = Student('Ram Verma',20,'Male') <br/>\n",
    "Here S1 is an instance of class Student with arguments or parameters 'Ram Verma',20,'Male' that are passed to the constructor ie; __ init__ function of the class Student.\n",
    "\n",
    "Whereas for creating a class, we use the **Class** keyword. Class keyword is followed by classname and semicolon.\n",
    "\n",
    "Example: Here Student is a class with arguments name, age and gender. \n",
    "\n",
    "class Student:<br/>\n",
    "    &nbsp;&nbsp;def __ init__(self, name, age, gender):<br/>\n",
    "    &nbsp;&nbsp;&nbsp;&nbsp;self.name = name<br/>\n",
    "    &nbsp;&nbsp;&nbsp;&nbsp;self.age = age<br/>\n",
    "    &nbsp;&nbsp;&nbsp;&nbsp;self.gender = gender<br/>\n",
    "        "
   ]
  },
  {
   "cell_type": "markdown",
   "metadata": {},
   "source": [
    "<br/>"
   ]
  },
  {
   "cell_type": "markdown",
   "metadata": {},
   "source": [
    "#### Q3. Where and how should be class attributes created?\n",
    "**Ans:** Class attributes or Class level attributes belong to the class itself and are shared by all the instances(objects) of the class. Hence these attributes are usually defined in the top of class definition outside of methods.\n",
    "\n",
    "Example: In the below code we are defining a class attribute called no_of_wheels which are shared by all the instances(objects) of the class Bike.\n",
    "\n",
    "class Bike:<br/>\n",
    "&nbsp;&nbsp;    no_of_wheels = 2   # this is a class attribute<br/>\n",
    "&nbsp;&nbsp;    def __ init__(self,color,price,engine):<br/>\n",
    "&nbsp;&nbsp;&nbsp;&nbsp;&nbsp;&nbsp;&nbsp;&nbsp;self.color = color # instance attributes<br/>\n",
    "&nbsp;&nbsp;&nbsp;&nbsp;&nbsp;&nbsp;&nbsp;&nbsp;self.price = price<br/>\n",
    "&nbsp;&nbsp;&nbsp;&nbsp;&nbsp;&nbsp;&nbsp;&nbsp;self.engine = engine<br/>"
   ]
  },
  {
   "cell_type": "markdown",
   "metadata": {},
   "source": [
    "<br/>"
   ]
  },
  {
   "cell_type": "markdown",
   "metadata": {},
   "source": [
    "#### Q4. Where and how are instance attributes created?\n",
    "**Ans:** Instance attributes are passed to the class when an object of the class is created. Unlike class attributes, instance attributes are not shared by all objects of the class, instead each object maintains its own copy of instance attributes at object level. <br/>Whereas, incase of class attributes, all instances of class refer to a single copy.<br/> Instance attributes are defined within the  __ init__ method of the class.\n",
    "\n",
    "Example:<br/> \n",
    "\n",
    "class Bike:<br/>\n",
    "&nbsp;&nbsp;&nbsp;&nbsp;    def __ init__(self,name,color,price,engine):<br/>\n",
    "&nbsp;&nbsp;&nbsp;&nbsp;&nbsp;&nbsp;&nbsp;&nbsp;        self.name = name # instance attributes<br/>\n",
    "&nbsp;&nbsp;&nbsp;&nbsp;&nbsp;&nbsp;&nbsp;&nbsp;        self.color = color<br/>\n",
    "&nbsp;&nbsp;&nbsp;&nbsp;&nbsp;&nbsp;&nbsp;&nbsp;        self.price = price<br/>\n",
    "&nbsp;&nbsp;&nbsp;&nbsp;&nbsp;&nbsp;&nbsp;&nbsp;        self.engine = engine<br/>\n",
    "        \n",
    "B1 = Bike('Pulsar 150','black',70000, '150cc')  <br/>\n",
    "B2 = Bike('Honda Shine 125','blue',50000, '125cc')<br/>\n",
    "B3 = Bike('Pulsar 200','black',90000, '200cc')<br/>\n",
    "\n",
    "B1, B2, B3 are different instances of class Bike with different instance variables or attributes."
   ]
  },
  {
   "cell_type": "markdown",
   "metadata": {},
   "source": [
    "<br/>"
   ]
  },
  {
   "cell_type": "markdown",
   "metadata": {},
   "source": [
    "#### Q5. What does the term \"self\" in a Python class mean?\n",
    "**Ans:** \"self\" represents the instance of the class (it represents the object itself). By using the “self” keyword we can access the attributes and methods within the class in python. "
   ]
  },
  {
   "cell_type": "code",
   "execution_count": 7,
   "metadata": {},
   "outputs": [
    {
     "name": "stdout",
     "output_type": "stream",
     "text": [
      "{'name': 'Pulsar 150', 'color': 'black', 'price': 70000, 'engine': '150cc'}\n",
      "{'name': 'Honda Shine 125', 'color': 'blue', 'price': 50000, 'engine': '125cc'}\n",
      "{'name': 'Pulsar 200', 'color': 'black', 'price': 90000, 'engine': '200cc'}\n"
     ]
    }
   ],
   "source": [
    "class Bike:\n",
    "    def __init__(self,name,color,price,engine):\n",
    "        self.name = name # instance attributes\n",
    "        self.color = color \n",
    "        self.price = price\n",
    "        self.engine = engine\n",
    "        \n",
    "B1 = Bike('Pulsar 150','black',70000, '150cc')  \n",
    "B2 = Bike('Honda Shine 125','blue',50000, '125cc')\n",
    "B3 = Bike('Pulsar 200','black',90000, '200cc')\n",
    "\n",
    "print(B1.__dict__)\n",
    "print(B2.__dict__)\n",
    "print(B3.__dict__)"
   ]
  },
  {
   "cell_type": "markdown",
   "metadata": {},
   "source": [
    "#### Q6. How does a Python class handle operator overloading?\n",
    "**Ans:** Python Classes handle operator overloading by using special methods called **Magic methods**. These special methods usually begin and end with **__** (double underscore)  \n",
    "Example: Magic methods for basic arithmetic operators are:\n",
    "- '+' -> __ add__()\n",
    "- '-' -> __ sub__()\n",
    "- '*' -> __ mul__()\n",
    "- '/' -> __ div__()"
   ]
  },
  {
   "cell_type": "code",
   "execution_count": 14,
   "metadata": {},
   "outputs": [
    {
     "name": "stdout",
     "output_type": "stream",
     "text": [
      "(3, 5)\n"
     ]
    }
   ],
   "source": [
    "class complex:\n",
    "    def __init__(self, a, b):\n",
    "        self.a = a\n",
    "        self.b = b\n",
    " \n",
    "     # adding two objects\n",
    "    def __add__(self, other):\n",
    "        return self.a + other.a, self.b + other.b\n",
    " \n",
    "Ob1 = complex(1, 2)\n",
    "Ob2 = complex(2, 3)\n",
    "Ob3 = Ob1 + Ob2\n",
    "print(Ob3)"
   ]
  },
  {
   "cell_type": "markdown",
   "metadata": {},
   "source": [
    "<br/>"
   ]
  },
  {
   "cell_type": "markdown",
   "metadata": {},
   "source": [
    "#### Q7. When do you consider allowing operator overloading of your classes?\n",
    "**Ans:** When we want to have different meaning for the same operator accroding to the context we use operator overloading."
   ]
  },
  {
   "cell_type": "markdown",
   "metadata": {},
   "source": [
    "<br/>"
   ]
  },
  {
   "cell_type": "markdown",
   "metadata": {},
   "source": [
    "#### Q8. What is the most popular form of operator overloading?\n",
    "**Ans:** The most popular form of operator overloading is the Addition (+) operator.\n",
    "\n",
    "It performs \"Addition\" on numbers whereas it performs \"Concatenation\" on strings.\n",
    "\n"
   ]
  },
  {
   "cell_type": "code",
   "execution_count": 13,
   "metadata": {},
   "outputs": [
    {
     "name": "stdout",
     "output_type": "stream",
     "text": [
      "Sum -> 30\n",
      "String Concatenation -> Hello World\n"
     ]
    }
   ],
   "source": [
    "class A:\n",
    "    def __init__(self,a):\n",
    "        self.a = a\n",
    "    def __add__(self,o):\n",
    "        return self.a+o.a\n",
    "obj1 = A(10)\n",
    "obj2 = A(20)\n",
    "obj3 = A('Hello ')\n",
    "obj4 = A('World')\n",
    "print(f'Sum -> {obj1+obj2}')\n",
    "print(f'String Concatenation -> {obj3+obj4}')"
   ]
  },
  {
   "cell_type": "markdown",
   "metadata": {},
   "source": [
    "#### Q9. What are the two most important concepts to grasp in order to comprehend Python OOP code?\n",
    "**Ans:** **Classes** and **objects** two most important concepts to grasp in order to comprehend Python OOP code. <br/>\n",
    "Along with classes and objects, the important concepts to grasp are:\n",
    "1. Inheritence\n",
    "2. Abstraction\n",
    "3. Polymorphism\n",
    "4. Encapsulation"
   ]
  }
 ],
 "metadata": {
  "kernelspec": {
   "display_name": "base",
   "language": "python",
   "name": "python3"
  },
  "language_info": {
   "codemirror_mode": {
    "name": "ipython",
    "version": 3
   },
   "file_extension": ".py",
   "mimetype": "text/x-python",
   "name": "python",
   "nbconvert_exporter": "python",
   "pygments_lexer": "ipython3",
   "version": "3.11.5"
  },
  "orig_nbformat": 4
 },
 "nbformat": 4,
 "nbformat_minor": 2
}
