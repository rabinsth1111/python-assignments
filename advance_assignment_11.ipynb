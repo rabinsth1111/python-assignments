{
 "cells": [
  {
   "cell_type": "markdown",
   "metadata": {},
   "source": [
    "#### Q1. What is the concept of a metaclass?\n",
    "**Ans:** Metaclass in Python is a class of a class that defines how a class behaves. In Python a class itself is an object and class is an instance of **type** metaclass by default.  "
   ]
  },
  {
   "cell_type": "code",
   "execution_count": 4,
   "metadata": {},
   "outputs": [
    {
     "name": "stdout",
     "output_type": "stream",
     "text": [
      "<class 'type'>\n"
     ]
    }
   ],
   "source": [
    "#Example\n",
    "class foo:\n",
    "    pass\n",
    "\n",
    "print(type(foo)) #displays type of class foo as 'type' by default"
   ]
  },
  {
   "cell_type": "code",
   "execution_count": 11,
   "metadata": {},
   "outputs": [
    {
     "name": "stdout",
     "output_type": "stream",
     "text": [
      "<class 'type'>\n"
     ]
    }
   ],
   "source": [
    "# type of str is 'type', ie; metaclass of str is 'type'\n",
    "print(type(str))\n"
   ]
  },
  {
   "cell_type": "code",
   "execution_count": 16,
   "metadata": {},
   "outputs": [
    {
     "name": "stdout",
     "output_type": "stream",
     "text": [
      "<class '__main__.foo'>\n",
      "<class '__main__.foo'>\n",
      "<class 'type'>\n"
     ]
    }
   ],
   "source": [
    "f = foo()\n",
    "print(type(f))      #displays foo\n",
    "print(f.__class__)  #displays class of f ie; foo\n",
    "print(f.__class__.__class__) #displays metaclass of foo ie; class of class of f as 'type'"
   ]
  },
  {
   "cell_type": "markdown",
   "metadata": {},
   "source": [
    "#### Q2. What is the best way to declare a class's metaclass?\n",
    "**Ans:** A way to declare a class metaclass is by using **metaclass** keyword in class definition. Also, the custom metaclass should inherit from the built-in class 'type'."
   ]
  },
  {
   "cell_type": "code",
   "execution_count": 7,
   "metadata": {},
   "outputs": [
    {
     "name": "stdout",
     "output_type": "stream",
     "text": [
      "<class '__main__.MyMetaClass'>\n"
     ]
    }
   ],
   "source": [
    "class MyMetaClass(type):\n",
    "    pass\n",
    "\n",
    "class MyClass(metaclass=MyMetaClass):\n",
    "    pass\n",
    "\n",
    "\n",
    "print(type(MyClass))"
   ]
  },
  {
   "cell_type": "markdown",
   "metadata": {},
   "source": [
    "#### Q3. How do class decorators overlap with metaclasses for handling classes ?\n",
    "**Ans:** Class decorators and metaclasses are two different mechanisms in Python for customizing the behavior of classes, and they can be used independently or even together.<br/>\n",
    "\n",
    " Both decorators and metaclasses can be used to customize the creation and behavior of classes at the class level.<br/>\n",
    " "
   ]
  },
  {
   "cell_type": "code",
   "execution_count": 15,
   "metadata": {},
   "outputs": [
    {
     "data": {
      "text/plain": [
       "100"
      ]
     },
     "execution_count": 15,
     "metadata": {},
     "output_type": "execute_result"
    }
   ],
   "source": [
    "# Example to add attribute to class by using meta class(using __new__)\n",
    "class Meta(type):\n",
    "    def __new__(cls, name, bases, dct):\n",
    "         x = super().__new__(cls, name, bases, dct)\n",
    "         x.attr = 100\n",
    "         return x\n",
    "    \n",
    "class Foo(metaclass=Meta):\n",
    "    pass\n",
    "\n",
    "Foo.attr\n"
   ]
  },
  {
   "cell_type": "code",
   "execution_count": 16,
   "metadata": {},
   "outputs": [
    {
     "data": {
      "text/plain": [
       "100"
      ]
     },
     "execution_count": 16,
     "metadata": {},
     "output_type": "execute_result"
    }
   ],
   "source": [
    "# Example to add attribute to class by using meta class(using __init__)\n",
    "class Meta(type):\n",
    "    def __init__(cls, name, bases, dct):\n",
    "        cls.attr = 100\n",
    "\n",
    "class X(metaclass=Meta):\n",
    "    pass\n",
    "\n",
    "X.attr"
   ]
  },
  {
   "cell_type": "code",
   "execution_count": 17,
   "metadata": {},
   "outputs": [
    {
     "data": {
      "text/plain": [
       "100"
      ]
     },
     "execution_count": 17,
     "metadata": {},
     "output_type": "execute_result"
    }
   ],
   "source": [
    "# Example to add attribute to class by using decorator\n",
    "def decorator(cls):\n",
    "   class NewsClass(cls):\n",
    "         attr = 100\n",
    "        \n",
    "   return NewsClass\n",
    "\n",
    "\n",
    "@decorator\n",
    "class X:\n",
    "   pass\n",
    "\n",
    "X.attr\n"
   ]
  },
  {
   "cell_type": "markdown",
   "metadata": {},
   "source": [
    "#### Q4. How do class decorators overlap with metaclasses for handling instances?\n",
    "**Ans:**  Both class decorators and metaclasses can be used to add functionality or modify the behavior of instances of a class."
   ]
  },
  {
   "cell_type": "code",
   "execution_count": 14,
   "metadata": {},
   "outputs": [
    {
     "data": {
      "text/plain": [
       "100"
      ]
     },
     "execution_count": 14,
     "metadata": {},
     "output_type": "execute_result"
    }
   ],
   "source": [
    "# Meta class example\n",
    "class Meta(type):\n",
    "    def __new__(cls, name, bases, dct):\n",
    "         x = super().__new__(cls, name, bases, dct)\n",
    "         x.attr = 100\n",
    "         return x\n",
    "    \n",
    "class Foo(metaclass=Meta):\n",
    "    pass\n",
    "\n",
    "f= Foo()\n",
    "f.attr"
   ]
  },
  {
   "cell_type": "code",
   "execution_count": 18,
   "metadata": {},
   "outputs": [
    {
     "name": "stdout",
     "output_type": "stream",
     "text": [
      "20\n"
     ]
    }
   ],
   "source": [
    "# Class Decorator Example\n",
    "def my_decorator(cls):\n",
    "    class ModifiedClass(cls):\n",
    "        def modified_method(self):\n",
    "            return self.instance_var * 2\n",
    "\n",
    "    return ModifiedClass\n",
    "\n",
    "@my_decorator\n",
    "class AnotherClass:\n",
    "    def __init__(self, value):\n",
    "        self.instance_var = value\n",
    "\n",
    "\n",
    "obj = AnotherClass(10)\n",
    "print(obj.modified_method())\n",
    "\n"
   ]
  }
 ],
 "metadata": {
  "kernelspec": {
   "display_name": "base",
   "language": "python",
   "name": "python3"
  },
  "language_info": {
   "codemirror_mode": {
    "name": "ipython",
    "version": 3
   },
   "file_extension": ".py",
   "mimetype": "text/x-python",
   "name": "python",
   "nbconvert_exporter": "python",
   "pygments_lexer": "ipython3",
   "version": "3.11.5"
  },
  "orig_nbformat": 4
 },
 "nbformat": 4,
 "nbformat_minor": 2
}
