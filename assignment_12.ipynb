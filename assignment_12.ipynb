{
 "cells": [
  {
   "cell_type": "markdown",
   "id": "ea6d4026",
   "metadata": {},
   "source": [
    "<b>1. In what modes should the PdfFileReader() and PdfFileWriter() File objects will be opened?</b>\n"
   ]
  },
  {
   "cell_type": "markdown",
   "id": "e010c6d7",
   "metadata": {},
   "source": [
    "For PdfFileReader() file objects should be opened in rb(read binary) mode, Whereas for PdfFileWriter() file objects should be opened in wb(write binary) mode."
   ]
  },
  {
   "cell_type": "markdown",
   "id": "e91638bc",
   "metadata": {},
   "source": [
    "<br>"
   ]
  },
  {
   "cell_type": "markdown",
   "id": "2ce925a2",
   "metadata": {},
   "source": [
    "<b>2. From a PdfFileReader object, how do you get a Page object for page 5?</b>"
   ]
  },
  {
   "cell_type": "markdown",
   "id": "1e8cbc53",
   "metadata": {},
   "source": [
    "Calling getPage(4) will return a Page object for page 5, since page 0 is the first page."
   ]
  },
  {
   "cell_type": "markdown",
   "id": "01925308",
   "metadata": {},
   "source": [
    "<br>"
   ]
  },
  {
   "cell_type": "markdown",
   "id": "fbf8397f",
   "metadata": {},
   "source": [
    "<b>3. What PdfFileReader variable stores the number of pages in the PDF document?</b>"
   ]
  },
  {
   "cell_type": "markdown",
   "id": "70d17fe7",
   "metadata": {},
   "source": [
    "The numPages variable stores the number of pages in the PdfFileReader object."
   ]
  },
  {
   "cell_type": "markdown",
   "id": "6f02f18a",
   "metadata": {},
   "source": [
    "<br>"
   ]
  },
  {
   "cell_type": "markdown",
   "id": "bf7b2f71",
   "metadata": {},
   "source": [
    "<b>4. If a PdfFileReader object’s PDF is encrypted with the password swordfish, what must you do before you can obtain Page objects from it?</b>"
   ]
  },
  {
   "cell_type": "markdown",
   "id": "e863da1d",
   "metadata": {},
   "source": [
    "We should call: decrypt('swordfish')."
   ]
  },
  {
   "cell_type": "markdown",
   "id": "c5f9d78b",
   "metadata": {},
   "source": [
    "<br>"
   ]
  },
  {
   "cell_type": "markdown",
   "id": "2e26c18f",
   "metadata": {},
   "source": [
    "<b>5. What methods do you use to rotate a page?</b>"
   ]
  },
  {
   "cell_type": "markdown",
   "id": "d393c7bd",
   "metadata": {},
   "source": [
    "The rotateClockwise() and rotateCounterClockwise() methods. "
   ]
  },
  {
   "cell_type": "markdown",
   "id": "194aa804",
   "metadata": {},
   "source": [
    "<br>"
   ]
  },
  {
   "cell_type": "markdown",
   "id": "ffe09fe2",
   "metadata": {},
   "source": [
    "<b>6. What is the difference between a Run object and a Paragraph object?</b>"
   ]
  },
  {
   "cell_type": "markdown",
   "id": "ed8cce15",
   "metadata": {},
   "source": [
    "A document contains multiple paragraphs. A paragraph begins on a new line and contains multiple runs.\n",
    "\n",
    "The text in a Word document has font, size, color, and other styling information associated with it. A style in Word is a collection of these attributes. A Run object is a contiguous run of text with the same style. A new Run object is needed whenever the text style changes."
   ]
  },
  {
   "cell_type": "markdown",
   "id": "15fdaeb7",
   "metadata": {},
   "source": [
    "<br>"
   ]
  },
  {
   "cell_type": "markdown",
   "id": "54c84930",
   "metadata": {},
   "source": [
    "<b>7. How do you obtain a list of Paragraph objects for a Document object that’s stored in a variable\n",
    "named doc?</b>"
   ]
  },
  {
   "cell_type": "markdown",
   "id": "1c2350d9",
   "metadata": {},
   "source": [
    "By calling doc.paragraphs."
   ]
  },
  {
   "cell_type": "code",
   "execution_count": null,
   "id": "2eb75ded",
   "metadata": {},
   "outputs": [],
   "source": [
    "# example\n",
    "from docx import Document\n",
    "doc = Document(\"test.docx\") \n",
    "for paragraph in doc.paragraphs:\n",
    "    print(paragraph.text) "
   ]
  },
  {
   "cell_type": "markdown",
   "id": "bfcf3596",
   "metadata": {},
   "source": [
    "<br>"
   ]
  },
  {
   "cell_type": "markdown",
   "id": "36e7257d",
   "metadata": {},
   "source": [
    "<b>8. What type of object has bold, underline, italic, strike, and outline variables?</b>"
   ]
  },
  {
   "cell_type": "markdown",
   "id": "59a30d93",
   "metadata": {},
   "source": [
    "A Run object has these variables (not a Paragraph)."
   ]
  },
  {
   "cell_type": "markdown",
   "id": "9c30dceb",
   "metadata": {},
   "source": [
    "<br>"
   ]
  },
  {
   "cell_type": "markdown",
   "id": "f0fafdc8",
   "metadata": {},
   "source": [
    "<b>9. What is the difference between False, True, and None for the bold variable?</b>"
   ]
  },
  {
   "cell_type": "markdown",
   "id": "a1de3f8b",
   "metadata": {},
   "source": [
    "True always makes the Run object bolded. \n",
    "False makes it always not bolded. \n",
    "None will make the Run object just use the style’s bold setting."
   ]
  },
  {
   "cell_type": "markdown",
   "id": "739f36ec",
   "metadata": {},
   "source": [
    "<br/>"
   ]
  },
  {
   "cell_type": "markdown",
   "id": "29fd0c04",
   "metadata": {},
   "source": [
    "<b>10. How do you create a Document object for a new Word document?</b>"
   ]
  },
  {
   "cell_type": "markdown",
   "id": "b4c4d7e5",
   "metadata": {},
   "source": [
    "By calling the docx.Document() function."
   ]
  },
  {
   "cell_type": "markdown",
   "id": "d7ddad62",
   "metadata": {},
   "source": [
    "<br>"
   ]
  },
  {
   "cell_type": "markdown",
   "id": "8b4c519b",
   "metadata": {},
   "source": [
    "<b>11. How do you add a paragraph with the text 'Hello, there!' to a Document object stored in a\n",
    "variable named doc?</b>"
   ]
  },
  {
   "cell_type": "markdown",
   "id": "d0756c26",
   "metadata": {},
   "source": [
    "By calling doc.add_paragraph('Hello, there!')."
   ]
  },
  {
   "cell_type": "code",
   "execution_count": null,
   "id": "a4ffaddb",
   "metadata": {},
   "outputs": [],
   "source": [
    "# Example\n",
    "from docx import Document\n",
    "doc = Document()\n",
    "doc.add_paragraph('Hello, there!')\n",
    "doc.save('abc.docx')"
   ]
  },
  {
   "cell_type": "markdown",
   "id": "ba10c07c",
   "metadata": {},
   "source": [
    "<br>"
   ]
  },
  {
   "cell_type": "markdown",
   "id": "dc0ac8db",
   "metadata": {},
   "source": [
    "<b>12. What integers represent the levels of headings available in Word documents?</b>"
   ]
  },
  {
   "cell_type": "markdown",
   "id": "eb3dfce4",
   "metadata": {},
   "source": [
    "The integers 0, 1, 2, 3, and 4"
   ]
  }
 ],
 "metadata": {
  "kernelspec": {
   "display_name": "Python 3 (ipykernel)",
   "language": "python",
   "name": "python3"
  },
  "language_info": {
   "codemirror_mode": {
    "name": "ipython",
    "version": 3
   },
   "file_extension": ".py",
   "mimetype": "text/x-python",
   "name": "python",
   "nbconvert_exporter": "python",
   "pygments_lexer": "ipython3",
   "version": "3.11.3"
  }
 },
 "nbformat": 4,
 "nbformat_minor": 5
}
