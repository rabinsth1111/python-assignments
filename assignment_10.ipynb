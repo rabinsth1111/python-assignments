{
 "cells": [
  {
   "cell_type": "markdown",
   "id": "51a83301",
   "metadata": {},
   "source": [
    "1. How do you distinguish between shutil.copy() and shutil.copytree()?"
   ]
  },
  {
   "cell_type": "markdown",
   "id": "24b6490f",
   "metadata": {},
   "source": [
    "Ans: The shutil.copy(source, destination) function will copy a single file, while shutil.copytree(source, destination) will copy an entire folder, along with all its contents."
   ]
  },
  {
   "cell_type": "markdown",
   "id": "1ffb4b32",
   "metadata": {},
   "source": [
    "<br>"
   ]
  },
  {
   "cell_type": "markdown",
   "id": "ec919b76",
   "metadata": {},
   "source": [
    "2. What function is used to rename files?\n"
   ]
  },
  {
   "cell_type": "markdown",
   "id": "1b321172",
   "metadata": {},
   "source": [
    "Ans: The shutil.move() function is used for renaming and moving files. If we specify a filename in the destination path, the  source file is moved and renamed."
   ]
  },
  {
   "cell_type": "code",
   "execution_count": 5,
   "id": "6f75cf4c",
   "metadata": {},
   "outputs": [
    {
     "data": {
      "text/plain": [
       "'c:\\\\python\\\\practice\\\\analysis.ico'"
      ]
     },
     "execution_count": 5,
     "metadata": {},
     "output_type": "execute_result"
    }
   ],
   "source": [
    "#example to move a single file and rename\n",
    "import shutil\n",
    "shutil.move('c:\\\\madhutar\\ANALYSIS1.ico','c:\\\\python\\\\practice\\\\analysis.ico')"
   ]
  },
  {
   "cell_type": "code",
   "execution_count": 6,
   "id": "c3eff315",
   "metadata": {},
   "outputs": [
    {
     "data": {
      "text/plain": [
       "'c:\\\\python\\\\practice\\\\madhutar'"
      ]
     },
     "execution_count": 6,
     "metadata": {},
     "output_type": "execute_result"
    }
   ],
   "source": [
    "#example to move all files in a directory to another directory\n",
    "shutil.move('c:\\\\madhutar','c:\\\\python\\\\practice')"
   ]
  },
  {
   "cell_type": "markdown",
   "id": "9575e836",
   "metadata": {},
   "source": [
    "<br>"
   ]
  },
  {
   "cell_type": "markdown",
   "id": "78c9b369",
   "metadata": {},
   "source": [
    "3. What is the difference between the delete functions in the send2trash and shutil modules?"
   ]
  },
  {
   "cell_type": "markdown",
   "id": "c637a7a3",
   "metadata": {},
   "source": [
    "Ans: The function in send2trash will move a file or folder to the recycle bin, while shutil functions will permanently delete files and folders."
   ]
  },
  {
   "cell_type": "code",
   "execution_count": 8,
   "id": "3d594872",
   "metadata": {},
   "outputs": [],
   "source": [
    "#example of send2trash\n",
    "import send2trash\n",
    "file = open('file.txt', 'a')\n",
    "file.write(' How are you. ')\n",
    "file.close()\n",
    "send2trash.send2trash('file.txt')"
   ]
  },
  {
   "cell_type": "code",
   "execution_count": 2,
   "id": "622205c9",
   "metadata": {},
   "outputs": [],
   "source": [
    "#example of shutil function to delete\n",
    "import shutil\n",
    "shutil.rmtree('c:\\\\dummy1')\n"
   ]
  },
  {
   "cell_type": "markdown",
   "id": "52f736f7",
   "metadata": {},
   "source": [
    "<br>"
   ]
  },
  {
   "cell_type": "markdown",
   "id": "b4ff20fa",
   "metadata": {},
   "source": [
    "4. ZipFile objects have a close() method just like File objects’ close() method. What ZipFile method is\n",
    "equivalent to File objects’ open() method?"
   ]
  },
  {
   "cell_type": "markdown",
   "id": "f505b66e",
   "metadata": {},
   "source": [
    "Ans: The zipfile.ZipFile() function is equivalent to File objects’ open() method. The first argument is the filename, and the second argument is the mode to open the ZIP file in (read, write, or append)."
   ]
  },
  {
   "cell_type": "code",
   "execution_count": 3,
   "id": "00cd1e87",
   "metadata": {},
   "outputs": [],
   "source": [
    "#example to create zip file of files\n",
    "import zipfile\n",
    "newZip = zipfile.ZipFile('test.zip', 'w')\n",
    "newZip.write('test1.txt', compress_type=zipfile.ZIP_DEFLATED)\n",
    "newZip.write('test2.txt', compress_type=zipfile.ZIP_DEFLATED)\n",
    "newZip.close()\n"
   ]
  },
  {
   "cell_type": "code",
   "execution_count": 4,
   "id": "dba8bd59",
   "metadata": {},
   "outputs": [],
   "source": [
    "#example to extract zip file\n",
    "import zipfile\n",
    "zfile = zipfile.ZipFile('test.zip')\n",
    "zfile.extractall('test_exracted')\n",
    "zfile.close()"
   ]
  },
  {
   "cell_type": "code",
   "execution_count": 1,
   "id": "f63668c7",
   "metadata": {},
   "outputs": [
    {
     "name": "stdout",
     "output_type": "stream",
     "text": [
      "ZIP file created\n"
     ]
    }
   ],
   "source": [
    "#example to create zip file of directory using shutil.make_archive\n",
    "#syntax: shutil.make_archive(output_filename, 'zip', dir_name)\n",
    "\n",
    "import shutil, os \n",
    "\n",
    "# Creating the ZIP file \n",
    "archived = shutil.make_archive('pics', 'zip', 'pics')\n",
    "\n",
    "if os.path.exists('pics'):\n",
    "   print(\"ZIP file created\") \n",
    "else: \n",
    "   print(\"ZIP file not created\")\n"
   ]
  },
  {
   "cell_type": "code",
   "execution_count": 7,
   "id": "16e98ebb",
   "metadata": {},
   "outputs": [
    {
     "name": "stdout",
     "output_type": "stream",
     "text": [
      "Adding files in pics...\n",
      "Adding files in pics\\pic1...\n",
      "Adding files in pics\\pic1\\pic11...\n",
      "Adding files in pics\\pic1 - Copy...\n",
      "Adding files in pics\\pic1 - Copy\\pic11...\n",
      "Done.\n"
     ]
    }
   ],
   "source": [
    "#example to create zip file using zipfile and os.walk\n",
    "\n",
    "import zipfile, os\n",
    "folder = 'pics'\n",
    "backupZip = zipfile.ZipFile('new_pics.zip','w')\n",
    "for foldername, subfolders, filenames in os.walk(folder):\n",
    "         print('Adding files in %s...' % (foldername))\n",
    "         \n",
    "         # Add the current folder to the ZIP file.\n",
    "         backupZip.write(foldername)\n",
    "         \n",
    "         # Add all the files in this folder to the ZIP file.\n",
    "         for filename in filenames:\n",
    "               backupZip.write(os.path.join(foldername, filename))\n",
    "            \n",
    "backupZip.close()\n",
    "print('Done.')"
   ]
  },
  {
   "cell_type": "markdown",
   "id": "61ab14f3",
   "metadata": {},
   "source": [
    "<br>"
   ]
  },
  {
   "cell_type": "markdown",
   "id": "3e260118",
   "metadata": {},
   "source": [
    "5. Create a programme that searches a folder tree for files with a certain file extension (such as .pdf\n",
    "or .jpg). Copy these files from whatever location they are in to a new folder."
   ]
  },
  {
   "cell_type": "code",
   "execution_count": 5,
   "id": "68a3b27c",
   "metadata": {},
   "outputs": [
    {
     "name": "stdout",
     "output_type": "stream",
     "text": [
      "Enter the absolute path of the source folder: c:\\Barnamala\n",
      "Enter the extension of file to copy (such as .pdf or .jpg): jpg\n",
      "Enter the absolute path of the destination folder: c:\\copy\n",
      "Files copied successfully.\n"
     ]
    }
   ],
   "source": [
    "#Ans:\n",
    "    \n",
    "import shutil, os\n",
    "\n",
    "source = input('Enter the absolute path of the source folder: ')\n",
    "ext = input('Enter the extension of file to copy (such as .pdf or .jpg): ').lower()\n",
    "dest = input('Enter the absolute path of the destination folder: ')\n",
    "\n",
    "for foldername, subfolders, filenames in os.walk(source):\n",
    " for filename in filenames:\n",
    "     if filename.lower().endswith(ext):\n",
    "         #print(foldername + '\\\\' + filename)\n",
    "         copySourcePath = os.path.join(foldername, filename)\n",
    "         #print(copySourcePath)\n",
    "         shutil.copy(copySourcePath, dest)\n",
    "     else:\n",
    "         continue\n",
    "\n",
    "if os.path.exists(dest):\n",
    "   print(\"Files copied successfully.\") \n",
    "else: \n",
    "   print(\"Files not copied.\")            "
   ]
  },
  {
   "cell_type": "code",
   "execution_count": null,
   "id": "278a89c8",
   "metadata": {},
   "outputs": [],
   "source": []
  }
 ],
 "metadata": {
  "kernelspec": {
   "display_name": "Python 3 (ipykernel)",
   "language": "python",
   "name": "python3"
  },
  "language_info": {
   "codemirror_mode": {
    "name": "ipython",
    "version": 3
   },
   "file_extension": ".py",
   "mimetype": "text/x-python",
   "name": "python",
   "nbconvert_exporter": "python",
   "pygments_lexer": "ipython3",
   "version": "3.11.3"
  }
 },
 "nbformat": 4,
 "nbformat_minor": 5
}
