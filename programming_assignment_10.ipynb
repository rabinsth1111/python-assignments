{
 "cells": [
  {
   "cell_type": "markdown",
   "id": "066cf484",
   "metadata": {},
   "source": [
    "<b>1. Write a Python program to find sum of elements in list?</b>\n",
    "\n",
    "\n",
    "\n",
    "\n",
    "\n",
    "\n",
    "\n",
    "\n",
    "\n"
   ]
  },
  {
   "cell_type": "code",
   "execution_count": 5,
   "id": "96ef2322",
   "metadata": {},
   "outputs": [
    {
     "name": "stdout",
     "output_type": "stream",
     "text": [
      "sum of elements in [1, 2, 3, 4, 5] is 15\n",
      "sum of elements in [10, 20, 30.5] is 60.5\n"
     ]
    }
   ],
   "source": [
    "def sum_list(L):\n",
    "    total = 0\n",
    "    for i in L:\n",
    "        total+= i\n",
    "    return total\n",
    "\n",
    "\n",
    "L = [1,2,3,4,5]\n",
    "print(f'sum of elements in {L} is',sum_list(L))\n",
    "\n",
    "L = [10,20,30.50]\n",
    "print(f'sum of elements in {L} is',sum_list(L))\n",
    "    "
   ]
  },
  {
   "cell_type": "markdown",
   "id": "28c2903e",
   "metadata": {},
   "source": [
    "<br/>"
   ]
  },
  {
   "cell_type": "markdown",
   "id": "3cec4384",
   "metadata": {},
   "source": [
    "<b>2. Write a Python program to Multiply all numbers in the list?</b>"
   ]
  },
  {
   "cell_type": "code",
   "execution_count": 6,
   "id": "9262a7a2",
   "metadata": {},
   "outputs": [
    {
     "name": "stdout",
     "output_type": "stream",
     "text": [
      "6\n",
      "30\n"
     ]
    }
   ],
   "source": [
    "def multiply_list(L):\n",
    "    result = 1\n",
    "    for i in L:\n",
    "        result = result * i\n",
    "    return result\n",
    " \n",
    " \n",
    "list1 = [1, 2, 3]\n",
    "list2 = [5,6]\n",
    "print(multiply_list(list1))\n",
    "print(multiply_list(list2))\n"
   ]
  },
  {
   "cell_type": "markdown",
   "id": "36036cfd",
   "metadata": {},
   "source": [
    "<br/>"
   ]
  },
  {
   "cell_type": "markdown",
   "id": "15d18d7f",
   "metadata": {},
   "source": [
    "<b>3. Write a Python program to find smallest number in a list?</b>"
   ]
  },
  {
   "cell_type": "code",
   "execution_count": 16,
   "id": "a953a0c9",
   "metadata": {},
   "outputs": [
    {
     "name": "stdout",
     "output_type": "stream",
     "text": [
      "smallest number in [1, -5, 2.5, 100] is -5\n",
      "smallest number in [100, 10, 2.5, 78] is 2.5\n"
     ]
    }
   ],
   "source": [
    "def smallest(L):\n",
    "    L.sort()\n",
    "    return L[0]\n",
    "\n",
    "list1 = [1,-5,2.5,100] \n",
    "print(f\"smallest number in {list1} is\", smallest(list1))\n",
    "list2 = [100,10,2.5,78] \n",
    "print(f\"smallest number in {list2} is\", smallest(list2))\n"
   ]
  },
  {
   "cell_type": "markdown",
   "id": "a668f204",
   "metadata": {},
   "source": [
    "<br/>"
   ]
  },
  {
   "cell_type": "markdown",
   "id": "80518ae6",
   "metadata": {},
   "source": [
    "<b>4. Write a Python program to find largest number in a list?</b>"
   ]
  },
  {
   "cell_type": "code",
   "execution_count": 19,
   "id": "e8623393",
   "metadata": {},
   "outputs": [
    {
     "name": "stdout",
     "output_type": "stream",
     "text": [
      "largest number in [1, -5, 2.5, 100] is 100\n",
      "largest number in [100, 105, 2.5, 78] is 105\n"
     ]
    }
   ],
   "source": [
    "def largest(L):\n",
    "    L.sort()\n",
    "    return L[-1]\n",
    " \n",
    "\n",
    "list1 = [1,-5,2.5,100] \n",
    "print(f\"largest number in {list1} is\", largest(list1))\n",
    "list2 = [100,105,2.5,78] \n",
    "print(f\"largest number in {list2} is\", largest(list2))"
   ]
  },
  {
   "cell_type": "markdown",
   "id": "0ff1cf83",
   "metadata": {},
   "source": [
    "<br/>"
   ]
  },
  {
   "cell_type": "markdown",
   "id": "6db8e6d2",
   "metadata": {},
   "source": [
    "<b>5. Write a Python program to find second largest number in a list?</b>"
   ]
  },
  {
   "cell_type": "code",
   "execution_count": 25,
   "id": "9209e826",
   "metadata": {},
   "outputs": [
    {
     "name": "stdout",
     "output_type": "stream",
     "text": [
      "second largest number in [1, -5, 2.5, 100] is 2.5\n",
      "second largest number in [100, 105, 2.5, 78, 105, 100] is 100\n"
     ]
    }
   ],
   "source": [
    "def second_largest(L):\n",
    "    # Removing duplicates from the list\n",
    "    L = list(set(L))\n",
    "\n",
    "    # Sorting the  list\n",
    "    L.sort()\n",
    "   \n",
    "    # return the second last element\n",
    "    return L[-2]\n",
    "\n",
    "list1 = [1,-5,2.5,100] \n",
    "print(f\"second largest number in {list1} is\", second_largest(list1))\n",
    "list2 = [100,105,2.5,78,105,100] \n",
    "print(f\"second largest number in {list2} is\", second_largest(list2))\n"
   ]
  },
  {
   "cell_type": "markdown",
   "id": "ecd67d79",
   "metadata": {},
   "source": [
    "<br/>"
   ]
  },
  {
   "cell_type": "markdown",
   "id": "929b5cac",
   "metadata": {},
   "source": [
    "<b>6. Write a Python program to find N largest elements from a list?</b>"
   ]
  },
  {
   "cell_type": "code",
   "execution_count": 2,
   "id": "6c2c18e4",
   "metadata": {},
   "outputs": [
    {
     "name": "stdout",
     "output_type": "stream",
     "text": [
      "2 largest elements in [1, -5, 2.5, 100] are [100, 2.5]\n",
      "3 largest elements in [100, 105, 2.5, 78, 105, 100] are [105, 100, 78]\n"
     ]
    }
   ],
   "source": [
    "def n_largest_elements(L,N):\n",
    "    # Removing duplicates from the list\n",
    "    L = list(set(L))\n",
    "\n",
    "    # Sorting the  list\n",
    "    L.sort(reverse=True)\n",
    "    # or L = sorted(L, reverse=True)\n",
    "       \n",
    "    # return the N largest element\n",
    "    return L[:N]\n",
    "\n",
    "list1 = [1,-5,2.5,100] \n",
    "print(f\"2 largest elements in {list1} are\", n_largest_elements(list1,2))\n",
    "list2 = [100,105,2.5,78,105,100] \n",
    "print(f\"3 largest elements in {list2} are\", n_largest_elements(list2,3))\n"
   ]
  },
  {
   "cell_type": "markdown",
   "id": "504f21c1",
   "metadata": {},
   "source": [
    "<br/>"
   ]
  },
  {
   "cell_type": "markdown",
   "id": "cfa1ff29",
   "metadata": {},
   "source": [
    "<b>7. Write a Python program to print even numbers in a list?</b>"
   ]
  },
  {
   "cell_type": "code",
   "execution_count": 4,
   "id": "77f5ff8d",
   "metadata": {},
   "outputs": [
    {
     "name": "stdout",
     "output_type": "stream",
     "text": [
      "Even numbers in [1, 5, 2, 4, 100] are [2, 4, 100]\n",
      "Even numbers in [11, 44, 72, 23, 69] are [44, 72]\n"
     ]
    }
   ],
   "source": [
    "def even_numbers(L):\n",
    "    result = []\n",
    "    for i in L:\n",
    "        if i%2==0:\n",
    "            result.append(i)\n",
    "    print(f'Even numbers in {L} are', result)    \n",
    "\n",
    "list1 = [1,5,2,4,100]\n",
    "even_numbers(list1)\n",
    "\n",
    "list2 = [11,44,72,23,69]\n",
    "even_numbers(list2)\n",
    "\n",
    "        "
   ]
  },
  {
   "cell_type": "markdown",
   "id": "c2811c19",
   "metadata": {},
   "source": [
    "<br/>"
   ]
  },
  {
   "cell_type": "markdown",
   "id": "c7cbdd7c",
   "metadata": {},
   "source": [
    "<b>8. Write a Python program to print odd numbers in a List?</b>"
   ]
  },
  {
   "cell_type": "code",
   "execution_count": 6,
   "id": "661978c6",
   "metadata": {},
   "outputs": [
    {
     "name": "stdout",
     "output_type": "stream",
     "text": [
      "Odd numbers in [1, 5, 2, 4, 100] are [1, 5]\n",
      "Odd numbers in [11, 44, 72, 23, 69] are [11, 23, 69]\n"
     ]
    }
   ],
   "source": [
    "def odd_numbers(L):\n",
    "    result = []\n",
    "    for i in L:\n",
    "        if i%2!=0:\n",
    "            result.append(i)\n",
    "    print(f'Odd numbers in {L} are', result)    \n",
    "\n",
    "list1 = [1,5,2,4,100]\n",
    "odd_numbers(list1)\n",
    "\n",
    "list2 = [11,44,72,23,69]\n",
    "odd_numbers(list2)"
   ]
  },
  {
   "cell_type": "markdown",
   "id": "17d8237e",
   "metadata": {},
   "source": [
    "<br/>"
   ]
  },
  {
   "cell_type": "markdown",
   "id": "6fd29ae5",
   "metadata": {},
   "source": [
    "<b>9. Write a Python program to Remove empty List from List?</b>"
   ]
  },
  {
   "cell_type": "code",
   "execution_count": 21,
   "id": "7b91a448",
   "metadata": {},
   "outputs": [
    {
     "name": "stdout",
     "output_type": "stream",
     "text": [
      "List [1, 400, [], 62, [], 787] after removing empty list : [1, 400, 62, 787]\n",
      "List [[], 4, [], 5, [], 444, 55, 555] after removing empty list : [4, 5, 444, 55, 555]\n"
     ]
    }
   ],
   "source": [
    "def remove_empty(L):\n",
    "    result = [el for el in L if el != []]\n",
    "    #or \n",
    "    #result = [el for el in L if el]\n",
    "    return result\n",
    "\n",
    "list1 = [1,400,[],62,[],787]\n",
    "print(f\"List {list1} after removing empty list :\", remove_empty(list1))\n",
    "\n",
    "list2 = [[],4,[],5,[],444,55,555]\n",
    "print(f\"List {list2} after removing empty list :\", remove_empty(list2))\n"
   ]
  },
  {
   "cell_type": "markdown",
   "id": "7d07e9b4",
   "metadata": {},
   "source": [
    "<br/>"
   ]
  },
  {
   "cell_type": "markdown",
   "id": "73f4a0db",
   "metadata": {},
   "source": [
    "<b>10. Write a Python program to Cloning or Copying a list?</b>"
   ]
  },
  {
   "cell_type": "code",
   "execution_count": 26,
   "id": "90fa4a29",
   "metadata": {},
   "outputs": [
    {
     "name": "stdout",
     "output_type": "stream",
     "text": [
      "After cloning list [151, 5, 2, 4, 100], the list is [151, 5, 2, 4, 100]\n"
     ]
    }
   ],
   "source": [
    "def Cloning(L):\n",
    "    l_copy = L.copy()\n",
    "    return l_copy\n",
    "\n",
    "list1 = [151,5,2,4,100]\n",
    "cloning_list1 = Cloning(list1)\n",
    "print(f'After cloning list {list1}, the list is {cloning_list1}')\n",
    "\n"
   ]
  },
  {
   "cell_type": "markdown",
   "id": "e2136f6f",
   "metadata": {},
   "source": [
    "<br/>"
   ]
  },
  {
   "cell_type": "markdown",
   "id": "4f1b9451",
   "metadata": {},
   "source": [
    "<b>11. Write a Python program to Count occurrences of an element in a list?</b>"
   ]
  },
  {
   "cell_type": "code",
   "execution_count": 31,
   "id": "ba6c9134",
   "metadata": {},
   "outputs": [
    {
     "name": "stdout",
     "output_type": "stream",
     "text": [
      "Number of occurrence of 45 in [1, 45, 89, 45, 888, 45] is 3\n",
      "Number of occurrence of 89 in [11, 454, 89, 45, 89, 45] is 2\n"
     ]
    }
   ],
   "source": [
    "def count_occurrence(L, x):\n",
    "    return L.count(x)\n",
    "\n",
    "\n",
    "list1 = [1,45,89,45,888,45]\n",
    "print(f'Number of occurrence of 45 in {list1} is {count_occurrence(list1,45)}')\n",
    "list2 = [11,454,89,45,89,45]\n",
    "print(f'Number of occurrence of 89 in {list2} is {count_occurrence(list2,45)}')\n",
    " "
   ]
  },
  {
   "cell_type": "code",
   "execution_count": null,
   "id": "bcec23b1",
   "metadata": {},
   "outputs": [],
   "source": []
  }
 ],
 "metadata": {
  "kernelspec": {
   "display_name": "Python 3 (ipykernel)",
   "language": "python",
   "name": "python3"
  },
  "language_info": {
   "codemirror_mode": {
    "name": "ipython",
    "version": 3
   },
   "file_extension": ".py",
   "mimetype": "text/x-python",
   "name": "python",
   "nbconvert_exporter": "python",
   "pygments_lexer": "ipython3",
   "version": "3.11.3"
  }
 },
 "nbformat": 4,
 "nbformat_minor": 5
}
