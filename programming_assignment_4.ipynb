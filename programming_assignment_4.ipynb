{
 "cells": [
  {
   "cell_type": "markdown",
   "id": "65afe8e8",
   "metadata": {},
   "source": [
    "<b>1. Write a Python Program to Find the Factorial of a Number?</b>\n",
    "\n",
    "\n",
    "\n",
    "\n"
   ]
  },
  {
   "cell_type": "code",
   "execution_count": 54,
   "id": "1b6562aa",
   "metadata": {},
   "outputs": [
    {
     "data": {
      "text/plain": [
       "120"
      ]
     },
     "execution_count": 54,
     "metadata": {},
     "output_type": "execute_result"
    }
   ],
   "source": [
    "def fact(n):\n",
    "    if n<1:\n",
    "        return 1\n",
    "    else:\n",
    "        return n*fact(n-1)\n",
    "\n",
    "fact(5)    "
   ]
  },
  {
   "cell_type": "markdown",
   "id": "ddf2cf7a",
   "metadata": {},
   "source": [
    "<br/>"
   ]
  },
  {
   "cell_type": "markdown",
   "id": "cb586792",
   "metadata": {},
   "source": [
    "<b>2. Write a Python Program to Display the multiplication Table?</b>"
   ]
  },
  {
   "cell_type": "code",
   "execution_count": 4,
   "id": "81953354",
   "metadata": {},
   "outputs": [
    {
     "name": "stdout",
     "output_type": "stream",
     "text": [
      "5 * 1 = 5\n",
      "5 * 2 = 10\n",
      "5 * 3 = 15\n",
      "5 * 4 = 20\n",
      "5 * 5 = 25\n",
      "5 * 6 = 30\n",
      "5 * 7 = 35\n",
      "5 * 8 = 40\n",
      "5 * 9 = 45\n",
      "5 * 10 = 50\n"
     ]
    }
   ],
   "source": [
    "def mult(n):\n",
    "    for i in range(1,11):\n",
    "        print(f'{n} * {i} = {n*i}')\n",
    "mult(5)        "
   ]
  },
  {
   "cell_type": "markdown",
   "id": "2b01a732",
   "metadata": {},
   "source": [
    "<br/>"
   ]
  },
  {
   "cell_type": "markdown",
   "id": "88fcff2b",
   "metadata": {},
   "source": [
    "<b>3. Write a Python Program to Print the Fibonacci sequence?</b>"
   ]
  },
  {
   "cell_type": "code",
   "execution_count": 32,
   "id": "040f6177",
   "metadata": {},
   "outputs": [
    {
     "name": "stdout",
     "output_type": "stream",
     "text": [
      "0 1 \n",
      "0 1 1 2 3 \n",
      "0 1 1 2 3 5 8 13 21 34 \n",
      "0 1 1 2 3 5 8 13 21 34 55 89 144 233 377 610 987 1597 2584 4181 \n"
     ]
    }
   ],
   "source": [
    "def fibo(n):\n",
    "    num1, num2 = 0, 1;\n",
    "    next_number = num1 + num2\n",
    "    count = 1\n",
    "    while count <= n:\n",
    "        print(num1, end=\" \")\n",
    "        num1, num2 = num2, next_number\n",
    "        next_number = num1 + num2\n",
    "        count += 1\n",
    "    print() \n",
    "    \n",
    "fibo(2)\n",
    "fibo(5)\n",
    "fibo(10)\n",
    "fibo(20)"
   ]
  },
  {
   "cell_type": "markdown",
   "id": "4c77b3e4",
   "metadata": {},
   "source": [
    "<br/>"
   ]
  },
  {
   "cell_type": "markdown",
   "id": "7c49a44f",
   "metadata": {},
   "source": [
    "<b>4. Write a Python Program to Check Armstrong Number?</b>"
   ]
  },
  {
   "cell_type": "code",
   "execution_count": 42,
   "id": "90f86a60",
   "metadata": {},
   "outputs": [
    {
     "name": "stdout",
     "output_type": "stream",
     "text": [
      "True\n",
      "True\n",
      "100 is not an Armstrong Number\n",
      "153 is an Armstrong Number\n"
     ]
    }
   ],
   "source": [
    "''' A positive integer is called an Armstrong number of order n if\n",
    "    abcd... = a**n + b**n + c**n + d**n + ...\n",
    "'''\n",
    "\n",
    "def is_armstrong(n):\n",
    "    order = len(str(n))\n",
    "    sum = 0\n",
    "    temp = n\n",
    "    while temp > 0:\n",
    "        digit = temp % 10\n",
    "        sum += digit ** order\n",
    "        temp //= 10\n",
    "    \n",
    "    if n==sum:\n",
    "        return True\n",
    "    else:\n",
    "        return False\n",
    "\n",
    "print(is_armstrong(153)) \n",
    "print(is_armstrong(1634))\n",
    "print(f'100 is an Armstrong Number') if is_armstrong(100) else print(f'100 is not an Armstrong Number')\n",
    "print(f'153 is an Armstrong Number') if is_armstrong(153) else print(f'153 is not an Armstrong Number')"
   ]
  },
  {
   "cell_type": "markdown",
   "id": "cd496b3c",
   "metadata": {},
   "source": [
    "<br/>"
   ]
  },
  {
   "cell_type": "markdown",
   "id": "e8a6b6dc",
   "metadata": {},
   "source": [
    "<b>5. Write a Python Program to Find Armstrong Number in an Interval?</b>"
   ]
  },
  {
   "cell_type": "code",
   "execution_count": 59,
   "id": "0cd78eff",
   "metadata": {},
   "outputs": [
    {
     "name": "stdout",
     "output_type": "stream",
     "text": [
      "Armstrong Numbers between 1 and 10000 is [1, 2, 3, 4, 5, 6, 7, 8, 9, 153, 370, 371, 407, 1634, 8208, 9474]\n"
     ]
    }
   ],
   "source": [
    "def armstrong_numbers(start, end):\n",
    "    nums = []\n",
    "    for n in range(start, end+1):\n",
    "            order = len(str(n))\n",
    "            sum = 0\n",
    "            temp = n\n",
    "            while temp > 0:\n",
    "                digit = temp % 10\n",
    "                sum += digit ** order\n",
    "                temp //= 10\n",
    "            if sum == n:\n",
    "                nums.append(n)\n",
    "    return nums               \n",
    "\n",
    "print(f'Armstrong Numbers between 1 and 10000 is',armstrong_numbers(1,10000))                "
   ]
  },
  {
   "cell_type": "markdown",
   "id": "daf86fbd",
   "metadata": {},
   "source": [
    "<br/>"
   ]
  },
  {
   "cell_type": "markdown",
   "id": "c39d0d74",
   "metadata": {},
   "source": [
    "<b>6. Write a Python Program to Find the Sum of Natural Numbers?</b>"
   ]
  },
  {
   "cell_type": "code",
   "execution_count": 6,
   "id": "62ae9eda",
   "metadata": {},
   "outputs": [
    {
     "data": {
      "text/plain": [
       "5050"
      ]
     },
     "execution_count": 6,
     "metadata": {},
     "output_type": "execute_result"
    }
   ],
   "source": [
    "def sum(n):\n",
    "    sum = 0\n",
    "    for i in range(1,n+1):\n",
    "        sum+= i\n",
    "    return sum\n",
    "\n",
    "sum(100)        "
   ]
  },
  {
   "cell_type": "code",
   "execution_count": null,
   "id": "5c5e7f16",
   "metadata": {},
   "outputs": [],
   "source": []
  }
 ],
 "metadata": {
  "kernelspec": {
   "display_name": "Python 3 (ipykernel)",
   "language": "python",
   "name": "python3"
  },
  "language_info": {
   "codemirror_mode": {
    "name": "ipython",
    "version": 3
   },
   "file_extension": ".py",
   "mimetype": "text/x-python",
   "name": "python",
   "nbconvert_exporter": "python",
   "pygments_lexer": "ipython3",
   "version": "3.11.3"
  }
 },
 "nbformat": 4,
 "nbformat_minor": 5
}
