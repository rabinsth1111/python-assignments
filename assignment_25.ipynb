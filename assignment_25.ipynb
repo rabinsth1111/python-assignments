{
 "cells": [
  {
   "cell_type": "markdown",
   "id": "93caf3dd",
   "metadata": {},
   "source": [
    "<b>1) What is the difference between enclosing a list comprehension in square brackets and parentheses?</b>\n",
    "\n",
    "\n",
    "\n"
   ]
  },
  {
   "cell_type": "markdown",
   "id": "4fb5ac12",
   "metadata": {},
   "source": [
    "Ans: Enclosing a list comprehension in square brackets returns a list, where as enclosing a list comprehension in parentheses returns a generator object.\n",
    "\n",
    "\n",
    "\n"
   ]
  },
  {
   "cell_type": "code",
   "execution_count": 3,
   "id": "4c0c52d1",
   "metadata": {},
   "outputs": [
    {
     "name": "stdout",
     "output_type": "stream",
     "text": [
      "[0, 1, 2, 3, 4] <class 'list'>\n",
      "<generator object <genexpr> at 0x0000026E45AB0EE0> <class 'generator'>\n"
     ]
    }
   ],
   "source": [
    "# Examples\n",
    "l = [el for el in range(5)]\n",
    "print(l, type(l))\n",
    "g = (el for el in range(5))\n",
    "print(g, type(g))"
   ]
  },
  {
   "cell_type": "markdown",
   "id": "846300f5",
   "metadata": {},
   "source": [
    "<br/>"
   ]
  },
  {
   "cell_type": "markdown",
   "id": "eeb78e28",
   "metadata": {},
   "source": [
    "<b>2) What is the relationship between generators and iterators?</b>\n"
   ]
  },
  {
   "cell_type": "markdown",
   "id": "c517882a",
   "metadata": {},
   "source": [
    "Ans: Iterators are mostly used to convert iterables(lists, tuples, dicts, sets) and iterate such iterables but generators are mostly used to create iterators and generate new values in a loop without disturbing the iteration of that loop.\n",
    "\n",
    "All generators are iterators, and generators are a subclass of iterators.\n",
    "\n"
   ]
  },
  {
   "cell_type": "code",
   "execution_count": 11,
   "id": "50b35ab5",
   "metadata": {},
   "outputs": [
    {
     "name": "stdout",
     "output_type": "stream",
     "text": [
      "<class 'list_iterator'>\n",
      "India\n",
      "Nepal\n",
      "Bangladesh\n",
      "Pakisthan\n"
     ]
    }
   ],
   "source": [
    "# Example of iterartor\n",
    "iter_str = iter(['India','Nepal','Bangladesh','Pakisthan','Srilanka'])\n",
    "print(type(iter_str))\n",
    "print(next(iter_str))\n",
    "print(next(iter_str))\n",
    "print(next(iter_str))\n",
    "print(next(iter_str))\n"
   ]
  },
  {
   "cell_type": "code",
   "execution_count": 12,
   "id": "24894172",
   "metadata": {},
   "outputs": [
    {
     "name": "stdout",
     "output_type": "stream",
     "text": [
      "1\n",
      "4\n",
      "9\n",
      "16\n",
      "25\n"
     ]
    }
   ],
   "source": [
    "# Example of Generator\n",
    "def square_numbers(num):\n",
    "    for el in range(1,num+1):\n",
    "        yield el**2\n",
    "\n",
    "out_num = square_numbers(5)\n",
    "print(next(out_num))\n",
    "print(next(out_num))\n",
    "print(next(out_num))\n",
    "print(next(out_num))\n",
    "print(next(out_num))\n"
   ]
  },
  {
   "cell_type": "code",
   "execution_count": 16,
   "id": "8a9cb653",
   "metadata": {},
   "outputs": [
    {
     "name": "stdout",
     "output_type": "stream",
     "text": [
      "1\n",
      "4\n",
      "9\n",
      "16\n",
      "25\n"
     ]
    }
   ],
   "source": [
    "# Another example\n",
    "generator = (x**2 for x in range(1,6))\n",
    "\n",
    "print(next(generator))\n",
    "print(next(generator))\n",
    "print(next(generator))\n",
    "print(next(generator))\n",
    "print(next(generator))\n"
   ]
  },
  {
   "cell_type": "markdown",
   "id": "ce1da735",
   "metadata": {},
   "source": [
    "<br/>"
   ]
  },
  {
   "cell_type": "markdown",
   "id": "9d3f2f62",
   "metadata": {},
   "source": [
    "<b>3) What are the signs that a function is a generator function?</b>\n",
    "\n"
   ]
  },
  {
   "cell_type": "markdown",
   "id": "faf89d02",
   "metadata": {},
   "source": [
    "Ans: A generator function uses a yield statement instead of a return statement. It returns an iterator object but does not execute immediately."
   ]
  },
  {
   "cell_type": "markdown",
   "id": "654872eb",
   "metadata": {},
   "source": [
    "<br/>"
   ]
  },
  {
   "cell_type": "markdown",
   "id": "1d767584",
   "metadata": {},
   "source": [
    "<b>4) What is the purpose of a yield statement?</b>\n",
    "\n"
   ]
  },
  {
   "cell_type": "markdown",
   "id": "08845e13",
   "metadata": {},
   "source": [
    "Ans: A yield statement returns a generator object to the one who calls the function which contains yield, instead of simply returning a value. When we call a function that has a yield statement, as soon as a yield is encountered, the execution of the function stops and returns an object of the generator to the function caller. Hence, if we want to get the values stored inside the generator object, we need to iterate over it. This allows to produce a series of values over time, rather than computing them at once.\n",
    "\n"
   ]
  },
  {
   "cell_type": "markdown",
   "id": "b5be664c",
   "metadata": {},
   "source": [
    "<br/>"
   ]
  },
  {
   "cell_type": "markdown",
   "id": "42d0a560",
   "metadata": {},
   "source": [
    "<b>5) What is the relationship between map calls and list comprehensions? Make a comparison and contrast between the two.</b>\n"
   ]
  },
  {
   "cell_type": "markdown",
   "id": "ae8529ef",
   "metadata": {},
   "source": [
    "Ans: The main differences between map calls and list comprehensions are:\n",
    "\n",
    "1. List comprehension is more concise and easier to read as compared to map.\n",
    "2. List comprehension allows filtering. In map, we have no such facility. For example, to print all odd numbers in range of 50, we can write [n for n in range(50) if n%2 != 0]. There is no alternate for it in map.\n",
    "3. List comprehension are used when a list of results is required as final output.but map only returns a map object. it needs to be explicitly coverted to desired datatype.\n",
    "4. List comprehension is faster than map when we need to evaluate expressions that are too long or complicated to express\n",
    "Map is faster in case of calling an already defined function on a set of values."
   ]
  },
  {
   "cell_type": "code",
   "execution_count": null,
   "id": "9a12bf5a",
   "metadata": {},
   "outputs": [],
   "source": []
  }
 ],
 "metadata": {
  "kernelspec": {
   "display_name": "Python 3 (ipykernel)",
   "language": "python",
   "name": "python3"
  },
  "language_info": {
   "codemirror_mode": {
    "name": "ipython",
    "version": 3
   },
   "file_extension": ".py",
   "mimetype": "text/x-python",
   "name": "python",
   "nbconvert_exporter": "python",
   "pygments_lexer": "ipython3",
   "version": "3.11.3"
  }
 },
 "nbformat": 4,
 "nbformat_minor": 5
}
