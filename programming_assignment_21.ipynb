{
 "cells": [
  {
   "cell_type": "markdown",
   "id": "a24aed9e",
   "metadata": {},
   "source": [
    "<b>1. Write a function that takes a list and a number as arguments. Add the number to the end of the list, then remove the first <br/>element of the list. The function should then return the updated list.<br/>\n",
    "Examples:<br/>\n",
    "next_in_line([5, 6, 7, 8, 9], 1) ➞ [6, 7, 8, 9, 1]<br/>\n",
    "next_in_line([7, 6, 3, 23, 17], 10) ➞ [6, 3, 23, 17, 10]<br/>\n",
    "next_in_line([1, 10, 20, 42 ], 6) ➞ [10, 20, 42, 6]<br/>\n",
    "next_in_line([], 6) ➞ \"No list has been selected\"<br/>\n",
    "</b>\n"
   ]
  },
  {
   "cell_type": "code",
   "execution_count": 23,
   "id": "01fb94f7",
   "metadata": {},
   "outputs": [
    {
     "name": "stdout",
     "output_type": "stream",
     "text": [
      "next_in_line([5, 6, 7, 8, 9], 1) ➞ [6, 7, 8, 9, 1]\n",
      "next_in_line([7, 6, 3, 23, 17], 10) ➞ [6, 3, 23, 17, 10]\n",
      "next_in_line([1, 10, 20, 42], 6) ➞ [10, 20, 42, 6]\n",
      "next_in_line([], 6) ➞ No list has been selected\n"
     ]
    }
   ],
   "source": [
    "def next_in_line(in_list,in_num):\n",
    "    if len(in_list) > 1:\n",
    "        in_list.append(in_num)\n",
    "        in_list.remove(in_list[0])\n",
    "        return in_list\n",
    "    else:\n",
    "        return \"No list has been selected\"\n",
    "\n",
    "in_list, in_num = [5, 6, 7, 8, 9], 1   \n",
    "print(f'next_in_line({in_list}, {in_num}) ➞ {next_in_line(in_list,in_num)}')\n",
    "\n",
    "in_list, in_num = [7, 6, 3, 23, 17], 10  \n",
    "print(f'next_in_line({in_list}, {in_num}) ➞ {next_in_line(in_list,in_num)}')\n",
    "\n",
    "in_list, in_num = [1, 10, 20, 42 ], 6   \n",
    "print(f'next_in_line({in_list}, {in_num}) ➞ {next_in_line(in_list,in_num)}')\n",
    "\n",
    "in_list, in_num = [], 6   \n",
    "print(f'next_in_line({in_list}, {in_num}) ➞ {next_in_line(in_list,in_num)}')\n",
    "    "
   ]
  },
  {
   "cell_type": "markdown",
   "id": "42212b50",
   "metadata": {},
   "source": [
    "<br/>"
   ]
  },
  {
   "cell_type": "markdown",
   "id": "1df9fd44",
   "metadata": {},
   "source": [
    "<b>2. Create the function that takes a list of dictionaries and returns the sum of people's budgets.<br/>\n",
    "Examples:<br/>\n",
    "get_budgets([ { \"name\": \"John\", \"age\": 21, \"budget\": 23000 }, { \"name\": \"Steve\", \"age\": 32, \"budget\": 40000 }, { \"name\": \"Martin\", \"age\": 16, \"budget\": 2700 } ]) ➞ 65700<br/>\n",
    "\n",
    "get_budgets([ { \"name\": \"John\", \"age\": 21, \"budget\": 29000 }, { \"name\": \"Steve\", \"age\": 32, \"budget\": 32000 }, { \"name\": \"Martin\", \"age\": 16, \"budget\": 1600 } ]) ➞ 62600<br/>\n",
    "</b>\n",
    "\n"
   ]
  },
  {
   "cell_type": "code",
   "execution_count": 13,
   "id": "b90c4ac3",
   "metadata": {},
   "outputs": [
    {
     "name": "stdout",
     "output_type": "stream",
     "text": [
      "65700\n",
      "62600\n"
     ]
    }
   ],
   "source": [
    "def get_budgets(in_dict):\n",
    "    sum = 0\n",
    "    for el in in_dict:\n",
    "        sum += el[\"budget\"]\n",
    "    return sum    \n",
    "    \n",
    "print(get_budgets([\n",
    "{ \"name\": \"John\", \"age\": 21, \"budget\": 23000 },\n",
    "{ \"name\": \"Steve\", \"age\": 32, \"budget\": 40000 },\n",
    "{ \"name\": \"Martin\", \"age\": 16, \"budget\": 2700 }\n",
    "]))\n",
    "\n",
    "print(get_budgets([\n",
    "{ \"name\": \"John\", \"age\": 21, \"budget\": 29000 },\n",
    "{ \"name\": \"Steve\", \"age\": 32, \"budget\": 32000 },\n",
    "{ \"name\": \"Martin\", \"age\": 16, \"budget\": 1600 }\n",
    "]))\n"
   ]
  },
  {
   "cell_type": "markdown",
   "id": "4e4b032a",
   "metadata": {},
   "source": [
    "<br/>"
   ]
  },
  {
   "cell_type": "markdown",
   "id": "6d5a4b1c",
   "metadata": {},
   "source": [
    "3. <b>Create a function that takes a string and returns a string with its letters in alphabetical order.<br/>\n",
    "Examples:<br/>\n",
    "alphabet_soup(\"hello\") ➞ \"ehllo\"<br/>\n",
    "alphabet_soup(\"edabit\") ➞ \"abdeit\"<br/>\n",
    "alphabet_soup(\"hacker\") ➞ \"acehkr\"<br/>\n",
    "alphabet_soup(\"geek\") ➞ \"eegk\"<br/>\n",
    "alphabet_soup(\"javascript\") ➞ \"aacijprstv\"<br/>\n",
    "</b>\n",
    "\n"
   ]
  },
  {
   "cell_type": "code",
   "execution_count": 10,
   "id": "5a9c4d3f",
   "metadata": {},
   "outputs": [
    {
     "name": "stdout",
     "output_type": "stream",
     "text": [
      "alphabet_soup(\"hello\") ➞ ehllo\n",
      "alphabet_soup(\"edabit\") ➞ abdeit\n",
      "alphabet_soup(\"hacker\") ➞ acehkr\n",
      "alphabet_soup(\"geek\") ➞ eegk\n",
      "alphabet_soup(\"javascript\") ➞ aacijprstv\n"
     ]
    }
   ],
   "source": [
    "def alphabet_soup(in_string):\n",
    "    out_string = ''.join(sorted(in_string))\n",
    "    return out_string\n",
    "    print(f'{in_string} ➞ {out_string}')\n",
    "    \n",
    "in_string = \"hello\"    \n",
    "print(f'alphabet_soup(\"{in_string}\") ➞ {alphabet_soup(in_string)}')\n",
    "\n",
    "in_string = \"edabit\"    \n",
    "print(f'alphabet_soup(\"{in_string}\") ➞ {alphabet_soup(in_string)}')\n",
    "\n",
    "in_string = \"hacker\"    \n",
    "print(f'alphabet_soup(\"{in_string}\") ➞ {alphabet_soup(in_string)}')\n",
    "\n",
    "in_string = \"geek\"    \n",
    "print(f'alphabet_soup(\"{in_string}\") ➞ {alphabet_soup(in_string)}')\n",
    "\n",
    "in_string = \"javascript\"    \n",
    "print(f'alphabet_soup(\"{in_string}\") ➞ {alphabet_soup(in_string)}')\n",
    "\n",
    "\n"
   ]
  },
  {
   "cell_type": "markdown",
   "id": "4313208e",
   "metadata": {},
   "source": [
    "<br/>"
   ]
  },
  {
   "cell_type": "markdown",
   "id": "be861059",
   "metadata": {},
   "source": [
    "<b>4. What will be the value of your investment at the end of the 10 year period?<br/>\n",
    "Create a function that accepts the principal p, the term in years t, the interest rate r, and the number of compounding periods<br/> per year n. The function returns the value at the end of term rounded to the nearest cent.<br/>\n",
    "\n",
    "For the example above:<br/>\n",
    "compound_interest(10000, 10, 0.06, 12) ➞ 18193.97<br/>\n",
    "Note that the interest rate is given as a decimal and n=12 because with monthly compounding there are 12 periods per year.<br/> Compounding can also be done annually, quarterly, weekly, or daily.<br/>\n",
    "\n",
    "Examples:<br/>\n",
    "compound_interest(100, 1, 0.05, 1) ➞ 105.0<br/>\n",
    "compound_interest(3500, 15, 0.1, 4) ➞ 15399.26<br/>\n",
    "compound_interest(100000, 20, 0.15, 365) ➞ 2007316.26<br/>\n",
    "</b>\n"
   ]
  },
  {
   "cell_type": "code",
   "execution_count": 6,
   "id": "f5fd3834",
   "metadata": {},
   "outputs": [
    {
     "name": "stdout",
     "output_type": "stream",
     "text": [
      "Output ➞ 105.00\n",
      "Output ➞ 15399.26\n",
      "Output ➞ 2007316.26\n"
     ]
    }
   ],
   "source": [
    "def compound_interest(p,t,r,cp):\n",
    "    ci = p*(1+(r/cp))**(cp*t)\n",
    "    print(f'Output ➞ {ci:.2f}')\n",
    "\n",
    "compound_interest(100, 1, 0.05, 1)\n",
    "compound_interest(3500, 15, 0.1, 4)\n",
    "compound_interest(100000, 20, 0.15, 365)\n"
   ]
  },
  {
   "cell_type": "markdown",
   "id": "31123339",
   "metadata": {},
   "source": [
    "<br/>"
   ]
  },
  {
   "cell_type": "markdown",
   "id": "596230e3",
   "metadata": {},
   "source": [
    "<b>5. Write a function that takes a list of elements and returns only the integers.<br/>\n",
    "Examples:<br/>\n",
    "return_only_integer([9, 2, \"space\", \"car\", \"lion\", 16]) ➞ [9, 2, 16]<br/>\n",
    "return_only_integer([\"hello\", 81, \"basketball\", 123, \"fox\"]) ➞ [81, 123]<br/>\n",
    "return_only_integer([10, \"121\", 56, 20, \"car\", 3, \"lion\"]) ➞ [10, 56, 20,3]<br/>\n",
    "return_only_integer([\"String\", True, 3.3, 1]) ➞ [1]\n",
    "</b>\n"
   ]
  },
  {
   "cell_type": "code",
   "execution_count": 4,
   "id": "975ce0da",
   "metadata": {},
   "outputs": [
    {
     "name": "stdout",
     "output_type": "stream",
     "text": [
      "return_only_integer([9, 2, 'space', 'car', 'lion', 16]) ➞ [9, 2, 16]\n",
      "return_only_integer(['hello', 81, 'basketball', 123, 'fox']) ➞ [81, 123]\n",
      "return_only_integer([10, '121', 56, 20, 'car', 3, 'lion']) ➞ [10, 56, 20, 3]\n",
      "return_only_integer(['String', True, 3.3, 1]) ➞ [1]\n"
     ]
    }
   ],
   "source": [
    "def return_only_integer(in_list):\n",
    "    return list(filter(lambda x: type(x)==int, in_list))\n",
    "\n",
    "in_list = [9, 2, \"space\", \"car\", \"lion\", 16]\n",
    "print(f'return_only_integer({in_list}) ➞ {return_only_integer(in_list)}')\n",
    "\n",
    "in_list = [\"hello\", 81, \"basketball\", 123, \"fox\"]\n",
    "print(f'return_only_integer({in_list}) ➞ {return_only_integer(in_list)}')\n",
    "\n",
    "in_list = [10, \"121\", 56, 20, \"car\", 3, \"lion\"]\n",
    "print(f'return_only_integer({in_list}) ➞ {return_only_integer(in_list)}')\n",
    "\n",
    "in_list = [\"String\", True, 3.3, 1]\n",
    "print(f'return_only_integer({in_list}) ➞ {return_only_integer(in_list)}')\n",
    "\n"
   ]
  },
  {
   "cell_type": "code",
   "execution_count": null,
   "id": "0b39861d",
   "metadata": {},
   "outputs": [],
   "source": []
  }
 ],
 "metadata": {
  "kernelspec": {
   "display_name": "Python 3 (ipykernel)",
   "language": "python",
   "name": "python3"
  },
  "language_info": {
   "codemirror_mode": {
    "name": "ipython",
    "version": 3
   },
   "file_extension": ".py",
   "mimetype": "text/x-python",
   "name": "python",
   "nbconvert_exporter": "python",
   "pygments_lexer": "ipython3",
   "version": "3.11.3"
  }
 },
 "nbformat": 4,
 "nbformat_minor": 5
}
