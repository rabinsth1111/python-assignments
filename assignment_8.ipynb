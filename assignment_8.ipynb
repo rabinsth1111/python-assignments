{
 "cells": [
  {
   "cell_type": "markdown",
   "id": "494a6ffb",
   "metadata": {},
   "source": [
    "1. Is the Python Standard Library included with PyInputPlus?"
   ]
  },
  {
   "cell_type": "markdown",
   "id": "115b392c",
   "metadata": {},
   "source": [
    "    Ans: No, we must install it separately using Pip."
   ]
  },
  {
   "cell_type": "markdown",
   "id": "17799e05",
   "metadata": {},
   "source": [
    "2. Why is PyInputPlus commonly imported with import pyinputplus as pypi?"
   ]
  },
  {
   "cell_type": "markdown",
   "id": "a678ccaf",
   "metadata": {},
   "source": [
    "Ans: This makes code shorter to type. We can type pypi.inputInt() instead of pyinputplus.inputInt()."
   ]
  },
  {
   "cell_type": "markdown",
   "id": "c2b569a6",
   "metadata": {},
   "source": [
    "3. How do you distinguish between inputInt() and inputFloat()?"
   ]
  },
  {
   "cell_type": "markdown",
   "id": "44c4ae4f",
   "metadata": {},
   "source": [
    "Ans: The inputInt() function returns an int value, while the inputFloat() function returns a float value. For eg; inputInt() returns 5 whereas inputFloat() returns 5.0 ."
   ]
  },
  {
   "cell_type": "markdown",
   "id": "eae724b0",
   "metadata": {},
   "source": [
    "4. Using PyInputPlus, how do you ensure that the user enters a whole number between 0 and 99?"
   ]
  },
  {
   "cell_type": "markdown",
   "id": "5826c13f",
   "metadata": {},
   "source": [
    "Ans: By executing pypi.inputInt(min=0, max=99)."
   ]
  },
  {
   "cell_type": "markdown",
   "id": "dee1d740",
   "metadata": {},
   "source": [
    "5. What is transferred to the keyword arguments allowRegexes and blockRegexes?"
   ]
  },
  {
   "cell_type": "markdown",
   "id": "6e54d2a3",
   "metadata": {},
   "source": [
    "Ans: A list of regex strings that are either explicitly allowed or denied."
   ]
  },
  {
   "cell_type": "markdown",
   "id": "fda8cf8b",
   "metadata": {},
   "source": [
    "6. If a blank input is entered three times, what does inputStr(limit=3) do?"
   ]
  },
  {
   "cell_type": "markdown",
   "id": "124801ec",
   "metadata": {},
   "source": [
    "Ans: It raises RetryLimitException."
   ]
  },
  {
   "cell_type": "markdown",
   "id": "10dc4dbb",
   "metadata": {},
   "source": [
    "7. If blank input is entered three times, what does inputStr(limit=3, default=&#39;hello&#39;) do?"
   ]
  },
  {
   "cell_type": "markdown",
   "id": "ae0f5464",
   "metadata": {},
   "source": [
    "Ans: It returns the value 'hello'."
   ]
  }
 ],
 "metadata": {
  "kernelspec": {
   "display_name": "Python 3 (ipykernel)",
   "language": "python",
   "name": "python3"
  },
  "language_info": {
   "codemirror_mode": {
    "name": "ipython",
    "version": 3
   },
   "file_extension": ".py",
   "mimetype": "text/x-python",
   "name": "python",
   "nbconvert_exporter": "python",
   "pygments_lexer": "ipython3",
   "version": "3.9.13"
  }
 },
 "nbformat": 4,
 "nbformat_minor": 5
}
