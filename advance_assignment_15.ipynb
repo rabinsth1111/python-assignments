{
 "cells": [
  {
   "cell_type": "markdown",
   "metadata": {},
   "source": [
    "#### 1.\tWhat are the new features added in Python 3.8 version?\n",
    "**Ans:** Some of the new features added in Python 3.8 version are:\n",
    "\n",
    "1. **Walrus Operator:** This operator is used to assign and return a value in the same expression. This removes the need for initializing the variable. "
   ]
  },
  {
   "cell_type": "code",
   "execution_count": 1,
   "metadata": {},
   "outputs": [
    {
     "name": "stdout",
     "output_type": "stream",
     "text": [
      "110\n"
     ]
    }
   ],
   "source": [
    "# Example\n",
    "if (sum := 100 + 10) > 100: \n",
    "    print(sum)  "
   ]
  },
  {
   "cell_type": "markdown",
   "metadata": {},
   "source": [
    "2. **f-strings support \"=\":**  print(f\"foo={foo} bar={bar}\") can be written as print(f\"{foo=} {bar=}\")"
   ]
  },
  {
   "cell_type": "code",
   "execution_count": 3,
   "metadata": {},
   "outputs": [
    {
     "name": "stdout",
     "output_type": "stream",
     "text": [
      "foo=100 bar=1000\n"
     ]
    }
   ],
   "source": [
    "#Example\n",
    "foo, bar = 100, 1000\n",
    "print(f\"{foo=} {bar=}\")"
   ]
  },
  {
   "cell_type": "markdown",
   "metadata": {},
   "source": [
    "3. **Positional-only arguments:** A special marker, /, can now be used when defining a method's arguments to specify that the functional only accepts positional arguments on the left of the marker."
   ]
  },
  {
   "cell_type": "code",
   "execution_count": 8,
   "metadata": {},
   "outputs": [
    {
     "name": "stdout",
     "output_type": "stream",
     "text": [
      "15\n",
      "15\n"
     ]
    },
    {
     "ename": "TypeError",
     "evalue": "positional_sum() got some positional-only arguments passed as keyword arguments: 'a, b'",
     "output_type": "error",
     "traceback": [
      "\u001b[1;31m---------------------------------------------------------------------------\u001b[0m",
      "\u001b[1;31mTypeError\u001b[0m                                 Traceback (most recent call last)",
      "\u001b[1;32mc:\\python\\assignments\\advance\\advance_assignment_15.ipynb Cell 6\u001b[0m line \u001b[0;36m1\n\u001b[0;32m      <a href='vscode-notebook-cell:/c%3A/python/assignments/advance/advance_assignment_15.ipynb#Y134sZmlsZQ%3D%3D?line=7'>8</a>\u001b[0m     \u001b[39mreturn\u001b[39;00m a\u001b[39m+\u001b[39mb\n\u001b[0;32m     <a href='vscode-notebook-cell:/c%3A/python/assignments/advance/advance_assignment_15.ipynb#Y134sZmlsZQ%3D%3D?line=9'>10</a>\u001b[0m \u001b[39mprint\u001b[39m(positional_sum(\u001b[39m10\u001b[39m,\u001b[39m5\u001b[39m))\n\u001b[1;32m---> <a href='vscode-notebook-cell:/c%3A/python/assignments/advance/advance_assignment_15.ipynb#Y134sZmlsZQ%3D%3D?line=11'>12</a>\u001b[0m \u001b[39mprint\u001b[39m(positional_sum(b\u001b[39m=\u001b[39m\u001b[39m5\u001b[39m,a\u001b[39m=\u001b[39m\u001b[39m10\u001b[39m))\n",
      "\u001b[1;31mTypeError\u001b[0m: positional_sum() got some positional-only arguments passed as keyword arguments: 'a, b'"
     ]
    }
   ],
   "source": [
    "#Example\n",
    "def sum(a,b):\n",
    "    return a+b\n",
    "\n",
    "print(sum(b=5,a=10)) #displays 15\n",
    "\n",
    "def positional_sum(a,b,/):\n",
    "    return a+b\n",
    "\n",
    "print(positional_sum(10,5)) #displays 15\n",
    "\n",
    "print(positional_sum(b=5,a=10)) #displays error"
   ]
  },
  {
   "cell_type": "markdown",
   "metadata": {},
   "source": [
    "4. **importlib_metadata** is a new library added in the Python’s standard utility modules, that provides an API for accessing an installed package’s metadata, such as its entry points or its top-level name.\n",
    "\n"
   ]
  },
  {
   "cell_type": "markdown",
   "metadata": {},
   "source": [
    "5. If you miss a comma in your code such as a = **[(1, 2) (3, 4)]**, instead of throwing **TypeError**, it displays an informative Syntax warning. "
   ]
  },
  {
   "cell_type": "code",
   "execution_count": 10,
   "metadata": {},
   "outputs": [
    {
     "name": "stderr",
     "output_type": "stream",
     "text": [
      "<>:2: SyntaxWarning: 'tuple' object is not callable; perhaps you missed a comma?\n",
      "<>:2: SyntaxWarning: 'tuple' object is not callable; perhaps you missed a comma?\n",
      "C:\\Users\\rabin\\AppData\\Local\\Temp\\ipykernel_23260\\3390442995.py:2: SyntaxWarning: 'tuple' object is not callable; perhaps you missed a comma?\n",
      "  my_list = [(1,2) (3,4)]\n"
     ]
    },
    {
     "ename": "TypeError",
     "evalue": "'tuple' object is not callable",
     "output_type": "error",
     "traceback": [
      "\u001b[1;31m---------------------------------------------------------------------------\u001b[0m",
      "\u001b[1;31mTypeError\u001b[0m                                 Traceback (most recent call last)",
      "\u001b[1;32mc:\\python\\assignments\\advance\\advance_assignment_15.ipynb Cell 9\u001b[0m line \u001b[0;36m2\n\u001b[0;32m      <a href='vscode-notebook-cell:/c%3A/python/assignments/advance/advance_assignment_15.ipynb#Y135sZmlsZQ%3D%3D?line=0'>1</a>\u001b[0m \u001b[39m#Example\u001b[39;00m\n\u001b[1;32m----> <a href='vscode-notebook-cell:/c%3A/python/assignments/advance/advance_assignment_15.ipynb#Y135sZmlsZQ%3D%3D?line=1'>2</a>\u001b[0m my_list \u001b[39m=\u001b[39m [(\u001b[39m1\u001b[39m,\u001b[39m2\u001b[39m) (\u001b[39m3\u001b[39m,\u001b[39m4\u001b[39m)]\n",
      "\u001b[1;31mTypeError\u001b[0m: 'tuple' object is not callable"
     ]
    }
   ],
   "source": [
    "#Example\n",
    "my_list = [(1,2) (3,4)]"
   ]
  },
  {
   "cell_type": "markdown",
   "metadata": {},
   "source": [
    "6. **reversed() works with dict:** The reversed() built-in can now be used to access the dictionary in the reverse order of insertion."
   ]
  },
  {
   "cell_type": "code",
   "execution_count": 15,
   "metadata": {},
   "outputs": [
    {
     "name": "stdout",
     "output_type": "stream",
     "text": [
      "['b', 'a']\n",
      "[('b', 10), ('a', 1000)]\n"
     ]
    }
   ],
   "source": [
    "my_dict = {'a':1000,'b':10}\n",
    "print(list(reversed(my_dict)))\n",
    "print(list(reversed(my_dict.items())))"
   ]
  },
  {
   "cell_type": "markdown",
   "metadata": {},
   "source": [
    "7. The **csv.DictReader** now returns instances of dict instead of a collections.OrderedDict"
   ]
  },
  {
   "cell_type": "markdown",
   "metadata": {},
   "source": [
    "8. **math:**<br/>\n",
    "Added new function math.dist() for computing Euclidean distance between two points.<br/>\n",
    "\n",
    "Expanded the math.hypot() function to handle multiple dimensions. Formerly, it only supported the 2-D case.<br/> \n",
    "\n",
    "Added new function, math.prod(), as analogous function to sum() that returns the product of a ‘start’ value (default: 1) times an iterable of numbers."
   ]
  },
  {
   "cell_type": "code",
   "execution_count": 17,
   "metadata": {},
   "outputs": [
    {
     "data": {
      "text/plain": [
       "0.126"
      ]
     },
     "execution_count": 17,
     "metadata": {},
     "output_type": "execute_result"
    }
   ],
   "source": [
    "import math\n",
    "prior = 0.8\n",
    "likelihoods = [0.625, 0.84, 0.30]\n",
    "math.prod(likelihoods, start=prior)"
   ]
  },
  {
   "cell_type": "markdown",
   "metadata": {},
   "source": [
    "#### 2.\tWhat is monkey patching in Python?\n",
    "**Ans:** Monkey patching in Python refers to the practice of dynamically modifying or extending the behavior of existing classes or modules at runtime. This is typically done by adding, modifying, or replacing methods and attributes of classes or objects without altering the original source code.\n",
    "\n",
    "Monkey patching can be useful in certain situations, such as fixing bugs, adding features and testing."
   ]
  },
  {
   "cell_type": "code",
   "execution_count": 1,
   "metadata": {},
   "outputs": [
    {
     "name": "stdout",
     "output_type": "stream",
     "text": [
      "Patched method\n"
     ]
    }
   ],
   "source": [
    "# Original class definition\n",
    "class MyClass:\n",
    "    def method(self):\n",
    "        return \"Original method\"\n",
    "\n",
    "# Monkey patching: Redefine the method\n",
    "def new_method(self):\n",
    "    return \"Patched method\"\n",
    "\n",
    "# Apply the patch\n",
    "MyClass.method = new_method\n",
    "\n",
    "# Now, instances of MyClass will use the patched method\n",
    "obj = MyClass()\n",
    "print(obj.method())  # Output: \"Patched method\""
   ]
  },
  {
   "cell_type": "markdown",
   "metadata": {},
   "source": [
    "#### 3.\tWhat is the difference between a shallow copy and deep copy?\n",
    "**Ans:** The Differences between a Shallow Copy and deep copy are as follows: \n",
    "\n",
    "A shallow copy creates a new object, but it does not create copies of the nested objects within the original object. Instead, it references the same nested objects. In other words, it only copies the top-level structure of the original object.\n",
    "\n",
    "A deep copy, on the other hand, creates a completely independent copy of the original object, including all nested objects. It recursively copies all objects found in the original object's structure, ensuring that changes in the original object do not affect the deep copy, and vice versa."
   ]
  },
  {
   "cell_type": "code",
   "execution_count": 2,
   "metadata": {},
   "outputs": [
    {
     "name": "stdout",
     "output_type": "stream",
     "text": [
      "[1, [99, 3], 4]\n",
      "[1, [99, 3], 4]\n"
     ]
    }
   ],
   "source": [
    "#Shallow copy\n",
    "import copy\n",
    "\n",
    "original_list = [1, [2, 3], 4]\n",
    "shallow_copy_list = copy.copy(original_list)\n",
    "\n",
    "original_list[1][0] = 99\n",
    "\n",
    "print(original_list)        # Output: [1, [99, 3], 4]\n",
    "print(shallow_copy_list)   # Output: [1, [99, 3], 4] (nested list is still shared)"
   ]
  },
  {
   "cell_type": "code",
   "execution_count": 3,
   "metadata": {},
   "outputs": [
    {
     "name": "stdout",
     "output_type": "stream",
     "text": [
      "[1, [99, 3], 4]\n",
      "[1, [2, 3], 4]\n"
     ]
    }
   ],
   "source": [
    "#Deep copy\n",
    "import copy\n",
    "\n",
    "original_list = [1, [2, 3], 4]\n",
    "deep_copy_list = copy.deepcopy(original_list)\n",
    "\n",
    "original_list[1][0] = 99\n",
    "\n",
    "print(original_list)        # Output: [1, [99, 3], 4]\n",
    "print(deep_copy_list)      # Output: [1, [2, 3], 4] (nested list is not affected)"
   ]
  },
  {
   "cell_type": "markdown",
   "metadata": {},
   "source": [
    "#### 4.\tWhat is the maximum possible length of an identifier?\n",
    "**Ans:** In Python, the maximum possible length of an identifier (variable name, function name, class name, etc.) is not explicitly defined in terms of a fixed number of characters. Instead, Python allows identifiers to be of virtually unlimited length, subject to practical constraints such as system memory and readability. In practice, we can use very long identifiers, but it's a good practice to keep them reasonably short and descriptive to make your code more readable and maintainable.\n",
    "\n",
    "PEP 8, the Python Enhancement Proposal that provides guidelines for code style, suggests that you should limit all lines to a maximum of 79 characters for code (or 72 characters for docstrings/comments) to ensure readability."
   ]
  },
  {
   "cell_type": "markdown",
   "metadata": {},
   "source": [
    "#### 5.\tWhat is generator comprehension?\n",
    "**Ans:** In Python, a generator comprehension is a concise way to create a generator object, which generates values one at a time as they are needed, similar to a list comprehension.\n",
    "\n",
    " Generator comprehensions are a more memory-efficient alternative to list comprehensions, as they don't create a list in memory to store all the generated values at once. Instead, they produce values on-the-fly as we iterate over the generator.\n",
    "\n",
    " The syntax for a generator comprehension is similar to that of a list comprehension, but with parentheses () instead of square brackets []. \n",
    " \n",
    " Here's the basic structure of a generator comprehension:\n",
    " \n",
    " generator_expression = (expression for item in iterable if condition)"
   ]
  },
  {
   "cell_type": "code",
   "execution_count": 4,
   "metadata": {},
   "outputs": [
    {
     "name": "stdout",
     "output_type": "stream",
     "text": [
      "4\n",
      "16\n",
      "36\n",
      "64\n",
      "100\n"
     ]
    }
   ],
   "source": [
    "squares_of_evens = (x ** 2 for x in range(1, 11) if x % 2 == 0)\n",
    "\n",
    "for square in squares_of_evens:\n",
    "    print(square)\n"
   ]
  }
 ],
 "metadata": {
  "kernelspec": {
   "display_name": "base",
   "language": "python",
   "name": "python3"
  },
  "language_info": {
   "codemirror_mode": {
    "name": "ipython",
    "version": 3
   },
   "file_extension": ".py",
   "mimetype": "text/x-python",
   "name": "python",
   "nbconvert_exporter": "python",
   "pygments_lexer": "ipython3",
   "version": "3.11.5"
  },
  "orig_nbformat": 4
 },
 "nbformat": 4,
 "nbformat_minor": 2
}
