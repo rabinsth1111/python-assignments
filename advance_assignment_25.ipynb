{
 "cells": [
  {
   "cell_type": "markdown",
   "id": "bb43a46e",
   "metadata": {},
   "source": [
    "#### Q1. What is the distinction between a numpy array and a pandas data frame? Is there a way to convert between the two if there is ?\n",
    "**Ans:** Numpy arrays and Pandas DataFrames are both data structures used in Python for handling and manipulating data, but they have some key differences.\n",
    "\n",
    "**Numpy Array:**\n",
    "\n",
    "**1. Homogeneous:** Numpy arrays are homogeneous, meaning all elements must be of the same data type.\n",
    "\n",
    "**2. Single-Dimensional or Multi-Dimensional:** Numpy arrays can be one-dimensional (like a list) or multi-dimensional (like a matrix or tensor).\n",
    "\n",
    "**3. Low-level:** Numpy provides a low-level interface to data storage with basic mathematical functions.\n",
    "\n",
    "**4. Lacks Labels:** Numpy arrays don't have labeled axes; they are accessed by integer indices.\n",
    "\n",
    "<br/>\n",
    "\n",
    "**Pandas DataFrame:**\n",
    "\n",
    "**1. Heterogeneous:** Pandas DataFrames can hold data of different types, making them more flexible for handling real-world datasets.\n",
    "\n",
    "**2. Two-Dimensional Tabular Structure:** DataFrames are two-dimensional, tabular data structures with labeled axes (rows and columns).\n",
    "\n",
    "**3. High-level Interface:** Pandas provides a high-level interface for data manipulation, with many built-in functions for data cleaning, exploration, and analysis.\n",
    "\n",
    "**4. Labeled Axes:** DataFrames have labeled rows and columns, making it easy to access data using meaningful labels."
   ]
  },
  {
   "cell_type": "markdown",
   "metadata": {},
   "source": [
    "We can convert a Numpy array to a Pandas DataFrame and vice versa."
   ]
  },
  {
   "cell_type": "code",
   "execution_count": 3,
   "metadata": {},
   "outputs": [
    {
     "data": {
      "text/html": [
       "<div>\n",
       "<style scoped>\n",
       "    .dataframe tbody tr th:only-of-type {\n",
       "        vertical-align: middle;\n",
       "    }\n",
       "\n",
       "    .dataframe tbody tr th {\n",
       "        vertical-align: top;\n",
       "    }\n",
       "\n",
       "    .dataframe thead th {\n",
       "        text-align: right;\n",
       "    }\n",
       "</style>\n",
       "<table border=\"1\" class=\"dataframe\">\n",
       "  <thead>\n",
       "    <tr style=\"text-align: right;\">\n",
       "      <th></th>\n",
       "      <th>col1</th>\n",
       "      <th>col2</th>\n",
       "      <th>col3</th>\n",
       "    </tr>\n",
       "  </thead>\n",
       "  <tbody>\n",
       "    <tr>\n",
       "      <th>0</th>\n",
       "      <td>1</td>\n",
       "      <td>2</td>\n",
       "      <td>3</td>\n",
       "    </tr>\n",
       "    <tr>\n",
       "      <th>1</th>\n",
       "      <td>4</td>\n",
       "      <td>5</td>\n",
       "      <td>6</td>\n",
       "    </tr>\n",
       "  </tbody>\n",
       "</table>\n",
       "</div>"
      ],
      "text/plain": [
       "   col1  col2  col3\n",
       "0     1     2     3\n",
       "1     4     5     6"
      ]
     },
     "execution_count": 3,
     "metadata": {},
     "output_type": "execute_result"
    }
   ],
   "source": [
    "#Numpy Array to Pandas DataFrame\n",
    "import pandas as pd\n",
    "import numpy as np\n",
    "\n",
    "# Create a Numpy array\n",
    "numpy_array = np.array([[1, 2, 3], [4, 5, 6]])\n",
    "\n",
    "# Convert to a Pandas DataFrame\n",
    "df = pd.DataFrame(numpy_array, columns=['col1', 'col2', 'col3'])\n",
    "\n",
    "df\n"
   ]
  },
  {
   "cell_type": "code",
   "execution_count": 5,
   "metadata": {},
   "outputs": [
    {
     "data": {
      "text/plain": [
       "array([[1, 2, 3],\n",
       "       [4, 5, 6]])"
      ]
     },
     "execution_count": 5,
     "metadata": {},
     "output_type": "execute_result"
    }
   ],
   "source": [
    "#Pandas DataFrame to Numpy Array\n",
    "numpy_array = df.values\n",
    "numpy_array"
   ]
  },
  {
   "cell_type": "markdown",
   "id": "24146fcb",
   "metadata": {},
   "source": [
    "#### Q2. Identify some of the plotting techniques that are used to produce a stock-market chart ?\n",
    "**Ans:** Bar chart, Line Chart, Candlestick Chart, Moving Averages, Volume Chart, OHLC Chart (Open-High-Low-Close),etc are plotting techniques that are used to produce a stock-market chart."
   ]
  },
  {
   "cell_type": "markdown",
   "id": "f0fdf95b",
   "metadata": {},
   "source": [
    "#### Q3. Why is it essential to print a legend on a stock market chart ?\n",
    "**Ans:** Legend will help comparison between different stocks, so will be essential on a stock market chart."
   ]
  },
  {
   "cell_type": "markdown",
   "id": "186d0d51",
   "metadata": {},
   "source": [
    "#### Q4. What is the best way to limit the length of a pandas data frame to less than a year ?\n",
    "**Ans:** :If we want to limit the length of a Pandas DataFrame to less than a year, we can filter the DataFrame based on the date column.\n",
    "\n",
    "Here's an example assuming we have a 'Date' column in your DataFrame:"
   ]
  },
  {
   "cell_type": "code",
   "execution_count": null,
   "metadata": {},
   "outputs": [],
   "source": [
    "import pandas as pd\n",
    "\n",
    "# Assuming 'Date' is the name of your date column\n",
    "# and it's in a datetime format (if not, you can convert it using pd.to_datetime)\n",
    "df['Date'] = pd.to_datetime(df['Date'])\n",
    "\n",
    "# Set the date range you want to keep (e.g., less than a year)\n",
    "start_date = '2022-01-01'\n",
    "end_date = '2022-12-31'\n",
    "\n",
    "# Filter the DataFrame based on the date range\n",
    "filtered_df = df[(df['Date'] >= start_date) & (df['Date'] <= end_date)]\n"
   ]
  },
  {
   "cell_type": "markdown",
   "metadata": {},
   "source": [
    "In above example, filtered_df will only contain rows where the 'Date' column falls within the specified date range. We can adjust the start_date and end_date according to our specific requirements."
   ]
  },
  {
   "cell_type": "markdown",
   "id": "5805fa40",
   "metadata": {},
   "source": [
    "#### Q5. What is the definition of a 180-day moving average ?\n",
    "**Ans:** : The 180-day moving average is represented as a line on charts and represents the average price over the past 180 days. Moving averages are widely used in financial analysis, particularly in technical analysis, to smooth out short-term fluctuations in data and identify long-term trends."
   ]
  },
  {
   "cell_type": "markdown",
   "metadata": {},
   "source": [
    "Traders and analysts often use moving averages to identify potential trend reversals, confirm trends, or generate trading signals. If the current price is above the 180-day moving average, it might be considered a bullish signal, indicating a potential upward trend. Conversely, if the current price is below the 180-day moving average, it might be considered a bearish signal, suggesting a potential downward trend."
   ]
  }
 ],
 "metadata": {
  "kernelspec": {
   "display_name": "Python 3",
   "language": "python",
   "name": "python3"
  },
  "language_info": {
   "codemirror_mode": {
    "name": "ipython",
    "version": 3
   },
   "file_extension": ".py",
   "mimetype": "text/x-python",
   "name": "python",
   "nbconvert_exporter": "python",
   "pygments_lexer": "ipython3",
   "version": "3.11.5"
  }
 },
 "nbformat": 4,
 "nbformat_minor": 5
}
