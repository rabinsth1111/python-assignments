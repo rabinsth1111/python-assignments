{
 "cells": [
  {
   "cell_type": "markdown",
   "id": "2bcdb507",
   "metadata": {},
   "source": [
    "<b>1. Create a function that takes a list of non-negative integers and strings and return a new list without the strings ?<br/>\n",
    "Examples:<br/>\n",
    "filter_list([1, 2, \"a\", \"b\"]) ➞ [1, 2]<br/>\n",
    "filter_list([1, \"a\", \"b\", 0, 15]) ➞ [1, 0, 15]<br/>\n",
    "filter_list([1, 2, \"aasf\", \"1\", \"123\", 123]) ➞ [1, 2, 123]<br/>\n",
    "</b>"
   ]
  },
  {
   "cell_type": "code",
   "execution_count": 7,
   "id": "4f0b9997",
   "metadata": {},
   "outputs": [
    {
     "name": "stdout",
     "output_type": "stream",
     "text": [
      "[1, 2, 'a', 'b']➞ [1, 2]\n",
      "[1, 'a', 'b', 0, 15]➞ [1, 0, 15]\n",
      "[1, 2, 'aasf', '1', '123', 123]➞ [1, 2, 123]\n"
     ]
    }
   ],
   "source": [
    "def filter_list(in_list):\n",
    "    out = []\n",
    "    for el in in_list:\n",
    "        if type(el) == int and el >= 0:\n",
    "            out.append(el)\n",
    "    return out\n",
    "  \n",
    "in_list= [1, 2, \"a\", \"b\"]    \n",
    "print(f'{in_list}➞ {filter_list(in_list)}')\n",
    "\n",
    "in_list = [1, \"a\", \"b\", 0, 15]    \n",
    "print(f'{in_list}➞ {filter_list(in_list)}')\n",
    "\n",
    "in_list = [1, 2, \"aasf\", \"1\", \"123\", 123]    \n",
    "print(f'{in_list}➞ {filter_list(in_list)}')\n"
   ]
  },
  {
   "cell_type": "markdown",
   "id": "2c8bf5bd",
   "metadata": {},
   "source": [
    "<br/>"
   ]
  },
  {
   "cell_type": "markdown",
   "id": "7ce1da5a",
   "metadata": {},
   "source": [
    "<b>2. The \"Reverser\" takes a string as input and returns that string in reverse order, with the opposite case ?<br/>\n",
    "Examples:<br/>\n",
    "reverse(\"Hello World\") ➞ \"DLROw OLLEh\"<br/>\n",
    "reverse(\"ReVeRsE\") ➞ \"eSrEvEr\"<br/>\n",
    "reverse(\"Radar\") ➞ \"RADAr\"<br/>\n",
    "</b>\n"
   ]
  },
  {
   "cell_type": "code",
   "execution_count": 4,
   "id": "0c8de3ec",
   "metadata": {},
   "outputs": [
    {
     "name": "stdout",
     "output_type": "stream",
     "text": [
      "Hello World ➞ DLROw OLLEh\n",
      "ReVeRsE ➞ eSrEvEr\n",
      "Radar ➞ RADAr\n"
     ]
    }
   ],
   "source": [
    "def reverse(in_string):\n",
    "    print(f'{in_string} ➞ {in_string[::-1].swapcase()}')\n",
    "    \n",
    "reverse('Hello World')\n",
    "reverse(\"ReVeRsE\")\n",
    "reverse(\"Radar\")\n"
   ]
  },
  {
   "cell_type": "markdown",
   "id": "fe0aa2ed",
   "metadata": {},
   "source": [
    "<br/>"
   ]
  },
  {
   "cell_type": "markdown",
   "id": "321f17de",
   "metadata": {},
   "source": [
    "<b>3. You can assign variables from lists like this:<br/>\n",
    "lst = [1, 2, 3, 4, 5, 6] <br/>first = lst[0] <br/>middle = lst[1:-1]<br/> last = lst[-1] <br/>print(first) ➞ outputs 1 <br/>print(middle) ➞ outputs [2, 3, 4, 5]<br/> print(last) ➞ outputs 6<br/>\n",
    "With Python 3, you can assign variables from lists in a much more succinct way. <br/>Create variables first, middle and last from the given list using destructuring assignment<br/>\n",
    "(check the Resources tab for some examples), where:<br/>\n",
    "first ➞ 1<br/> middle ➞ [2, 3, 4, 5]<br/> last ➞ 6<br/>\n",
    "Your task is to unpack the list write your code here into three variables, being first, middle, and last, with middle being <br/>everything in between the first and last element. Then print all three variables.\n",
    "<b>\n"
   ]
  },
  {
   "cell_type": "code",
   "execution_count": 8,
   "id": "3de3d216",
   "metadata": {},
   "outputs": [
    {
     "name": "stdout",
     "output_type": "stream",
     "text": [
      "first ➞ 1\n",
      "middle ➞ [2, 3, 4, 5]\n",
      "last ➞ 6\n"
     ]
    }
   ],
   "source": [
    "first, *middle, last = [1,2,3,4,5,6]\n",
    "print(f'first ➞ {first}')\n",
    "print(f'middle ➞ {middle}')\n",
    "print(f'last ➞ {last}')\n"
   ]
  },
  {
   "cell_type": "markdown",
   "id": "7e338f79",
   "metadata": {},
   "source": [
    "<br/>"
   ]
  },
  {
   "cell_type": "markdown",
   "id": "e2de0c85",
   "metadata": {},
   "source": [
    "<b>4.Write a function that calculates the factorial of a number recursively.<br/>\n",
    "Examples:<br/>\n",
    "factorial(5) ➞ 120<br/>\n",
    "factorial(3) ➞ 6<br/>\n",
    "factorial(1) ➞ 1<br/>\n",
    "factorial(0) ➞ 1<br/>\n",
    "</b>\n",
    "\n"
   ]
  },
  {
   "cell_type": "code",
   "execution_count": 9,
   "id": "71e147de",
   "metadata": {},
   "outputs": [
    {
     "name": "stdout",
     "output_type": "stream",
     "text": [
      "factorial(5) ➞ 120\n",
      "factorial(3) ➞ 6\n",
      "factorial(1) ➞ 1\n",
      "factorial(0) ➞ 1\n"
     ]
    }
   ],
   "source": [
    "def factorial(n):\n",
    "    if n==0:\n",
    "        return 1\n",
    "    return n * factorial(n-1)\n",
    "\n",
    "print(f'factorial(5) ➞ {factorial(5)}')\n",
    "print(f'factorial(3) ➞ {factorial(3)}')\n",
    "print(f'factorial(1) ➞ {factorial(1)}')\n",
    "print(f'factorial(0) ➞ {factorial(0)}')\n"
   ]
  },
  {
   "cell_type": "markdown",
   "id": "60296ab7",
   "metadata": {},
   "source": [
    "<br/>"
   ]
  },
  {
   "cell_type": "markdown",
   "id": "6e6f8803",
   "metadata": {},
   "source": [
    "<b>5. Write a function that moves all elements of one type to the end of the list.<br/>\n",
    "Examples:<br/>\n",
    "move_to_end([1, 3, 2, 4, 4, 1], 1) ➞ [3, 2, 4, 4, 1, 1]<br/>\n",
    "#Move all the 1s to the end of the array.<br/>\n",
    "move_to_end([7, 8, 9, 1, 2, 3, 4], 9) ➞ [7, 8, 1, 2, 3, 4, 9]<br/>\n",
    "move_to_end([\"a\", \"a\", \"a\", \"b\"], \"a\") ➞ [\"b\", \"a\", \"a\", \"a\"]<br/>\n",
    "<b>\n",
    "\n"
   ]
  },
  {
   "cell_type": "code",
   "execution_count": 10,
   "id": "2d38a554",
   "metadata": {},
   "outputs": [
    {
     "name": "stdout",
     "output_type": "stream",
     "text": [
      "move_to_end([1, 3, 2, 4, 4, 1], 1) ➞ [3, 2, 4, 4, 1, 1]\n",
      "move_to_end([7, 8, 9, 1, 2, 3, 4], 9) ➞ [7, 8, 1, 2, 3, 4, 9]\n",
      "move_to_end([\"a\", \"a\", \"a\", \"b\"], \"a\") ➞ ['b', 'a', 'a', 'a']\n"
     ]
    }
   ],
   "source": [
    "def move_to_end(in_list,num):\n",
    "    first_end = []\n",
    "    second_end = []\n",
    "    for el in in_list:\n",
    "        if el == num:\n",
    "            second_end.append(el)\n",
    "        else:\n",
    "            first_end.append(el)\n",
    "    first_end.extend(second_end)\n",
    "    return first_end\n",
    "    \n",
    "print(f'move_to_end([1, 3, 2, 4, 4, 1], 1) ➞ {move_to_end([1, 3, 2, 4, 4, 1], 1)}')\n",
    "print(f'move_to_end([7, 8, 9, 1, 2, 3, 4], 9) ➞ {move_to_end([7, 8, 9, 1, 2, 3, 4], 9)}')\n",
    "print(f'move_to_end([\"a\", \"a\", \"a\", \"b\"], \"a\") ➞ {move_to_end([\"a\", \"a\", \"a\", \"b\"], \"a\")}')"
   ]
  },
  {
   "cell_type": "code",
   "execution_count": null,
   "id": "3598288f",
   "metadata": {},
   "outputs": [],
   "source": []
  }
 ],
 "metadata": {
  "kernelspec": {
   "display_name": "Python 3 (ipykernel)",
   "language": "python",
   "name": "python3"
  },
  "language_info": {
   "codemirror_mode": {
    "name": "ipython",
    "version": 3
   },
   "file_extension": ".py",
   "mimetype": "text/x-python",
   "name": "python",
   "nbconvert_exporter": "python",
   "pygments_lexer": "ipython3",
   "version": "3.11.3"
  }
 },
 "nbformat": 4,
 "nbformat_minor": 5
}
