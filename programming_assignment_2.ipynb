{
 "cells": [
  {
   "cell_type": "markdown",
   "id": "e32efb89",
   "metadata": {},
   "source": [
    "1. Write a Python program to convert kilometers to miles?"
   ]
  },
  {
   "cell_type": "code",
   "execution_count": 3,
   "id": "cc77e20d",
   "metadata": {},
   "outputs": [
    {
     "name": "stdout",
     "output_type": "stream",
     "text": [
      "Enter a value in kilometer: 10\n",
      "10.0 kilometer is equivalent to 6.21 mile\n"
     ]
    }
   ],
   "source": [
    "k = float(input(\"Enter a value in kilometer: \"))\n",
    "m = k * 0.6214\n",
    "print(f\"{k} kilometer is equivalent to {m:.2f} mile\")"
   ]
  },
  {
   "cell_type": "markdown",
   "id": "c75a59bb",
   "metadata": {},
   "source": [
    "2. Write a Python program to convert Celsius to Fahrenheit?"
   ]
  },
  {
   "cell_type": "code",
   "execution_count": 5,
   "id": "4bcc7a1a",
   "metadata": {},
   "outputs": [
    {
     "name": "stdout",
     "output_type": "stream",
     "text": [
      "Enter a value in Celsius: 4\n",
      "4.0 Celsius is equivalent to 39.2 Fahrenheit\n"
     ]
    }
   ],
   "source": [
    "c = float(input(\"Enter a value in Celsius: \"))\n",
    "f = c * 1.8 + 32\n",
    "print(f\"{c} Celsius is equivalent to {f} Fahrenheit\")"
   ]
  },
  {
   "cell_type": "markdown",
   "id": "dd10c45e",
   "metadata": {},
   "source": [
    "3. Write a Python program to display calendar?"
   ]
  },
  {
   "cell_type": "code",
   "execution_count": 6,
   "id": "f276618c",
   "metadata": {},
   "outputs": [
    {
     "name": "stdout",
     "output_type": "stream",
     "text": [
      "Enter a year(YYYY): 2022\n",
      "Enter a month(MM): 11\n",
      "   November 2022\n",
      "Mo Tu We Th Fr Sa Su\n",
      "    1  2  3  4  5  6\n",
      " 7  8  9 10 11 12 13\n",
      "14 15 16 17 18 19 20\n",
      "21 22 23 24 25 26 27\n",
      "28 29 30\n",
      "\n"
     ]
    }
   ],
   "source": [
    "import calendar\n",
    "y = int(input(\"Enter a year(YYYY): \"))\n",
    "d = int(input(\"Enter a month(MM): \"))\n",
    "print(calendar.month(y,d))"
   ]
  },
  {
   "cell_type": "markdown",
   "id": "9b4269f9",
   "metadata": {},
   "source": [
    "4. Write a Python program to solve quadratic equation?"
   ]
  },
  {
   "cell_type": "code",
   "execution_count": 19,
   "id": "beeabee9",
   "metadata": {},
   "outputs": [
    {
     "name": "stdout",
     "output_type": "stream",
     "text": [
      "Enter value for a: 1\n",
      "Enter value for b: 7\n",
      "Enter value for c: 6\n",
      "Solution 1: (-6+0j)\n",
      "Solution 2: (-1+0j)\n"
     ]
    }
   ],
   "source": [
    "import cmath\n",
    "a = int(input(\"Enter value for a: \"))\n",
    "b = int(input(\"Enter value for b: \"))\n",
    "c = int(input(\"Enter value for c: \"))\n",
    "# calculate the discriminant\n",
    "d = (b**2) - (4*a*c)\n",
    "x1 = (-b-cmath.sqrt(d))/(2*a)\n",
    "x2 = (-b+cmath.sqrt(d))/(2*a)\n",
    "print(f'Solution 1: {x1}')\n",
    "print(f'Solution 2: {x2}')      "
   ]
  },
  {
   "cell_type": "markdown",
   "id": "291e6b65",
   "metadata": {},
   "source": [
    "5. Write a Python program to swap two variables without temp variable?"
   ]
  },
  {
   "cell_type": "code",
   "execution_count": 16,
   "id": "58d4c41d",
   "metadata": {
    "scrolled": true
   },
   "outputs": [
    {
     "name": "stdout",
     "output_type": "stream",
     "text": [
      "Before swapping\n",
      "x = 100, y = 10\n",
      "After swapping\n",
      "x = 10, y = 100\n"
     ]
    }
   ],
   "source": [
    "x = 100\n",
    "y = 10\n",
    "print(f'Before swapping')\n",
    "print(f'x = {x}, y = {y}')\n",
    "print(f'After swapping')\n",
    "x, y =y, x\n",
    "print(f'x = {x}, y = {y}')"
   ]
  },
  {
   "cell_type": "code",
   "execution_count": null,
   "id": "959203cb",
   "metadata": {},
   "outputs": [],
   "source": []
  }
 ],
 "metadata": {
  "kernelspec": {
   "display_name": "Python 3 (ipykernel)",
   "language": "python",
   "name": "python3"
  },
  "language_info": {
   "codemirror_mode": {
    "name": "ipython",
    "version": 3
   },
   "file_extension": ".py",
   "mimetype": "text/x-python",
   "name": "python",
   "nbconvert_exporter": "python",
   "pygments_lexer": "ipython3",
   "version": "3.10.4"
  }
 },
 "nbformat": 4,
 "nbformat_minor": 5
}
