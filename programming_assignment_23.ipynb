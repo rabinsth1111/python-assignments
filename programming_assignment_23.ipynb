{
 "cells": [
  {
   "cell_type": "markdown",
   "id": "ed0a83ca",
   "metadata": {},
   "source": [
    "<b>1. Create a function that takes a number as an argument and returns True or False depending on whether the number is<br/> symmetrical or not. A number is symmetrical when it is the same as its reverse.<br/>\n",
    "Examples:<br/>\n",
    "is_symmetrical(7227) ➞ True<br/>\n",
    "is_symmetrical(12567) ➞ False<br/>\n",
    "is_symmetrical(44444444) ➞ True<br/>\n",
    "is_symmetrical(9939) ➞ False<br/>\n",
    "is_symmetrical(1112111) ➞ True<br/>\n",
    "</b>\n",
    "\n",
    "\n"
   ]
  },
  {
   "cell_type": "code",
   "execution_count": 2,
   "id": "8366ebc7",
   "metadata": {},
   "outputs": [
    {
     "name": "stdout",
     "output_type": "stream",
     "text": [
      "is_symmetrical(7227) ➞ True\n",
      "is_symmetrical(12567) ➞ False\n",
      "is_symmetrical(44444444) ➞ True\n",
      "is_symmetrical(9939) ➞ False\n",
      "is_symmetrical(1112111) ➞ True\n"
     ]
    }
   ],
   "source": [
    "def is_symmetrical(in_num):\n",
    "    in_num = str(in_num)\n",
    "    if in_num == in_num[::-1]:\n",
    "        return True\n",
    "    else:\n",
    "        return False\n",
    "\n",
    "print(f'is_symmetrical(7227) ➞ {is_symmetrical(7227)}')\n",
    "print(f'is_symmetrical(12567) ➞ {is_symmetrical(12567)}')\n",
    "print(f'is_symmetrical(44444444) ➞ {is_symmetrical(44444444)}')\n",
    "print(f'is_symmetrical(9939) ➞ {is_symmetrical(9939)}')\n",
    "print(f'is_symmetrical(1112111) ➞ {is_symmetrical(1112111)}')\n"
   ]
  },
  {
   "cell_type": "markdown",
   "id": "6c18cffc",
   "metadata": {},
   "source": [
    "<br/>"
   ]
  },
  {
   "cell_type": "code",
   "execution_count": null,
   "id": "6359f0e8",
   "metadata": {},
   "outputs": [],
   "source": [
    "<b>2. Given a string of numbers separated by a comma and space, return the product of the numbers.\n",
    "Examples:\n",
    "multiply_nums(\"2, 3\") ➞ 6\n",
    "multiply_nums(\"1, 2, 3, 4\") ➞ 24\n",
    "multiply_nums(\"54, 75, 453, 0\") ➞ 0\n",
    "multiply_nums(\"10, -2\") ➞ -20\n",
    "</b>\n"
   ]
  },
  {
   "cell_type": "code",
   "execution_count": 11,
   "id": "9461712f",
   "metadata": {},
   "outputs": [
    {
     "name": "stdout",
     "output_type": "stream",
     "text": [
      "multiply_nums(\"2, 3\") ➞6\n",
      "multiply_nums(\"1, 2, 3, 4\") ➞24\n",
      "multiply_nums(\"54, 75, 453, 0\") ➞0\n",
      "multiply_nums(\"10, -2\") ➞-20\n"
     ]
    }
   ],
   "source": [
    "def multiply_nums(in_string):\n",
    "    split_string = in_string.split(',')\n",
    "    out_num = 1\n",
    "    for el in split_string:\n",
    "        out_num *= int(el)\n",
    "    return out_num    \n",
    "    \n",
    "print(f'multiply_nums(\"2, 3\") ➞ {multiply_nums(\"2, 3\")}')\n",
    "print(f'multiply_nums(\"1, 2, 3, 4\") ➞ {multiply_nums(\"1, 2, 3, 4\")}')\n",
    "print(f'multiply_nums(\"54, 75, 453, 0\") ➞ {multiply_nums(\"54, 75, 453, 0\")}')\n",
    "print(f'multiply_nums(\"10, -2\") ➞ {multiply_nums(\"10, -2\")}')\n",
    "\n",
    "    "
   ]
  },
  {
   "cell_type": "markdown",
   "id": "1e5610be",
   "metadata": {},
   "source": [
    "<br/>"
   ]
  },
  {
   "cell_type": "markdown",
   "id": "46245177",
   "metadata": {},
   "source": [
    "<b>3. Create a function that squares every digit of a number.<br/>\n",
    "Examples:<br/>\n",
    "square_digits(9119) ➞ 811181<br/>\n",
    "square_digits(2483) ➞ 416649<br/>\n",
    "square_digits(3212) ➞ 9414<br/>\n",
    "\n",
    "Notes:<br/>\n",
    "The function receives an integer and must return an integer.<br/>\n",
    "</b>\n"
   ]
  },
  {
   "cell_type": "code",
   "execution_count": 14,
   "id": "579413ed",
   "metadata": {},
   "outputs": [
    {
     "name": "stdout",
     "output_type": "stream",
     "text": [
      "square_digits(9119) ➞ 811181\n",
      "square_digits(2483) ➞ 416649\n",
      "square_digits(3212) ➞ 9414\n"
     ]
    }
   ],
   "source": [
    "def square_digits(in_num):\n",
    "    in_list = [str(int(el)**2) for el in str(in_num)]\n",
    "    out_list = ''.join(in_list)\n",
    "    return out_list\n",
    "    \n",
    "print(f'square_digits(9119) ➞ {square_digits(9119)}')\n",
    "print(f'square_digits(2483) ➞ {square_digits(2483)}')\n",
    "print(f'square_digits(3212) ➞ {square_digits(3212)}')\n"
   ]
  },
  {
   "cell_type": "markdown",
   "id": "23fb7447",
   "metadata": {},
   "source": [
    "<br/>"
   ]
  },
  {
   "cell_type": "markdown",
   "id": "cd7fe25b",
   "metadata": {},
   "source": [
    "<b>4. Create a function that sorts a list and removes all duplicate items from it.<br/>\n",
    "Examples:<br/>\n",
    "setify([1, 3, 3, 5, 5]) ➞ [1, 3, 5]<br/>\n",
    "setify([4, 4, 4, 4]) ➞ [4]<br/>\n",
    "setify([5, 7, 8, 9, 10, 15]) ➞ [5, 7, 8, 9, 10, 15]<br/>\n",
    "setify([3, 3, 3, 2, 1]) ➞ [1, 2, 3]<br/>\n",
    "</b>\n",
    "\n"
   ]
  },
  {
   "cell_type": "code",
   "execution_count": 16,
   "id": "34ce3f81",
   "metadata": {},
   "outputs": [
    {
     "name": "stdout",
     "output_type": "stream",
     "text": [
      "setify([1, 3, 3, 5, 5]) ➞ [1, 3, 5]\n",
      "setify([4, 4, 4, 4]) ➞ [4]\n",
      "setify([5, 7, 8, 9, 10, 15]) ➞ [5, 7, 8, 9, 10, 15]\n",
      "setify([3, 3, 3, 2, 1]) ➞ [1, 2, 3]\n"
     ]
    }
   ],
   "source": [
    "def setify(in_list):\n",
    "    out_list = sorted(set(in_list))\n",
    "    return out_list\n",
    "\n",
    "in_list = [1, 3, 3, 5, 5]\n",
    "print(f'setify({in_list}) ➞ {setify(in_list)}')\n",
    "\n",
    "in_list = [4, 4, 4, 4]\n",
    "print(f'setify({in_list}) ➞ {setify(in_list)}')    \n",
    "\n",
    "in_list = [5, 7, 8, 9, 10, 15]\n",
    "print(f'setify({in_list}) ➞ {setify(in_list)}') \n",
    "\n",
    "in_list = [3, 3, 3, 2, 1]\n",
    "print(f'setify({in_list}) ➞ {setify(in_list)}')\n",
    "\n"
   ]
  },
  {
   "cell_type": "markdown",
   "id": "33f300dd",
   "metadata": {},
   "source": [
    "<br/>"
   ]
  },
  {
   "cell_type": "markdown",
   "id": "62ab8c7e",
   "metadata": {},
   "source": [
    "<b>5. Create a function that returns the mean of all digits.<br/>\n",
    "Examples:<br/>\n",
    "mean(42) ➞ 3<br/>\n",
    "mean(12345) ➞ 3<br/>\n",
    "mean(666) ➞ 6<br/>\n",
    "\n",
    "Notes:<br/>\n",
    "1.The mean of all digits is the sum of digits / how many digits there are (e.g. mean of digits in 512 is (5+1+2)/3(number of digits) = 8/3=2).<br/>\n",
    "2.The mean will always be an integer.<br/>\n",
    "</b>\n"
   ]
  },
  {
   "cell_type": "code",
   "execution_count": 18,
   "id": "37310620",
   "metadata": {},
   "outputs": [
    {
     "name": "stdout",
     "output_type": "stream",
     "text": [
      "mean(42) ➞ 3.0\n",
      "mean(12345) ➞ 3.0\n",
      "mean(666) ➞ 6.0\n"
     ]
    }
   ],
   "source": [
    "def mean(in_num):\n",
    "    in_list = [int(el) for el in str(in_num)]\n",
    "    out_num = sum(in_list)/len(in_list)\n",
    "    return round(out_num,2) \n",
    "\n",
    "print(f'mean(42) ➞ {mean(42)}')\n",
    "print(f'mean(12345) ➞ {mean(12345)}')\n",
    "print(f'mean(666) ➞ {mean(666)}')\n",
    "\n"
   ]
  },
  {
   "cell_type": "code",
   "execution_count": null,
   "id": "0157c2b9",
   "metadata": {},
   "outputs": [],
   "source": []
  }
 ],
 "metadata": {
  "kernelspec": {
   "display_name": "Python 3 (ipykernel)",
   "language": "python",
   "name": "python3"
  },
  "language_info": {
   "codemirror_mode": {
    "name": "ipython",
    "version": 3
   },
   "file_extension": ".py",
   "mimetype": "text/x-python",
   "name": "python",
   "nbconvert_exporter": "python",
   "pygments_lexer": "ipython3",
   "version": "3.11.3"
  }
 },
 "nbformat": 4,
 "nbformat_minor": 5
}
