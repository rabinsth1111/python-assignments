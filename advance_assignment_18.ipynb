{
 "cells": [
  {
   "cell_type": "markdown",
   "id": "fcd9b173",
   "metadata": {},
   "source": [
    "#### Q1. Describe the differences between text and binary files in a single paragraph.\n",
    "**Ans:** The differences between Text Files and Binary Files are:\n",
    "\n",
    "**Text files** are special subset of binary files that are used to store human readable characters as a rich text document or plain text document. Text files also store data in sequential bytes but bits in text file represents characters.\n",
    "\n",
    "**Binary files** are those typical files that store data in the form of sequence of bytes grouped into eight bits or sometimes sixteen bits. These bits represent custom data and such files can store multiple types of data (images, audio, text, etc) under a single file."
   ]
  },
  {
   "cell_type": "markdown",
   "id": "3e363a3b",
   "metadata": {},
   "source": [
    "#### Q2. What are some scenarios where using text files will be the better option? When would you like to use binary files instead of text files?\n",
    "**Ans:** \n",
    "Text files are often preferred in scenarios where human readability and easy editing are essential. Some situations where using text files is the better option include:\n",
    "\n",
    "1. Configuration files: Text files are commonly used for storing configuration settings for software applications because they can be easily modified by users and developers.\n",
    "\n",
    "2. Source code: Programming source code is typically stored in text files, as it allows developers to write, read, and version control code easily.\n",
    "\n",
    "3. Markup languages: Text files are used for writing markup languages like HTML, XML, or JSON, which structure data in a human-readable format.\n",
    "\n",
    "4. Data interchange: When data needs to be shared between different systems or transmitted over the internet, text-based formats like CSV, JSON, or XML are often preferred for their interoperability and readability.\n",
    "\n",
    "\n",
    "Binary files, on the other hand, are suitable in situations where data needs to be stored or transmitted in a more efficient and compact form. Use binary files when:\n",
    "\n",
    "1. Performance is critical: Binary files are more efficient for storing large datasets, such as images, audio, or video, as they reduce the overhead of character encoding and can be processed more quickly.\n",
    "\n",
    "2. Data privacy and security: Binary formats can be used to obscure data and protect it from casual inspection, making them useful for proprietary or sensitive information.\n",
    "\n",
    "3. Specific data structures: Certain applications, like databases or game engines, require custom data structures that are better represented as binary files for speed and precision.\n",
    "\n",
    "4. Compatibility with specialized software: Some applications rely on proprietary or custom binary formats, making it necessary to use binary files to work with them.\n"
   ]
  },
  {
   "cell_type": "markdown",
   "id": "79fabe8b",
   "metadata": {},
   "source": [
    "#### Q3. What are some of the issues with using binary operations to read and write a Python integer directly to disc?\n",
    "**Ans:** Using binary operations to read and write a Python integer directly to disk can be challenging and error-prone due to several issues:\n",
    "\n",
    "1. Platform and Endianness Differences:  If we write binary data to disk on one platform and try to read it on another with a different endianness, the data may be interpreted incorrectly, leading to data corruption.\n",
    "\n",
    "2. Data Type and Size Variations: Python integers can vary in size (e.g., 32-bit or 64-bit) depending on the platform and Python version.\n",
    "\n",
    "3. Type Safety: Python integers can have different representations and are subject to dynamic typing. \n",
    "\n",
    "4. Portability: Binary data written to disk using one Python version or implementation (e.g., CPython, Jython, PyPy) may not be portable to other implementations or versions.\n",
    "\n",
    "5. Error Handling: Reading and writing binary data directly to disk requires careful error handling. \n"
   ]
  },
  {
   "cell_type": "markdown",
   "id": "96674fa6",
   "metadata": {},
   "source": [
    "#### Q4. Describe a benefit of using the with keyword instead of explicitly opening a file ?\n",
    "**Ans:** Benefits of using the with keyword instead of explicitly opening a file are:\n",
    "\n",
    "1. Automatic Cleanup and Exception Handling: When we use the with statement to open a file, the file is automatically closed when the code block within the with statement is exited, either due to successful execution or an exception. On the other hand, if the file remain open, it may lead to data corruption or resource leaks.\n",
    "\n",
    "2. Improved Readability: Using the with statement makes your code more readable and concise. It clearly defines the scope in which the file is used, making it easier to understand the purpose and lifecycle of the file."
   ]
  },
  {
   "cell_type": "code",
   "execution_count": null,
   "metadata": {},
   "outputs": [],
   "source": [
    "with open('example.txt', 'r') as file:\n",
    "    data = file.read()\n",
    "    # Perform operations on the file data\n",
    "# The file is automatically closed when the 'with' block exits\n",
    "\n",
    "# Continue with other code\n"
   ]
  },
  {
   "cell_type": "markdown",
   "id": "7ec11be2",
   "metadata": {},
   "source": [
    "#### Q5. Does Python have the trailing newline while reading a line of text? Does Python append a newline when you write a line of text?\n",
    "**Ans:** In Python, when we read a line of text using various input/output functions like readline() or readlines() from a file, the trailing newline character is included in the string, if it exists in the file.\n",
    "\n",
    "To remove the trailing newline character from a line you've read, you can use the strip() method:"
   ]
  },
  {
   "cell_type": "code",
   "execution_count": null,
   "metadata": {},
   "outputs": [],
   "source": [
    "with open(\"example.txt\", \"r\") as file:\n",
    "    line = file.readline().strip()\n",
    "    print(line)"
   ]
  },
  {
   "cell_type": "markdown",
   "metadata": {},
   "source": [
    "When we write a line of text to a file in Python using functions like write(), writelines(), or print(), Python does not automatically append a newline character. \n",
    "We need to explicitly add the newline character if we want it at the end of the line."
   ]
  },
  {
   "cell_type": "code",
   "execution_count": null,
   "metadata": {},
   "outputs": [],
   "source": [
    "with open(\"output.txt\", \"w\") as file:\n",
    "    file.write(\"Hello, World!\\n\")  # Append a newline character explicitly\n"
   ]
  },
  {
   "cell_type": "markdown",
   "id": "8d433ac7",
   "metadata": {},
   "source": [
    "#### Q6. What file operations enable for random-access operation?\n",
    "**Ans:** The file operations enable for random-access operation are **`seek()`** and **`tell()`**.\n",
    "\n",
    "1. seek: The seek() method allows you to move the file pointer to a specific position in the file."
   ]
  },
  {
   "cell_type": "code",
   "execution_count": null,
   "metadata": {},
   "outputs": [],
   "source": [
    "with open(\"example.txt\", \"rb\") as file:\n",
    "    file.seek(10)  # Move the file pointer to the 10th byte from the beginning\n",
    "    data = file.read(5)  # Read the next 5 bytes from the current position\n",
    "    print(data)\n"
   ]
  },
  {
   "cell_type": "markdown",
   "metadata": {},
   "source": [
    "2. tell(): The tell() method returns the current position of the file pointer within the file. "
   ]
  },
  {
   "cell_type": "code",
   "execution_count": null,
   "metadata": {},
   "outputs": [],
   "source": [
    "with open(\"example.txt\", \"rb\") as file:\n",
    "    file.seek(10)  # Move the file pointer to the 10th byte from the beginning\n",
    "    position = file.tell()  # Get the current position\n",
    "    print(position)  # This will print 10\n"
   ]
  },
  {
   "cell_type": "markdown",
   "id": "6e521586",
   "metadata": {},
   "source": [
    "#### Q7. When do you think you'll use the struct package the most?\n",
    "**Ans:** The struct module in Python is most commonly used when we need to work with binary data, such as reading from or writing to binary file formats or when communicating with external systems or hardware that exchange data in binary format."
   ]
  },
  {
   "cell_type": "code",
   "execution_count": 1,
   "metadata": {},
   "outputs": [
    {
     "name": "stdout",
     "output_type": "stream",
     "text": [
      "(42, 7, b'ab')\n"
     ]
    }
   ],
   "source": [
    "import struct\n",
    "\n",
    "# Pack data into a binary string\n",
    "data = struct.pack(\"Ih2s\", 42, 7, b\"ab\")\n",
    "\n",
    "# Unpack binary data\n",
    "unpacked_data = struct.unpack(\"Ih2s\", data)\n",
    "print(unpacked_data)\n"
   ]
  },
  {
   "cell_type": "markdown",
   "id": "9609ec3f",
   "metadata": {},
   "source": [
    "#### Q8. When is pickling the best option?\n",
    "**Ans:** Pickling in Python is a way to serialize (convert data or python objects into a byte stream) and deserialize (convert a byte stream back into data) Python objects.\n",
    "\n",
    "It serializes Python objects into a binary format that can be saved to a file or transmitted over a network."
   ]
  },
  {
   "cell_type": "code",
   "execution_count": 2,
   "metadata": {},
   "outputs": [
    {
     "name": "stdout",
     "output_type": "stream",
     "text": [
      "{'name': 'Alice', 'age': 30, 'city': 'Wonderland'}\n"
     ]
    }
   ],
   "source": [
    "import pickle\n",
    "\n",
    "# Create a Python object (a dictionary in this example)\n",
    "data = {\n",
    "    'name': 'Alice',\n",
    "    'age': 30,\n",
    "    'city': 'Wonderland'\n",
    "}\n",
    "\n",
    "# Serialize the object to a binary representation using pickle\n",
    "with open('data.pkl', 'wb') as file:\n",
    "    pickle.dump(data, file)\n",
    "\n",
    "# Deserialize the object from the binary representation\n",
    "with open('data.pkl', 'rb') as file:\n",
    "    loaded_data = pickle.load(file)\n",
    "\n",
    "# Now, 'loaded_data' is a Python object that was originally serialized\n",
    "print(loaded_data)\n"
   ]
  },
  {
   "cell_type": "markdown",
   "id": "98b90ed9",
   "metadata": {},
   "source": [
    "#### Q9. When will it be best to use the shelve package?\n",
    "**Ans:** The shelve module in Python is a built-in module that provides a simple way to persist and manage Python objects in a dictionary-like format. \n",
    "\n",
    "It is suitable for storing configuration settings, caching results, and basic data storage with key-based access."
   ]
  },
  {
   "cell_type": "code",
   "execution_count": 3,
   "metadata": {},
   "outputs": [
    {
     "name": "stdout",
     "output_type": "stream",
     "text": [
      "Alice 30 Wonderland\n"
     ]
    }
   ],
   "source": [
    "import shelve\n",
    "\n",
    "# Create or open a shelve database file\n",
    "with shelve.open('mydata.db') as db:\n",
    "    # Store data with keys\n",
    "    db['name'] = 'Alice'\n",
    "    db['age'] = 30\n",
    "    db['city'] = 'Wonderland'\n",
    "\n",
    "# Open the shelve database file again\n",
    "with shelve.open('mydata.db') as db:\n",
    "    # Retrieve data using keys\n",
    "    name = db['name']\n",
    "    age = db['age']\n",
    "    city = db['city']\n",
    "\n",
    "# Now 'name', 'age', and 'city' contain the stored values\n",
    "print(name, age, city)\n"
   ]
  },
  {
   "cell_type": "markdown",
   "id": "a4ad2a21",
   "metadata": {},
   "source": [
    "#### Q10. What is a special restriction when using the shelve package, as opposed to using other data dictionaries?\n",
    "**Ans:** The special restriction is: the keys used to access data in a shelve database must be strings.\n",
    "\n",
    "In a regular Python dictionary, you can use various data types as keys, including strings, numbers, and other immutable types. However, when working with shelve, the keys must be strings. This means that we cannot use other data types, such as integers, floats, or custom objects, as keys in a shelve database."
   ]
  },
  {
   "cell_type": "code",
   "execution_count": 4,
   "metadata": {},
   "outputs": [
    {
     "ename": "AttributeError",
     "evalue": "'int' object has no attribute 'encode'",
     "output_type": "error",
     "traceback": [
      "\u001b[1;31m---------------------------------------------------------------------------\u001b[0m",
      "\u001b[1;31mAttributeError\u001b[0m                            Traceback (most recent call last)",
      "\u001b[1;32mc:\\python\\assignments\\advance\\advance_assignment_18.ipynb Cell 21\u001b[0m line \u001b[0;36m5\n\u001b[0;32m      <a href='vscode-notebook-cell:/c%3A/python/assignments/advance/advance_assignment_18.ipynb#X31sZmlsZQ%3D%3D?line=2'>3</a>\u001b[0m \u001b[39m# Attempting to use an integer as a key in a shelve database\u001b[39;00m\n\u001b[0;32m      <a href='vscode-notebook-cell:/c%3A/python/assignments/advance/advance_assignment_18.ipynb#X31sZmlsZQ%3D%3D?line=3'>4</a>\u001b[0m \u001b[39mwith\u001b[39;00m shelve\u001b[39m.\u001b[39mopen(\u001b[39m'\u001b[39m\u001b[39mmydata.db\u001b[39m\u001b[39m'\u001b[39m) \u001b[39mas\u001b[39;00m db:\n\u001b[1;32m----> <a href='vscode-notebook-cell:/c%3A/python/assignments/advance/advance_assignment_18.ipynb#X31sZmlsZQ%3D%3D?line=4'>5</a>\u001b[0m     db[\u001b[39m42\u001b[39m] \u001b[39m=\u001b[39m \u001b[39m'\u001b[39m\u001b[39mSome data\u001b[39m\u001b[39m'\u001b[39m  \u001b[39m# This will raise an error\u001b[39;00m\n\u001b[0;32m      <a href='vscode-notebook-cell:/c%3A/python/assignments/advance/advance_assignment_18.ipynb#X31sZmlsZQ%3D%3D?line=6'>7</a>\u001b[0m \u001b[39m# Attempting to use a string as a key in a shelve database\u001b[39;00m\n\u001b[0;32m      <a href='vscode-notebook-cell:/c%3A/python/assignments/advance/advance_assignment_18.ipynb#X31sZmlsZQ%3D%3D?line=7'>8</a>\u001b[0m \u001b[39mwith\u001b[39;00m shelve\u001b[39m.\u001b[39mopen(\u001b[39m'\u001b[39m\u001b[39mmydata.db\u001b[39m\u001b[39m'\u001b[39m) \u001b[39mas\u001b[39;00m db:\n",
      "File \u001b[1;32mc:\\Users\\rabin\\anaconda3\\Lib\\shelve.py:125\u001b[0m, in \u001b[0;36mShelf.__setitem__\u001b[1;34m(self, key, value)\u001b[0m\n\u001b[0;32m    123\u001b[0m p \u001b[39m=\u001b[39m Pickler(f, \u001b[39mself\u001b[39m\u001b[39m.\u001b[39m_protocol)\n\u001b[0;32m    124\u001b[0m p\u001b[39m.\u001b[39mdump(value)\n\u001b[1;32m--> 125\u001b[0m \u001b[39mself\u001b[39m\u001b[39m.\u001b[39mdict[key\u001b[39m.\u001b[39mencode(\u001b[39mself\u001b[39m\u001b[39m.\u001b[39mkeyencoding)] \u001b[39m=\u001b[39m f\u001b[39m.\u001b[39mgetvalue()\n",
      "\u001b[1;31mAttributeError\u001b[0m: 'int' object has no attribute 'encode'"
     ]
    }
   ],
   "source": [
    "import shelve\n",
    "\n",
    "# Attempting to use an integer as a key in a shelve database\n",
    "with shelve.open('mydata.db') as db:\n",
    "    db[42] = 'Some data'  # This will raise an error\n",
    "\n",
    "# Attempting to use a string as a key in a shelve database\n",
    "with shelve.open('mydata.db') as db:\n",
    "    db['key'] = 'Some data'  # This is allowed\n"
   ]
  }
 ],
 "metadata": {
  "kernelspec": {
   "display_name": "Python 3",
   "language": "python",
   "name": "python3"
  },
  "language_info": {
   "codemirror_mode": {
    "name": "ipython",
    "version": 3
   },
   "file_extension": ".py",
   "mimetype": "text/x-python",
   "name": "python",
   "nbconvert_exporter": "python",
   "pygments_lexer": "ipython3",
   "version": "3.11.5"
  }
 },
 "nbformat": 4,
 "nbformat_minor": 5
}
