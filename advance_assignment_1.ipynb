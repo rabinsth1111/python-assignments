{
 "cells": [
  {
   "cell_type": "markdown",
   "metadata": {},
   "source": [
    "#### Q1. What is the purpose of Python's OOP?\n",
    "**Ans:** Object-Oriented Programming (OOP) is a programming paradigm that relies on the concept of classes and objects. Classes are the reusable pieces of code blueprints, which are used to create individual instances of objects. The main concept of OOPs is to bind the data and the functions that work together as a single unit so that no other part of the code can access this data. \n",
    "It has following advantages:\n",
    "- It helps to divide our over all program into different small segments and thus making it solving easy with the use of objects\n",
    "- Helps in easy maintenance and modification of existing program.\n",
    "- Multiple instances of an object can be made.\n",
    "- It aims to implement real-world entities like inheritance, polymorphisms, encapsulation, etc. in the programming."
   ]
  },
  {
   "cell_type": "markdown",
   "metadata": {},
   "source": [
    "<br/>"
   ]
  },
  {
   "cell_type": "markdown",
   "metadata": {},
   "source": [
    "#### Q2. Where does an inheritance search look for an attribute?\n",
    "**Ans:** It first searches for the attribute in its instance and then looks in the class it is generated from, to all super classes listed in its class header."
   ]
  },
  {
   "cell_type": "markdown",
   "metadata": {},
   "source": [
    "<br/>"
   ]
  },
  {
   "cell_type": "markdown",
   "metadata": {},
   "source": [
    "#### Q3. How do you distinguish between a class object and an instance object?\n",
    "**Ans:** The differences between a class object and an instance object are:\n",
    "1. Class is a template for creating objects whereas object is an instance of class.\n",
    "2. Seperate memory is allocated for each object whenever an object is created.\n",
    "3. A Class is created once whereas many objects are created using a class.\n",
    "4. Classes can't be manipulated where as objects can be manipulated."
   ]
  },
  {
   "cell_type": "markdown",
   "metadata": {},
   "source": [
    "<br/>"
   ]
  },
  {
   "cell_type": "markdown",
   "metadata": {},
   "source": [
    "#### Q4. What makes the first argument in a class’s method function special?\n",
    "**Ans:** Python Classes usually have three types of methods which are:\n",
    "- Instance Methods (object level methods)\n",
    "- Class Methods (class level methods)\n",
    "- Static Methods (general utility methods)\n",
    "\n",
    " **self** is the first argument for instance methods, which refers to the object itself, and\n",
    " **cls** is the first argument for class methods which refers to the class itself."
   ]
  },
  {
   "cell_type": "markdown",
   "metadata": {},
   "source": [
    "<br/>"
   ]
  },
  {
   "cell_type": "markdown",
   "metadata": {},
   "source": [
    "#### Q5. What is the purpose of the __init__ method?\n",
    "**Ans:** **__init__** is a reserved method in python classes. It serves the role of a **constructor** in object oriented programming. This method is called when an object is created from a class and it allows the class to initialize the attributes of the class."
   ]
  },
  {
   "cell_type": "markdown",
   "metadata": {},
   "source": [
    "<br/>"
   ]
  },
  {
   "cell_type": "markdown",
   "metadata": {},
   "source": [
    "#### Q6. What is the process for creating a class instance?\n",
    "**Ans:** To create a class instance, we need to call the class by its name and pass the arguments to the constructor.\n",
    "\n",
    "Example:<br/> r = Rectangle(length = 150, width = 100) <br/> \n",
    "Here, **r** is an instance of class **Rectangle** with parameters(arguments) 150 and 100 which are initialized to attributes length and width of class **Rectangle**."
   ]
  },
  {
   "cell_type": "markdown",
   "metadata": {},
   "source": [
    "<br/>"
   ]
  },
  {
   "cell_type": "markdown",
   "metadata": {},
   "source": [
    "#### Q7. What is the process for creating a class?\n",
    "**Ans:** **class** keyword is used to created a class in python. The syntax to create a class in python is **class &lt;classname&gt;:**\n",
    "\n",
    "Example:<br/>\n",
    "**class Employee:**  <br/>  This creates a class called Employee."
   ]
  },
  {
   "cell_type": "markdown",
   "metadata": {},
   "source": [
    "<br/>"
   ]
  },
  {
   "cell_type": "markdown",
   "metadata": {},
   "source": [
    "#### Q8. How would you define the superclasses of a class?\n",
    "**Ans**. Superclass/Parent class is given as a arugment to the child class. The syntax is **class classname(Superclass)**\n",
    "\n",
    "Example: <br/>class Parrot(Bird):<br/> Here child class **Parrot** inherits attributes and methods from superclass **Bird**."
   ]
  }
 ],
 "metadata": {
  "language_info": {
   "name": "python"
  },
  "orig_nbformat": 4
 },
 "nbformat": 4,
 "nbformat_minor": 2
}
