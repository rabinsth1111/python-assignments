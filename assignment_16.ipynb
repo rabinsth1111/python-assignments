{
 "cells": [
  {
   "cell_type": "markdown",
   "id": "dcb4c38e",
   "metadata": {},
   "source": [
    "<b>1. Create a list called years_list, starting with the year of your birth, and each year thereafter until\n",
    "the year of your fifth birthday. For example, if you were born in 1980. the list would be years_list =\n",
    "[1980, 1981, 1982, 1983, 1984, 1985].</b>\n",
    "\n",
    "\n",
    "\n"
   ]
  },
  {
   "cell_type": "code",
   "execution_count": 3,
   "id": "023ec81f",
   "metadata": {},
   "outputs": [
    {
     "name": "stdout",
     "output_type": "stream",
     "text": [
      "[1990, 1991, 1992, 1993, 1994, 1995]\n"
     ]
    }
   ],
   "source": [
    "years_list = [ele for ele in range(1990,1990+6)]\n",
    "print(years_list)"
   ]
  },
  {
   "cell_type": "markdown",
   "id": "6ed81778",
   "metadata": {},
   "source": [
    "<br/>"
   ]
  },
  {
   "cell_type": "markdown",
   "id": "416dc19e",
   "metadata": {},
   "source": [
    "<b>2. In which year in years_list was your third birthday? Remember, you were 0 years of age for your\n",
    "first year.</b>"
   ]
  },
  {
   "cell_type": "code",
   "execution_count": 4,
   "id": "1ea26519",
   "metadata": {},
   "outputs": [
    {
     "name": "stdout",
     "output_type": "stream",
     "text": [
      "1993\n"
     ]
    }
   ],
   "source": [
    "print(years_list[3])"
   ]
  },
  {
   "cell_type": "markdown",
   "id": "236245bc",
   "metadata": {},
   "source": [
    "<br/>"
   ]
  },
  {
   "cell_type": "markdown",
   "id": "5f9cbc58",
   "metadata": {},
   "source": [
    "<b>3. In the years list, which year were you the oldest?</b>"
   ]
  },
  {
   "cell_type": "code",
   "execution_count": 5,
   "id": "ce6615fc",
   "metadata": {},
   "outputs": [
    {
     "name": "stdout",
     "output_type": "stream",
     "text": [
      "1995\n"
     ]
    }
   ],
   "source": [
    "print(years_list[-1])"
   ]
  },
  {
   "cell_type": "code",
   "execution_count": null,
   "id": "b5521533",
   "metadata": {},
   "outputs": [],
   "source": [
    "<br/>"
   ]
  },
  {
   "cell_type": "markdown",
   "id": "103f76a7",
   "metadata": {},
   "source": [
    "<b>4. Make a list called things with these three strings as elements: \"mozzarella\", \"cinderella\",\n",
    "\"salmonella\".</b>"
   ]
  },
  {
   "cell_type": "code",
   "execution_count": 7,
   "id": "826085c5",
   "metadata": {},
   "outputs": [
    {
     "name": "stdout",
     "output_type": "stream",
     "text": [
      "['mozzarella', 'cinderella', 'salmonella']\n"
     ]
    }
   ],
   "source": [
    "things = ['mozzarella','cinderella','salmonella']\n",
    "print (things)"
   ]
  },
  {
   "cell_type": "markdown",
   "id": "51a6edf6",
   "metadata": {},
   "source": [
    "<br/>"
   ]
  },
  {
   "cell_type": "code",
   "execution_count": null,
   "id": "75bb6233",
   "metadata": {},
   "outputs": [],
   "source": [
    "<b>5. Capitalize the element in things that refers to a person and then print the list. Did it change the\n",
    "element in the list?</b>"
   ]
  },
  {
   "cell_type": "code",
   "execution_count": 8,
   "id": "b22e56d9",
   "metadata": {},
   "outputs": [
    {
     "name": "stdout",
     "output_type": "stream",
     "text": [
      "['mozzarella', 'Cinderella', 'salmonella']\n"
     ]
    }
   ],
   "source": [
    "for element in range(len(things)):\n",
    "    if things[element] == 'cinderella':\n",
    "        things[element] = things[element].capitalize()\n",
    "print(things)"
   ]
  },
  {
   "cell_type": "code",
   "execution_count": null,
   "id": "560e8a6e",
   "metadata": {},
   "outputs": [],
   "source": [
    "<br/>"
   ]
  },
  {
   "cell_type": "markdown",
   "id": "5e672f03",
   "metadata": {},
   "source": [
    "<b>6. Make a surprise list with the elements \"Groucho\", \"Chico\" and \"Harpo\".</b>"
   ]
  },
  {
   "cell_type": "code",
   "execution_count": 9,
   "id": "0e41ea90",
   "metadata": {},
   "outputs": [
    {
     "name": "stdout",
     "output_type": "stream",
     "text": [
      "['Groucho', 'Chico', 'Harpo']\n"
     ]
    }
   ],
   "source": [
    "suprise_list = ['Groucho','Chico','Harpo']\n",
    "print(suprise_list)"
   ]
  },
  {
   "cell_type": "markdown",
   "id": "179ff56b",
   "metadata": {},
   "source": [
    "<br/>"
   ]
  },
  {
   "cell_type": "markdown",
   "id": "e2373eae",
   "metadata": {},
   "source": [
    "<b>7. Lowercase the last element of the surprise list, reverse it, and then capitalize it.</b>"
   ]
  },
  {
   "cell_type": "code",
   "execution_count": 10,
   "id": "5ac139d6",
   "metadata": {},
   "outputs": [
    {
     "name": "stdout",
     "output_type": "stream",
     "text": [
      "Oprah\n"
     ]
    }
   ],
   "source": [
    "print(suprise_list[-1].lower()[::-1].capitalize())"
   ]
  },
  {
   "cell_type": "markdown",
   "id": "dee7b3c3",
   "metadata": {},
   "source": [
    "<br/>"
   ]
  },
  {
   "cell_type": "code",
   "execution_count": null,
   "id": "e8dba98c",
   "metadata": {},
   "outputs": [],
   "source": [
    "<b>8. Make an English-to-French dictionary called e2f and print it. Here are your starter words: dog is\n",
    "chien, cat is chat, and walrus is morse.</b>"
   ]
  },
  {
   "cell_type": "code",
   "execution_count": 29,
   "id": "be93cbbf",
   "metadata": {},
   "outputs": [
    {
     "name": "stdout",
     "output_type": "stream",
     "text": [
      "{'dog': 'chien', 'cat': 'chat', 'walrus': 'morse'}\n"
     ]
    }
   ],
   "source": [
    "e2f = {'dog':'chien','cat':'chat','walrus':'morse'}\n",
    "print(e2f)"
   ]
  },
  {
   "cell_type": "markdown",
   "id": "17ef8fe6",
   "metadata": {},
   "source": [
    "<br/>"
   ]
  },
  {
   "cell_type": "markdown",
   "id": "a2b8d3c8",
   "metadata": {},
   "source": [
    "<b>9. Write the French word for walrus in your three-word dictionary e2f.</b>"
   ]
  },
  {
   "cell_type": "code",
   "execution_count": 30,
   "id": "098602d7",
   "metadata": {},
   "outputs": [
    {
     "name": "stdout",
     "output_type": "stream",
     "text": [
      "morse\n"
     ]
    }
   ],
   "source": [
    "print(e2f.get('walrus'))"
   ]
  },
  {
   "cell_type": "markdown",
   "id": "35c5f92c",
   "metadata": {},
   "source": [
    "<br/>"
   ]
  },
  {
   "cell_type": "markdown",
   "id": "e782ac92",
   "metadata": {},
   "source": [
    "<b>10. Make a French-to-English dictionary called f2e from e2f. Use the items method.</b>"
   ]
  },
  {
   "cell_type": "code",
   "execution_count": 32,
   "id": "b9889eba",
   "metadata": {},
   "outputs": [
    {
     "name": "stdout",
     "output_type": "stream",
     "text": [
      "{'chien': 'dog', 'chat': 'cat', 'morse': 'walrus'}\n"
     ]
    }
   ],
   "source": [
    "f2e = dict([el[::-1] for el in e2f.items()])\n",
    "print(f2e)"
   ]
  },
  {
   "cell_type": "markdown",
   "id": "94b40d57",
   "metadata": {},
   "source": [
    "<br/>"
   ]
  },
  {
   "cell_type": "markdown",
   "id": "3b3d7495",
   "metadata": {},
   "source": [
    "<b>11. Print the English version of the French word chien using f2e.</b>"
   ]
  },
  {
   "cell_type": "code",
   "execution_count": 33,
   "id": "df154448",
   "metadata": {},
   "outputs": [
    {
     "name": "stdout",
     "output_type": "stream",
     "text": [
      "dog\n"
     ]
    }
   ],
   "source": [
    "print(f2e.get('chien'))"
   ]
  },
  {
   "cell_type": "markdown",
   "id": "3a337784",
   "metadata": {},
   "source": [
    "<br/>"
   ]
  },
  {
   "cell_type": "markdown",
   "id": "67406cd9",
   "metadata": {},
   "source": [
    "<b>12. Make and print a set of English words from the keys in e2f.</b>"
   ]
  },
  {
   "cell_type": "code",
   "execution_count": 39,
   "id": "d5eb7100",
   "metadata": {},
   "outputs": [
    {
     "name": "stdout",
     "output_type": "stream",
     "text": [
      "['dog', 'cat', 'walrus']\n"
     ]
    }
   ],
   "source": [
    "print(list(e2f.keys()))"
   ]
  },
  {
   "cell_type": "markdown",
   "id": "921164d4",
   "metadata": {},
   "source": [
    "<br/>"
   ]
  },
  {
   "cell_type": "markdown",
   "id": "a444964d",
   "metadata": {},
   "source": [
    "<b>13.  Make a multilevel dictionary called life. Use these strings for the topmost keys: 'animals', 'plants', and 'other'. Make the 'animals' key refer to another dictionary with the keys 'cats', 'octopi', and 'emus'. Make the 'cats' key refer to a list of strings with the values 'Henri', 'Grumpy', and 'Lucy'. Make all the other keys refer to empty dictionaries.</b>"
   ]
  },
  {
   "cell_type": "code",
   "execution_count": 40,
   "id": "c7614d2e",
   "metadata": {},
   "outputs": [
    {
     "name": "stdout",
     "output_type": "stream",
     "text": [
      "{'animals': {'cats': ['Henri', 'Grumpy', 'Lucy'], 'octopi': {}, 'emus': {}}, 'plants': {}, 'other': {}}\n"
     ]
    }
   ],
   "source": [
    "life = {\n",
    "    'animals':{\n",
    "        'cats':['Henri','Grumpy','Lucy'],\n",
    "        'octopi':{},\n",
    "        'emus':{}\n",
    "    },\n",
    "    'plants':{},\n",
    "    'other':{}\n",
    "}\n",
    "print(life)"
   ]
  },
  {
   "cell_type": "markdown",
   "id": "ef2276c5",
   "metadata": {},
   "source": [
    "<br/>"
   ]
  },
  {
   "cell_type": "markdown",
   "id": "e6115b7e",
   "metadata": {},
   "source": [
    "<b>14. Print the top-level keys of life.</b>"
   ]
  },
  {
   "cell_type": "code",
   "execution_count": 41,
   "id": "8aff5d6c",
   "metadata": {},
   "outputs": [
    {
     "name": "stdout",
     "output_type": "stream",
     "text": [
      "['animals', 'plants', 'other']\n"
     ]
    }
   ],
   "source": [
    "print(list(life.keys()))"
   ]
  },
  {
   "cell_type": "markdown",
   "id": "93fbe963",
   "metadata": {},
   "source": [
    "<br/>"
   ]
  },
  {
   "cell_type": "markdown",
   "id": "c88c11c9",
   "metadata": {},
   "source": [
    "<b>15. Print the keys for life['animals'].</b>"
   ]
  },
  {
   "cell_type": "code",
   "execution_count": 42,
   "id": "1c74da27",
   "metadata": {},
   "outputs": [
    {
     "name": "stdout",
     "output_type": "stream",
     "text": [
      "['cats', 'octopi', 'emus']\n"
     ]
    }
   ],
   "source": [
    "print(list(life['animals'].keys()))"
   ]
  },
  {
   "cell_type": "markdown",
   "id": "999b78b5",
   "metadata": {},
   "source": [
    "<br/>"
   ]
  },
  {
   "cell_type": "markdown",
   "id": "33c89490",
   "metadata": {},
   "source": [
    "<b>16. Print the values for life['animals']['cats']</b>"
   ]
  },
  {
   "cell_type": "code",
   "execution_count": 43,
   "id": "c9291625",
   "metadata": {},
   "outputs": [
    {
     "name": "stdout",
     "output_type": "stream",
     "text": [
      "['Henri', 'Grumpy', 'Lucy']\n"
     ]
    }
   ],
   "source": [
    "print(life['animals']['cats'])"
   ]
  },
  {
   "cell_type": "code",
   "execution_count": null,
   "id": "ca1158a2",
   "metadata": {},
   "outputs": [],
   "source": []
  }
 ],
 "metadata": {
  "kernelspec": {
   "display_name": "Python 3 (ipykernel)",
   "language": "python",
   "name": "python3"
  },
  "language_info": {
   "codemirror_mode": {
    "name": "ipython",
    "version": 3
   },
   "file_extension": ".py",
   "mimetype": "text/x-python",
   "name": "python",
   "nbconvert_exporter": "python",
   "pygments_lexer": "ipython3",
   "version": "3.11.3"
  }
 },
 "nbformat": 4,
 "nbformat_minor": 5
}
