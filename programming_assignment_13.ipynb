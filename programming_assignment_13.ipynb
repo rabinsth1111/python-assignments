{
 "cells": [
  {
   "cell_type": "markdown",
   "id": "857d881c",
   "metadata": {},
   "source": [
    "<b>Question 1:<br/>\n",
    "Write a program that calculates and prints the value according to the given formula:<br/>\n",
    "Q = Square root of [(2 * C * D)/H]<br/>\n",
    "Following are the fixed values of C and H:<br/>\n",
    "C is 50. H is 30.<br/>\n",
    "D is the variable whose values should be input to your program in a comma-separated sequence.<br/>\n",
    "Example<br/>\n",
    "Let us assume the following comma separated input sequence is given to the program:<br/>\n",
    "100,150,180<br/>\n",
    "The output of the program should be:<br/>\n",
    "18,22,24</b>\n",
    "\n",
    "\n",
    "\n",
    "\n",
    "\n",
    "\n",
    "\n",
    "\n"
   ]
  },
  {
   "cell_type": "code",
   "execution_count": 7,
   "id": "d042c381",
   "metadata": {},
   "outputs": [
    {
     "name": "stdout",
     "output_type": "stream",
     "text": [
      "Enter the Input: 100,150,180\n",
      "Output: 18,22,24\n"
     ]
    }
   ],
   "source": [
    "from math import sqrt\n",
    "def calculate():\n",
    "    in_num = eval(input(\"Enter the Input: \"))\n",
    "    out_num = []\n",
    "    C = 50 \n",
    "    H = 30 \n",
    "    for ele in in_num:\n",
    "        Q = str(int(sqrt((2*C*ele)/H)))\n",
    "        out_num.append(Q)\n",
    "    print(\"Output:\",','.join(out_num))\n",
    "\n",
    "calculate()    "
   ]
  },
  {
   "cell_type": "markdown",
   "id": "a8d488c3",
   "metadata": {},
   "source": [
    "<br/>"
   ]
  },
  {
   "cell_type": "markdown",
   "id": "ae9b3024",
   "metadata": {},
   "source": [
    "<b>Question 2:<br/>\n",
    "Write a program which takes 2 digits, X,Y as input and generates a 2-dimensional array. The element value in the i-th row and j-th column of the array should be i*j.<br/>\n",
    "Note: i=0,1.., X-1; j=0,1,¡Y-1.<br/>\n",
    "Example<br/>\n",
    "Suppose the following inputs are given to the program: 3,5 <br/>\n",
    "Then, the output of the program should be:<br/>\n",
    "[[0, 0, 0, 0, 0], [0, 1, 2, 3, 4], [0, 2, 4, 6, 8]]</b>\n"
   ]
  },
  {
   "cell_type": "code",
   "execution_count": 9,
   "id": "034b5bc1",
   "metadata": {},
   "outputs": [
    {
     "name": "stdout",
     "output_type": "stream",
     "text": [
      "Enter the No. of Rows:3\n",
      "Enter the No. of Columns:5\n",
      "[[0, 0, 0, 0, 0], [0, 1, 2, 3, 4], [0, 2, 4, 6, 8]]\n"
     ]
    }
   ],
   "source": [
    "import array as arr\n",
    "def generate_array():\n",
    "    X = int(input('Enter the No. of Rows:'))\n",
    "    Y = int(input('Enter the No. of Columns:')) \n",
    "    out_array = []\n",
    "    for i in range(X):\n",
    "        out_array.append([])\n",
    "        for j in range(Y):\n",
    "            out_array[i].append(i*j)\n",
    "    print(out_array)\n",
    "    \n",
    "generate_array()"
   ]
  },
  {
   "cell_type": "markdown",
   "id": "e366885e",
   "metadata": {},
   "source": [
    "<br/>"
   ]
  },
  {
   "cell_type": "markdown",
   "id": "652be67d",
   "metadata": {},
   "source": [
    "<b>Question 3:<br/>\n",
    "Write a program that accepts a comma separated sequence of words as input and prints the words in a comma-separated <br/>\n",
    "sequence after sorting them alphabetically.<br/>\n",
    "Suppose the following input is supplied to the program:<br/>\n",
    "without,hello,bag,world<br/>\n",
    "Then, the output should be:<br/>\n",
    "bag,hello,without,world</b>"
   ]
  },
  {
   "cell_type": "code",
   "execution_count": 10,
   "id": "a4717cc3",
   "metadata": {},
   "outputs": [
    {
     "name": "stdout",
     "output_type": "stream",
     "text": [
      "Enter the Input String: without,hello,bag,world\n",
      "Output: bag,hello,without,world\n"
     ]
    }
   ],
   "source": [
    "def sort_string():\n",
    "    in_string = input(\"Enter the Input String: \")\n",
    "    out_string = ','.join(sorted(in_string.split(',')))\n",
    "    print(f'Output: {out_string}')\n",
    "    \n",
    "sort_string()"
   ]
  },
  {
   "cell_type": "markdown",
   "id": "d781c16e",
   "metadata": {},
   "source": [
    "<br/>"
   ]
  },
  {
   "cell_type": "markdown",
   "id": "816510ed",
   "metadata": {},
   "source": [
    "<b>Question 4:<br/>\n",
    "Write a program that accepts a sequence of whitespace separated words as input and prints<br/>\n",
    "the words after removing all duplicate words and sorting them alphanumerically.<br/>\n",
    "Suppose the following input is supplied to the program:<br/>\n",
    "hello world and practice makes perfect and hello world again Then, the output should be:<br/>\n",
    "again and hello makes perfect practice world</b>"
   ]
  },
  {
   "cell_type": "code",
   "execution_count": 2,
   "id": "09eaecff",
   "metadata": {},
   "outputs": [
    {
     "name": "stdout",
     "output_type": "stream",
     "text": [
      "Enter the Input String: hello world and practice makes perfect and hello world again\n",
      "Output: again and hello makes perfect practice world\n"
     ]
    }
   ],
   "source": [
    "def sort_alpha_numerically():\n",
    "    in_string = input(\"Enter the Input String: \")\n",
    "    out_string = ' '.join(sorted(set(in_string.split())))\n",
    "    print(f'Output: {out_string}')\n",
    "    \n",
    "sort_alpha_numerically()"
   ]
  },
  {
   "cell_type": "markdown",
   "id": "7e9d22f5",
   "metadata": {},
   "source": [
    "<br/>"
   ]
  },
  {
   "cell_type": "markdown",
   "id": "bfd05808",
   "metadata": {},
   "source": [
    "<b>Question 5:<br/>\n",
    "Write a program that accepts a sentence and calculate the number of letters and digits.<br/>\n",
    "Suppose the following input is supplied to the program:<br/>\n",
    "hello world! 123<br/>\n",
    "Then, the output should be:<br/>\n",
    "LETTERS 10<br/>\n",
    "\n",
    "DIGITS 3 </b>"
   ]
  },
  {
   "cell_type": "code",
   "execution_count": 7,
   "id": "413d07ee",
   "metadata": {},
   "outputs": [
    {
     "name": "stdout",
     "output_type": "stream",
     "text": [
      "Enter the Input String: hello world! 123\n",
      "LETTERS 10\n",
      "DIGITS 3\n"
     ]
    }
   ],
   "source": [
    "def count_letter_and_digits():\n",
    "    in_string = input(\"Enter the Input String: \")\n",
    "    letters = 0\n",
    "    digits = 0\n",
    "    for el in in_string:\n",
    "        if el.isalpha():\n",
    "            letters += 1\n",
    "        elif el.isdigit():\n",
    "            digits += 1\n",
    "    print(f'LETTERS {letters}\\nDIGITS {digits}')\n",
    "    \n",
    "count_letter_and_digits()"
   ]
  },
  {
   "cell_type": "markdown",
   "id": "fc64fe07",
   "metadata": {},
   "source": [
    "<br/>"
   ]
  },
  {
   "cell_type": "markdown",
   "id": "ab679ff6",
   "metadata": {},
   "source": [
    "<b>Question 6:<br/>\n",
    "A website requires the users to input username and password to register. Write a program to\n",
    "check the validity of password input by users.<br/>\n",
    "Following are the criteria for checking the password:<br/>\n",
    "1. At least 1 letter between [a-z]<br/>\n",
    "2. At least 1 number between [0-9]<br/>\n",
    "1. At least 1 letter between [A-Z]<br/>\n",
    "3. At least 1 character from [$#@]<br/>\n",
    "4. Minimum length of transaction password: 6<br/>\n",
    "5. Maximum length of transaction password: 12<br/>\n",
    "Your program should accept a sequence of comma separated passwords and will check them<br/>\n",
    "according to the above criteria. Passwords that match the criteria are to be printed, each<br/>\n",
    "separated by a comma.<br/>\n",
    "Example<br/>\n",
    "If the following passwords are given as input to the program:<br/>\n",
    "ABd1234@1,a F1#,2w3E*,2We3345<br/>\n",
    "Then, the output of the program should be:<br/>\n",
    "ABd1234@1</b>"
   ]
  },
  {
   "cell_type": "code",
   "execution_count": 17,
   "id": "26bfa7a3",
   "metadata": {},
   "outputs": [
    {
     "name": "stdout",
     "output_type": "stream",
     "text": [
      "Enter the Input String: ABd1234@1,a F1#,2w3E*,2We3345\n",
      "Output: ABd1234@1\n"
     ]
    }
   ],
   "source": [
    "def check_password():\n",
    "    in_string = input(\"Enter the Input String: \")\n",
    "    valid_pwds = []\n",
    "    for pwd in in_string.split(','):\n",
    "        valid = len(pwd) >=6 and len(pwd) <=12\n",
    "        if not valid: continue\n",
    "        valid = any(ch.isalpha() for ch in pwd)\n",
    "        valid = any(ch.isdigit() for ch in pwd)\n",
    "        valid = any(ch in \"$#@\" for ch in pwd)\n",
    "        if valid:\n",
    "            valid_pwds.append(pwd)\n",
    "    print(f\"Output:\",','.join(valid_pwds))        \n",
    "            \n",
    "check_password()\n"
   ]
  },
  {
   "cell_type": "code",
   "execution_count": 18,
   "id": "2d85feb0",
   "metadata": {},
   "outputs": [
    {
     "name": "stdout",
     "output_type": "stream",
     "text": [
      "Enter the Input String: ABd1234@1,a F1#,ABd1234@@1,ABd1234@#1,ABd1234@#$1\n",
      "Output: ABd1234@1,ABd1234@@1,ABd1234@#1,ABd1234@#$1\n"
     ]
    }
   ],
   "source": [
    "check_password()\n"
   ]
  },
  {
   "cell_type": "code",
   "execution_count": null,
   "id": "f71a01e3",
   "metadata": {},
   "outputs": [],
   "source": []
  }
 ],
 "metadata": {
  "kernelspec": {
   "display_name": "Python 3 (ipykernel)",
   "language": "python",
   "name": "python3"
  },
  "language_info": {
   "codemirror_mode": {
    "name": "ipython",
    "version": 3
   },
   "file_extension": ".py",
   "mimetype": "text/x-python",
   "name": "python",
   "nbconvert_exporter": "python",
   "pygments_lexer": "ipython3",
   "version": "3.11.3"
  }
 },
 "nbformat": 4,
 "nbformat_minor": 5
}
