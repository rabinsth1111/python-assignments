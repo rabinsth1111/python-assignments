{
 "cells": [
  {
   "cell_type": "markdown",
   "id": "957806dc",
   "metadata": {},
   "source": [
    "<b>1. Create a function that takes three arguments a, b, c and returns the sum of the numbers that are evenly divided by c from the range a, b inclusive ?<br/>\n",
    "Examples:<br/>\n",
    "evenly_divisible(1, 10, 20) ➞ 0 # No number between 1 and 10 can be evenly divided by 20.<br/> evenly_divisible(1, 10, 2) ➞ 30 # 2 + 4 + 6 + 8 + 10 = 30 <br/>evenly_divisible(1, 10, 3) ➞ 18 # 3 + 6 + 9 = 18\n",
    "</b>\n",
    "\n",
    "\n",
    "\n"
   ]
  },
  {
   "cell_type": "code",
   "execution_count": 1,
   "id": "f12c6d2c",
   "metadata": {},
   "outputs": [
    {
     "name": "stdout",
     "output_type": "stream",
     "text": [
      "(1, 10, 20) ➞ 0\n",
      "(1, 10, 2) ➞ 30\n",
      "(1, 10, 3) ➞ 18\n"
     ]
    }
   ],
   "source": [
    "def evenly_divisible(a,b,c):\n",
    "    L = []\n",
    "    for num in range(a,b+1):\n",
    "        if num%c == 0:\n",
    "            L.append(num)\n",
    "    return sum(L)\n",
    "\n",
    "a,b,c = 1,10,20\n",
    "print(f'{a,b,c} ➞ {evenly_divisible(a,b,c)}')\n",
    "\n",
    "a,b,c = 1,10,2\n",
    "print(f'{a,b,c} ➞ {evenly_divisible(a,b,c)}')\n",
    "\n",
    "a,b,c = 1,10,3\n",
    "print(f'{a,b,c} ➞ {evenly_divisible(a,b,c)}')\n"
   ]
  },
  {
   "cell_type": "markdown",
   "id": "388e018b",
   "metadata": {},
   "source": [
    "<br/>"
   ]
  },
  {
   "cell_type": "markdown",
   "id": "15444abc",
   "metadata": {},
   "source": [
    "<b>2. Create a function that returns True if a given inequality expression is correct and False otherwise ?<br/>\n",
    "Examples:<br/>\n",
    "correct_signs(\"3 < 7 < 11\") ➞ True<br/>\n",
    "correct_signs(\"13 > 44 > 33 > 1\") ➞ False<br/>\n",
    "correct_signs(\"1 < 2 < 6 < 9 > 3\") ➞ True<br/>\n",
    "</b>\n"
   ]
  },
  {
   "cell_type": "code",
   "execution_count": 2,
   "id": "4d39062d",
   "metadata": {},
   "outputs": [
    {
     "name": "stdout",
     "output_type": "stream",
     "text": [
      "3 < 7 < 11 ➞ True\n",
      "13 > 44 > 33 > 1 ➞ False\n",
      "1 < 2 < 6 < 9 > 3 ➞ True\n"
     ]
    }
   ],
   "source": [
    "def correct_signs(ex):\n",
    "    result = eval(ex)\n",
    "    return result\n",
    "\n",
    "ex = \"3 < 7 < 11\"\n",
    "print(f'{ex} ➞ {correct_signs(ex)}')\n",
    "\n",
    "ex = \"13 > 44 > 33 > 1\"\n",
    "print(f'{ex} ➞ {correct_signs(ex)}')\n",
    "\n",
    "ex = \"1 < 2 < 6 < 9 > 3\"\n",
    "print(f'{ex} ➞ {correct_signs(ex)}')"
   ]
  },
  {
   "cell_type": "markdown",
   "id": "853bf992",
   "metadata": {},
   "source": [
    "<br/>"
   ]
  },
  {
   "cell_type": "markdown",
   "id": "0e984d96",
   "metadata": {},
   "source": [
    "<b>3. Create a function that replaces all the vowels in a string with a specified character ?<br/>\n",
    "Examples:<br/>\n",
    "replace_vowels(\"the aardvark\", \"#\") ➞ \"th# ##rdv#rk\"<br/>\n",
    "replace_vowels(\"minnie mouse\", \"?\") ➞ \"m?nn?? m??s?\"<br/>\n",
    "replace_vowels(\"shakespeare\", \"*\") ➞ \"shksp**r\"<br/>\n",
    "</b>\n"
   ]
  },
  {
   "cell_type": "code",
   "execution_count": 3,
   "id": "406860fb",
   "metadata": {},
   "outputs": [
    {
     "name": "stdout",
     "output_type": "stream",
     "text": [
      "('the aardvark', '#') ➞ th# ##rdv#rk\n",
      "('minnie mouse', '?') ➞ m?nn?? m??s?\n",
      "('shakespeare', '*') ➞ sh*k*sp**r*\n"
     ]
    }
   ],
   "source": [
    "import re\n",
    "def replace_vowels(in_string, ch):\n",
    "    in_string = in_string.lower()\n",
    "    result = re.sub('[aeiou]',ch,in_string)\n",
    "    return result\n",
    "\n",
    "st,ch = \"the aardvark\",\"#\"\n",
    "print(f'{st, ch} ➞ {replace_vowels(st,ch)}')\n",
    "\n",
    "st,ch = \"minnie mouse\", \"?\"\n",
    "print(f'{st, ch} ➞ {replace_vowels(st,ch)}')\n",
    "\n",
    "st,ch = \"shakespeare\", \"*\"\n",
    "print(f'{st, ch} ➞ {replace_vowels(st,ch)}')\n"
   ]
  },
  {
   "cell_type": "markdown",
   "id": "14a16a56",
   "metadata": {},
   "source": [
    "<br/>"
   ]
  },
  {
   "cell_type": "markdown",
   "id": "7206d500",
   "metadata": {},
   "source": [
    "<b>4. Write a function that calculates the factorial of a number recursively ?<br/>\n",
    "Examples:<br/>\n",
    "factorial(5) ➞ 120<br/>\n",
    "factorial(3) ➞ 6<br/>\n",
    "factorial(1) ➞ 1<br/>\n",
    "factorial(0) ➞ 1<br/>\n",
    "</b>\n"
   ]
  },
  {
   "cell_type": "code",
   "execution_count": 4,
   "id": "97bb3fe1",
   "metadata": {},
   "outputs": [
    {
     "name": "stdout",
     "output_type": "stream",
     "text": [
      "factorial(5) ➞ 120\n",
      "factorial(3) ➞ 6\n",
      "factorial(1) ➞ 1\n",
      "factorial(0) ➞ 1\n"
     ]
    }
   ],
   "source": [
    "def factorial(n):\n",
    "    if n==0:\n",
    "        return 1\n",
    "    return n * factorial(n-1)\n",
    "\n",
    "print(f'factorial(5) ➞ {factorial(5)}')\n",
    "print(f'factorial(3) ➞ {factorial(3)}')\n",
    "print(f'factorial(1) ➞ {factorial(1)}')\n",
    "print(f'factorial(0) ➞ {factorial(0)}')\n"
   ]
  },
  {
   "cell_type": "markdown",
   "id": "6b61451c",
   "metadata": {},
   "source": [
    "<br/>"
   ]
  },
  {
   "cell_type": "markdown",
   "id": "9b1f555d",
   "metadata": {},
   "source": [
    "<b>5. Hamming distance is the number of characters that differ between two strings ?<br/>\n",
    "To illustrate:<br/>\n",
    "String1: \"abcbba\"<br/>\n",
    "String2: \"abcbda\"<br/>\n",
    "Hamming Distance: 1 - \"b\" vs. \"d\" is the only difference.<br/>\n",
    "Create a function that computes the hamming distance between two strings.<br/>\n",
    "Examples:<br/>\n",
    "hamming_distance(\"abcde\", \"bcdef\") ➞ 5<br/>\n",
    "hamming_distance(\"abcde\", \"abcde\") ➞ 0<br/>\n",
    "hamming_distance(\"strong\", \"strung\") ➞ 1<br/>\n",
    "</b>\n"
   ]
  },
  {
   "cell_type": "code",
   "execution_count": 5,
   "id": "5bb49e4d",
   "metadata": {},
   "outputs": [
    {
     "name": "stdout",
     "output_type": "stream",
     "text": [
      "Hamning distance between \"abcde\" and \"bcdef\" is 5\n",
      "Hamning distance between \"abcde\" and \"abcde\" is 0\n",
      "Hamning distance between \"strong\" and \"strung\" is 1\n"
     ]
    }
   ],
   "source": [
    "def hamming_distance(str1, str2):\n",
    "    i = 0\n",
    "    count = 0\n",
    "  \n",
    "    for i in range(len(str1)):\n",
    "        if(str1[i] != str2[i]):\n",
    "            count += 1\n",
    "        \n",
    "    return count\n",
    "  \n",
    "\n",
    "str1, str2 = \"abcde\", \"bcdef\"\n",
    "print(f'Hamning distance between \"{str1}\" and \"{str2}\" is {hamming_distance(str1,str2)}')\n",
    "\n",
    "str1, str2 = \"abcde\", \"abcde\"\n",
    "print(f'Hamning distance between \"{str1}\" and \"{str2}\" is {hamming_distance(str1,str2)}')\n",
    "\n",
    "str1, str2 = \"strong\", \"strung\"\n",
    "print(f'Hamning distance between \"{str1}\" and \"{str2}\" is {hamming_distance(str1,str2)}')\n",
    "  \n"
   ]
  },
  {
   "cell_type": "code",
   "execution_count": null,
   "id": "78290d1d",
   "metadata": {},
   "outputs": [],
   "source": []
  }
 ],
 "metadata": {
  "kernelspec": {
   "display_name": "Python 3 (ipykernel)",
   "language": "python",
   "name": "python3"
  },
  "language_info": {
   "codemirror_mode": {
    "name": "ipython",
    "version": 3
   },
   "file_extension": ".py",
   "mimetype": "text/x-python",
   "name": "python",
   "nbconvert_exporter": "python",
   "pygments_lexer": "ipython3",
   "version": "3.11.3"
  }
 },
 "nbformat": 4,
 "nbformat_minor": 5
}
