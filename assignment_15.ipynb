{
 "cells": [
  {
   "cell_type": "markdown",
   "id": "2f878e46",
   "metadata": {},
   "source": [
    "<b>1. How many seconds are in an hour? Use the interactive interpreter as a calculator and multiply the\n",
    "number of seconds in a minute (60) by the number of minutes in an hour (also 60).\n",
    "sol. 60</b>\n",
    "\n",
    "\n",
    "\n",
    "\n",
    "\n"
   ]
  },
  {
   "cell_type": "code",
   "execution_count": 5,
   "id": "c8ab8a2a",
   "metadata": {},
   "outputs": [
    {
     "data": {
      "text/plain": [
       "3600"
      ]
     },
     "execution_count": 5,
     "metadata": {},
     "output_type": "execute_result"
    }
   ],
   "source": [
    "seconds_per_minute= 60\n",
    "minutes_per_hour = 60\n",
    "seconds_per_minute*minutes_per_hour"
   ]
  },
  {
   "cell_type": "markdown",
   "id": "3b1b05bf",
   "metadata": {},
   "source": [
    "<br/>"
   ]
  },
  {
   "cell_type": "markdown",
   "id": "c7bc04a9",
   "metadata": {},
   "source": [
    "<b>2. Assign the result from the previous task (seconds in an hour) to a variable called\n",
    "seconds_per_hour.</b>"
   ]
  },
  {
   "cell_type": "code",
   "execution_count": 6,
   "id": "ec221965",
   "metadata": {},
   "outputs": [
    {
     "data": {
      "text/plain": [
       "3600"
      ]
     },
     "execution_count": 6,
     "metadata": {},
     "output_type": "execute_result"
    }
   ],
   "source": [
    "seconds_per_hour = seconds_per_minute*minutes_per_hour\n",
    "seconds_per_hour"
   ]
  },
  {
   "cell_type": "markdown",
   "id": "6675b26e",
   "metadata": {},
   "source": [
    "<br/>"
   ]
  },
  {
   "cell_type": "markdown",
   "id": "9d71ea5f",
   "metadata": {},
   "source": [
    "<b>3. How many seconds do you think there are in a day? Make use of the variables seconds per hour\n",
    "and minutes per hour.</b>"
   ]
  },
  {
   "cell_type": "code",
   "execution_count": 7,
   "id": "c1a38c34",
   "metadata": {},
   "outputs": [
    {
     "data": {
      "text/plain": [
       "86400"
      ]
     },
     "execution_count": 7,
     "metadata": {},
     "output_type": "execute_result"
    }
   ],
   "source": [
    "seconds_per_hour * 24 "
   ]
  },
  {
   "cell_type": "markdown",
   "id": "53e00990",
   "metadata": {},
   "source": [
    "<br/>"
   ]
  },
  {
   "cell_type": "markdown",
   "id": "d14fe015",
   "metadata": {},
   "source": [
    "<b>4. Calculate seconds per day again, but this time save the result in a variable called seconds_per_day</b>"
   ]
  },
  {
   "cell_type": "code",
   "execution_count": 9,
   "id": "77ef501f",
   "metadata": {},
   "outputs": [
    {
     "data": {
      "text/plain": [
       "86400"
      ]
     },
     "execution_count": 9,
     "metadata": {},
     "output_type": "execute_result"
    }
   ],
   "source": [
    "seconds_per_day = seconds_per_hour * 24 \n",
    "seconds_per_day"
   ]
  },
  {
   "cell_type": "markdown",
   "id": "cc230a08",
   "metadata": {},
   "source": [
    "<br/>"
   ]
  },
  {
   "cell_type": "markdown",
   "id": "b64edf72",
   "metadata": {},
   "source": [
    "<b>5. Divide seconds_per_day by seconds_per_hour. Use floating-point (/) division.</b>"
   ]
  },
  {
   "cell_type": "code",
   "execution_count": 10,
   "id": "0bc0c304",
   "metadata": {},
   "outputs": [
    {
     "data": {
      "text/plain": [
       "24.0"
      ]
     },
     "execution_count": 10,
     "metadata": {},
     "output_type": "execute_result"
    }
   ],
   "source": [
    "seconds_per_day/seconds_per_hour"
   ]
  },
  {
   "cell_type": "markdown",
   "id": "0692a9c4",
   "metadata": {},
   "source": [
    "<br/>"
   ]
  },
  {
   "cell_type": "markdown",
   "id": "f69c7f0b",
   "metadata": {},
   "source": [
    "<b>6. Divide seconds_per_day by seconds_per_hour, using integer (//) division. Did this number agree\n",
    "with the floating-point value from the previous question, aside from the final .0?</b>"
   ]
  },
  {
   "cell_type": "code",
   "execution_count": 15,
   "id": "dd03eba3",
   "metadata": {},
   "outputs": [
    {
     "name": "stdout",
     "output_type": "stream",
     "text": [
      "Yes, value 24 agree with the floating-point value from the previous question, aside from the final .0\n"
     ]
    }
   ],
   "source": [
    "val_f = seconds_per_day//seconds_per_hour\n",
    "val_i = seconds_per_day/seconds_per_hour\n",
    "if val_f==val_i :\n",
    "    print(f\"Yes, value {val_f} agree with the floating-point value from the previous question, aside from the final .0\")"
   ]
  },
  {
   "cell_type": "markdown",
   "id": "cd7614ef",
   "metadata": {},
   "source": [
    "<br/>"
   ]
  },
  {
   "cell_type": "markdown",
   "id": "f6833869",
   "metadata": {},
   "source": [
    "<b>7. Write a generator, genPrimes, that returns the sequence of prime numbers on successive calls to\n",
    "its next() method: 2, 3, 5, 7, 11, ...</b>"
   ]
  },
  {
   "cell_type": "code",
   "execution_count": 22,
   "id": "72995c99",
   "metadata": {},
   "outputs": [],
   "source": [
    "def genPrimes():\n",
    "    n = 2\n",
    "    primes = []\n",
    "    while True:\n",
    "        is_prime = True\n",
    "        for p in primes:\n",
    "            if p*p > n:\n",
    "                break\n",
    "            if n % p == 0:\n",
    "                is_prime = False\n",
    "                break\n",
    "        if is_prime:\n",
    "            primes.append(n)\n",
    "            yield n\n",
    "        n += 1"
   ]
  },
  {
   "cell_type": "code",
   "execution_count": 24,
   "id": "4b73115c",
   "metadata": {},
   "outputs": [
    {
     "name": "stdout",
     "output_type": "stream",
     "text": [
      "2\n",
      "3\n",
      "5\n",
      "7\n",
      "11\n"
     ]
    }
   ],
   "source": [
    "gen_prime = genPrimes()\n",
    "for i in range(5):\n",
    "    print(next(gen_prime))"
   ]
  },
  {
   "cell_type": "code",
   "execution_count": null,
   "id": "73782c13",
   "metadata": {},
   "outputs": [],
   "source": []
  }
 ],
 "metadata": {
  "kernelspec": {
   "display_name": "Python 3 (ipykernel)",
   "language": "python",
   "name": "python3"
  },
  "language_info": {
   "codemirror_mode": {
    "name": "ipython",
    "version": 3
   },
   "file_extension": ".py",
   "mimetype": "text/x-python",
   "name": "python",
   "nbconvert_exporter": "python",
   "pygments_lexer": "ipython3",
   "version": "3.11.3"
  }
 },
 "nbformat": 4,
 "nbformat_minor": 5
}
