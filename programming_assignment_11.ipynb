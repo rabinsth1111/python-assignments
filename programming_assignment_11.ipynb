{
 "cells": [
  {
   "cell_type": "markdown",
   "id": "d8f5d2e9",
   "metadata": {},
   "source": [
    "<b>1. Write a Python program to find words which are greater than given length k?</b>\n",
    "\n",
    "\n",
    "\n",
    "\n",
    "\n"
   ]
  },
  {
   "cell_type": "code",
   "execution_count": 5,
   "id": "7a7d9cec",
   "metadata": {},
   "outputs": [
    {
     "name": "stdout",
     "output_type": "stream",
     "text": [
      "Words greater than 4 in sentence 'Write a Python program to find words which are greater than given length k?' is \n",
      " ['Write', 'Python', 'program', 'words', 'which', 'greater', 'given', 'length']\n"
     ]
    }
   ],
   "source": [
    "def fetch_words(sen,length):\n",
    "    words = [w for w in sen.split() if len(w) > length]\n",
    "    return words\n",
    "\n",
    "sen = \"Write a Python program to find words which are greater than given length k?\"\n",
    "print(f\"Words greater than 4 in sentence '{sen}' is \\n\",fetch_words(sen,4))"
   ]
  },
  {
   "cell_type": "markdown",
   "id": "eb96ee67",
   "metadata": {},
   "source": [
    "<br/>"
   ]
  },
  {
   "cell_type": "markdown",
   "id": "135c7206",
   "metadata": {},
   "source": [
    "<b>2. Write a Python program for removing i-th character from a string?</b>"
   ]
  },
  {
   "cell_type": "code",
   "execution_count": 9,
   "id": "7e7fb730",
   "metadata": {},
   "outputs": [
    {
     "name": "stdout",
     "output_type": "stream",
     "text": [
      "After removing second character from string 'program': pogram\n",
      "After removing fifth character from string 'program': progam\n"
     ]
    }
   ],
   "source": [
    "def remove_char_at(string,i):\n",
    "    # using slice + concatenation\n",
    "    new_string = string[:i-1] + string[i:]\n",
    "    return new_string\n",
    "\n",
    "string = 'program'\n",
    "print(f\"After removing second character from string '{string}':\",remove_char_at(string,2))\n",
    "\n",
    "string = 'program'\n",
    "print(f\"After removing fifth character from string '{string}':\",remove_char_at(string,5))\n",
    "    "
   ]
  },
  {
   "cell_type": "markdown",
   "id": "f70dcf31",
   "metadata": {},
   "source": [
    "<br/>"
   ]
  },
  {
   "cell_type": "markdown",
   "id": "394ef81d",
   "metadata": {},
   "source": [
    "<b>3. Write a Python program to split and join a string?</b>"
   ]
  },
  {
   "cell_type": "code",
   "execution_count": 20,
   "id": "b2f35c76",
   "metadata": {},
   "outputs": [
    {
     "name": "stdout",
     "output_type": "stream",
     "text": [
      "String: 'Write a Python program to split and join a string?'\n",
      "After splitting with a delimeter ' ': ['Write', 'a', 'Python', 'program', 'to', 'split', 'and', 'join', 'a', 'string?']\n",
      "After joining with a delimeter '-': Write-a-Python-program-to-split-and-join-a-string?\n"
     ]
    }
   ],
   "source": [
    "def split_join(string,split_delimeter,join_delimeter):\n",
    "    print (f\"String: '{string}'\")\n",
    "    print (f\"After splitting with a delimeter '{split_delimeter}':\",string.split(split_delimeter))\n",
    "    print (f\"After joining with a delimeter '{join_delimeter}':\",join_delimeter.join(string.split(split_delimeter)))\n",
    "    \n",
    "string = 'Write a Python program to split and join a string?'\n",
    "split_join(string,' ','-')"
   ]
  },
  {
   "cell_type": "markdown",
   "id": "c2743822",
   "metadata": {},
   "source": [
    "<br/>"
   ]
  },
  {
   "cell_type": "markdown",
   "id": "7068e144",
   "metadata": {},
   "source": [
    "<b>4. Write a Python to check if a given string is binary string or not?</b>"
   ]
  },
  {
   "cell_type": "code",
   "execution_count": 24,
   "id": "c069e5dd",
   "metadata": {},
   "outputs": [
    {
     "name": "stdout",
     "output_type": "stream",
     "text": [
      "010010 is binary.\n",
      "010010abc is not binary.\n"
     ]
    }
   ],
   "source": [
    "def check_binary(string):\n",
    "    binary_string = '01'\n",
    "    for ch in string:\n",
    "        if ch not in binary_string:\n",
    "            return False\n",
    "    return True\n",
    "\n",
    "string = '010010'\n",
    "print(f\"{string} is binary.\") if check_binary(string) else print(f\"{string} is not binary.\")\n",
    "\n",
    "string = '010010abc'\n",
    "print(f\"{string} is binary.\") if check_binary(string) else print(f\"{string} is not binary.\")"
   ]
  },
  {
   "cell_type": "markdown",
   "id": "233e42d0",
   "metadata": {},
   "source": [
    "<br/>"
   ]
  },
  {
   "cell_type": "markdown",
   "id": "2551be3c",
   "metadata": {},
   "source": [
    "<b>5. Write a Python program to find uncommon words from two Strings?</b>"
   ]
  },
  {
   "cell_type": "code",
   "execution_count": 28,
   "id": "bece04d7",
   "metadata": {},
   "outputs": [
    {
     "name": "stdout",
     "output_type": "stream",
     "text": [
      "Uncommon words: ['given', 'characters', 'is', 'find', 'or', 'not', 'binary', 'all', 'in', 'duplicate', 'if', 'check']\n"
     ]
    }
   ],
   "source": [
    "def uncommon_words(string1, string2):\n",
    "    string1 = string1.lower().split()\n",
    "    string2 = string2.lower().split()\n",
    "    uncommon = []\n",
    "    for ch in string1:\n",
    "        if ch not in string2:\n",
    "            uncommon.append(ch)\n",
    "    for ch in string2:\n",
    "        if ch not in string1:\n",
    "            uncommon.append(ch)\n",
    "    \n",
    "    #remove dupicates\n",
    "    uncommon = list(set(uncommon))\n",
    "    return uncommon\n",
    "\n",
    "string1 = 'Write a Python to check if a given string is binary string or not' \n",
    "string2 = 'Write a Python to find all duplicate characters in string'\n",
    "print(f\"Uncommon words:\",uncommon_words(string1, string2))"
   ]
  },
  {
   "cell_type": "markdown",
   "id": "557b1b7c",
   "metadata": {},
   "source": [
    "<br/>"
   ]
  },
  {
   "cell_type": "markdown",
   "id": "6880f81b",
   "metadata": {},
   "source": [
    "<b>6. Write a Python to find all duplicate characters in string?</b>"
   ]
  },
  {
   "cell_type": "code",
   "execution_count": 46,
   "id": "9aee85a9",
   "metadata": {},
   "outputs": [
    {
     "name": "stdout",
     "output_type": "stream",
     "text": [
      "Duplicate characters in a string 'characters': ['c', 'a', 'r']\n"
     ]
    }
   ],
   "source": [
    "def duplicate_characters(string):\n",
    "    # Create an empty dictionary\n",
    "    chars = {}\n",
    " \n",
    "    # Iterate through each character in the string\n",
    "    for ch in string:\n",
    "        # If the character is not in the dictionary, add it\n",
    "        if ch not in chars:\n",
    "            chars[ch] = 1\n",
    "        else:\n",
    "            # If the character is already in the dictionary, increment the count\n",
    "            chars[ch] += 1\n",
    " \n",
    "    # Create a list to store the duplicate characters\n",
    "    duplicates = []\n",
    " \n",
    "    # Iterate through the dictionary \n",
    "    for char, count in chars.items():\n",
    "        if count > 1:\n",
    "            duplicates.append(char)\n",
    " \n",
    "    return duplicates\n",
    "\n",
    "\n",
    "string = 'characters'\n",
    "print(f\"Duplicate characters in a string '{string}':\", duplicate_characters(string))"
   ]
  },
  {
   "cell_type": "markdown",
   "id": "ffee275d",
   "metadata": {},
   "source": [
    "<br/>"
   ]
  },
  {
   "cell_type": "markdown",
   "id": "383df87c",
   "metadata": {},
   "source": [
    "<b>7. Write a Python Program to check if a string contains any special character?</b>"
   ]
  },
  {
   "cell_type": "code",
   "execution_count": 45,
   "id": "85c65807",
   "metadata": {},
   "outputs": [
    {
     "name": "stdout",
     "output_type": "stream",
     "text": [
      "String 'Today is Sunday' does not contain special characters.\n",
      "String 'Today, is Sunday & Sunday is Funday' contains special characters.\n"
     ]
    }
   ],
   "source": [
    "def has_special_character(s):\n",
    "    for c in s:\n",
    "        if not (c.isalpha() or c.isdigit() or c == ' '):\n",
    "            return True\n",
    "    return False\n",
    "\n",
    "string1 = \"Today is Sunday\"\n",
    "print(f\"String '{string1}' contains special characters.\") if has_special_character(string1) else print(f\"String '{string1}' does not contain special characters.\")\n",
    "\n",
    "string2 = \"Today, is Sunday & Sunday is Funday\"\n",
    "print(f\"String '{string2}' contains special characters.\") if has_special_character(string2) else print(f\"String '{string2}' does not contain special characters.\")"
   ]
  },
  {
   "cell_type": "code",
   "execution_count": 44,
   "id": "84262268",
   "metadata": {},
   "outputs": [
    {
     "name": "stdout",
     "output_type": "stream",
     "text": [
      "String 'Today is Sunday' does not contain special characters.\n",
      "String 'Today, is Sunday & Sunday is Funday' contains special characters.\n"
     ]
    }
   ],
   "source": [
    "# by using string.punctuation\n",
    "import string\n",
    "\n",
    "def has_special_char(s):\n",
    "    for c in s:\n",
    "        if c in string.punctuation:\n",
    "            return True\n",
    "    return False\n",
    "\n",
    "string1 = \"Today is Sunday\"\n",
    "print(f\"String '{string1}' contains special characters.\") if has_special_char(string1) else print(f\"String '{string1}' does not contain special characters.\")\n",
    "\n",
    "string2 = \"Today, is Sunday & Sunday is Funday\"\n",
    "print(f\"String '{string2}' contains special characters.\") if has_special_char(string2) else print(f\"String '{string2}' does not contain special characters.\")"
   ]
  }
 ],
 "metadata": {
  "kernelspec": {
   "display_name": "Python 3 (ipykernel)",
   "language": "python",
   "name": "python3"
  },
  "language_info": {
   "codemirror_mode": {
    "name": "ipython",
    "version": 3
   },
   "file_extension": ".py",
   "mimetype": "text/x-python",
   "name": "python",
   "nbconvert_exporter": "python",
   "pygments_lexer": "ipython3",
   "version": "3.11.3"
  }
 },
 "nbformat": 4,
 "nbformat_minor": 5
}
