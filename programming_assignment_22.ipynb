{
 "cells": [
  {
   "cell_type": "markdown",
   "id": "ca1e971c",
   "metadata": {},
   "source": [
    "<b>1. Create a function that takes three parameters where:<br/>\n",
    "x is the start of the range (inclusive).<br/>\n",
    "y is the end of the range (inclusive).<br/>\n",
    "n is the divisor to be checked against.<br/>\n",
    "\n",
    "Return an ordered list with numbers in the range that are divisible by the third parameter n. Return an empty list if there are<br/> no numbers that are divisible by n. <br/>Examples:<br/>\n",
    "list_operation(1, 10, 3) ➞ [3, 6, 9]<br/>\n",
    "list_operation(7, 9, 2) ➞ [8]<br/>\n",
    "list_operation(15, 20, 7) ➞ []<br/>\n",
    "</b>\n"
   ]
  },
  {
   "cell_type": "code",
   "execution_count": 1,
   "id": "b2ea850b",
   "metadata": {},
   "outputs": [
    {
     "name": "stdout",
     "output_type": "stream",
     "text": [
      "list_operation(1, 10, 3)  ➞ [3, 6, 9]\n",
      "list_operation(7, 9, 2)  ➞ [8]\n",
      "list_operation(15, 20, 7)  ➞ []\n"
     ]
    }
   ],
   "source": [
    "def list_operation(x,y,n):\n",
    "    out_list = []\n",
    "    for el in range(x,y+1):\n",
    "        if el%n == 0:\n",
    "            out_list.append(el)\n",
    "    return out_list\n",
    "\n",
    "print(f'list_operation(1, 10, 3)  ➞ {list_operation(1, 10, 3)}')\n",
    "print(f'list_operation(7, 9, 2)  ➞ {list_operation(7, 9, 2)}')\n",
    "print(f'list_operation(15, 20, 7)  ➞ {list_operation(15, 20, 7)}')\n"
   ]
  },
  {
   "cell_type": "markdown",
   "id": "d1218ed8",
   "metadata": {},
   "source": [
    "<br/>"
   ]
  },
  {
   "cell_type": "markdown",
   "id": "0c51bae8",
   "metadata": {},
   "source": [
    "<b>2. Create a function that takes in two lists and returns True if the second list follows the first list by one element,<br/> and False otherwise. In other words, determine if the second list is the first list shifted to the right by 1.<br/>\n",
    "Examples:<br/>\n",
    "simon_says([1, 2], [5, 1]) ➞ True<br/>\n",
    "simon_says([1, 2], [5, 5]) ➞ False<br/>\n",
    "simon_says([1, 2, 3, 4, 5], [0, 1, 2, 3, 4]) ➞ True<br/>\n",
    "simon_says([1, 2, 3, 4, 5], [5, 5, 1, 2, 3]) ➞ False<br/>\n",
    "\n",
    "Notes:<br/>\n",
    "1. Both input lists will be of the same length, and will have a minimum length of 2.<br/>\n",
    "2. The values of the 0-indexed element in the second list and the n-1th indexed element in the first list do not matter.<br/>\n",
    "</b>\n"
   ]
  },
  {
   "cell_type": "code",
   "execution_count": 3,
   "id": "abb2b163",
   "metadata": {},
   "outputs": [
    {
     "name": "stdout",
     "output_type": "stream",
     "text": [
      "simon_says([1, 2], [5, 1]) ➞ True\n",
      "simon_says([1, 2], [5, 5]) ➞ False\n",
      "simon_says([1, 2, 3, 4, 5], [0, 1, 2, 3, 4]) ➞ True\n",
      "simon_says([1, 2, 3, 4, 5], [5, 5, 1, 2, 3]) ➞ False\n"
     ]
    }
   ],
   "source": [
    "def simon_says(in_list_1,in_list_2):\n",
    "    if len(in_list_1) == len(in_list_1) and len(in_list_1) >=2 and len(in_list_1) >=2:\n",
    "        if(in_list_1[:-1] == in_list_2[1:]):\n",
    "            return True\n",
    "        else:\n",
    "            return False\n",
    "        \n",
    "print(f'simon_says([1, 2], [5, 1]) ➞ {simon_says([1, 2], [5, 1])}')\n",
    "print(f'simon_says([1, 2], [5, 5]) ➞ {simon_says([1, 2], [5, 5])}')\n",
    "print(f'simon_says([1, 2, 3, 4, 5], [0, 1, 2, 3, 4]) ➞ {simon_says([1, 2, 3, 4, 5], [0, 1, 2, 3, 4])}')\n",
    "print(f'simon_says([1, 2, 3, 4, 5], [5, 5, 1, 2, 3]) ➞ {simon_says([1, 2, 3, 4, 5], [5, 5, 1, 2, 3])}')"
   ]
  },
  {
   "cell_type": "markdown",
   "id": "fdaf9753",
   "metadata": {},
   "source": [
    "<br/>"
   ]
  },
  {
   "cell_type": "markdown",
   "id": "3095679b",
   "metadata": {},
   "source": [
    "<b>3. A group of friends have decided to start a secret society. The name will be the first letter of each of their names,<br/> sorted in a alphabetical order ? Create a function that takes in a list of names and returns the name of the secret society ?<br/>\n",
    "Examples:<br/>\n",
    "society_name([\"Adam\", \"Sarah\", \"Malcolm\"]) ➞ \"AMS\"<br/>\n",
    "society_name([\"Harry\", \"Newt\", \"Luna\", \"Cho\"]) ➞ \"CHLN\"<br/>\n",
    "society_name([\"Phoebe\", \"Chandler\", \"Rachel\", \"Ross\", \"Monica\", \"Joey\"])<br/>\n",
    "</b>\n",
    "\n"
   ]
  },
  {
   "cell_type": "code",
   "execution_count": 6,
   "id": "ac5ada48",
   "metadata": {},
   "outputs": [
    {
     "name": "stdout",
     "output_type": "stream",
     "text": [
      "society_name(['Adam', 'Sarah', 'Malcolm']) ➞ AMS\n",
      "society_name(['Harry', 'Newt', 'Luna', 'Cho']) ➞ CHLN\n",
      "society_name(['Phoebe', 'Chandler', 'Rachel', 'Ross', 'Monica', 'Joey']) ➞ CJMPRR\n"
     ]
    }
   ],
   "source": [
    "def society_name(in_list):\n",
    "    out_string = []\n",
    "    for el in in_list:\n",
    "        out_string.append(el[0])\n",
    "    output = ''.join(sorted(out_string))\n",
    "    return output\n",
    "    \n",
    "\n",
    "\n",
    "in_list = [\"Adam\", \"Sarah\", \"Malcolm\"]    \n",
    "print(f'society_name({in_list}) ➞ {society_name(in_list)}') \n",
    "\n",
    "in_list = [\"Harry\", \"Newt\", \"Luna\", \"Cho\"]    \n",
    "print(f'society_name({in_list}) ➞ {society_name(in_list)}') \n",
    "\n",
    "in_list = [\"Phoebe\", \"Chandler\", \"Rachel\", \"Ross\", \"Monica\", \"Joey\"]    \n",
    "print(f'society_name({in_list}) ➞ {society_name(in_list)}') \n",
    "\n"
   ]
  },
  {
   "cell_type": "markdown",
   "id": "db757b12",
   "metadata": {},
   "source": [
    "<br/>"
   ]
  },
  {
   "cell_type": "markdown",
   "id": "0dfab4ca",
   "metadata": {},
   "source": [
    "<b>4. An isogram is a word that has no duplicate letters. Create a function that takes a string and returns either True or <br/> False depending on whether or not it's an \"isogram\".<br/>\n",
    "Examples:<br/>\n",
    "is_isogram(\"Algorism\") ➞ True<br/>\n",
    "is_isogram(\"PasSword\") ➞ False<br/>\n",
    "#Not case sensitive.<br/>\n",
    "is_isogram(\"Consecutive\") ➞ False<br/>\n",
    "\n",
    "Notes:<br/>\n",
    "Ignore letter case (should not be case sensitive).<br/>\n",
    "All test cases contain valid one word strings.<br/>\n",
    "</b>\n"
   ]
  },
  {
   "cell_type": "code",
   "execution_count": 7,
   "id": "b05e2841",
   "metadata": {},
   "outputs": [
    {
     "name": "stdout",
     "output_type": "stream",
     "text": [
      "is_isogram(Algorism) ➞ True\n",
      "is_isogram(PasSword) ➞ False\n",
      "is_isogram(Consecutive) ➞ False\n"
     ]
    }
   ],
   "source": [
    "def is_isogram(in_string):\n",
    "    lower_in_string = in_string.lower()\n",
    "    if len(lower_in_string) == len(set(lower_in_string)):\n",
    "        return True\n",
    "    else:\n",
    "        return False\n",
    "\n",
    "in_string = \"Algorism\"\n",
    "print(f'is_isogram({in_string}) ➞ {is_isogram(in_string)}')\n",
    "\n",
    "in_string = \"PasSword\"\n",
    "print(f'is_isogram({in_string}) ➞ {is_isogram(in_string)}')\n",
    "\n",
    "in_string = \"Consecutive\"\n",
    "print(f'is_isogram({in_string}) ➞ {is_isogram(in_string)}')\n"
   ]
  },
  {
   "cell_type": "markdown",
   "id": "f66abdcb",
   "metadata": {},
   "source": [
    "<br/>"
   ]
  },
  {
   "cell_type": "markdown",
   "id": "a54d1b50",
   "metadata": {},
   "source": [
    "<b>5. Create a function that takes a string and returns True or False, depending on whether the characters are in order or not ?<br/>\n",
    "Examples:<br/>\n",
    "is_in_order(\"abc\") ➞ True<br/>\n",
    "is_in_order(\"edabit\") ➞ False<br/>\n",
    "is_in_order(\"123\") ➞ True<br/>\n",
    "is_in_order(\"xyzz\") ➞ True<br/>\n",
    "\n",
    "Notes:<br/>\n",
    "You don't have to handle empty strings.<br/>\n",
    "</b>\n"
   ]
  },
  {
   "cell_type": "code",
   "execution_count": 9,
   "id": "d6ede18a",
   "metadata": {},
   "outputs": [
    {
     "name": "stdout",
     "output_type": "stream",
     "text": [
      "is_in_order(\"abc\") ➞ True\n",
      "is_in_order(\"edabit\") ➞ False\n",
      "is_in_order(\"123\") ➞ True\n",
      "is_in_order(\"xyzz\") ➞ True\n"
     ]
    }
   ],
   "source": [
    "def is_in_order(in_string):\n",
    "    in_string_sorted = ''.join(sorted(in_string))\n",
    "    if in_string == in_string_sorted:\n",
    "        return True\n",
    "    else:\n",
    "        return False\n",
    "       \n",
    "\n",
    "print(f'is_in_order(\"abc\") ➞ {is_in_order(\"abc\")}')\n",
    "print(f'is_in_order(\"edabit\") ➞ {is_in_order(\"edabit\")}')\n",
    "print(f'is_in_order(\"123\") ➞ {is_in_order(\"123\")}')\n",
    "print(f'is_in_order(\"xyzz\") ➞ {is_in_order(\"xyzz\")}')\n"
   ]
  },
  {
   "cell_type": "code",
   "execution_count": null,
   "id": "2b4ce48b",
   "metadata": {},
   "outputs": [],
   "source": []
  }
 ],
 "metadata": {
  "kernelspec": {
   "display_name": "Python 3 (ipykernel)",
   "language": "python",
   "name": "python3"
  },
  "language_info": {
   "codemirror_mode": {
    "name": "ipython",
    "version": 3
   },
   "file_extension": ".py",
   "mimetype": "text/x-python",
   "name": "python",
   "nbconvert_exporter": "python",
   "pygments_lexer": "ipython3",
   "version": "3.11.3"
  }
 },
 "nbformat": 4,
 "nbformat_minor": 5
}
