{
 "cells": [
  {
   "cell_type": "markdown",
   "id": "d49ce175",
   "metadata": {},
   "source": [
    "<b>1. What does RGBA stand for?</b>\n"
   ]
  },
  {
   "cell_type": "markdown",
   "id": "6a74b88c",
   "metadata": {},
   "source": [
    "An RGBA value is a group of numbers that specify the amount of red, green, blue, and alpha (or transparency) in a color. Each of these component values is an integer from 0 to 255. "
   ]
  },
  {
   "cell_type": "markdown",
   "id": "d30760f3",
   "metadata": {},
   "source": [
    "<br/>"
   ]
  },
  {
   "cell_type": "markdown",
   "id": "39062590",
   "metadata": {},
   "source": [
    "<b>2. From the Pillow module, how do you get the RGBA value of any images?</b>"
   ]
  },
  {
   "cell_type": "markdown",
   "id": "357eaced",
   "metadata": {},
   "source": [
    "ImageColor.getcolor() gives rgba value of any image."
   ]
  },
  {
   "cell_type": "code",
   "execution_count": 6,
   "id": "acd70c07",
   "metadata": {},
   "outputs": [
    {
     "data": {
      "text/plain": [
       "(255, 255, 255, 255)"
      ]
     },
     "execution_count": 6,
     "metadata": {},
     "output_type": "execute_result"
    }
   ],
   "source": [
    "# Example\n",
    "from PIL import ImageColor\n",
    "ImageColor.getcolor('white', 'RGBA')\n"
   ]
  },
  {
   "cell_type": "markdown",
   "id": "90c12942",
   "metadata": {},
   "source": [
    "<br/>"
   ]
  },
  {
   "cell_type": "markdown",
   "id": "6586b070",
   "metadata": {},
   "source": [
    "<b>3. What is a box tuple, and how does it work?</b>"
   ]
  },
  {
   "cell_type": "markdown",
   "id": "a22df26e",
   "metadata": {},
   "source": [
    "A box tuple is a tuple of four integer coordinates that represent a rectangular region in an image. The four integers are:\n",
    "<br/>\n",
    "Left: The x-coordinate of the leftmost edge of the box.\n",
    "<br/>\n",
    "Top: The y-coordinate of the top edge of the box.\n",
    "<br/>\n",
    "Right: The x-coordinate of one pixel to the right of the rightmost edge of the box. This integer must be greater than the left integer.\n",
    "<br/>\n",
    "Bottom: The y-coordinate of one pixel lower than the bottom edge of the box. This integer must be greater than the top integer.\n",
    "\n"
   ]
  },
  {
   "cell_type": "markdown",
   "id": "ee5e29b8",
   "metadata": {},
   "source": [
    "<br/>"
   ]
  },
  {
   "cell_type": "markdown",
   "id": "cc249c36",
   "metadata": {},
   "source": [
    "<b>4. Use your image and load in notebook then, How can you find out the width and height of an\n",
    "Image object?</b>"
   ]
  },
  {
   "cell_type": "code",
   "execution_count": 9,
   "id": "229ac4f3",
   "metadata": {},
   "outputs": [
    {
     "name": "stdout",
     "output_type": "stream",
     "text": [
      "Width, Height -> (768, 1045)\n",
      "Width, Height -> 768,1045\n",
      "Width, Height -> 768,1045\n"
     ]
    }
   ],
   "source": [
    "#Example Program\n",
    "from PIL import Image\n",
    "pic = Image.open(\"C:\\\\Barnamala\\\\english-alphabet-barna-mala.webp\")\n",
    "print(f'Width, Height -> {pic.size}') # Approach 1\n",
    "print(f'Width, Height -> {pic.width},{pic.height}') # Approach 2\n",
    "width,height = pic.size # Approach 3\n",
    "print(f'Width, Height -> {width},{height}') "
   ]
  },
  {
   "cell_type": "markdown",
   "id": "0db8410c",
   "metadata": {},
   "source": [
    "<br/>"
   ]
  },
  {
   "cell_type": "markdown",
   "id": "65ec4220",
   "metadata": {},
   "source": [
    "<b>5. What method would you call to get Image object for a 100×100 image, excluding the lower-left\n",
    "quarter of it?</b>"
   ]
  },
  {
   "cell_type": "markdown",
   "id": "f2a0f2d1",
   "metadata": {},
   "source": [
    "imageObj.crop((0, 50, 50, 50)) takes a box tuple and returns an Image object representing the cropped image. \n",
    "<br/> The cropped section—includes the left column and top row of pixels but only goes up to and does not include the right column and bottom row of pixels."
   ]
  },
  {
   "cell_type": "code",
   "execution_count": null,
   "id": "1e8552e0",
   "metadata": {},
   "outputs": [],
   "source": [
    "# Example\n",
    "from PIL import Image\n",
    "img = Image.open('picture.jpg')\n",
    "new_img = img.crop((0,50,50,50))"
   ]
  },
  {
   "cell_type": "markdown",
   "id": "bd323b8e",
   "metadata": {},
   "source": [
    "<br/>"
   ]
  },
  {
   "cell_type": "markdown",
   "id": "60bb2dce",
   "metadata": {},
   "source": [
    "<b>6. After making changes to an Image object, how could you save it as an image file?</b>"
   ]
  },
  {
   "cell_type": "markdown",
   "id": "43813944",
   "metadata": {},
   "source": [
    "Call the imageObj.save('new_filename.jpg') method of the Image object."
   ]
  },
  {
   "cell_type": "code",
   "execution_count": null,
   "id": "607c9e6a",
   "metadata": {},
   "outputs": [],
   "source": [
    "# Example\n",
    "from PIL import Image\n",
    "img = Image.open('picture.jpg')\n",
    "new_img = img.crop((0,50,50,50))\n",
    "new_img.save('pic')"
   ]
  },
  {
   "cell_type": "markdown",
   "id": "8a08af8c",
   "metadata": {},
   "source": [
    "<br/>"
   ]
  },
  {
   "cell_type": "markdown",
   "id": "45b3be74",
   "metadata": {},
   "source": [
    "<b>7. What module contains Pillow’s shape-drawing code?</b>"
   ]
  },
  {
   "cell_type": "markdown",
   "id": "9eb63e0c",
   "metadata": {},
   "source": [
    "Pillows ImageDraw module contains Shape drawing methods."
   ]
  },
  {
   "cell_type": "markdown",
   "id": "e98a0ee2",
   "metadata": {},
   "source": [
    "<br/>"
   ]
  },
  {
   "cell_type": "markdown",
   "id": "6eccdd93",
   "metadata": {},
   "source": [
    "<b>8. Image objects do not have drawing methods. What kind of object does? How do you get this kind\n",
    "of object?</b>"
   ]
  },
  {
   "cell_type": "markdown",
   "id": "320fca1d",
   "metadata": {},
   "source": [
    "ImageDraw objects have drawing methods such as line(), rectangle(), ellipse(), etc. \n",
    "<br/>\n",
    "We get this kind of object by passing image object to the ImageDraw.Draw() function."
   ]
  },
  {
   "cell_type": "code",
   "execution_count": 19,
   "id": "f7c56e0a",
   "metadata": {},
   "outputs": [],
   "source": [
    "# Example\n",
    "from PIL import Image, ImageDraw\n",
    "im = Image.new('RGBA', (200, 200), 'white')\n",
    "draw = ImageDraw.Draw(im)\n",
    "draw.rectangle((50, 30, 100, 80), fill='red')\n",
    "im.save('drawing.png')"
   ]
  },
  {
   "cell_type": "markdown",
   "id": "6ce07e4e",
   "metadata": {},
   "source": [
    "<br/>"
   ]
  }
 ],
 "metadata": {
  "kernelspec": {
   "display_name": "Python 3 (ipykernel)",
   "language": "python",
   "name": "python3"
  },
  "language_info": {
   "codemirror_mode": {
    "name": "ipython",
    "version": 3
   },
   "file_extension": ".py",
   "mimetype": "text/x-python",
   "name": "python",
   "nbconvert_exporter": "python",
   "pygments_lexer": "ipython3",
   "version": "3.11.3"
  }
 },
 "nbformat": 4,
 "nbformat_minor": 5
}
