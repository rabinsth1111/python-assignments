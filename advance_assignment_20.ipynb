{
 "cells": [
  {
   "cell_type": "markdown",
   "id": "05ee62b2",
   "metadata": {},
   "source": [
    "#### 1. Compare and contrast the float and Decimal classes' benefits and drawbacks ?\n",
    "**Ans:** In Python, the float and Decimal classes are used for representing floating-point numbers, but they have some key differences.\n",
    "\n",
    "**float Class:**\n",
    "\n",
    "**Benefits:**\n",
    "\n",
    "Performance: float is implemented in hardware and is generally faster than Decimal operations. It is the native representation of floating-point numbers in Python.\n",
    "\n",
    "Memory Usage: float uses less memory compared to Decimal, which can be important when dealing with large datasets.\n",
    "\n",
    "Compatibility: Many mathematical libraries and functions work directly with float, so it may be more convenient in certain contexts.\n",
    "\n",
    "\n",
    "**Drawbacks:**\n",
    "\n",
    "Precision Issues: float uses binary floating-point arithmetic, which can lead to precision issues, especially when dealing with decimal fractions. This can result in unexpected behavior in calculations.\n",
    "\n",
    "Representation Error: Due to the binary representation, some decimal numbers cannot be represented exactly, leading to rounding errors.\n",
    "\n",
    "\n",
    "<br/><br/>\n",
    "\n",
    "**Decimal Class:**\n",
    "\n",
    "**Benefits:**\n",
    "\n",
    "Precision: Decimal provides arbitrary precision arithmetic, allowing you to represent and perform calculations with a high level of precision. This is crucial in applications where precision is paramount, such as financial calculations.\n",
    "\n",
    "Accuracy: Decimal avoids the rounding errors associated with binary floating-point representation, making it suitable for applications that require exact decimal representation.\n",
    "\n",
    "Control over Precision: You can explicitly set the precision for Decimal numbers, providing more control over how numbers are rounded.\n",
    "\n",
    "**Drawbacks:**\n",
    "\n",
    "Performance: Decimal operations are generally slower than float operations, especially for large datasets or intensive calculations. This can impact the overall performance of the code.\n",
    "\n",
    "Compatibility: Not all third-party libraries or functions may support Decimal directly, requiring conversion to and from float.\n",
    "\n"
   ]
  },
  {
   "cell_type": "code",
   "execution_count": 17,
   "metadata": {},
   "outputs": [
    {
     "name": "stdout",
     "output_type": "stream",
     "text": [
      "Float Examples:\n",
      "Sum: 5.8580000000000005\n",
      "Difference: 0.42200000000000015\n",
      "Product: 8.53452\n",
      "Division: 1.155261221486387\n"
     ]
    }
   ],
   "source": [
    "# Example with Float\n",
    "float_number_1 = 3.14\n",
    "float_number_2 = 2.718\n",
    "\n",
    "# Basic arithmetic operations\n",
    "sum_result = float_number_1 + float_number_2\n",
    "difference_result = float_number_1 - float_number_2\n",
    "product_result = float_number_1 * float_number_2\n",
    "division_result = float_number_1 / float_number_2\n",
    "\n",
    "print(\"Float Examples:\")\n",
    "print(\"Sum:\", sum_result)\n",
    "print(\"Difference:\", difference_result)\n",
    "print(\"Product:\", product_result)\n",
    "print(\"Division:\", division_result)\n"
   ]
  },
  {
   "cell_type": "code",
   "execution_count": 16,
   "metadata": {},
   "outputs": [
    {
     "name": "stdout",
     "output_type": "stream",
     "text": [
      "\n",
      "Decimal Examples:\n",
      "Sum: 5.858\n",
      "Difference: 0.422\n",
      "Product: 8.535\n",
      "Division: 1.155\n"
     ]
    }
   ],
   "source": [
    "# Example with Decimal\n",
    "from decimal import Decimal, getcontext\n",
    "\n",
    "# Set the precision for Decimal operations\n",
    "getcontext().prec = 4\n",
    "\n",
    "# Example with Decimal\n",
    "decimal_number_1 = Decimal('3.14')\n",
    "decimal_number_2 = Decimal('2.718')\n",
    "\n",
    "# Basic arithmetic operations\n",
    "sum_result_decimal = decimal_number_1 + decimal_number_2\n",
    "difference_result_decimal = decimal_number_1 - decimal_number_2\n",
    "product_result_decimal = decimal_number_1 * decimal_number_2\n",
    "division_result_decimal = decimal_number_1 / decimal_number_2\n",
    "\n",
    "print(\"\\nDecimal Examples:\")\n",
    "print(\"Sum:\", sum_result_decimal)\n",
    "print(\"Difference:\", difference_result_decimal)\n",
    "print(\"Product:\", product_result_decimal)\n",
    "print(\"Division:\", division_result_decimal)\n"
   ]
  },
  {
   "cell_type": "markdown",
   "metadata": {},
   "source": [
    "In general, if we are working with financial data or any scenario where exact decimal representation is critical, Decimal is preferred. Otherwise, Float is often more practical due to its better performance and widespread compatibility."
   ]
  },
  {
   "cell_type": "markdown",
   "id": "fd433d14",
   "metadata": {},
   "source": [
    "#### 2. Decimal('1.200') and Decimal('1.2') are two objects to consider. In what sense are these the same object? Are these just two ways of representing the exact same value, or do they correspond to different internal states ?\n",
    "**Ans:** Both values are same but internal representation at storage is different because precisions are different, `Decimal('1.200')` gives `1.200` and  `Decimal('1.2')` gives `1.2`."
   ]
  },
  {
   "cell_type": "code",
   "execution_count": 13,
   "metadata": {},
   "outputs": [
    {
     "name": "stdout",
     "output_type": "stream",
     "text": [
      "1.200\n",
      "1.2\n"
     ]
    }
   ],
   "source": [
    "from decimal import Decimal\n",
    "\n",
    "decimal1 = Decimal('1.200')\n",
    "decimal2 = Decimal('1.2')\n",
    "\n",
    "print(decimal1)\n",
    "print(decimal2)"
   ]
  },
  {
   "cell_type": "markdown",
   "id": "efc3efad",
   "metadata": {},
   "source": [
    "#### 3. What happens if the equality of Decimal('1.200') and Decimal('1.2') is checked ?\n",
    "**Ans:** Both values are checked to be equal , they only differ in precision."
   ]
  },
  {
   "cell_type": "code",
   "execution_count": 12,
   "metadata": {},
   "outputs": [
    {
     "name": "stdout",
     "output_type": "stream",
     "text": [
      "True\n",
      "1.200\n"
     ]
    }
   ],
   "source": [
    "from decimal import Decimal\n",
    "\n",
    "decimal1 = Decimal('1.200')\n",
    "decimal2 = Decimal('1.2')\n",
    "\n",
    "print(decimal1 == decimal2)  # This will print True\n",
    "print(decimal1)"
   ]
  },
  {
   "cell_type": "markdown",
   "id": "8f6cda09",
   "metadata": {},
   "source": [
    "#### 4. Why is it preferable to start a Decimal object with a string rather than a floating-point value ?\n",
    "**Ans:** When we create a Decimal object using a string, we provide an exact representation of the number, and the Decimal class can accurately represent and manipulate the number without introducing any rounding errors or precision loss.\n",
    "\n",
    "\n",
    "But when float value is given as Decimal object, it first has to be converted from floating point value which might encounter precision and rounding errors.\n",
    "\n",
    "Hence it is preferable to start a Decimal object with a string. Here's an example illustrating the difference:"
   ]
  },
  {
   "cell_type": "code",
   "execution_count": 10,
   "metadata": {},
   "outputs": [
    {
     "name": "stdout",
     "output_type": "stream",
     "text": [
      "0.1\n",
      "0.1000000000000000055511151231257827021181583404541015625\n"
     ]
    }
   ],
   "source": [
    "from decimal import Decimal\n",
    "\n",
    "# Creating a Decimal object with a string\n",
    "decimal_str = Decimal('0.1')\n",
    "\n",
    "# Creating a Decimal object with a floating-point value\n",
    "decimal_float = Decimal(0.1)\n",
    "\n",
    "print(decimal_str)      # Output: 0.1\n",
    "print(decimal_float)    # Output: 0.1000000000000000055511151231257827021181583404541015625\n"
   ]
  },
  {
   "cell_type": "markdown",
   "id": "2e42c0a6",
   "metadata": {},
   "source": [
    "#### 5. In an arithmetic phrase, how simple is it to combine Decimal objects with integers ?\n",
    "**Ans:** The Decimal class in Python is designed to work seamlessly with integers, and we can mix them in arithmetic operations without any special considerations. Here's a simple example:"
   ]
  },
  {
   "cell_type": "code",
   "execution_count": 1,
   "metadata": {},
   "outputs": [
    {
     "name": "stdout",
     "output_type": "stream",
     "text": [
      "Sum: 5.14\n",
      "Product: 15.70\n"
     ]
    }
   ],
   "source": [
    "from decimal import Decimal\n",
    "\n",
    "# Create a Decimal object\n",
    "decimal_number = Decimal('3.14')\n",
    "\n",
    "# Combine with an integer in arithmetic operations\n",
    "result_sum = decimal_number + 2\n",
    "result_product = decimal_number * 5\n",
    "\n",
    "print(\"Sum:\", result_sum)         # Output: 5.14\n",
    "print(\"Product:\", result_product)  # Output: 15.7\n"
   ]
  },
  {
   "cell_type": "markdown",
   "id": "6a9cf124",
   "metadata": {},
   "source": [
    "#### 6. Can Decimal objects and floating-point values be combined easily ?\n",
    "**Ans:** Arithmetic operfations like Adding,subtracting or multiplying a Decimal object by a floating-point value is generates an error.\n",
    "\n",
    "To do these operations, the floating point has to be converted to a Decimal."
   ]
  },
  {
   "cell_type": "code",
   "execution_count": 2,
   "metadata": {},
   "outputs": [
    {
     "ename": "TypeError",
     "evalue": "unsupported operand type(s) for +: 'decimal.Decimal' and 'float'",
     "output_type": "error",
     "traceback": [
      "\u001b[1;31m---------------------------------------------------------------------------\u001b[0m",
      "\u001b[1;31mTypeError\u001b[0m                                 Traceback (most recent call last)",
      "\u001b[1;32mc:\\python\\assignments\\advance\\advance_assignment_20.ipynb Cell 8\u001b[0m line \u001b[0;36m7\n\u001b[0;32m      <a href='vscode-notebook-cell:/c%3A/python/assignments/advance/advance_assignment_20.ipynb#X15sZmlsZQ%3D%3D?line=3'>4</a>\u001b[0m decimal_number \u001b[39m=\u001b[39m Decimal(\u001b[39m'\u001b[39m\u001b[39m3.14\u001b[39m\u001b[39m'\u001b[39m)\n\u001b[0;32m      <a href='vscode-notebook-cell:/c%3A/python/assignments/advance/advance_assignment_20.ipynb#X15sZmlsZQ%3D%3D?line=5'>6</a>\u001b[0m \u001b[39m# Combine with a floating-point value in arithmetic operations\u001b[39;00m\n\u001b[1;32m----> <a href='vscode-notebook-cell:/c%3A/python/assignments/advance/advance_assignment_20.ipynb#X15sZmlsZQ%3D%3D?line=6'>7</a>\u001b[0m result_sum \u001b[39m=\u001b[39m decimal_number \u001b[39m+\u001b[39m \u001b[39m2.5\u001b[39m\n\u001b[0;32m      <a href='vscode-notebook-cell:/c%3A/python/assignments/advance/advance_assignment_20.ipynb#X15sZmlsZQ%3D%3D?line=7'>8</a>\u001b[0m result_product \u001b[39m=\u001b[39m decimal_number \u001b[39m*\u001b[39m \u001b[39m1.5\u001b[39m\n\u001b[0;32m     <a href='vscode-notebook-cell:/c%3A/python/assignments/advance/advance_assignment_20.ipynb#X15sZmlsZQ%3D%3D?line=9'>10</a>\u001b[0m \u001b[39mprint\u001b[39m(\u001b[39m\"\u001b[39m\u001b[39mSum:\u001b[39m\u001b[39m\"\u001b[39m, result_sum)         \u001b[39m# Output: 5.64\u001b[39;00m\n",
      "\u001b[1;31mTypeError\u001b[0m: unsupported operand type(s) for +: 'decimal.Decimal' and 'float'"
     ]
    }
   ],
   "source": [
    "from decimal import Decimal\n",
    "\n",
    "# Create a Decimal object\n",
    "decimal_number = Decimal('3.14')\n",
    "\n",
    "# Combine with a floating-point value in arithmetic operations\n",
    "result_sum = decimal_number + 2.5\n",
    "result_product = decimal_number * 1.5\n",
    "\n",
    "print(\"Sum:\", result_sum)         \n",
    "print(\"Product:\", result_product)  \n"
   ]
  },
  {
   "cell_type": "markdown",
   "id": "860d14ca",
   "metadata": {},
   "source": [
    "#### 7. Using the Fraction class but not the Decimal class, give an example of a quantity that can be expressed with absolute precision ?\n",
    "**Ans:** The Fraction class in Python, part of the fractions module, allows for the representation of rational numbers with absolute precision. "
   ]
  },
  {
   "cell_type": "code",
   "execution_count": 3,
   "metadata": {},
   "outputs": [
    {
     "name": "stdout",
     "output_type": "stream",
     "text": [
      "Fraction Example: 1/3\n"
     ]
    }
   ],
   "source": [
    "from fractions import Fraction\n",
    "\n",
    "# Creating a Fraction with absolute precision\n",
    "fraction_example = Fraction(1, 3)\n",
    "\n",
    "print(\"Fraction Example:\", fraction_example)  # Output: 1/3\n"
   ]
  },
  {
   "cell_type": "markdown",
   "metadata": {},
   "source": [
    "In above example, the Fraction class is used to represent the value 1/3. The Fraction class internally stores the numerator and denominator as integers, allowing for absolute precision in representing the fraction."
   ]
  },
  {
   "cell_type": "markdown",
   "metadata": {},
   "source": [
    "We can perform arithmetic operations on Fraction objects, and the results will also be represented with absolute precision. <br/> For example:"
   ]
  },
  {
   "cell_type": "code",
   "execution_count": 5,
   "metadata": {},
   "outputs": [
    {
     "name": "stdout",
     "output_type": "stream",
     "text": [
      "Sum: 1/2\n",
      "Product: 2/3\n"
     ]
    }
   ],
   "source": [
    "# Performing arithmetic operations with Fractions\n",
    "fraction_sum = fraction_example + Fraction(1, 6)\n",
    "fraction_product = fraction_example * 2\n",
    "\n",
    "print(\"Sum:\", fraction_sum)        # Output: 1/2\n",
    "print(\"Product:\", fraction_product) # Output: 2/3\n"
   ]
  },
  {
   "cell_type": "markdown",
   "metadata": {},
   "source": [
    "#### 8.Describe a quantity that can be accurately expressed by the Decimal or Fraction classes but not by a floating-point value.\n",
    "**Ans:** A classic example of a quantity that can be accurately expressed by the Decimal or Fraction classes but not by a floating-point value is the decimal representation of 1/3.\n",
    "\n",
    "Using Decimal:"
   ]
  },
  {
   "cell_type": "code",
   "execution_count": 50,
   "metadata": {},
   "outputs": [
    {
     "name": "stdout",
     "output_type": "stream",
     "text": [
      "Decimal Result: 0.333333\n"
     ]
    }
   ],
   "source": [
    "from decimal import Decimal, getcontext\n",
    "\n",
    "# Set the precision for Decimal operations\n",
    "getcontext().prec = 6\n",
    "\n",
    "# Create Decimal object\n",
    "decimal_result = Decimal('1') / Decimal('3')\n",
    "\n",
    "print(\"Decimal Result:\", decimal_result)  # Output: 0.333333\n"
   ]
  },
  {
   "cell_type": "markdown",
   "metadata": {},
   "source": [
    "Using Fraction:"
   ]
  },
  {
   "cell_type": "code",
   "execution_count": 51,
   "metadata": {},
   "outputs": [
    {
     "name": "stdout",
     "output_type": "stream",
     "text": [
      "Fraction Result: 1/3\n"
     ]
    }
   ],
   "source": [
    "from fractions import Fraction\n",
    "\n",
    "# Create Fraction object\n",
    "fraction_result = Fraction(1, 3)\n",
    "\n",
    "print(\"Fraction Result:\", fraction_result)  # Output: 1/3\n",
    "\n"
   ]
  },
  {
   "cell_type": "markdown",
   "metadata": {},
   "source": [
    "In both cases, we get an accurate representation of 1/3. The Decimal class allows us to control the precision, and the Fraction class represents the exact fraction without any loss of precision.\n",
    "\n",
    "Now, let's contrast this with using a floating-point value:"
   ]
  },
  {
   "cell_type": "code",
   "execution_count": 52,
   "metadata": {},
   "outputs": [
    {
     "name": "stdout",
     "output_type": "stream",
     "text": [
      "Floating-Point Result: 0.3333333333333333\n"
     ]
    }
   ],
   "source": [
    "float_result = 1 / 3.0\n",
    "\n",
    "print(\"Floating-Point Result:\", float_result)  # Output: 0.3333333333333333\n"
   ]
  },
  {
   "cell_type": "markdown",
   "metadata": {},
   "source": [
    "In this case, the result is represented as a floating-point number, and due to the inherent limitations of binary floating-point representation, it introduces a small rounding error. The result is an approximation of 1/3 with limited precision."
   ]
  },
  {
   "cell_type": "markdown",
   "id": "6702505a",
   "metadata": {},
   "source": [
    "#### 9.Consider the following two fraction objects: Fraction(1, 2) and Fraction(1, 2). (5, 10). Is the internal state of these two objects the same? Why do you think that is ?\n",
    "**Ans:** The internal state of the Fraction objects Fraction(1, 2) and Fraction(5, 10) is the same. <br/>The Fraction class automatically simplifies fractions to their simplest form, meaning that the numerator and denominator are divided by their greatest common divisor (GCD)."
   ]
  },
  {
   "cell_type": "code",
   "execution_count": 18,
   "metadata": {},
   "outputs": [
    {
     "name": "stdout",
     "output_type": "stream",
     "text": [
      "Fraction 1: 1/2\n",
      "Fraction 2: 1/2\n"
     ]
    }
   ],
   "source": [
    "from fractions import Fraction\n",
    "\n",
    "fraction1 = Fraction(1, 2)\n",
    "fraction2 = Fraction(5, 10)\n",
    "\n",
    "print(\"Fraction 1:\", fraction1)  # Output: 1/2\n",
    "print(\"Fraction 2:\", fraction2)  # Output: 1/2\n"
   ]
  },
  {
   "cell_type": "markdown",
   "id": "1039ed6b",
   "metadata": {},
   "source": [
    "#### 10. How do the Fraction class and the integer type (int) relate to each other? Containment or inheritance ?\n",
    "**Ans:** Fraction class and integer type(int) relate to each other through containment relationship. It contains two ints, one the numerator and the other the denominator."
   ]
  }
 ],
 "metadata": {
  "kernelspec": {
   "display_name": "Python 3",
   "language": "python",
   "name": "python3"
  },
  "language_info": {
   "codemirror_mode": {
    "name": "ipython",
    "version": 3
   },
   "file_extension": ".py",
   "mimetype": "text/x-python",
   "name": "python",
   "nbconvert_exporter": "python",
   "pygments_lexer": "ipython3",
   "version": "3.11.5"
  }
 },
 "nbformat": 4,
 "nbformat_minor": 5
}
