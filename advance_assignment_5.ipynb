{
 "cells": [
  {
   "cell_type": "markdown",
   "metadata": {},
   "source": [
    "#### Q1. What is the meaning of multiple inheritance?\n",
    "**Ans:** When a class is derived from more than one base or parent class it is called multiple Inheritance. The derived class inherits all the features of the base case."
   ]
  },
  {
   "cell_type": "code",
   "execution_count": null,
   "metadata": {},
   "outputs": [],
   "source": [
    "class Parent_one:\n",
    "    pass\n",
    "class Parent_two:\n",
    "    pass\n",
    "class child(Parent_one,Parent_two):\n",
    "    pass"
   ]
  },
  {
   "cell_type": "markdown",
   "metadata": {},
   "source": [
    "#### Q2. What is the concept of delegation?\n",
    "**Ans:** Delegation means that we can include a instance of another class as an instance variable, and forward messages to the instance."
   ]
  },
  {
   "cell_type": "code",
   "execution_count": 1,
   "metadata": {},
   "outputs": [
    {
     "name": "stdout",
     "output_type": "stream",
     "text": [
      "Hey I am back\n",
      "Hey I am back\n",
      "Hey I am back\n",
      "I am the main class\n"
     ]
    }
   ],
   "source": [
    "class Myclass:\n",
    "    def sayHi(self):\n",
    "        print('Hey I am back')\n",
    "    def whoAmI(self):\n",
    "        print('I am the main class')\n",
    "\n",
    "class NewClass:\n",
    "    def __init__(self,obj):\n",
    "        self.main = obj\n",
    "    def welcome(self):\n",
    "        self.main.sayHi()\n",
    "\n",
    "m = Myclass()        \n",
    "n = NewClass(m)\n",
    "m.sayHi()\n",
    "n.main.sayHi()\n",
    "n.welcome()\n",
    "n.main.whoAmI()"
   ]
  },
  {
   "cell_type": "markdown",
   "metadata": {},
   "source": [
    "#### Q3. What is the concept of composition?\n",
    "**Ans:** In the concept of Composition, a class refers to one or more other classes by using instances of those classes as a instance variable. In this approach all the parent class members are not inherited into child class, but only required methods from a class are used by using class instances."
   ]
  },
  {
   "cell_type": "code",
   "execution_count": 2,
   "metadata": {},
   "outputs": [
    {
     "name": "stdout",
     "output_type": "stream",
     "text": [
      "602000\n"
     ]
    }
   ],
   "source": [
    "class Salary:\n",
    "    def __init__(self, pay, bonus):\n",
    "        self.pay = pay\n",
    "        self.bonus = bonus\n",
    "  \n",
    "    def annual_salary(self):\n",
    "        return (self.pay*12)+self.bonus\n",
    "  \n",
    "  \n",
    "# Class Employee which does not \n",
    "# inherit the class Salary yet we will\n",
    "# use the method annual salary using\n",
    "# Composition\n",
    "class Employee:\n",
    "    def __init__(self, name, age, pay, bonus):\n",
    "        self.name = name\n",
    "        self.age = age\n",
    "  \n",
    "        # Making an object in which we are\n",
    "        # calling the Salary class\n",
    "        self.obj_salary = Salary(pay, bonus)  # composition\n",
    "  \n",
    "    # Method which calculates the total salary\n",
    "    # with the help of annual_salary() method\n",
    "    # declared in the Salary class\n",
    "    def total_sal(self):\n",
    "        return self.obj_salary.annual_salary()\n",
    "  \n",
    "\n",
    "emp = Employee('Avinash Gupta', 30, 50000, 2000)\n",
    "  \n",
    "# calling the total_sal method using \n",
    "# the emp object\n",
    "print(emp.total_sal())"
   ]
  },
  {
   "cell_type": "markdown",
   "metadata": {},
   "source": [
    "#### Q4. What are bound methods and how do we use them?\n",
    "**Ans:** A bound method is the one which is dependent on the instance of the class as the first argument. It passes the instance as the first argument which is used to access the variables and functions."
   ]
  },
  {
   "cell_type": "code",
   "execution_count": 6,
   "metadata": {},
   "outputs": [
    {
     "name": "stdout",
     "output_type": "stream",
     "text": [
      "<bound method A.method of <__main__.A object at 0x000001A2232A2390>>\n",
      "Value of arg =  10\n"
     ]
    }
   ],
   "source": [
    "class A:\n",
    "  \n",
    "    def method(self, arg):\n",
    "        self.arg = arg\n",
    "        print(\"Value of arg = \", arg)\n",
    "  \n",
    "  \n",
    "# Creating an instance\n",
    "obj = A()  \n",
    "  \n",
    "# bound method\n",
    "print(obj.method)\n",
    "obj.method(10)"
   ]
  },
  {
   "cell_type": "markdown",
   "metadata": {},
   "source": [
    "Here,\n",
    "\n",
    " obj.method(arg) is translated by python as A.method(obj, arg).\n",
    " \n",
    "The instance obj is automatically passed as the first argument to the function called and hence the first parameter of the function will be used to access the variables/functions of the object."
   ]
  },
  {
   "cell_type": "markdown",
   "metadata": {},
   "source": [
    "#### Q5. What is the purpose of pseudoprivate attributes?\n",
    "**Ans:** The purpose of pseudoprivate attributes is to localize a name to the class that created it and to avoid namespace collisions in instances. These are useful only in multiple class inheritances and hierarchies.\n",
    "\n",
    " Names inside a class statement that start with two underscores (and don't end with two underscores) are automatically expanded to include the name of the enclosing class. For instance, a name like __X within a class named Spam is changed to _Spam__X automatically. Because the modified name is prefixed with the name of the enclosing class, it won't clash with similar names created by other classes in a hierarchy."
   ]
  },
  {
   "cell_type": "code",
   "execution_count": 60,
   "metadata": {},
   "outputs": [
    {
     "name": "stdout",
     "output_type": "stream",
     "text": [
      "I am in Super\n",
      "I am in Tool\n"
     ]
    }
   ],
   "source": [
    "class Super:\n",
    "    def method(self): \n",
    "        print(\"I am in Super\")\n",
    "\n",
    "class Tool:\n",
    "    def __method(self): # becomes _Tool__method\n",
    "        print(\"I am in Tool\")\n",
    "    def other(self): # uses internal method\n",
    "        self.__method()\n",
    "\n",
    "class Sub_l(Tool,Super):\n",
    "    def actions(self):\n",
    "        self.method()\n",
    "\n",
    "class Sub_2(Tool):\n",
    "    def __init__(self):\n",
    "        self.method = 99\n",
    "\n",
    "S = Sub_l()\n",
    "S.actions()\n",
    "\n",
    "S._Tool__method()"
   ]
  },
  {
   "cell_type": "code",
   "execution_count": 61,
   "metadata": {},
   "outputs": [
    {
     "name": "stdout",
     "output_type": "stream",
     "text": [
      "88\n",
      "88\n"
     ]
    }
   ],
   "source": [
    "class C1:\n",
    "        X = 88\n",
    "        def meth_1(self):\n",
    "             print (self.X)\n",
    "\n",
    "class C2:\n",
    "        X = 99\n",
    "        def meth_2(self):\n",
    "               print (self.X)\n",
    "\n",
    "class C3(C1, C2):\n",
    "       pass\n",
    "\n",
    "\n",
    "I = C3()\n",
    "I.meth_1()\n",
    "I.meth_2()\n",
    "\n",
    "# Although attribute X has different values, X=88 overrides X=99 in derived class I\n"
   ]
  },
  {
   "cell_type": "code",
   "execution_count": 67,
   "metadata": {},
   "outputs": [
    {
     "name": "stdout",
     "output_type": "stream",
     "text": [
      "88\n",
      "99\n",
      "\n",
      "88\n",
      "99\n"
     ]
    }
   ],
   "source": [
    "# with pseudoprivate attributes\n",
    "class C1:\n",
    "        __X = 88\n",
    "        def meth_1(self):\n",
    "             print (self.__X)\n",
    "\n",
    "class C2:\n",
    "        __X = 99\n",
    "        def meth_2(self):\n",
    "               print (self.__X)\n",
    "\n",
    "class C3(C1, C2):\n",
    "       pass\n",
    "\n",
    "I = C3()\n",
    "I.meth_1()\n",
    "I.meth_2()\n",
    "\n",
    "print()\n",
    "\n",
    "print(I._C1__X)\n",
    "print(I._C2__X)\n",
    "\n",
    "# Derived class I has both values, X=88 and X=99 that is _C1__X and _C2__X\n"
   ]
  },
  {
   "cell_type": "markdown",
   "metadata": {},
   "source": [
    "<br/>"
   ]
  },
  {
   "cell_type": "markdown",
   "metadata": {},
   "source": [
    "<br/>"
   ]
  },
  {
   "cell_type": "markdown",
   "metadata": {},
   "source": [
    "<br/>"
   ]
  },
  {
   "cell_type": "markdown",
   "metadata": {},
   "source": [
    "<br/>"
   ]
  }
 ],
 "metadata": {
  "kernelspec": {
   "display_name": "base",
   "language": "python",
   "name": "python3"
  },
  "language_info": {
   "codemirror_mode": {
    "name": "ipython",
    "version": 3
   },
   "file_extension": ".py",
   "mimetype": "text/x-python",
   "name": "python",
   "nbconvert_exporter": "python",
   "pygments_lexer": "ipython3",
   "version": "3.11.5"
  },
  "orig_nbformat": 4
 },
 "nbformat": 4,
 "nbformat_minor": 2
}
