{
 "cells": [
  {
   "cell_type": "markdown",
   "id": "e8584282",
   "metadata": {},
   "source": [
    "<b>1. Create a function that takes a list of strings and integers, and filters out the list so that it returns a list of <br/> integers only.<br/> \n",
    "Examples:<br/> \n",
    "filter_list([1, 2, 3, \"a\", \"b\", 4]) ➞ [1, 2, 3, 4]<br/> \n",
    "filter_list([\"A\", 0, \"Edabit\", 1729, \"Python\", \"1729\"]) ➞ [0, 1729]<br/> \n",
    "filter_list([\"Nothing\", \"here\"]) ➞ []<br/> \n",
    "</b>\n",
    "\n"
   ]
  },
  {
   "cell_type": "code",
   "execution_count": 12,
   "id": "bf134f60",
   "metadata": {},
   "outputs": [
    {
     "name": "stdout",
     "output_type": "stream",
     "text": [
      "[1, 2, 3, 'a', 'b', 4] ➞ [1, 2, 3, 4]\n",
      "['A', 0, 'Edabit', 1729, 'Python', '1729'] ➞ [0, 1729]\n",
      "['Nothing', 'here'] ➞ []\n"
     ]
    }
   ],
   "source": [
    "def filter_list(in_list):\n",
    "    out_list = []\n",
    "    for el in in_list:\n",
    "        if type(el) == int:\n",
    "            out_list.append(el)\n",
    "    return out_list       \n",
    "   \n",
    "\n",
    "in_list = [1, 2, 3, \"a\", \"b\", 4]    \n",
    "print(f'{in_list} ➞ {filter_list(in_list)}')\n",
    "\n",
    "in_list = [\"A\", 0, \"Edabit\", 1729, \"Python\", \"1729\"]    \n",
    "print(f'{in_list} ➞ {filter_list(in_list)}')\n",
    "\n",
    "in_list = [\"Nothing\", \"here\"]    \n",
    "print(f'{in_list} ➞ {filter_list(in_list)}')\n"
   ]
  },
  {
   "cell_type": "markdown",
   "id": "b87177d6",
   "metadata": {},
   "source": [
    "<br/>"
   ]
  },
  {
   "cell_type": "markdown",
   "id": "7ea777da",
   "metadata": {},
   "source": [
    "<b>2. Given a list of numbers, create a function which returns the list but with each element's index in the list added to <br/>itself. This means you add 0 to the number at index 0, add 1 to the number at index 1, etc...<br/>\n",
    "Examples:<br/>\n",
    "add_indexes([0, 0, 0, 0, 0]) ➞ [0, 1, 2, 3, 4]<br/>\n",
    "add_indexes([1, 2, 3, 4, 5]) ➞ [1, 3, 5, 7, 9]<br/>\n",
    "add_indexes([5, 4, 3, 2, 1]) ➞ [5, 5, 5, 5, 5]<br/>\n",
    "\n"
   ]
  },
  {
   "cell_type": "code",
   "execution_count": 9,
   "id": "f19b5b8e",
   "metadata": {},
   "outputs": [
    {
     "name": "stdout",
     "output_type": "stream",
     "text": [
      "add_indexes([0, 0, 0, 0, 0]) ➞ [0, 1, 2, 3, 4]\n",
      "add_indexes([1, 2, 3, 4, 5]) ➞ [1, 3, 5, 7, 9]\n",
      "add_indexes([5, 4, 3, 2, 1]) ➞ [5, 5, 5, 5, 5]\n"
     ]
    }
   ],
   "source": [
    "def add_indexes(in_list):\n",
    "    out_list = []\n",
    "    for ele in range(len(in_list)):\n",
    "        out_list.append(ele+in_list[ele])\n",
    "    return out_list\n",
    "    \n",
    "in_list = [0, 0, 0, 0, 0]    \n",
    "print(f'add_indexes({in_list}) ➞ {add_indexes(in_list)}')\n",
    "\n",
    "in_list = [1, 2, 3, 4, 5]    \n",
    "print(f'add_indexes({in_list}) ➞ {add_indexes(in_list)}')\n",
    "\n",
    "in_list = [5, 4, 3, 2, 1]    \n",
    "print(f'add_indexes({in_list}) ➞ {add_indexes(in_list)}')\n"
   ]
  },
  {
   "cell_type": "markdown",
   "id": "b28d9eef",
   "metadata": {},
   "source": [
    "<br/>"
   ]
  },
  {
   "cell_type": "markdown",
   "id": "2351499f",
   "metadata": {},
   "source": [
    "<b>3. Create a function that takes the height and radius of a cone as arguments and returns the volume of the cone <br/> rounded to the nearest hundredth. See the resources tab for the formula.<br/>\n",
    "Examples:<br/>\n",
    "cone_volume(3, 2) ➞ 12.57<br/>\n",
    "cone_volume(15, 6) ➞ 565.49<br/>\n",
    "cone_volume(18, 0) ➞ 0<br/>\n",
    "\n",
    "\n"
   ]
  },
  {
   "cell_type": "code",
   "execution_count": 7,
   "id": "43cc720d",
   "metadata": {},
   "outputs": [
    {
     "name": "stdout",
     "output_type": "stream",
     "text": [
      "cone_volume(3,2) ➞ 12.57\n",
      "cone_volume(15, 6) ➞ 565.49\n",
      "cone_volume(18,0) ➞ 0.0\n"
     ]
    }
   ],
   "source": [
    "import math\n",
    "\n",
    "def cone_volume(height, radius):\n",
    "    output = ((math.pi)*pow(radius,2))*(height/3)\n",
    "    return round(output,2)\n",
    "\n",
    "print(f'cone_volume(3,2) ➞ {cone_volume(3,2)}')\n",
    "print(f'cone_volume(15, 6) ➞ {cone_volume(15, 6)}')\n",
    "print(f'cone_volume(18,0) ➞ {cone_volume(18,0)}')\n"
   ]
  },
  {
   "cell_type": "markdown",
   "id": "db3e9d42",
   "metadata": {},
   "source": [
    "<br/>"
   ]
  },
  {
   "cell_type": "markdown",
   "id": "f9dc63b6",
   "metadata": {},
   "source": [
    "<b>4. This Triangular Number Sequence is generated from a pattern of dots that form a triangle.<br/>\n",
    "The first 5 numbers of the sequence, or dots, are: 1, 3, 6, 10, 15<br/>\n",
    "This means that the first triangle has just one dot, the second one has three dots, the third one has 6 dots and so on. <br/>Write a function that gives the number of dots with its corresponding triangle number of the sequence.\n",
    "\n",
    "Examples:<br/>\n",
    "triangle(1) ➞ 1<br/>\n",
    "triangle(6) ➞ 21<br/>\n",
    "triangle(215) ➞ 23220<br/>\n",
    "\n"
   ]
  },
  {
   "cell_type": "code",
   "execution_count": 6,
   "id": "8574be71",
   "metadata": {},
   "outputs": [
    {
     "name": "stdout",
     "output_type": "stream",
     "text": [
      "traingle(1) ➞ 1\n",
      "traingle(6) ➞ 21\n",
      "traingle(215) ➞ 23220\n"
     ]
    }
   ],
   "source": [
    "def triangle(in_num):\n",
    "    return int(in_num*(in_num+1)/2)\n",
    "    \n",
    "print(f'traingle(1) ➞ {triangle(1)}')\n",
    "print(f'traingle(6) ➞ {triangle(6)}')\n",
    "print(f'traingle(215) ➞ {triangle(215)}')\n"
   ]
  },
  {
   "cell_type": "markdown",
   "id": "fe56cd0f",
   "metadata": {},
   "source": [
    "<br/>"
   ]
  },
  {
   "cell_type": "markdown",
   "id": "b04685e9",
   "metadata": {},
   "source": [
    "<b>5. Create a function that takes a list of numbers between 1 and 10 (excluding one number) and returns the missing number.<br/>\n",
    "Examples:<br/>\n",
    "missing_num([1, 2, 3, 4, 6, 7, 8, 9, 10]) ➞ 5<br/>\n",
    "missing_num([7, 2, 3, 6, 5, 9, 1, 4, 8]) ➞ 10<br/>\n",
    "missing_num([10, 5, 1, 2, 4, 6, 8, 3, 9]) ➞ 7<br/>\n",
    "\n"
   ]
  },
  {
   "cell_type": "code",
   "execution_count": 3,
   "id": "e995adb6",
   "metadata": {},
   "outputs": [
    {
     "name": "stdout",
     "output_type": "stream",
     "text": [
      "missing_num([1, 2, 3, 4, 6, 7, 8, 9, 10]) ➞ 5\n",
      "missing_num([7, 2, 3, 6, 5, 9, 1, 4, 8]) ➞ 10\n",
      "missing_num([10, 5, 1, 2, 4, 6, 8, 3, 9]) ➞ 7\n"
     ]
    }
   ],
   "source": [
    "def missing_num(in_list):\n",
    "    for i in range(1,11):\n",
    "        if i not in in_list:\n",
    "            return i\n",
    "\n",
    "in_list = [1, 2, 3, 4, 6, 7, 8, 9, 10]        \n",
    "print(f'missing_num({in_list}) ➞ {missing_num(in_list)}')            \n",
    "\n",
    "in_list = [7, 2, 3, 6, 5, 9, 1, 4, 8]        \n",
    "print(f'missing_num({in_list}) ➞ {missing_num(in_list)}')            \n",
    "\n",
    "in_list = [10, 5, 1, 2, 4, 6, 8, 3, 9]        \n",
    "print(f'missing_num({in_list}) ➞ {missing_num(in_list)}')            \n"
   ]
  },
  {
   "cell_type": "code",
   "execution_count": null,
   "id": "dbc436d6",
   "metadata": {},
   "outputs": [],
   "source": []
  }
 ],
 "metadata": {
  "kernelspec": {
   "display_name": "Python 3 (ipykernel)",
   "language": "python",
   "name": "python3"
  },
  "language_info": {
   "codemirror_mode": {
    "name": "ipython",
    "version": 3
   },
   "file_extension": ".py",
   "mimetype": "text/x-python",
   "name": "python",
   "nbconvert_exporter": "python",
   "pygments_lexer": "ipython3",
   "version": "3.11.3"
  }
 },
 "nbformat": 4,
 "nbformat_minor": 5
}
