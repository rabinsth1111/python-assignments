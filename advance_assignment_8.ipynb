{
 "cells": [
  {
   "cell_type": "markdown",
   "metadata": {},
   "source": [
    "#### Q1. What are the two latest user-defined exception constraints in Python 3.X?\n",
    "**Ans:** **raise** and **assert** are the two latest user-defined exception constraints in Python 3.X"
   ]
  },
  {
   "cell_type": "markdown",
   "metadata": {},
   "source": [
    "<br/>"
   ]
  },
  {
   "cell_type": "markdown",
   "metadata": {},
   "source": [
    "#### Q2. How are class-based exceptions that have been raised matched to handlers?\n",
    "**Ans:** In Python, class-based exceptions that have been raised are matched to handlers based on the order in which except blocks are defined and the <br/>inheritance hierarchy of the exception classes.<br/>\n",
    "\n",
    "1. **Order of except Blocks:**<br/>\n",
    "Here, the first matching except block is executed, and subsequent except blocks are skipped.<br/>"
   ]
  },
  {
   "cell_type": "code",
   "execution_count": 4,
   "metadata": {},
   "outputs": [
    {
     "name": "stdout",
     "output_type": "stream",
     "text": [
      "Cannot divide by zero.\n"
     ]
    }
   ],
   "source": [
    "try:\n",
    "    # Code that may raise an exception\n",
    "    result = 10 / 0\n",
    "except ZeroDivisionError:\n",
    "    # This block will handle ZeroDivisionError and its subclasses\n",
    "    print(\"Cannot divide by zero.\")\n",
    "except ArithmeticError:\n",
    "    # This block will handle ArithmeticError and its subclasses\n",
    "    print(\"An arithmetic error occurred.\")"
   ]
  },
  {
   "cell_type": "markdown",
   "metadata": {},
   "source": [
    "2. **Inheritance Hierarchy:**<br/>\n",
    "Python traverses the inheritance hierarchy of the exception classes from the most specific to the more general. <br/>It matches the raised exception against the types specified in the except blocks, as well as their subclasses."
   ]
  },
  {
   "cell_type": "code",
   "execution_count": 5,
   "metadata": {},
   "outputs": [
    {
     "name": "stdout",
     "output_type": "stream",
     "text": [
      "Custom error handled.\n"
     ]
    }
   ],
   "source": [
    "class CustomError(Exception):\n",
    "    pass\n",
    "\n",
    "try:\n",
    "    # Code that may raise an exception\n",
    "    raise CustomError(\"Custom error message\")\n",
    "except CustomError:\n",
    "    print(\"Custom error handled.\")\n",
    "except Exception:\n",
    "    print(\"An exception occurred.\")\n"
   ]
  },
  {
   "cell_type": "code",
   "execution_count": 6,
   "metadata": {},
   "outputs": [
    {
     "name": "stdout",
     "output_type": "stream",
     "text": [
      "An exception occurred.\n"
     ]
    }
   ],
   "source": [
    "class CustomError(Exception):\n",
    "    pass\n",
    "\n",
    "try:\n",
    "    # Code that may raise an exception\n",
    "    raise CustomError(\"Custom error message\")\n",
    "except Exception:\n",
    "    print(\"An exception occurred.\")\n"
   ]
  },
  {
   "cell_type": "markdown",
   "metadata": {},
   "source": [
    "<br/>"
   ]
  },
  {
   "cell_type": "markdown",
   "metadata": {},
   "source": [
    "#### Q3. Describe two methods for attaching context information to exception artefacts ?\n",
    "**Ans:** Attaching context information to exception artefacts helps provide additional information about the context in which an exception occurred, <br/>thus making it easier to diagnose and troubleshoot issues. Here are two common methods for achieving this:<br/>\n",
    "\n",
    "1. **Exception Classes with Additional Attributes:**<br/>\n",
    "We define custom exception classes that inherit from built-in exception classes (e.g., Exception, ValueError, TypeError, etc.) and include additional <br/>attributes to store context information."
   ]
  },
  {
   "cell_type": "code",
   "execution_count": 1,
   "metadata": {},
   "outputs": [
    {
     "name": "stdout",
     "output_type": "stream",
     "text": [
      "Error: An error occurred., Context: {'key': 'value'}\n"
     ]
    }
   ],
   "source": [
    "class CustomException(Exception):\n",
    "    def __init__(self, message, context_info):\n",
    "        super().__init__(message)\n",
    "        self.context_info = context_info\n",
    "\n",
    "# Usage\n",
    "try:\n",
    "    # Some code that might raise an exception\n",
    "    \n",
    "    raise CustomException(\"An error occurred.\", {\"key\": \"value\"})\n",
    "except CustomException as e:\n",
    "    print(f\"Error: {e}, Context: {e.context_info}\")"
   ]
  },
  {
   "cell_type": "markdown",
   "metadata": {},
   "source": [
    "<br/>"
   ]
  },
  {
   "cell_type": "markdown",
   "metadata": {},
   "source": [
    "2. **Exception Arguments:**<br/>\n",
    "We can pass context information as arguments to the exception when raising it."
   ]
  },
  {
   "cell_type": "code",
   "execution_count": 2,
   "metadata": {},
   "outputs": [
    {
     "name": "stdout",
     "output_type": "stream",
     "text": [
      "Error: An error occurred., Context: {'key': 'value'}\n"
     ]
    }
   ],
   "source": [
    "try:\n",
    "    # Some code that might raise an exception\n",
    "    ...\n",
    "    raise ValueError(\"An error occurred.\", {\"key\": \"value\"})\n",
    "except ValueError as e:\n",
    "    message, context_info = e.args\n",
    "    print(f\"Error: {message}, Context: {context_info}\")\n"
   ]
  },
  {
   "cell_type": "markdown",
   "metadata": {},
   "source": [
    "<br/>"
   ]
  },
  {
   "cell_type": "markdown",
   "metadata": {},
   "source": [
    "#### Q4. Describe two methods for specifying the text of an exception object's error message ?\n",
    "**Ans:** In Python, we can specify the text of an exception object's error message using two main methods:\n",
    "\n",
    " 1. By passing a string message to the exception class constructor. \n",
    "\n",
    " 2. By overriding the `__str__` method in a custom exception class. "
   ]
  },
  {
   "cell_type": "code",
   "execution_count": 8,
   "metadata": {},
   "outputs": [
    {
     "ename": "Exception",
     "evalue": "Value of x should be positive. The provided value of x is -10",
     "output_type": "error",
     "traceback": [
      "\u001b[1;31m---------------------------------------------------------------------------\u001b[0m",
      "\u001b[1;31mException\u001b[0m                                 Traceback (most recent call last)",
      "\u001b[1;32mc:\\python\\assignments\\advance\\advance_assignment_8.ipynb Cell 16\u001b[0m line \u001b[0;36m4\n\u001b[0;32m      <a href='vscode-notebook-cell:/c%3A/python/assignments/advance/advance_assignment_8.ipynb#X35sZmlsZQ%3D%3D?line=1'>2</a>\u001b[0m x \u001b[39m=\u001b[39m \u001b[39m-\u001b[39m\u001b[39m10\u001b[39m\n\u001b[0;32m      <a href='vscode-notebook-cell:/c%3A/python/assignments/advance/advance_assignment_8.ipynb#X35sZmlsZQ%3D%3D?line=2'>3</a>\u001b[0m \u001b[39mif\u001b[39;00m x\u001b[39m<\u001b[39m\u001b[39m0\u001b[39m:\n\u001b[1;32m----> <a href='vscode-notebook-cell:/c%3A/python/assignments/advance/advance_assignment_8.ipynb#X35sZmlsZQ%3D%3D?line=3'>4</a>\u001b[0m     \u001b[39mraise\u001b[39;00m \u001b[39mException\u001b[39;00m(\u001b[39mf\u001b[39m\u001b[39m'\u001b[39m\u001b[39mValue of x should be positive. The provided value of x is \u001b[39m\u001b[39m{\u001b[39;00mx\u001b[39m}\u001b[39;00m\u001b[39m'\u001b[39m)\n",
      "\u001b[1;31mException\u001b[0m: Value of x should be positive. The provided value of x is -10"
     ]
    }
   ],
   "source": [
    "#Example of passing a string message to the exception class constructor\n",
    "x = -10\n",
    "if x<0:\n",
    "    raise Exception(f'Value of x should be positive. The provided value of x is {x}')"
   ]
  },
  {
   "cell_type": "markdown",
   "metadata": {},
   "source": [
    "<br/>"
   ]
  },
  {
   "cell_type": "code",
   "execution_count": 9,
   "metadata": {},
   "outputs": [
    {
     "name": "stdout",
     "output_type": "stream",
     "text": [
      "CustomException: An error occurred due to some condition.\n"
     ]
    }
   ],
   "source": [
    "#Example of overriding the __str__ method in a custom exception class. \n",
    "class CustomException(Exception):\n",
    "    def __init__(self, message):\n",
    "        super().__init__()\n",
    "        self.message = message\n",
    "\n",
    "    def __str__(self):\n",
    "        return f\"CustomException: {self.message}\"\n",
    "\n",
    "try:\n",
    "    # Code that may raise an exception\n",
    "    raise CustomException(\"An error occurred due to some condition.\")\n",
    "except CustomException as e:\n",
    "    print(e)  # This will print the custom error message"
   ]
  },
  {
   "cell_type": "markdown",
   "metadata": {},
   "source": [
    "<br/>"
   ]
  },
  {
   "cell_type": "markdown",
   "metadata": {},
   "source": [
    "#### Q5. Why do you no longer use string-based exceptions?\n",
    "**Ans:** As of Python 3, using string-based exceptions is discouraged, and the recommended practice is to use class-based exceptions because of the following important reasons.\n",
    "\n",
    "1. Clarity and Readability:\n",
    "Using class-based exceptions allows for clearer and more descriptive error handling. \n",
    "\n",
    "2. Consistency:\n",
    "By using a consistent class-based approach for exceptions, developers can adhere to a standard convention, promoting uniformity in exception handling throughout the codebase. T\n",
    "\n",
    "3. Inheritance and Hierarchy:\n",
    "Exception classes in Python form an inheritance hierarchy such that it helps developers handle exceptions in a structured manner and provides flexibility for creating specialized exceptions that inherit from more general ones.\n",
    "\n",
    "4. Additional Information:\n",
    "Exception classes can store additional information about the exception, such as error messages, error codes, stack traces, or any other relevant context. \n",
    "\n",
    "5. Error Traceback:\n",
    "Class-based exceptions retain the standard traceback information, including the file and line number where the exception was raised. This information is crucial for identifying the root cause of the error and debugging the application.\n",
    "\n",
    "\n",
    "\n",
    "\n",
    "\n",
    "\n"
   ]
  }
 ],
 "metadata": {
  "kernelspec": {
   "display_name": "base",
   "language": "python",
   "name": "python3"
  },
  "language_info": {
   "codemirror_mode": {
    "name": "ipython",
    "version": 3
   },
   "file_extension": ".py",
   "mimetype": "text/x-python",
   "name": "python",
   "nbconvert_exporter": "python",
   "pygments_lexer": "ipython3",
   "version": "3.11.5"
  },
  "orig_nbformat": 4
 },
 "nbformat": 4,
 "nbformat_minor": 2
}
