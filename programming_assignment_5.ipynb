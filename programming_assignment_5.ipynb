{
 "cells": [
  {
   "cell_type": "markdown",
   "id": "adc78639",
   "metadata": {},
   "source": [
    "<b>1. Write a Python Program to Find LCM?</b>\n",
    "\n",
    "\n",
    "\n"
   ]
  },
  {
   "cell_type": "code",
   "execution_count": 1,
   "id": "a3f5c51d",
   "metadata": {},
   "outputs": [
    {
     "name": "stdout",
     "output_type": "stream",
     "text": [
      "The LCM of 5,10 is 10\n",
      "The LCM of 6,100 is 300\n",
      "The LCM of 2,3 is 6\n"
     ]
    }
   ],
   "source": [
    "def LCM(x,y):\n",
    "    # choose the greater number\n",
    "    if x > y:\n",
    "        greater = x\n",
    "    else:\n",
    "        greater = y\n",
    "\n",
    "    while(True):\n",
    "        if((greater % x == 0) and (greater % y == 0)):\n",
    "            lcm = greater\n",
    "            break\n",
    "        greater += 1\n",
    "\n",
    "    return lcm\n",
    "    \n",
    "print(f'The LCM of {5},{10} is {LCM(5,10)}')\n",
    "print(f'The LCM of {6},{100} is {LCM(6,100)}')\n",
    "print(f'The LCM of {2},{3} is {LCM(2,3)}')"
   ]
  },
  {
   "cell_type": "markdown",
   "id": "130acce3",
   "metadata": {},
   "source": [
    "<br/>"
   ]
  },
  {
   "cell_type": "markdown",
   "id": "3a613d46",
   "metadata": {},
   "source": [
    "<b>2. Write a Python Program to Find HCF?</b>"
   ]
  },
  {
   "cell_type": "code",
   "execution_count": 2,
   "id": "926a9758",
   "metadata": {},
   "outputs": [
    {
     "name": "stdout",
     "output_type": "stream",
     "text": [
      "The HCF of 5,10 is 5\n",
      "The HCF of 6,100 is 2\n",
      "The HCF of 25,155 is 5\n"
     ]
    }
   ],
   "source": [
    "def HCF(x, y):  \n",
    "    # selecting the smaller number  \n",
    "    if x<y:  \n",
    "        smaller = x  \n",
    "    else:  \n",
    "        smaller = y  \n",
    "    for i in range(1,smaller + 1):  \n",
    "        if((x % i == 0) and (y % i == 0)):  \n",
    "            hcf = i  \n",
    "    return hcf \n",
    "\n",
    "print(f'The HCF of {5},{10} is {HCF(5,10)}')\n",
    "print(f'The HCF of {6},{100} is {HCF(6,100)}')\n",
    "print(f'The HCF of {25},{155} is {HCF(25,155)}')"
   ]
  },
  {
   "cell_type": "markdown",
   "id": "5a99e27e",
   "metadata": {},
   "source": [
    "<br/>"
   ]
  },
  {
   "cell_type": "markdown",
   "id": "b22062c9",
   "metadata": {},
   "source": [
    "<b>3. Write a Python Program to Convert Decimal to Binary, Octal and Hexadecimal?</b>"
   ]
  },
  {
   "cell_type": "code",
   "execution_count": 3,
   "id": "a7c1ffb1",
   "metadata": {},
   "outputs": [
    {
     "name": "stdout",
     "output_type": "stream",
     "text": [
      "Decimal equivalent of 4 in:\n",
      "Binary is 0b100\n",
      "Octal is 0o4\n",
      "Hexadecimal is 0x4\n",
      "\n",
      "Decimal equivalent of 100 in:\n",
      "Binary is 0b1100100\n",
      "Octal is 0o144\n",
      "Hexadecimal is 0x64\n",
      "\n"
     ]
    }
   ],
   "source": [
    "def convert_from_decimal(n):\n",
    "    print(f'Decimal equivalent of {n} in:')\n",
    "    print(f'Binary is {bin(n)}')\n",
    "    print(f'Octal is {oct(n)}')    \n",
    "    print(f'Hexadecimal is {hex(n)}')    \n",
    "    print()\n",
    "convert_from_decimal(4)\n",
    "convert_from_decimal(100)"
   ]
  },
  {
   "cell_type": "markdown",
   "id": "efe0e9f3",
   "metadata": {},
   "source": [
    "<br/>"
   ]
  },
  {
   "cell_type": "markdown",
   "id": "0f67fa59",
   "metadata": {},
   "source": [
    "<b>4. Write a Python Program To Find ASCII value of a character?</b>"
   ]
  },
  {
   "cell_type": "code",
   "execution_count": 4,
   "id": "48fab52c",
   "metadata": {},
   "outputs": [
    {
     "name": "stdout",
     "output_type": "stream",
     "text": [
      "The ASCII value of 'A' is 65\n",
      "The ASCII value of 'a' is 97\n"
     ]
    }
   ],
   "source": [
    "def convert_to_ascii(c):\n",
    "    print(\"The ASCII value of '\" + c + \"' is\", ord(c))\n",
    "    \n",
    "convert_to_ascii('A')\n",
    "convert_to_ascii('a')"
   ]
  },
  {
   "cell_type": "markdown",
   "id": "231c5b47",
   "metadata": {},
   "source": [
    "<br/>"
   ]
  },
  {
   "cell_type": "markdown",
   "id": "a4821a06",
   "metadata": {},
   "source": [
    "<b>5. Write a Python Program to Make a Simple Calculator with 4 basic mathematical operations?</b>"
   ]
  },
  {
   "cell_type": "code",
   "execution_count": 5,
   "id": "41cbc983",
   "metadata": {},
   "outputs": [
    {
     "name": "stdout",
     "output_type": "stream",
     "text": [
      "Select operation.\n",
      "1.Add\n",
      "2.Subtract\n",
      "3.Multiply\n",
      "4.Divide\n",
      "Enter choice(1/2/3/4): 1\n",
      "Enter first number: 45\n",
      "Enter second number: 10\n",
      "45.0 + 10.0 = 55.0\n",
      "Let's do next calculation? (yes/no): yes\n",
      "Enter choice(1/2/3/4): 2\n",
      "Enter first number: 10\n",
      "Enter second number: 20\n",
      "10.0 - 20.0 = -10.0\n",
      "Let's do next calculation? (yes/no): yes\n",
      "Enter choice(1/2/3/4): 3\n",
      "Enter first number: 10\n",
      "Enter second number: 10\n",
      "10.0 * 10.0 = 100.0\n",
      "Let's do next calculation? (yes/no): yes\n",
      "Enter choice(1/2/3/4): 4\n",
      "Enter first number: 4\n",
      "Enter second number: 2\n",
      "4.0 / 2.0 = 2.0\n",
      "Let's do next calculation? (yes/no): no\n"
     ]
    }
   ],
   "source": [
    "def add(x, y):\n",
    "    return x + y\n",
    "\n",
    "def subtract(x, y):\n",
    "    return x - y\n",
    "\n",
    "def multiply(x, y):\n",
    "    return x * y\n",
    "\n",
    "def divide(x, y):\n",
    "    return x / y\n",
    "\n",
    "print(\"Select operation.\")\n",
    "print(\"1.Add\")\n",
    "print(\"2.Subtract\")\n",
    "print(\"3.Multiply\")\n",
    "print(\"4.Divide\")\n",
    "\n",
    "while True:\n",
    "    # take input from the user\n",
    "    choice = input(\"Enter choice(1/2/3/4): \")\n",
    "\n",
    "    # check if choice is one of the four options\n",
    "    if choice in ('1', '2', '3', '4'):\n",
    "        try:\n",
    "            num1 = float(input(\"Enter first number: \"))\n",
    "            num2 = float(input(\"Enter second number: \"))\n",
    "        except ValueError:\n",
    "            print(\"Invalid input. Please enter a number.\")\n",
    "            continue\n",
    "\n",
    "        if choice == '1':\n",
    "            print(num1, \"+\", num2, \"=\", add(num1, num2))\n",
    "\n",
    "        elif choice == '2':\n",
    "            print(num1, \"-\", num2, \"=\", subtract(num1, num2))\n",
    "\n",
    "        elif choice == '3':\n",
    "            print(num1, \"*\", num2, \"=\", multiply(num1, num2))\n",
    "\n",
    "        elif choice == '4':\n",
    "            print(num1, \"/\", num2, \"=\", divide(num1, num2))\n",
    "        \n",
    "        # check if user wants another calculation\n",
    "        # break the while loop if answer is no\n",
    "        next_calculation = input(\"Let's do next calculation? (yes/no): \")\n",
    "        if next_calculation == \"no\":\n",
    "          break\n",
    "    else:\n",
    "        print(\"Invalid Input\")"
   ]
  },
  {
   "cell_type": "code",
   "execution_count": null,
   "id": "6181f08c",
   "metadata": {},
   "outputs": [],
   "source": []
  }
 ],
 "metadata": {
  "kernelspec": {
   "display_name": "Python 3 (ipykernel)",
   "language": "python",
   "name": "python3"
  },
  "language_info": {
   "codemirror_mode": {
    "name": "ipython",
    "version": 3
   },
   "file_extension": ".py",
   "mimetype": "text/x-python",
   "name": "python",
   "nbconvert_exporter": "python",
   "pygments_lexer": "ipython3",
   "version": "3.11.3"
  }
 },
 "nbformat": 4,
 "nbformat_minor": 5
}
