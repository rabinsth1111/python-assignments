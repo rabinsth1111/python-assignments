{
 "cells": [
  {
   "cell_type": "markdown",
   "id": "2d47acb2-197d-4df3-92b9-21e6c8ddbdaa",
   "metadata": {},
   "source": [
    "1. Write a Python program to print \"Hello Python\"?"
   ]
  },
  {
   "cell_type": "code",
   "execution_count": 1,
   "id": "3f84b295-241b-42a0-b786-c366a33c5421",
   "metadata": {},
   "outputs": [
    {
     "name": "stdout",
     "output_type": "stream",
     "text": [
      "Hello Python\n"
     ]
    }
   ],
   "source": [
    "print(\"Hello Python\")"
   ]
  },
  {
   "cell_type": "markdown",
   "id": "f3a01abc-e0ce-4a15-a80f-f460195cf308",
   "metadata": {},
   "source": [
    "2. Write a Python program to do arithmetical operations addition and division.?"
   ]
  },
  {
   "cell_type": "code",
   "execution_count": 3,
   "id": "67259949-9303-4385-8a58-c9f6ddce4d86",
   "metadata": {},
   "outputs": [
    {
     "name": "stdout",
     "output_type": "stream",
     "text": [
      "100 + 10 = 110\n",
      "100 / 10 = 10.0\n"
     ]
    }
   ],
   "source": [
    "a = 100\n",
    "b = 10\n",
    "add = a + b\n",
    "div = a/10\n",
    "print(f\"{a} + {b} = {add}\")\n",
    "print(f\"{a} / {b} = {div}\")\n",
    "\n"
   ]
  },
  {
   "cell_type": "markdown",
   "id": "d40de8f8-22cd-4d0f-b0cd-3aec91af69cd",
   "metadata": {},
   "source": [
    "3. Write a Python program to find the area of a triangle?"
   ]
  },
  {
   "cell_type": "code",
   "execution_count": 12,
   "id": "3ac73565-eeb4-4621-81ae-d5b9b3f7c339",
   "metadata": {},
   "outputs": [
    {
     "name": "stdout",
     "output_type": "stream",
     "text": [
      "Area of a traingle with sides 7, 4, 7 is 13.42\n"
     ]
    }
   ],
   "source": [
    "a = 7\n",
    "b = 4\n",
    "c = 7\n",
    "s = (a+b+c)/2\n",
    "area = (s*(s-a)*(s-b)*(s-c))**(1/2)\n",
    "print(f\"Area of a traingle with sides {a}, {b}, {c} is {area:.2f}\")"
   ]
  },
  {
   "cell_type": "markdown",
   "id": "c4825aff-1cea-4d89-9d76-807c903bdda8",
   "metadata": {},
   "source": [
    "4. Write a Python program to swap two variables?"
   ]
  },
  {
   "cell_type": "code",
   "execution_count": 14,
   "id": "073f01b4-dda5-48ed-bf9a-bf85b302321d",
   "metadata": {},
   "outputs": [
    {
     "name": "stdout",
     "output_type": "stream",
     "text": [
      "Before swapping: x = 100, y = 50\n",
      "After swapping: x = 50, y = 100\n"
     ]
    }
   ],
   "source": [
    "x = 100\n",
    "y = 50\n",
    "print(f\"Before swapping: x = {x}, y = {y}\")\n",
    "temp = x\n",
    "x = y\n",
    "y = temp\n",
    "print(f\"After swapping: x = {x}, y = {y}\")"
   ]
  },
  {
   "cell_type": "markdown",
   "id": "10c1a571-2c3f-4298-b32a-8ba79d8c9934",
   "metadata": {},
   "source": [
    "4. Write a Python program to swap two variables?"
   ]
  },
  {
   "cell_type": "code",
   "execution_count": 16,
   "id": "f4e387ee-31d4-4965-b240-64f3dec32647",
   "metadata": {},
   "outputs": [
    {
     "name": "stdout",
     "output_type": "stream",
     "text": [
      "Before swapping: x = 100, y = 50\n",
      "After swapping: x = 50, y = 100\n"
     ]
    }
   ],
   "source": [
    "x = 100\n",
    "y = 50\n",
    "print(f\"Before swapping: x = {x}, y = {y}\")\n",
    "x, y=y, x\n",
    "print(f\"After swapping: x = {x}, y = {y}\")"
   ]
  },
  {
   "cell_type": "markdown",
   "id": "152ff684-adc7-43a2-823e-cacb80e5b5bf",
   "metadata": {},
   "source": [
    "5. Write a Python program to generate a random number?"
   ]
  },
  {
   "cell_type": "code",
   "execution_count": 21,
   "id": "5824ac5e-3ffa-4269-8dcf-0747b185ceee",
   "metadata": {},
   "outputs": [
    {
     "name": "stdout",
     "output_type": "stream",
     "text": [
      "Generates random between 0 and 9\n",
      "2\n"
     ]
    }
   ],
   "source": [
    "import random\n",
    "print (\"Generates random between 0 and 9\")\n",
    "print (random.randint(0,9))"
   ]
  },
  {
   "cell_type": "code",
   "execution_count": null,
   "id": "e75f99b1-ea6c-4c66-a78d-bfa481220af1",
   "metadata": {},
   "outputs": [],
   "source": []
  }
 ],
 "metadata": {
  "kernelspec": {
   "display_name": "Python 3 (ipykernel)",
   "language": "python",
   "name": "python3"
  },
  "language_info": {
   "codemirror_mode": {
    "name": "ipython",
    "version": 3
   },
   "file_extension": ".py",
   "mimetype": "text/x-python",
   "name": "python",
   "nbconvert_exporter": "python",
   "pygments_lexer": "ipython3",
   "version": "3.10.6"
  }
 },
 "nbformat": 4,
 "nbformat_minor": 5
}
