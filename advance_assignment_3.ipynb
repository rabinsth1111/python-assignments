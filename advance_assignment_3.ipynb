{
 "cells": [
  {
   "cell_type": "markdown",
   "metadata": {},
   "source": [
    "#### 1. What is the concept of an abstract superclass?\n",
    "**Ans:** An abstract class/superclass can be considered as a blueprint for other classes. A class which contains one or more abstract methods is called an abstract class. An abstract method is a method that has a declaration but does not have an implementation. Abstract classes cannot be instantiated, and require subclasses to provide implementations for the abstract methods."
   ]
  },
  {
   "cell_type": "markdown",
   "metadata": {},
   "source": [
    "Python comes with a module name ABC that provides the base for defining Abstract Base classes(ABC). ABC works by decorating methods of the base class as an abstract with the keyword @abstractmethod. "
   ]
  },
  {
   "cell_type": "code",
   "execution_count": 5,
   "metadata": {},
   "outputs": [
    {
     "name": "stdout",
     "output_type": "stream",
     "text": [
      "Traingle has 3 sides\n",
      "Quadrilateral has 4 sides\n",
      "Pentagon has 5 sides\n"
     ]
    }
   ],
   "source": [
    "from abc import ABC, abstractmethod\n",
    "class Polygon(ABC):\n",
    "    @abstractmethod\n",
    "    def no_of_sides(self):\n",
    "        pass\n",
    "  \n",
    "class Triangle(Polygon):\n",
    "    # overriding abstract method\n",
    "    def no_of_sides(self):\n",
    "        print(\"Traingle has 3 sides\")\n",
    " \n",
    "class Quadrilateral(Polygon):\n",
    "    # overriding abstract method\n",
    "    def no_of_sides(self):\n",
    "        print(\"Quadrilateral has 4 sides\")\n",
    "\n",
    "class Pentagon(Polygon):\n",
    "     # overriding abstract method\n",
    "    def no_of_sides(self):\n",
    "        print(\"Pentagon has 5 sides\")\n",
    "\n",
    "\n",
    "T = Triangle()\n",
    "T.no_of_sides()\n",
    " \n",
    "Q = Quadrilateral()\n",
    "Q.no_of_sides()\n",
    " \n",
    "P = Pentagon()\n",
    "P.no_of_sides()\n",
    " \n"
   ]
  },
  {
   "cell_type": "markdown",
   "metadata": {},
   "source": [
    "<br/>"
   ]
  },
  {
   "cell_type": "markdown",
   "metadata": {},
   "source": [
    "#### 2. What happens when a class statement's top level contains a basic assignment statement?\n",
    "**Ans:** When a Class statement's top level contains a basic assignment statement, its usually treated as a class attribute or class level variable. \n",
    "\n",
    "Where as assignment statements inside methods are treated as instance attributes or local variables.\n",
    "\n",
    "When an instance of a class is created a single copy of class attributes is maintained and shared to all instances of class. Where as, each instance object maintains its own copy of instance and local variables."
   ]
  },
  {
   "cell_type": "code",
   "execution_count": 6,
   "metadata": {},
   "outputs": [],
   "source": [
    "class Student:\n",
    "    college_name = 'Kanpur College of Science and Management' # class attribute\n",
    "    def __init__(self,name,gender):\n",
    "        self.name = name # instance attributes\n",
    "        self.gender = gender"
   ]
  },
  {
   "cell_type": "code",
   "execution_count": 15,
   "metadata": {},
   "outputs": [
    {
     "name": "stdout",
     "output_type": "stream",
     "text": [
      "Ajay Yadav , Gender: Male , College: Kanpur College of Science and Management\n",
      "Barsha Jha , Gender: Female , College: Kanpur College of Science and Management\n"
     ]
    }
   ],
   "source": [
    "S1 = Student('Ajay Yadav','Male')\n",
    "S2 = Student('Barsha Jha','Female')\n",
    "\n",
    "print(S1.name,', Gender:',S1.gender,', College:', S1.college_name)\n",
    "\n",
    "print(S2.name,', Gender:',S2.gender,', College:',S2.college_name)"
   ]
  },
  {
   "cell_type": "markdown",
   "metadata": {},
   "source": [
    "<br/>"
   ]
  },
  {
   "cell_type": "markdown",
   "metadata": {},
   "source": [
    "#### 3. Why does a class need to manually call a superclass's __init__ method?\n",
    "**Ans:** If a child class has **`__init__`** method, then it will not inherit the **`__init__`** method of the parent class, ie;&nbsp;it overrides the **`__init__`** method of the parent class. So we have to manually call a parent superclass's **`__init__`** using **`super()`** method"
   ]
  },
  {
   "cell_type": "code",
   "execution_count": 16,
   "metadata": {},
   "outputs": [
    {
     "name": "stdout",
     "output_type": "stream",
     "text": [
      "Name: Hari Gupta\n",
      "Age: 30\n",
      "Salary: 40000\n"
     ]
    }
   ],
   "source": [
    "class Person:\n",
    "    def __init__(self,name,age):\n",
    "        self.name = name\n",
    "        self.age = age       \n",
    "class Employee(Person):\n",
    "    def __init__(self,name,age,salary):\n",
    "        super().__init__(name,age)\n",
    "        self.salary = salary\n",
    "\n",
    "E1 = Employee('Hari Gupta',30,40000)\n",
    "print('Name:',E1.name)\n",
    "print('Age:',E1.age)\n",
    "print('Salary:',E1.salary)"
   ]
  },
  {
   "cell_type": "markdown",
   "metadata": {},
   "source": [
    "<br/>"
   ]
  },
  {
   "cell_type": "markdown",
   "metadata": {},
   "source": [
    "#### 4. How can you augment, instead of completely replacing, an inherited method?\n",
    "**Ans:** super() method can be used to augment, instead of completely replacing, an inherited method."
   ]
  },
  {
   "cell_type": "code",
   "execution_count": 17,
   "metadata": {},
   "outputs": [
    {
     "name": "stdout",
     "output_type": "stream",
     "text": [
      "{'name': 'Hari Gupta', 'gender': 30, 'salary': 40000}\n"
     ]
    }
   ],
   "source": [
    "class Person:\n",
    "    def __init__(self,name,gender):\n",
    "        self.name = name\n",
    "        self.gender = gender\n",
    "class Employee(Person):\n",
    "    def __init__(self,name,gender,salary):\n",
    "        super().__init__(name,gender) \n",
    "        self.salary = salary\n",
    "        \n",
    "E1 = Employee('Hari Gupta',30,40000)\n",
    "print(E1.__dict__)       "
   ]
  },
  {
   "cell_type": "markdown",
   "metadata": {},
   "source": [
    "<br/>"
   ]
  },
  {
   "cell_type": "markdown",
   "metadata": {},
   "source": [
    "#### 5. How is the local scope of a class different from that of a function?\n",
    "**Ans:** A Variable which is defined inside a function is local to that function. It is accesible from the point at which it is defined until the end of the function.\n",
    "\n",
    "Similary a variable inside of a class also has a local variable scope. Variables which are defined in the class body (but outside all methods) are called as class level variables or class attributes. They can be referenced by their names within the same scope, but they can also be accessed from outside this scope if we use the attribute access operator `(.)`. on a class or an instance of the class."
   ]
  },
  {
   "cell_type": "code",
   "execution_count": 24,
   "metadata": {},
   "outputs": [
    {
     "name": "stdout",
     "output_type": "stream",
     "text": [
      "Hi, Ravi Sastri\n",
      "name varible is not available outside the \"hi\" function scope.\n",
      "2\n",
      "2\n"
     ]
    }
   ],
   "source": [
    "def hi(name):\n",
    "    name = name\n",
    "    print(f'Hi, {name}')\n",
    "\n",
    "hi('Ravi Sastri')\n",
    "\n",
    "try:\n",
    "    name\n",
    "except NameError:\n",
    "    print('name varible is not available outside the \"hi\" function scope.')\n",
    "\n",
    "\n",
    "class Bike:\n",
    "    no_of_wheels = 2\n",
    "    def __init__(self):\n",
    "        pass\n",
    "\n",
    "print(Bike.no_of_wheels) # Accessing no_of_wheels using class name\n",
    "\n",
    "Honda = Bike()\n",
    "print(Honda.no_of_wheels) # Accessing no_of_wheels using instance of class"
   ]
  },
  {
   "cell_type": "code",
   "execution_count": null,
   "metadata": {},
   "outputs": [],
   "source": []
  }
 ],
 "metadata": {
  "kernelspec": {
   "display_name": "base",
   "language": "python",
   "name": "python3"
  },
  "language_info": {
   "codemirror_mode": {
    "name": "ipython",
    "version": 3
   },
   "file_extension": ".py",
   "mimetype": "text/x-python",
   "name": "python",
   "nbconvert_exporter": "python",
   "pygments_lexer": "ipython3",
   "version": "3.11.5"
  },
  "orig_nbformat": 4
 },
 "nbformat": 4,
 "nbformat_minor": 2
}
