{
 "cells": [
  {
   "cell_type": "markdown",
   "id": "d91cebf0",
   "metadata": {},
   "source": [
    "#### Q1. Is it permissible to use several import statements to import the same module? What would the goal be? Can you think of a situation where it would be beneficial ?\n",
    "**Ans:** Yes, it is permissible to use several import statements to import the same module. It is used in case when we have to import multiple functions from same module. "
   ]
  },
  {
   "cell_type": "markdown",
   "id": "4cca993e",
   "metadata": {},
   "source": [
    "#### Q2. What are some of a module's characteristics? (Name at least one.)\n",
    "**Ans:** In Python, a module is a file containing Python definitions and statements. It serves as a way to organize and reuse code. Here are some characteristics of modules in Python:\n",
    "\n",
    "1. Encapsulation:\n",
    "Modules allow you to encapsulate related code into a single file, promoting code organization and maintainability. This helps in keeping the codebase modular and manageable.\n",
    "\n",
    "2. Namespace:\n",
    "Each module creates its own namespace, which acts as a container for the names (variables, functions, classes) defined in that module. This helps prevent naming conflicts between different modules.\n",
    "\n",
    "3. Code Reusability:\n",
    "Modules promote code reuse. Once a module is defined, it can be used in multiple programs or scripts by importing it. This reduces redundancy and encourages the creation of reusable components.\n",
    "\n",
    "4. Attributes:\n",
    "Modules can have attributes such as functions, variables, and classes. These attributes can be accessed using dot notation after importing the module.\n",
    "\n",
    "5. Executable Code:\n",
    "Modules can also contain executable code that is run when the module is imported. To distinguish between code that should run when the module is executed directly and code that should run when the module is imported, modules often use the if __name__ == \"__main__\": construct."
   ]
  },
  {
   "cell_type": "code",
   "execution_count": null,
   "metadata": {
    "vscode": {
     "languageId": "plaintext"
    }
   },
   "outputs": [],
   "source": [
    "# example\n",
    "def some_function():\n",
    "    print(\"This is a function in the module.\")\n",
    "\n",
    "if __name__ == \"__main__\":\n",
    "    print(\"This code runs only if the module is executed directly.\")\n"
   ]
  },
  {
   "cell_type": "markdown",
   "metadata": {},
   "source": [
    "6. Packages: Modules can be organized into packages, which are hierarchical structures of directories and subdirectories. Packages help in organizing related modules and avoid naming conflicts."
   ]
  },
  {
   "cell_type": "markdown",
   "id": "748f017b",
   "metadata": {},
   "source": [
    "#### Q3. Circular importing, such as when two modules import each other, can lead to dependencies and bugs that aren't visible. How can you go about creating a program that avoids mutual importing?\n",
    "**Ans:** \n",
    "\n",
    "Circular importing occurs when two or more modules in a program import each other, creating a dependency loop. This can lead to confusing and hard-to-debug issues. To avoid mutual importing, we can follow these strategies:\n",
    "\n",
    "1. Restructure Your Code: Consider restructuring the code to reduce dependencies between modules. \n",
    "\n",
    "2. Import Inside Functions or Methods: Instead of importing modules at the top level, import them inside functions or methods where they are actually needed. \n",
    "\n",
    "3. Split Modules: Create separate modules for shared functionalities that both modules need.\n",
    "\n",
    "4. Dependency Injection: Pass the necessary functions or objects as parameters to functions or classes, rather than importing them directly. This can help break the circular dependency."
   ]
  },
  {
   "cell_type": "code",
   "execution_count": null,
   "metadata": {
    "vscode": {
     "languageId": "plaintext"
    }
   },
   "outputs": [],
   "source": [
    "# module_a.py\n",
    "def func_a(func_b):\n",
    "    # use func_b\n",
    "    pass\n",
    "\n",
    "\n",
    "# module_b.py\n",
    "def func_b(func_a):\n",
    "    # use func_a\n",
    "    pass\n"
   ]
  },
  {
   "cell_type": "markdown",
   "metadata": {},
   "source": []
  },
  {
   "cell_type": "markdown",
   "id": "74cfdc5e",
   "metadata": {},
   "source": [
    "#### Q4. Why is  **`__all__`** in Python ?\n",
    "**Ans:** In Python, the **`__all__`** attribute is a list that defines what symbols (functions, classes, variables) a module should export when using the from module import * statement. \n",
    "\n",
    "Python looks for the **`__all__`** attribute in the module and imports only the names listed in that attribute."
   ]
  },
  {
   "cell_type": "code",
   "execution_count": null,
   "metadata": {
    "vscode": {
     "languageId": "plaintext"
    }
   },
   "outputs": [],
   "source": [
    "# mymodule.py\n",
    "\n",
    "def public_function():\n",
    "    return \"This is a public function.\"\n",
    "\n",
    "def _private_function():\n",
    "    return \"This is a private function.\"\n",
    "\n",
    "class PublicClass:\n",
    "    pass\n",
    "\n",
    "class _PrivateClass:\n",
    "    pass\n",
    "\n",
    "# Specify the public interface using __all__\n",
    "__all__ = ['public_function', 'PublicClass']\n"
   ]
  },
  {
   "cell_type": "code",
   "execution_count": null,
   "metadata": {
    "vscode": {
     "languageId": "plaintext"
    }
   },
   "outputs": [],
   "source": [
    "# main.py\n",
    "from mymodule import *\n",
    "\n",
    "print(public_function())  # This is a public function.\n",
    "# print(_private_function())  # This would result in an error\n",
    "# private_function is not in __all__\n",
    "\n",
    "obj = PublicClass()  # This works\n",
    "# obj = _PrivateClass()  # This would result in an error\n",
    "# _PrivateClass is not in __all__\n"
   ]
  },
  {
   "cell_type": "markdown",
   "metadata": {},
   "source": [
    "In above example, **`__all__`** is used to explicitly state which names should be considered part of the public API of the module. \n",
    "\n",
    "Names not listed in **`__all__`** are considered internal to the module and are not imported when using from module import *.\n",
    "\n",
    "This helps in encapsulating the internal details of a module and prevents cluttering the namespace with unnecessary symbols."
   ]
  },
  {
   "cell_type": "markdown",
   "id": "0d818cbd",
   "metadata": {},
   "source": [
    "#### Q5. In what situation is it useful to refer to the `__name__` attribute or the string `__main_ _` ?\n",
    "**Ans:** The `__name__` attribute in Python is a special variable that represents the name of the current module. When a Python script is executed, the `__name__` attribute is set to `__main__` if the script is being run as the main program. If the script is being imported as a module into another script, then `__name__` is set to the name of the module.\n",
    "\n",
    "The common use case for checking `__name__` is to determine whether the script is being run independently or being imported as a module. It is useful in following situations:\n",
    "\n",
    "1. Avoiding Code Execution on Import:\n",
    "\n",
    "When a script is imported as a module into another script, you might have initialization code, testing code, or other logic that you only want to run when the script is the main program. By using if __name__ == \"__main__\":, you can prevent that code from executing when the script is imported.\n",
    "\n",
    "\n",
    "\n",
    "\n",
    "\n"
   ]
  },
  {
   "cell_type": "code",
   "execution_count": null,
   "metadata": {
    "vscode": {
     "languageId": "plaintext"
    }
   },
   "outputs": [],
   "source": [
    "# module.py\n",
    "def some_function():\n",
    "    print(\"Function in module\")\n",
    "\n",
    "if __name__ == \"__main__\":\n",
    "    # Code here will only run if this script is executed independently\n",
    "    print(\"This script is being run independently\")\n"
   ]
  },
  {
   "cell_type": "markdown",
   "metadata": {},
   "source": [
    "2. Allowing Code to Be Both a Module and a Script:\n",
    "\n",
    "By using if __name__ == \"__main__\":, you can create scripts that can be both imported as a module and executed independently. This makes your code more versatile."
   ]
  },
  {
   "cell_type": "code",
   "execution_count": null,
   "metadata": {
    "vscode": {
     "languageId": "plaintext"
    }
   },
   "outputs": [],
   "source": [
    "# another_script.py\n",
    "import module\n",
    "\n",
    "module.some_function()  # This imports the function without running the block inside if __name__ == \"__main__\"\n"
   ]
  },
  {
   "cell_type": "markdown",
   "metadata": {},
   "source": [
    "3. Testability: \n",
    "\n",
    "It's often useful to include test code within the if __name__ == \"__main__\": block. This allows you to include tests at the bottom of your script that are only executed when the script is run independently."
   ]
  },
  {
   "cell_type": "code",
   "execution_count": null,
   "metadata": {
    "vscode": {
     "languageId": "plaintext"
    }
   },
   "outputs": [],
   "source": [
    "# myscript.py\n",
    "def add(a, b):\n",
    "    return a + b\n",
    "\n",
    "if __name__ == \"__main__\":\n",
    "    # Tests\n",
    "    assert add(2, 3) == 5\n",
    "    assert add(-1, 1) == 0\n"
   ]
  },
  {
   "cell_type": "markdown",
   "metadata": {},
   "source": []
  }
 ],
 "metadata": {
  "kernelspec": {
   "display_name": "Python 3",
   "language": "python",
   "name": "python3"
  },
  "language_info": {
   "codemirror_mode": {
    "name": "ipython",
    "version": 3
   },
   "file_extension": ".py",
   "mimetype": "text/x-python",
   "name": "python",
   "nbconvert_exporter": "python",
   "pygments_lexer": "ipython3",
   "version": "3.8.8"
  }
 },
 "nbformat": 4,
 "nbformat_minor": 5
}
